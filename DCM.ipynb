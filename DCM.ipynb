{
 "cells": [
  {
   "cell_type": "code",
   "execution_count": 125,
   "metadata": {},
   "outputs": [
    {
     "name": "stdout",
     "output_type": "stream",
     "text": [
      "The autoreload extension is already loaded. To reload it, use:\n",
      "  %reload_ext autoreload\n"
     ]
    }
   ],
   "source": [
    "import os\n",
    "import torch\n",
    "from transformers import AutoTokenizer, AutoModelForCausalLM\n",
    "from baukit import TraceDict\n",
    "from einops import rearrange, einsum\n",
    "from tqdm import tqdm\n",
    "from functools import partial\n",
    "import matplotlib.pyplot as plt\n",
    "from datasets import Dataset\n",
    "from torch.utils.data import DataLoader, SequentialSampler\n",
    "import analysis_utils\n",
    "# from model_aligner_script import load_data\n",
    "from counterfactual_datasets.entity_tracking import *\n",
    "\n",
    "DEVICE = torch.device(\"cuda\" if torch.cuda.is_available() else \"cpu\")\n",
    "torch.manual_seed(42)\n",
    "\n",
    "%load_ext autoreload\n",
    "%autoreload 2"
   ]
  },
  {
   "cell_type": "code",
   "execution_count": 2,
   "metadata": {},
   "outputs": [
    {
     "name": "stderr",
     "output_type": "stream",
     "text": [
      "Loading checkpoint shards: 100%|██████████| 3/3 [00:09<00:00,  3.26s/it]\n"
     ]
    }
   ],
   "source": [
    "path = \"./llama_7b\"\n",
    "tokenizer = AutoTokenizer.from_pretrained(path)\n",
    "model = AutoModelForCausalLM.from_pretrained(path).to(DEVICE)\n",
    "tokenizer.pad_token_id = tokenizer.eos_token_id\n",
    "\n",
    "model.eval()\n",
    "for param in model.parameters():\n",
    "    param.requires_grad_(False)"
   ]
  },
  {
   "cell_type": "code",
   "execution_count": 3,
   "metadata": {},
   "outputs": [],
   "source": [
    "NUM_HEADS = model.config.num_attention_heads\n",
    "HEAD_SIZE = model.config.hidden_size // NUM_HEADS"
   ]
  },
  {
   "cell_type": "markdown",
   "metadata": {},
   "source": [
    "## Desiderata"
   ]
  },
  {
   "cell_type": "code",
   "execution_count": 137,
   "metadata": {},
   "outputs": [],
   "source": [
    "def load_data(raw_data, batch_size):\n",
    "    train_size = int(0.8 * len(raw_data[0]))\n",
    "    eval_size = int(0.2 * len(raw_data[0]))\n",
    "\n",
    "    print(\"Train size: \", train_size)\n",
    "    print(\"Eval size: \", eval_size)\n",
    "    print(\"Test size: \", len(raw_data[0]) - train_size - eval_size)\n",
    "\n",
    "    raw_train = (\n",
    "        raw_data[0][:train_size],\n",
    "        raw_data[1][:train_size],\n",
    "        raw_data[2][:train_size],\n",
    "        raw_data[3][:train_size],\n",
    "        raw_data[4][:train_size],\n",
    "    )\n",
    "    raw_eval = (\n",
    "        raw_data[0][train_size : train_size + eval_size],\n",
    "        raw_data[1][train_size : train_size + eval_size],\n",
    "        raw_data[2][train_size : train_size + eval_size],\n",
    "        raw_data[3][train_size : train_size + eval_size],\n",
    "        raw_data[4][train_size : train_size + eval_size],\n",
    "    )\n",
    "    raw_test = (\n",
    "        raw_data[0][train_size + eval_size :],\n",
    "        raw_data[1][train_size + eval_size :],\n",
    "        raw_data[2][train_size + eval_size :],\n",
    "        raw_data[3][train_size + eval_size :],\n",
    "        raw_data[4][train_size + eval_size :],\n",
    "    )\n",
    "\n",
    "    train_dataset = Dataset.from_dict(\n",
    "        {\n",
    "            \"base_input_ids\": raw_train[0],\n",
    "            \"base_input_last_pos\": raw_train[1],\n",
    "            \"source_input_ids\": raw_train[2],\n",
    "            \"source_input_last_pos\": raw_train[3],\n",
    "            \"labels\": raw_train[4],\n",
    "        }\n",
    "    ).with_format(\"torch\")\n",
    "    train_dataloader = DataLoader(\n",
    "        train_dataset,\n",
    "        batch_size=batch_size,\n",
    "    )\n",
    "\n",
    "    eval_dataset = Dataset.from_dict(\n",
    "        {\n",
    "            \"base_input_ids\": raw_eval[0],\n",
    "            \"base_input_last_pos\": raw_eval[1],\n",
    "            \"source_input_ids\": raw_eval[2],\n",
    "            \"source_input_last_pos\": raw_eval[3],\n",
    "            \"labels\": raw_eval[4],\n",
    "        }\n",
    "    ).with_format(\"torch\")\n",
    "    eval_dataloader = DataLoader(\n",
    "        eval_dataset,\n",
    "        batch_size=batch_size,\n",
    "    )\n",
    "\n",
    "    test_dataset = Dataset.from_dict(\n",
    "        {\n",
    "            \"base_input_ids\": raw_test[0],\n",
    "            \"base_input_last_pos\": raw_test[1],\n",
    "            \"source_input_ids\": raw_test[2],\n",
    "            \"source_input_last_pos\": raw_test[3],\n",
    "            \"labels\": raw_test[4],\n",
    "        }\n",
    "    ).with_format(\"torch\")\n",
    "    test_dataloader = DataLoader(\n",
    "        test_dataset,\n",
    "        batch_size=batch_size,\n",
    "    )\n",
    "\n",
    "    return train_dataloader, eval_dataloader, test_dataloader"
   ]
  },
  {
   "cell_type": "code",
   "execution_count": 139,
   "metadata": {},
   "outputs": [],
   "source": [
    "data_file_path = \"./box_datasets/no_instructions/original/Random/3/train.jsonl\"\n",
    "object_file_path = \"./box_datasets/objects_with_bnc_frequency.csv\"\n",
    "\n",
    "raw_data = box_label_value_fetcher_desiderata(\n",
    "    tokenizer=tokenizer,\n",
    "    num_samples=500,\n",
    "    data_file=data_file_path,\n",
    "    object_file=object_file_path,\n",
    "    num_boxes=3,\n",
    ")"
   ]
  },
  {
   "cell_type": "code",
   "execution_count": 140,
   "metadata": {},
   "outputs": [
    {
     "name": "stdout",
     "output_type": "stream",
     "text": [
      "Train size:  400\n",
      "Eval size:  100\n",
      "Test size:  0\n"
     ]
    }
   ],
   "source": [
    "objValueFetcher_train, objValueFetcher_eval, objValueFetcher_test = load_data(\n",
    "    raw_data=raw_data, batch_size=40\n",
    ")"
   ]
  },
  {
   "cell_type": "code",
   "execution_count": 141,
   "metadata": {},
   "outputs": [],
   "source": [
    "desiderata_train = [objValueFetcher_train]\n",
    "desiderata_eval = [objValueFetcher_eval]\n",
    "desiderata_valid = [objValueFetcher_test]"
   ]
  },
  {
   "cell_type": "code",
   "execution_count": 142,
   "metadata": {},
   "outputs": [
    {
     "name": "stdout",
     "output_type": "stream",
     "text": [
      " Box X contains the television, Box T contains the bell, Box A contains the machine. Box T contains the\n",
      " Box X contains the spatula, Box T contains the camera, Box A contains the fish. The Box A contains\n",
      " machine\n"
     ]
    }
   ],
   "source": [
    "data = next(enumerate(desiderata_train[0]))[1]\n",
    "bi = 1\n",
    "print(tokenizer.decode(data[\"base_input_ids\"][bi][: data[\"base_input_last_pos\"][bi] + 1]))\n",
    "print(tokenizer.decode(data[\"source_input_ids\"][bi][: data[\"source_input_last_pos\"][bi] + 1]))\n",
    "print(tokenizer.decode(data[\"labels\"][bi]))"
   ]
  },
  {
   "cell_type": "markdown",
   "metadata": {},
   "source": [
    "## Training Binary Mask"
   ]
  },
  {
   "cell_type": "code",
   "execution_count": 153,
   "metadata": {},
   "outputs": [],
   "source": [
    "modules = [f\"model.layers.{i}.self_attn.o_proj\" for i in range(32)]"
   ]
  },
  {
   "cell_type": "code",
   "execution_count": 154,
   "metadata": {},
   "outputs": [],
   "source": [
    "from_activations_train = {}\n",
    "\n",
    "for di, desid_train in enumerate(desiderata_train):\n",
    "    from_activations_train[di] = {}\n",
    "\n",
    "    for bi, inputs in enumerate(desid_train):\n",
    "        for k, v in inputs.items():\n",
    "            if v is not None and isinstance(v, torch.Tensor):\n",
    "                inputs[k] = v.to(DEVICE)\n",
    "\n",
    "        from_activations_train[di][bi] = {}\n",
    "        with torch.no_grad():\n",
    "            with TraceDict(model, modules, retain_input=True) as trace:\n",
    "                _ = model(inputs[\"source_input_ids\"])\n",
    "\n",
    "                for module in modules:\n",
    "                    if \"self_attn\" in module:\n",
    "                        from_activations_train[di][bi][module] = trace[module].input.detach().cpu()\n",
    "                    else:\n",
    "                        from_activations_train[di][bi][module] = trace[module].output.detach().cpu()\n",
    "\n",
    "        for k, v in inputs.items():\n",
    "            if v is not None and isinstance(v, torch.Tensor):\n",
    "                inputs[k] = v.to(\"cpu\")\n",
    "\n",
    "        del trace\n",
    "        torch.cuda.empty_cache()"
   ]
  },
  {
   "cell_type": "code",
   "execution_count": 155,
   "metadata": {},
   "outputs": [],
   "source": [
    "from_activations_eval = {}\n",
    "\n",
    "for di, desid_eval in enumerate(desiderata_eval):\n",
    "    from_activations_eval[di] = {}\n",
    "\n",
    "    for bi, inputs in enumerate(desid_eval):\n",
    "        for k, v in inputs.items():\n",
    "            if v is not None and isinstance(v, torch.Tensor):\n",
    "                inputs[k] = v.to(DEVICE)\n",
    "\n",
    "        from_activations_eval[di][bi] = {}\n",
    "        with torch.no_grad():\n",
    "            with TraceDict(model, modules, retain_input=True) as trace:\n",
    "                _ = model(inputs[\"source_input_ids\"])\n",
    "\n",
    "                for module in modules:\n",
    "                    if \"self_attn\" in module:\n",
    "                        from_activations_eval[di][bi][module] = trace[module].input.detach().cpu()\n",
    "                    else:\n",
    "                        from_activations_eval[di][bi][module] = trace[module].output.detach().cpu()\n",
    "\n",
    "        for k, v in inputs.items():\n",
    "            if v is not None and isinstance(v, torch.Tensor):\n",
    "                inputs[k] = v.to(\"cpu\")\n",
    "\n",
    "        del trace\n",
    "        torch.cuda.empty_cache()"
   ]
  },
  {
   "cell_type": "code",
   "execution_count": 156,
   "metadata": {},
   "outputs": [],
   "source": [
    "modules_w_heads = []\n",
    "for module in modules:\n",
    "    if \"self_attn\" in module:\n",
    "        for head in range(32):\n",
    "            modules_w_heads.append(f\"{module}.{head}\")\n",
    "    else:\n",
    "        modules_w_heads.append(module)\n",
    "\n",
    "mask_dict = {module: i for i, module in enumerate(modules_w_heads)}"
   ]
  },
  {
   "cell_type": "code",
   "execution_count": 157,
   "metadata": {},
   "outputs": [],
   "source": [
    "def edit_output(\n",
    "    inputs=None,\n",
    "    output=None,\n",
    "    layer=None,\n",
    "    mask=None,\n",
    "    from_activations=None,\n",
    "    to_last_token_pos=None,\n",
    "    from_last_token_pos=None,\n",
    "    rel_pos=None,\n",
    "):\n",
    "    if \"self_attn\" in layer:\n",
    "        inp = inputs[0]\n",
    "        from_activations[layer] = from_activations[layer].to(DEVICE)\n",
    "\n",
    "        # Computing the output of each head in this layer after the intervention\n",
    "        for head_idx in range(NUM_HEADS):\n",
    "            head_start = head_idx * HEAD_SIZE\n",
    "            head_end = (head_idx + 1) * HEAD_SIZE\n",
    "            abl_amt = mask[mask_dict[f\"{layer}.{head_idx}\"]]\n",
    "\n",
    "            for bi in range(inp.shape[0]):\n",
    "                intervention = (\n",
    "                    abl_amt * inp[bi, to_last_token_pos[bi] - rel_pos, head_start:head_end].clone()\n",
    "                    + (1 - abl_amt)\n",
    "                    * from_activations[layer][bi, from_last_token_pos[bi] - rel_pos, head_start:head_end]\n",
    "                )\n",
    "                inp[bi, to_last_token_pos[bi] - rel_pos, head_start:head_end] = intervention\n",
    "\n",
    "        from_activations[layer] = from_activations[layer].to(\"cpu\")\n",
    "\n",
    "        weights = model.state_dict()[f\"{layer}.weight\"]\n",
    "        mod_output = einsum(\n",
    "            inp, weights, \"batch seq_len hidden_size, d_model hidden_size -> batch seq_len d_model\"\n",
    "        )\n",
    "\n",
    "        del weights\n",
    "        torch.cuda.empty_cache()\n",
    "        return mod_output\n",
    "\n",
    "    else:\n",
    "        assert False, \"shouldn't be here\""
   ]
  },
  {
   "cell_type": "code",
   "execution_count": 158,
   "metadata": {},
   "outputs": [],
   "source": [
    "def compute_heads_from_mask(rounded):\n",
    "    masked_heads = []\n",
    "    inverse_mask_dict = {v: k for k, v in mask_dict.items()}\n",
    "\n",
    "    for mask_idx in (rounded == 0).nonzero()[:, 0]:\n",
    "        layer = inverse_mask_dict[mask_idx.item()]\n",
    "        layer_idx = int(layer.split(\".\")[2])\n",
    "        head_idx = int(layer.split(\".\")[-1])\n",
    "        masked_heads.append([layer_idx, head_idx])\n",
    "\n",
    "    return masked_heads"
   ]
  },
  {
   "cell_type": "code",
   "execution_count": 159,
   "metadata": {},
   "outputs": [
    {
     "name": "stdout",
     "output_type": "stream",
     "text": [
      "epoch: 0, bi: 0, Loss: -11.059432029724121, Target logits: 11.059432029724121\n",
      "epoch: 0, bi: 1, Loss: -10.505151748657227, Target logits: 10.637651443481445\n",
      "epoch: 0, bi: 2, Loss: -10.904121398925781, Target logits: 11.14316177368164\n",
      "epoch: 0, bi: 3, Loss: -11.635610580444336, Target logits: 11.956941604614258\n",
      "epoch: 0, bi: 4, Loss: -11.987674713134766, Target logits: 12.392452239990234\n",
      "epoch: 0, bi: 5, Loss: -11.935192108154297, Target logits: 12.4186429977417\n",
      "epoch: 0, bi: 6, Loss: -11.838322639465332, Target logits: 12.394023895263672\n",
      "epoch: 0, bi: 7, Loss: -11.824705123901367, Target logits: 12.444636344909668\n",
      "epoch: 0, bi: 8, Loss: -11.728096008300781, Target logits: 12.409769058227539\n",
      "epoch: 0, bi: 9, Loss: -11.994856834411621, Target logits: 12.7315092086792\n"
     ]
    },
    {
     "data": {
      "text/html": [
       "<pre style=\"white-space:pre;overflow-x:auto;line-height:normal;font-family:Menlo,'DejaVu Sans Mono',consolas,'Courier New',monospace\"><span style=\"color: #800000; text-decoration-color: #800000\">╭─────────────────────────────── </span><span style=\"color: #800000; text-decoration-color: #800000; font-weight: bold\">Traceback </span><span style=\"color: #bf7f7f; text-decoration-color: #bf7f7f; font-weight: bold\">(most recent call last)</span><span style=\"color: #800000; text-decoration-color: #800000\"> ────────────────────────────────╮</span>\n",
       "<span style=\"color: #800000; text-decoration-color: #800000\">│</span> in <span style=\"color: #00ff00; text-decoration-color: #00ff00\">&lt;module&gt;</span>:<span style=\"color: #0000ff; text-decoration-color: #0000ff\">45</span>                                                                                   <span style=\"color: #800000; text-decoration-color: #800000\">│</span>\n",
       "<span style=\"color: #800000; text-decoration-color: #800000\">│</span>                                                                                                  <span style=\"color: #800000; text-decoration-color: #800000\">│</span>\n",
       "<span style=\"color: #800000; text-decoration-color: #800000\">│</span>   <span style=\"color: #7f7f7f; text-decoration-color: #7f7f7f\">42 </span><span style=\"color: #7f7f7f; text-decoration-color: #7f7f7f\">│   │   │   │   </span><span style=\"color: #7f7f7f; text-decoration-color: #7f7f7f\"># rounded = torch.round(mask[lamb].data)</span>                                    <span style=\"color: #800000; text-decoration-color: #800000\">│</span>\n",
       "<span style=\"color: #800000; text-decoration-color: #800000\">│</span>   <span style=\"color: #7f7f7f; text-decoration-color: #7f7f7f\">43 </span><span style=\"color: #7f7f7f; text-decoration-color: #7f7f7f\">│   │   │   │   </span><span style=\"color: #7f7f7f; text-decoration-color: #7f7f7f\"># print(f\"#Zero heads: {(rounded == 0).nonzero().shape[0]}\")</span>                <span style=\"color: #800000; text-decoration-color: #800000\">│</span>\n",
       "<span style=\"color: #800000; text-decoration-color: #800000\">│</span>   <span style=\"color: #7f7f7f; text-decoration-color: #7f7f7f\">44 </span><span style=\"color: #7f7f7f; text-decoration-color: #7f7f7f\">│   │   │   │   </span>                                                                            <span style=\"color: #800000; text-decoration-color: #800000\">│</span>\n",
       "<span style=\"color: #800000; text-decoration-color: #800000\">│</span> <span style=\"color: #800000; text-decoration-color: #800000\">❱ </span>45 <span style=\"color: #7f7f7f; text-decoration-color: #7f7f7f\">│   │   │   │   </span>loss.backward()                                                             <span style=\"color: #800000; text-decoration-color: #800000\">│</span>\n",
       "<span style=\"color: #800000; text-decoration-color: #800000\">│</span>   <span style=\"color: #7f7f7f; text-decoration-color: #7f7f7f\">46 </span><span style=\"color: #7f7f7f; text-decoration-color: #7f7f7f\">│   │   │   │   </span>optimizer.step()                                                            <span style=\"color: #800000; text-decoration-color: #800000\">│</span>\n",
       "<span style=\"color: #800000; text-decoration-color: #800000\">│</span>   <span style=\"color: #7f7f7f; text-decoration-color: #7f7f7f\">47 </span><span style=\"color: #7f7f7f; text-decoration-color: #7f7f7f\">│   │   │   </span>                                                                                <span style=\"color: #800000; text-decoration-color: #800000\">│</span>\n",
       "<span style=\"color: #800000; text-decoration-color: #800000\">│</span>   <span style=\"color: #7f7f7f; text-decoration-color: #7f7f7f\">48 </span><span style=\"color: #7f7f7f; text-decoration-color: #7f7f7f\">│   │   │   </span><span style=\"color: #0000ff; text-decoration-color: #0000ff\">del</span> output                                                                      <span style=\"color: #800000; text-decoration-color: #800000\">│</span>\n",
       "<span style=\"color: #800000; text-decoration-color: #800000\">│</span>                                                                                                  <span style=\"color: #800000; text-decoration-color: #800000\">│</span>\n",
       "<span style=\"color: #800000; text-decoration-color: #800000\">│</span> <span style=\"color: #bfbf7f; text-decoration-color: #bfbf7f\">/home/local_nikhil/.conda/envs/anima/lib/python3.10/site-packages/torch/</span><span style=\"color: #808000; text-decoration-color: #808000; font-weight: bold\">_tensor.py</span>:<span style=\"color: #0000ff; text-decoration-color: #0000ff\">487</span> in        <span style=\"color: #800000; text-decoration-color: #800000\">│</span>\n",
       "<span style=\"color: #800000; text-decoration-color: #800000\">│</span> <span style=\"color: #00ff00; text-decoration-color: #00ff00\">backward</span>                                                                                         <span style=\"color: #800000; text-decoration-color: #800000\">│</span>\n",
       "<span style=\"color: #800000; text-decoration-color: #800000\">│</span>                                                                                                  <span style=\"color: #800000; text-decoration-color: #800000\">│</span>\n",
       "<span style=\"color: #800000; text-decoration-color: #800000\">│</span>   <span style=\"color: #7f7f7f; text-decoration-color: #7f7f7f\"> 484 </span><span style=\"color: #7f7f7f; text-decoration-color: #7f7f7f\">│   │   │   │   </span>create_graph=create_graph,                                                <span style=\"color: #800000; text-decoration-color: #800000\">│</span>\n",
       "<span style=\"color: #800000; text-decoration-color: #800000\">│</span>   <span style=\"color: #7f7f7f; text-decoration-color: #7f7f7f\"> 485 </span><span style=\"color: #7f7f7f; text-decoration-color: #7f7f7f\">│   │   │   │   </span>inputs=inputs,                                                            <span style=\"color: #800000; text-decoration-color: #800000\">│</span>\n",
       "<span style=\"color: #800000; text-decoration-color: #800000\">│</span>   <span style=\"color: #7f7f7f; text-decoration-color: #7f7f7f\"> 486 </span><span style=\"color: #7f7f7f; text-decoration-color: #7f7f7f\">│   │   │   </span>)                                                                             <span style=\"color: #800000; text-decoration-color: #800000\">│</span>\n",
       "<span style=\"color: #800000; text-decoration-color: #800000\">│</span> <span style=\"color: #800000; text-decoration-color: #800000\">❱ </span> 487 <span style=\"color: #7f7f7f; text-decoration-color: #7f7f7f\">│   │   </span>torch.autograd.backward(                                                          <span style=\"color: #800000; text-decoration-color: #800000\">│</span>\n",
       "<span style=\"color: #800000; text-decoration-color: #800000\">│</span>   <span style=\"color: #7f7f7f; text-decoration-color: #7f7f7f\"> 488 </span><span style=\"color: #7f7f7f; text-decoration-color: #7f7f7f\">│   │   │   </span><span style=\"color: #00ffff; text-decoration-color: #00ffff\">self</span>, gradient, retain_graph, create_graph, inputs=inputs                     <span style=\"color: #800000; text-decoration-color: #800000\">│</span>\n",
       "<span style=\"color: #800000; text-decoration-color: #800000\">│</span>   <span style=\"color: #7f7f7f; text-decoration-color: #7f7f7f\"> 489 </span><span style=\"color: #7f7f7f; text-decoration-color: #7f7f7f\">│   │   </span>)                                                                                 <span style=\"color: #800000; text-decoration-color: #800000\">│</span>\n",
       "<span style=\"color: #800000; text-decoration-color: #800000\">│</span>   <span style=\"color: #7f7f7f; text-decoration-color: #7f7f7f\"> 490 </span>                                                                                          <span style=\"color: #800000; text-decoration-color: #800000\">│</span>\n",
       "<span style=\"color: #800000; text-decoration-color: #800000\">│</span>                                                                                                  <span style=\"color: #800000; text-decoration-color: #800000\">│</span>\n",
       "<span style=\"color: #800000; text-decoration-color: #800000\">│</span> <span style=\"color: #bfbf7f; text-decoration-color: #bfbf7f\">/home/local_nikhil/.conda/envs/anima/lib/python3.10/site-packages/torch/autograd/</span><span style=\"color: #808000; text-decoration-color: #808000; font-weight: bold\">__init__.py</span>:<span style=\"color: #0000ff; text-decoration-color: #0000ff\">200</span> <span style=\"color: #800000; text-decoration-color: #800000\">│</span>\n",
       "<span style=\"color: #800000; text-decoration-color: #800000\">│</span> in <span style=\"color: #00ff00; text-decoration-color: #00ff00\">backward</span>                                                                                      <span style=\"color: #800000; text-decoration-color: #800000\">│</span>\n",
       "<span style=\"color: #800000; text-decoration-color: #800000\">│</span>                                                                                                  <span style=\"color: #800000; text-decoration-color: #800000\">│</span>\n",
       "<span style=\"color: #800000; text-decoration-color: #800000\">│</span>   <span style=\"color: #7f7f7f; text-decoration-color: #7f7f7f\">197 </span><span style=\"color: #7f7f7f; text-decoration-color: #7f7f7f\">│   </span><span style=\"color: #7f7f7f; text-decoration-color: #7f7f7f\"># The reason we repeat same the comment below is that</span>                                  <span style=\"color: #800000; text-decoration-color: #800000\">│</span>\n",
       "<span style=\"color: #800000; text-decoration-color: #800000\">│</span>   <span style=\"color: #7f7f7f; text-decoration-color: #7f7f7f\">198 </span><span style=\"color: #7f7f7f; text-decoration-color: #7f7f7f\">│   </span><span style=\"color: #7f7f7f; text-decoration-color: #7f7f7f\"># some Python versions print out the first line of a multi-line function</span>               <span style=\"color: #800000; text-decoration-color: #800000\">│</span>\n",
       "<span style=\"color: #800000; text-decoration-color: #800000\">│</span>   <span style=\"color: #7f7f7f; text-decoration-color: #7f7f7f\">199 </span><span style=\"color: #7f7f7f; text-decoration-color: #7f7f7f\">│   </span><span style=\"color: #7f7f7f; text-decoration-color: #7f7f7f\"># calls in the traceback and some print out the last line</span>                              <span style=\"color: #800000; text-decoration-color: #800000\">│</span>\n",
       "<span style=\"color: #800000; text-decoration-color: #800000\">│</span> <span style=\"color: #800000; text-decoration-color: #800000\">❱ </span>200 <span style=\"color: #7f7f7f; text-decoration-color: #7f7f7f\">│   </span>Variable._execution_engine.run_backward(  <span style=\"color: #7f7f7f; text-decoration-color: #7f7f7f\"># Calls into the C++ engine to run the bac</span>   <span style=\"color: #800000; text-decoration-color: #800000\">│</span>\n",
       "<span style=\"color: #800000; text-decoration-color: #800000\">│</span>   <span style=\"color: #7f7f7f; text-decoration-color: #7f7f7f\">201 </span><span style=\"color: #7f7f7f; text-decoration-color: #7f7f7f\">│   │   </span>tensors, grad_tensors_, retain_graph, create_graph, inputs,                        <span style=\"color: #800000; text-decoration-color: #800000\">│</span>\n",
       "<span style=\"color: #800000; text-decoration-color: #800000\">│</span>   <span style=\"color: #7f7f7f; text-decoration-color: #7f7f7f\">202 </span><span style=\"color: #7f7f7f; text-decoration-color: #7f7f7f\">│   │   </span>allow_unreachable=<span style=\"color: #0000ff; text-decoration-color: #0000ff\">True</span>, accumulate_grad=<span style=\"color: #0000ff; text-decoration-color: #0000ff\">True</span>)  <span style=\"color: #7f7f7f; text-decoration-color: #7f7f7f\"># Calls into the C++ engine to ru</span>   <span style=\"color: #800000; text-decoration-color: #800000\">│</span>\n",
       "<span style=\"color: #800000; text-decoration-color: #800000\">│</span>   <span style=\"color: #7f7f7f; text-decoration-color: #7f7f7f\">203 </span>                                                                                           <span style=\"color: #800000; text-decoration-color: #800000\">│</span>\n",
       "<span style=\"color: #800000; text-decoration-color: #800000\">╰──────────────────────────────────────────────────────────────────────────────────────────────────╯</span>\n",
       "<span style=\"color: #ff0000; text-decoration-color: #ff0000; font-weight: bold\">KeyboardInterrupt</span>\n",
       "</pre>\n"
      ],
      "text/plain": [
       "\u001b[31m╭─\u001b[0m\u001b[31m──────────────────────────────\u001b[0m\u001b[31m \u001b[0m\u001b[1;31mTraceback \u001b[0m\u001b[1;2;31m(most recent call last)\u001b[0m\u001b[31m \u001b[0m\u001b[31m───────────────────────────────\u001b[0m\u001b[31m─╮\u001b[0m\n",
       "\u001b[31m│\u001b[0m in \u001b[92m<module>\u001b[0m:\u001b[94m45\u001b[0m                                                                                   \u001b[31m│\u001b[0m\n",
       "\u001b[31m│\u001b[0m                                                                                                  \u001b[31m│\u001b[0m\n",
       "\u001b[31m│\u001b[0m   \u001b[2m42 \u001b[0m\u001b[2m│   │   │   │   \u001b[0m\u001b[2m# rounded = torch.round(mask[lamb].data)\u001b[0m                                    \u001b[31m│\u001b[0m\n",
       "\u001b[31m│\u001b[0m   \u001b[2m43 \u001b[0m\u001b[2m│   │   │   │   \u001b[0m\u001b[2m# print(f\"#Zero heads: {(rounded == 0).nonzero().shape[0]}\")\u001b[0m                \u001b[31m│\u001b[0m\n",
       "\u001b[31m│\u001b[0m   \u001b[2m44 \u001b[0m\u001b[2m│   │   │   │   \u001b[0m                                                                            \u001b[31m│\u001b[0m\n",
       "\u001b[31m│\u001b[0m \u001b[31m❱ \u001b[0m45 \u001b[2m│   │   │   │   \u001b[0mloss.backward()                                                             \u001b[31m│\u001b[0m\n",
       "\u001b[31m│\u001b[0m   \u001b[2m46 \u001b[0m\u001b[2m│   │   │   │   \u001b[0moptimizer.step()                                                            \u001b[31m│\u001b[0m\n",
       "\u001b[31m│\u001b[0m   \u001b[2m47 \u001b[0m\u001b[2m│   │   │   \u001b[0m                                                                                \u001b[31m│\u001b[0m\n",
       "\u001b[31m│\u001b[0m   \u001b[2m48 \u001b[0m\u001b[2m│   │   │   \u001b[0m\u001b[94mdel\u001b[0m output                                                                      \u001b[31m│\u001b[0m\n",
       "\u001b[31m│\u001b[0m                                                                                                  \u001b[31m│\u001b[0m\n",
       "\u001b[31m│\u001b[0m \u001b[2;33m/home/local_nikhil/.conda/envs/anima/lib/python3.10/site-packages/torch/\u001b[0m\u001b[1;33m_tensor.py\u001b[0m:\u001b[94m487\u001b[0m in        \u001b[31m│\u001b[0m\n",
       "\u001b[31m│\u001b[0m \u001b[92mbackward\u001b[0m                                                                                         \u001b[31m│\u001b[0m\n",
       "\u001b[31m│\u001b[0m                                                                                                  \u001b[31m│\u001b[0m\n",
       "\u001b[31m│\u001b[0m   \u001b[2m 484 \u001b[0m\u001b[2m│   │   │   │   \u001b[0mcreate_graph=create_graph,                                                \u001b[31m│\u001b[0m\n",
       "\u001b[31m│\u001b[0m   \u001b[2m 485 \u001b[0m\u001b[2m│   │   │   │   \u001b[0minputs=inputs,                                                            \u001b[31m│\u001b[0m\n",
       "\u001b[31m│\u001b[0m   \u001b[2m 486 \u001b[0m\u001b[2m│   │   │   \u001b[0m)                                                                             \u001b[31m│\u001b[0m\n",
       "\u001b[31m│\u001b[0m \u001b[31m❱ \u001b[0m 487 \u001b[2m│   │   \u001b[0mtorch.autograd.backward(                                                          \u001b[31m│\u001b[0m\n",
       "\u001b[31m│\u001b[0m   \u001b[2m 488 \u001b[0m\u001b[2m│   │   │   \u001b[0m\u001b[96mself\u001b[0m, gradient, retain_graph, create_graph, inputs=inputs                     \u001b[31m│\u001b[0m\n",
       "\u001b[31m│\u001b[0m   \u001b[2m 489 \u001b[0m\u001b[2m│   │   \u001b[0m)                                                                                 \u001b[31m│\u001b[0m\n",
       "\u001b[31m│\u001b[0m   \u001b[2m 490 \u001b[0m                                                                                          \u001b[31m│\u001b[0m\n",
       "\u001b[31m│\u001b[0m                                                                                                  \u001b[31m│\u001b[0m\n",
       "\u001b[31m│\u001b[0m \u001b[2;33m/home/local_nikhil/.conda/envs/anima/lib/python3.10/site-packages/torch/autograd/\u001b[0m\u001b[1;33m__init__.py\u001b[0m:\u001b[94m200\u001b[0m \u001b[31m│\u001b[0m\n",
       "\u001b[31m│\u001b[0m in \u001b[92mbackward\u001b[0m                                                                                      \u001b[31m│\u001b[0m\n",
       "\u001b[31m│\u001b[0m                                                                                                  \u001b[31m│\u001b[0m\n",
       "\u001b[31m│\u001b[0m   \u001b[2m197 \u001b[0m\u001b[2m│   \u001b[0m\u001b[2m# The reason we repeat same the comment below is that\u001b[0m                                  \u001b[31m│\u001b[0m\n",
       "\u001b[31m│\u001b[0m   \u001b[2m198 \u001b[0m\u001b[2m│   \u001b[0m\u001b[2m# some Python versions print out the first line of a multi-line function\u001b[0m               \u001b[31m│\u001b[0m\n",
       "\u001b[31m│\u001b[0m   \u001b[2m199 \u001b[0m\u001b[2m│   \u001b[0m\u001b[2m# calls in the traceback and some print out the last line\u001b[0m                              \u001b[31m│\u001b[0m\n",
       "\u001b[31m│\u001b[0m \u001b[31m❱ \u001b[0m200 \u001b[2m│   \u001b[0mVariable._execution_engine.run_backward(  \u001b[2m# Calls into the C++ engine to run the bac\u001b[0m   \u001b[31m│\u001b[0m\n",
       "\u001b[31m│\u001b[0m   \u001b[2m201 \u001b[0m\u001b[2m│   │   \u001b[0mtensors, grad_tensors_, retain_graph, create_graph, inputs,                        \u001b[31m│\u001b[0m\n",
       "\u001b[31m│\u001b[0m   \u001b[2m202 \u001b[0m\u001b[2m│   │   \u001b[0mallow_unreachable=\u001b[94mTrue\u001b[0m, accumulate_grad=\u001b[94mTrue\u001b[0m)  \u001b[2m# Calls into the C++ engine to ru\u001b[0m   \u001b[31m│\u001b[0m\n",
       "\u001b[31m│\u001b[0m   \u001b[2m203 \u001b[0m                                                                                           \u001b[31m│\u001b[0m\n",
       "\u001b[31m╰──────────────────────────────────────────────────────────────────────────────────────────────────╯\u001b[0m\n",
       "\u001b[1;91mKeyboardInterrupt\u001b[0m\n"
      ]
     },
     "metadata": {},
     "output_type": "display_data"
    }
   ],
   "source": [
    "mask = {}\n",
    "rel_pos = 0\n",
    "for lamb in [0.025]:\n",
    "    mask[lamb] = torch.ones(\n",
    "        len(modules_w_heads), requires_grad=True, device=DEVICE, dtype=torch.float\n",
    "    )\n",
    "    optimizer = torch.optim.Adam([mask[lamb]], lr=1e-1)\n",
    "\n",
    "    for epoch in range(3):\n",
    "        for di, desid_train in enumerate(desiderata_train):\n",
    "            for bi, inputs in enumerate(desid_train):\n",
    "                mask[lamb].data.clamp_(0, 1)\n",
    "                optimizer.zero_grad()\n",
    "\n",
    "                with TraceDict(\n",
    "                    model,\n",
    "                    modules,\n",
    "                    edit_output=partial(\n",
    "                        edit_output,\n",
    "                        mask=mask[lamb],\n",
    "                        from_activations=from_activations_train[di][bi],\n",
    "                        to_last_token_pos=inputs[\"base_input_last_pos\"],\n",
    "                        from_last_token_pos=inputs[\"source_input_last_pos\"],\n",
    "                        rel_pos=rel_pos,\n",
    "                    ),\n",
    "                ) as _:\n",
    "                    output = model(inputs[\"base_input_ids\"].to(DEVICE))\n",
    "\n",
    "                target_logits = 0\n",
    "                for idx in range(inputs[\"base_input_ids\"].size(0)):\n",
    "                    target = inputs[\"labels\"][idx]\n",
    "                    target_logits += output.logits[idx, inputs[\"base_input_last_pos\"][idx], target]\n",
    "                target_logits /= inputs[\"base_input_ids\"].size(0)\n",
    "\n",
    "                # maximize the target logits => minimize the negative target logits\n",
    "                # minimize the number of heads => maximize #ones in the mask\n",
    "                loss = -target_logits + lamb * torch.sum(1 - mask[lamb])\n",
    "\n",
    "                print(\n",
    "                    f\"epoch: {epoch}, bi: {bi}, Loss: {loss.item()}, Target logits: {target_logits.item()}\"\n",
    "                )\n",
    "                # rounded = torch.round(mask[lamb].data)\n",
    "                # print(f\"#Zero heads: {(rounded == 0).nonzero().shape[0]}\")\n",
    "\n",
    "                loss.backward()\n",
    "                optimizer.step()\n",
    "\n",
    "            del output\n",
    "            torch.cuda.empty_cache()\n",
    "\n",
    "    mask[lamb].data.clamp_(0, 1)\n",
    "    with torch.no_grad():\n",
    "        rounded = torch.round(mask[lamb].data)\n",
    "        heads = compute_heads_from_mask(rounded)\n",
    "        print(f\"lamb: {lamb}, Heads: {heads}\")\n",
    "\n",
    "        correct, total = 0, 0\n",
    "        for di, desid_eval in enumerate(desiderata_eval):\n",
    "            for bi, inputs in enumerate(desid_eval):\n",
    "                with TraceDict(\n",
    "                    model,\n",
    "                    modules,\n",
    "                    edit_output=partial(\n",
    "                        edit_output,\n",
    "                        mask=rounded,\n",
    "                        from_activations=from_activations_eval[di][bi],\n",
    "                        to_last_token_pos=inputs[\"base_input_last_pos\"],\n",
    "                        from_last_token_pos=inputs[\"source_input_last_pos\"],\n",
    "                        rel_pos=rel_pos,\n",
    "                    ),\n",
    "                ) as _:\n",
    "                    output = model(inputs[\"base_input_ids\"].to(DEVICE))\n",
    "\n",
    "                for idx in range(inputs[\"base_input_ids\"].size(0)):\n",
    "                    target = inputs[\"labels\"][idx]\n",
    "                    pred = torch.argmax(output.logits[idx, inputs[\"base_input_last_pos\"][idx]])\n",
    "\n",
    "                    if target == pred:\n",
    "                        correct += 1\n",
    "                    total += 1\n",
    "\n",
    "                del output\n",
    "                torch.cuda.empty_cache()\n",
    "        print(f\"lamb: {lamb}, Validation Accuracy: {correct / total}\")\n",
    "\n",
    "    torch.save(mask[lamb].data, f\"./masks/forward/last_pos/box_value_fetcher/{lamb}\")"
   ]
  },
  {
   "cell_type": "markdown",
   "metadata": {},
   "source": [
    "## Testing Learned Mask"
   ]
  },
  {
   "cell_type": "code",
   "execution_count": 143,
   "metadata": {},
   "outputs": [],
   "source": [
    "modules = [f\"model.layers.{i}.self_attn.o_proj\" for i in range(model.config.num_hidden_layers)]"
   ]
  },
  {
   "cell_type": "code",
   "execution_count": 144,
   "metadata": {},
   "outputs": [],
   "source": [
    "from_activations_eval = {}\n",
    "\n",
    "for di, desid_eval in enumerate(desiderata_eval):\n",
    "    from_activations_eval[di] = {}\n",
    "\n",
    "    for bi, inputs in enumerate(desid_eval):\n",
    "        for k, v in inputs.items():\n",
    "            if v is not None and isinstance(v, torch.Tensor):\n",
    "                inputs[k] = v.to(DEVICE)\n",
    "\n",
    "        from_activations_eval[di][bi] = {}\n",
    "        with torch.no_grad():\n",
    "            with TraceDict(model, modules, retain_input=True) as trace:\n",
    "                _ = model(inputs[\"source_input_ids\"])\n",
    "\n",
    "                for module in modules:\n",
    "                    if \"self_attn\" in module:\n",
    "                        from_activations_eval[di][bi][module] = trace[module].input.detach().cpu()\n",
    "                    else:\n",
    "                        from_activations_eval[di][bi][module] = trace[module].output.detach().cpu()\n",
    "\n",
    "        for k, v in inputs.items():\n",
    "            if v is not None and isinstance(v, torch.Tensor):\n",
    "                inputs[k] = v.to(\"cpu\")\n",
    "\n",
    "        del trace\n",
    "        torch.cuda.empty_cache()"
   ]
  },
  {
   "cell_type": "code",
   "execution_count": 145,
   "metadata": {},
   "outputs": [
    {
     "name": "stdout",
     "output_type": "stream",
     "text": [
      "lamb: 0.025, #Zero heads: 34\n",
      "[[0, 3], [2, 14], [2, 30], [4, 22], [6, 10], [8, 29], [9, 7], [9, 14], [10, 27], [11, 21], [11, 23], [11, 26], [12, 0], [12, 23], [13, 22], [14, 1], [14, 4], [14, 18], [14, 27], [15, 14], [17, 26], [19, 5], [19, 12], [20, 14], [20, 20], [20, 26], [21, 15], [24, 1], [24, 21], [25, 24], [26, 31], [31, 14], [31, 22], [31, 28]]\n",
      "lamb: 0.025, Validation Accuracy: 0.56\n",
      "\n",
      "lamb: 0.05, #Zero heads: 13\n",
      "[[4, 22], [8, 29], [11, 23], [12, 23], [14, 27], [15, 14], [19, 5], [19, 12], [20, 20], [21, 15], [24, 21], [31, 14], [31, 28]]\n",
      "lamb: 0.05, Validation Accuracy: 0.59\n",
      "\n",
      "lamb: 0.1, #Zero heads: 7\n",
      "[[11, 23], [12, 23], [14, 27], [15, 14], [20, 20], [24, 21], [31, 14]]\n",
      "lamb: 0.1, Validation Accuracy: 0.45\n",
      "\n",
      "lamb: 0.125, #Zero heads: 4\n",
      "[[11, 23], [12, 23], [14, 27], [31, 14]]\n",
      "lamb: 0.125, Validation Accuracy: 0.37\n",
      "\n",
      "lamb: 0.15, #Zero heads: 3\n",
      "[[11, 23], [14, 27], [31, 14]]\n",
      "lamb: 0.15, Validation Accuracy: 0.31\n",
      "\n",
      "lamb: 0.2, #Zero heads: 3\n",
      "[[11, 23], [14, 27], [31, 14]]\n",
      "lamb: 0.2, Validation Accuracy: 0.31\n",
      "\n",
      "lamb: 0.25, #Zero heads: 3\n",
      "[[11, 23], [14, 27], [31, 14]]\n",
      "lamb: 0.25, Validation Accuracy: 0.31\n",
      "\n",
      "lamb: 0.3, #Zero heads: 3\n",
      "[[11, 23], [14, 27], [31, 14]]\n",
      "lamb: 0.3, Validation Accuracy: 0.31\n",
      "\n",
      "lamb: 0.35, #Zero heads: 2\n",
      "[[11, 23], [31, 14]]\n",
      "lamb: 0.35, Validation Accuracy: 0.05\n",
      "\n",
      "lamb: 0.5, #Zero heads: 1\n",
      "[[31, 14]]\n",
      "lamb: 0.5, Validation Accuracy: 0.0\n",
      "\n"
     ]
    }
   ],
   "source": [
    "path = './masks/forward/last_pos/box_label_value_fetcher/'\n",
    "masks = sorted([float(mask) for mask in os.listdir(path) if '.png' not in mask])\n",
    "rel_pos = 0\n",
    "\n",
    "num_heads, valid_acc = [], []\n",
    "for lamb in masks:\n",
    "    with torch.no_grad():\n",
    "        mask = torch.load(f\"{path}/{lamb}\")\n",
    "        rounded = torch.round(mask.data)\n",
    "        heads = compute_heads_from_mask(rounded)\n",
    "        print(f\"lamb: {lamb}, #Zero heads: {(rounded == 0).nonzero().shape[0]}\")\n",
    "        print(heads)\n",
    "\n",
    "        correct, total = 0, 0\n",
    "        for di, desid_eval in enumerate(desiderata_eval):\n",
    "            for bi, inputs in enumerate(desid_eval):\n",
    "                with TraceDict(\n",
    "                    model,\n",
    "                    modules,\n",
    "                    edit_output=partial(\n",
    "                        edit_output,\n",
    "                        mask=rounded,\n",
    "                        from_activations=from_activations_eval[di][bi],\n",
    "                        to_last_token_pos=inputs[\"base_input_last_pos\"],\n",
    "                        from_last_token_pos=inputs[\"source_input_last_pos\"],\n",
    "                        rel_pos=rel_pos,\n",
    "                    ),\n",
    "                ) as _:\n",
    "                    output = model(inputs[\"base_input_ids\"].to(DEVICE))\n",
    "\n",
    "                for idx in range(inputs[\"base_input_ids\"].size(0)):\n",
    "                    target = inputs[\"labels\"][idx]\n",
    "                    pred = torch.argmax(output.logits[idx, inputs[\"base_input_last_pos\"][idx]])\n",
    "\n",
    "                    if target == pred:\n",
    "                        correct += 1\n",
    "                    total += 1\n",
    "\n",
    "                del output\n",
    "                torch.cuda.empty_cache()\n",
    "\n",
    "        num_heads.append((rounded == 0).nonzero().shape[0])\n",
    "        valid_acc.append(correct / total)\n",
    "        print(f\"lamb: {lamb}, Validation Accuracy: {correct / total}\\n\")"
   ]
  },
  {
   "cell_type": "code",
   "execution_count": 146,
   "metadata": {},
   "outputs": [
    {
     "data": {
      "image/png": "[encoded data removed]",
      "text/plain": [
       "<Figure size 640x480 with 1 Axes>"
      ]
     },
     "metadata": {},
     "output_type": "display_data"
    }
   ],
   "source": [
    "# Plot valid_acc vs num_heads\n",
    "\n",
    "plt.plot(num_heads, valid_acc, \"o:\")\n",
    "plt.xlabel(\"#Heads\")\n",
    "plt.ylabel(\"Validation Accuracy\")\n",
    "plt.title(\"Box Label Fetcher Heads\")\n",
    "plt.ylim(0, 1)\n",
    "plt.grid()\n",
    "\n",
    "plt.show()"
   ]
  },
  {
   "cell_type": "markdown",
   "metadata": {},
   "source": [
    "## Comparison with Path Patching"
   ]
  },
  {
   "cell_type": "code",
   "execution_count": 134,
   "metadata": {},
   "outputs": [],
   "source": [
    "mask_path = './masks/forward/last_pos/object_value_fetcher/'\n",
    "masks = sorted([float(mask) for mask in os.listdir(mask_path) if '.png' not in mask])\n",
    "\n",
    "pp_path = \"./new_pp_exps/forward/direct_logit_heads.pt\"\n",
    "logit_values = torch.load(pp_path)\n",
    "\n",
    "precision = []\n",
    "num_heads = []\n",
    "for lamb in masks:\n",
    "    mask = torch.load(f\"{path}/{lamb}\")\n",
    "    rounded = torch.round(mask.data)\n",
    "    masked_heads = compute_heads_from_mask(rounded)\n",
    "    masked_heads = [(l, h) for l, h in masked_heads]\n",
    "    pp_heads = direct_logit_heads = analysis_utils.compute_topk_components(\n",
    "        logit_values, k=len(masked_heads), largest=False\n",
    "    )\n",
    "    pp_heads = [(l, h) for l, h in pp_heads]\n",
    "    # Compute precision and recall between masked_heads and pp_heads without scikit-learn\n",
    "    precision.append(round(len(set(masked_heads).intersection(set(pp_heads))) / len(pp_heads), 2))\n",
    "    num_heads.append(len(masked_heads))"
   ]
  },
  {
   "cell_type": "code",
   "execution_count": 136,
   "metadata": {},
   "outputs": [
    {
     "data": {
      "image/png": "[encoded data removed]",
      "text/plain": [
       "<Figure size 640x480 with 1 Axes>"
      ]
     },
     "metadata": {},
     "output_type": "display_data"
    }
   ],
   "source": [
    "# Plot precision vs num_heads\n",
    "plt.plot(num_heads, precision, \"o:\")\n",
    "plt.xlabel(\"#Heads\")\n",
    "plt.ylabel(\"Precision & Recall\")\n",
    "plt.title(\"Object Value Fetcher Heads\")\n",
    "plt.ylim(0, 1)\n",
    "plt.grid()\n",
    "plt.show()"
   ]
  }
 ],
 "metadata": {
  "kernelspec": {
   "display_name": "anima",
   "language": "python",
   "name": "python3"
  },
  "language_info": {
   "codemirror_mode": {
    "name": "ipython",
    "version": 3
   },
   "file_extension": ".py",
   "mimetype": "text/x-python",
   "name": "python",
   "nbconvert_exporter": "python",
   "pygments_lexer": "ipython3",
   "version": "3.10.4"
  },
  "orig_nbformat": 4
 },
 "nbformat": 4,
 "nbformat_minor": 2
}
