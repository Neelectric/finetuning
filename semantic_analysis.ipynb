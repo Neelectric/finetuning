{
 "cells": [
  {
   "cell_type": "code",
   "execution_count": 1,
   "metadata": {},
   "outputs": [
    {
     "name": "stderr",
     "output_type": "stream",
     "text": [
      "/home/local_nikhil/.conda/envs/anima/lib/python3.10/site-packages/tqdm/auto.py:21: TqdmWarning: IProgress not found. Please update jupyter and ipywidgets. See https://ipywidgets.readthedocs.io/en/stable/user_install.html\n",
      "  from .autonotebook import tqdm as notebook_tqdm\n"
     ]
    }
   ],
   "source": [
    "import torch\n",
    "import os\n",
    "import json\n",
    "from torch.nn import CosineSimilarity\n",
    "import matplotlib.pyplot as plt\n",
    "from transformers import AutoTokenizer, AutoModelForCausalLM, LlamaForCausalLM, LlamaTokenizer\n",
    "from functools import partial\n",
    "from baukit import TraceDict\n",
    "from einops import rearrange, einsum\n",
    "from collections import defaultdict\n",
    "import matplotlib.pyplot as plt\n",
    "from plotly_utils import imshow, scatter\n",
    "from tqdm import tqdm\n",
    "from datasets import Dataset\n",
    "from torch.utils.data import DataLoader\n",
    "import math\n",
    "import seaborn as sns\n",
    "from peft import PeftModel\n",
    "import pickle\n",
    "\n",
    "import pysvelte\n",
    "import analysis_utils\n",
    "from counterfactual_datasets.entity_tracking import *\n",
    "\n",
    "device = torch.device(\"cuda\" if torch.cuda.is_available() else \"cpu\")\n",
    "torch.manual_seed(10)\n",
    "\n",
    "%load_ext autoreload\n",
    "%autoreload 2"
   ]
  },
  {
   "cell_type": "code",
   "execution_count": 2,
   "metadata": {},
   "outputs": [
    {
     "name": "stderr",
     "output_type": "stream",
     "text": [
      "Loading checkpoint shards: 100%|██████████| 33/33 [00:15<00:00,  2.08it/s]\n"
     ]
    }
   ],
   "source": [
    "# path = \"./llama_7b/\"\n",
    "# tokenizer = AutoTokenizer.from_pretrained(path)\n",
    "# model = AutoModelForCausalLM.from_pretrained(path).to(device)\n",
    "\n",
    "base_model = \"decapoda-research/llama-7b-hf\"\n",
    "lora_weights = \"tiedong/goat-lora-7b\"\n",
    "\n",
    "tokenizer = LlamaTokenizer.from_pretrained(\n",
    "    \"hf-internal-testing/llama-tokenizer\", padding_side=\"right\"\n",
    ")\n",
    "model = LlamaForCausalLM.from_pretrained(\n",
    "    base_model,\n",
    "    load_in_8bit=False,\n",
    "    torch_dtype=torch.float32,\n",
    "    device_map=\"auto\",\n",
    ")\n",
    "model = PeftModel.from_pretrained(\n",
    "    model,\n",
    "    lora_weights,\n",
    "    torch_dtype=torch.float32,\n",
    "    device_map={\"\": 0},\n",
    ")\n",
    "\n",
    "tokenizer.pad_token_id = tokenizer.eos_token_id"
   ]
  },
  {
   "cell_type": "markdown",
   "metadata": {},
   "source": [
    "## Identifying Correct Data"
   ]
  },
  {
   "cell_type": "code",
   "execution_count": 3,
   "metadata": {},
   "outputs": [],
   "source": [
    "num_boxes = 7\n",
    "batch_size = 8\n",
    "data_file_path = f\"./box_datasets/no_instructions/alternative/Random/{num_boxes}/train.jsonl\"\n",
    "object_file_path = \"./box_datasets/filtered_objects_with_bnc_frequency.csv\""
   ]
  },
  {
   "cell_type": "code",
   "execution_count": 5,
   "metadata": {},
   "outputs": [],
   "source": [
    "raw_data = entity_tracking_example_sampler(\n",
    "    tokenizer=tokenizer,\n",
    "    num_samples=3000,\n",
    "    data_file=data_file_path,\n",
    "    alt_examples=True,\n",
    "    architecture=model.config.architectures[0],\n",
    "    few_shot=False,\n",
    ")"
   ]
  },
  {
   "cell_type": "code",
   "execution_count": 6,
   "metadata": {},
   "outputs": [],
   "source": [
    "raw_dataset = Dataset.from_dict({\n",
    "    \"input_ids\": raw_data[0],\n",
    "    \"last_token_ids\": raw_data[1],\n",
    "    \"labels\": raw_data[2],\n",
    "}).with_format(\"torch\")\n",
    "\n",
    "dataloader = DataLoader(raw_dataset, batch_size=batch_size, shuffle=False)"
   ]
  },
  {
   "cell_type": "code",
   "execution_count": 7,
   "metadata": {},
   "outputs": [],
   "source": [
    "correct_pred_indices = []\n",
    "for bi, inputs in enumerate(dataloader):\n",
    "    for k, v in inputs.items():\n",
    "        if v is not None and isinstance(v, torch.Tensor):\n",
    "            inputs[k] = v.to(model.device)\n",
    "    \n",
    "    output = model(inputs[\"input_ids\"])\n",
    "\n",
    "    for batch in range(inputs[\"input_ids\"].shape[0]):\n",
    "        label = inputs[\"labels\"][batch]\n",
    "        pred = torch.argmax(output.logits[batch, -1], dim=-1)\n",
    "\n",
    "        if label == pred:\n",
    "            correct_pred_indices.append(bi * batch_size + batch)"
   ]
  },
  {
   "cell_type": "code",
   "execution_count": 10,
   "metadata": {},
   "outputs": [],
   "source": [
    "# Store the correct predictions in a json file\n",
    "with open(f\"./box_datasets/no_instructions/alternative/{num_boxes}/correct_prediction_indices.json\", \"w\") as f:\n",
    "    json.dump(correct_pred_indices, f)\n"
   ]
  },
  {
   "cell_type": "markdown",
   "metadata": {},
   "source": [
    "## Load Data"
   ]
  },
  {
   "cell_type": "code",
   "execution_count": 3,
   "metadata": {},
   "outputs": [],
   "source": [
    "num_boxes = 7\n",
    "batch_size = 8\n",
    "data_file_path = f\"./box_datasets/no_instructions/alternative/Random/{num_boxes}/train.jsonl\"\n",
    "object_file_path = \"./box_datasets/filtered_objects_with_bnc_frequency.csv\""
   ]
  },
  {
   "cell_type": "code",
   "execution_count": 5,
   "metadata": {},
   "outputs": [],
   "source": [
    "# Load the correct predictions from the json file\n",
    "with open(f\"./box_datasets/no_instructions/alternative/{num_boxes}/correct_prediction_indices.json\", \"r\") as f:\n",
    "    correct_pred_indices = json.load(f)"
   ]
  },
  {
   "cell_type": "code",
   "execution_count": 4,
   "metadata": {},
   "outputs": [],
   "source": [
    "def load_data(raw_data, batch_size):\n",
    "\n",
    "    dataset = Dataset.from_dict(\n",
    "        {\n",
    "            \"base_input_ids\": raw_data[0],\n",
    "            \"base_input_last_pos\": raw_data[1],\n",
    "            \"source_input_ids\": raw_data[2],\n",
    "            \"source_input_last_pos\": raw_data[3],\n",
    "            \"labels\": raw_data[4],\n",
    "        }\n",
    "    ).with_format(\"torch\")\n",
    "    dataloader = DataLoader(\n",
    "        dataset,\n",
    "        batch_size=batch_size,\n",
    "        shuffle=False,\n",
    "    )\n",
    "\n",
    "    return dataloader"
   ]
  },
  {
   "cell_type": "code",
   "execution_count": 117,
   "metadata": {},
   "outputs": [],
   "source": [
    "raw_data = positional_desiderata(\n",
    "    tokenizer=tokenizer,\n",
    "    num_samples=500,\n",
    "    data_file=data_file_path,\n",
    "    object_file=object_file_path,\n",
    "    num_boxes=num_boxes,\n",
    "    alt_format=True,\n",
    "    correct_pred_indices=[],\n",
    ")"
   ]
  },
  {
   "cell_type": "code",
   "execution_count": 118,
   "metadata": {},
   "outputs": [],
   "source": [
    "dataloader = load_data(\n",
    "    raw_data=raw_data, batch_size=batch_size\n",
    ")"
   ]
  },
  {
   "cell_type": "code",
   "execution_count": 119,
   "metadata": {},
   "outputs": [
    {
     "name": "stdout",
     "output_type": "stream",
     "text": [
      "  <s>The document is in Box X, the pot is in Box T, the magnet is in Box A, the game is in Box E, the bill is in Box M, the cross is in Box K, the map is in Box D. Box E contains the\n",
      "  <s>The suit is in Box R, the plate is in Box K, the tie is in Box J, the egg is in Box Y, the glass is in Box C, the book is in Box M, the wire is in Box D. Box Y contains the\n",
      " game\n"
     ]
    }
   ],
   "source": [
    "data = next(enumerate(dataloader))[1]\n",
    "bi = 3\n",
    "print(tokenizer.decode(data[\"base_input_ids\"][bi][: data[\"base_input_last_pos\"][bi] + 1]))\n",
    "print(tokenizer.decode(data[\"source_input_ids\"][bi][: data[\"source_input_last_pos\"][bi] + 1]))\n",
    "print(tokenizer.decode(data[\"labels\"][bi]))"
   ]
  },
  {
   "cell_type": "markdown",
   "metadata": {},
   "source": [
    "## Activation Patching"
   ]
  },
  {
   "cell_type": "code",
   "execution_count": 120,
   "metadata": {},
   "outputs": [],
   "source": [
    "circuit_components = {}\n",
    "circuit_components[0] = defaultdict(list)\n",
    "circuit_components[2] = defaultdict(list)\n",
    "circuit_components[-1] = defaultdict(list)\n",
    "circuit_components[-2] = defaultdict(list)\n",
    "\n",
    "root_path = \"./new_pp_exps/reverse/7_boxes\"\n",
    "path = root_path + \"/direct_logit_heads.pt\"\n",
    "logit_values = torch.load(path)\n",
    "direct_logit_heads = analysis_utils.compute_topk_components(torch.load(path), k=48, largest=False)\n",
    "for layer_idx, head in direct_logit_heads:\n",
    "    if model.config.architectures[0] == \"LlamaForCausalLM\":\n",
    "        layer = f\"model.layers.{layer_idx}.self_attn.o_proj\"\n",
    "    else:\n",
    "        layer = f\"base_model.model.model.layers.{layer_idx}.self_attn.o_proj\"\n",
    "    circuit_components[0][layer].append(head)\n",
    "\n",
    "\n",
    "path = root_path + \"/heads_affect_direct_logit.pt\"\n",
    "logit_values = torch.load(path)\n",
    "heads_affecting_direct_logit_heads = analysis_utils.compute_topk_components(\n",
    "    torch.load(path), k=10, largest=False\n",
    ")\n",
    "for layer_idx, head in heads_affecting_direct_logit_heads:\n",
    "    if model.config.architectures[0] == \"LlamaForCausalLM\":\n",
    "        layer = f\"model.layers.{layer_idx}.self_attn.o_proj\"\n",
    "    else:\n",
    "        layer = f\"base_model.model.model.layers.{layer_idx}.self_attn.o_proj\"\n",
    "    circuit_components[0][layer].append(head)\n",
    "\n",
    "for head in direct_logit_heads:\n",
    "    if head in heads_affecting_direct_logit_heads:\n",
    "        direct_logit_heads.remove(head)\n",
    "print(len(direct_logit_heads))\n",
    "\n",
    "path = root_path + \"/heads_at_query_box_pos.pt\"\n",
    "logit_values = torch.load(path)\n",
    "head_at_query_box_token = analysis_utils.compute_topk_components(\n",
    "    torch.load(path), k=30, largest=False\n",
    ")\n",
    "for layer_idx, head in head_at_query_box_token:\n",
    "    if model.config.architectures[0] == \"LlamaForCausalLM\":\n",
    "        layer = f\"model.layers.{layer_idx}.self_attn.o_proj\"\n",
    "    else:\n",
    "        layer = f\"base_model.model.model.layers.{layer_idx}.self_attn.o_proj\"\n",
    "    circuit_components[2][layer].append(head)\n",
    "\n",
    "\n",
    "# path = root_path + \"/heads_q_comp_with_heads_at_box_pos.pt\"\n",
    "# logit_values = torch.load(path)\n",
    "# heads_q_comp_at_query_box_token = analysis_utils.compute_topk_components(\n",
    "#     torch.load(path), k=15, largest=False\n",
    "# )\n",
    "# for layer_idx, head in heads_q_comp_at_query_box_token:\n",
    "#     if model.config.architectures[0] == \"LlamaForCausalLM\":\n",
    "#         layer = f\"model.layers.{layer_idx}.self_attn.o_proj\"\n",
    "#     else:\n",
    "#         layer = f\"base_model.model.model.layers.{layer_idx}.self_attn.o_proj\"\n",
    "#         circuit_components[2][layer].append(head)\n",
    "\n",
    "\n",
    "path = root_path + \"/heads_at_prev_query_box_pos.pt\"\n",
    "logit_values = torch.load(path)\n",
    "heads_at_prev_box_pos = analysis_utils.compute_topk_components(torch.load(path), k=5, largest=False)\n",
    "for layer_idx, head in heads_at_prev_box_pos:\n",
    "    if model.config.architectures[0] == \"LlamaForCausalLM\":\n",
    "        layer = f\"model.layers.{layer_idx}.self_attn.o_proj\"\n",
    "    else:\n",
    "        layer = f\"base_model.model.model.layers.{layer_idx}.self_attn.o_proj\"\n",
    "    circuit_components[-1][layer].append(head)\n",
    "\n",
    "\n",
    "# path = root_path + \"/heads_at_next_token_to_prev_box_token.pt\"\n",
    "# logit_values = torch.load(path)\n",
    "# heads_at_next_token_to_box_pos = analysis_utils.compute_topk_components(\n",
    "#     torch.load(path), k=5, largest=False\n",
    "# )\n",
    "# for layer_idx, head in heads_at_next_token_to_box_pos:\n",
    "#     if model.config.architectures[0] == \"LlamaForCausalLM\":\n",
    "#         layer = f\"model.layers.{layer_idx}.self_attn.o_proj\"\n",
    "#     else:\n",
    "#         layer = f\"base_model.model.model.layers.{layer_idx}.self_attn.o_proj\"\n",
    "#     circuit_components[-2][layer].append(head)\n",
    "\n",
    "for pos in circuit_components.keys():\n",
    "    for layer_idx in circuit_components[pos].keys():\n",
    "        circuit_components[pos][layer_idx] = list(set(circuit_components[pos][layer_idx]))"
   ]
  },
  {
   "cell_type": "code",
   "execution_count": 121,
   "metadata": {},
   "outputs": [],
   "source": [
    "modules = [f\"base_model.model.model.layers.{i}.self_attn.o_proj\" for i in range(32)]"
   ]
  },
  {
   "cell_type": "code",
   "execution_count": 122,
   "metadata": {},
   "outputs": [],
   "source": [
    "source_cache = {}\n",
    "for bi, inputs in enumerate(dataloader):\n",
    "    for k, v in inputs.items():\n",
    "        if v is not None and isinstance(v, torch.Tensor):\n",
    "            inputs[k] = v.to(model.device)\n",
    "    \n",
    "    with TraceDict(model, modules, retain_input=True) as cache:\n",
    "        _ = model(inputs[\"source_input_ids\"])\n",
    "\n",
    "    for module in modules:\n",
    "        if bi in source_cache:\n",
    "            source_cache[bi][module] = cache[module].input.detach().cpu()\n",
    "        else:\n",
    "            source_cache[bi] = {module: cache[module].input.detach().cpu()}"
   ]
  },
  {
   "cell_type": "code",
   "execution_count": 123,
   "metadata": {},
   "outputs": [],
   "source": [
    "def patching(inputs, output, layer, patching_heads, bi):\n",
    "    if isinstance(inputs, tuple):\n",
    "        inputs = inputs[0]\n",
    "    \n",
    "    inputs = rearrange(inputs, \n",
    "                       \"batch seq_len (n_heads d_head) -> batch seq_len n_heads d_head\",\n",
    "                       n_heads=model.config.num_attention_heads)\n",
    "    cache = rearrange(source_cache[bi][layer],\n",
    "                        \"batch seq_len (n_heads d_head) -> batch seq_len n_heads d_head\",\n",
    "                        n_heads=model.config.num_attention_heads)\n",
    "\n",
    "    for rel_pos in patching_heads.keys():\n",
    "        layer_index = int(layer.split(\".\")[4])\n",
    "        curr_layer_heads = [h for l, h in patching_heads[rel_pos] if l == layer_index]\n",
    "\n",
    "        pos = inputs.size(1) - rel_pos - 1\n",
    "        for head in curr_layer_heads:\n",
    "            inputs[:, pos, head] = cache[:, pos, head]\n",
    "\n",
    "    inputs = rearrange(inputs,\n",
    "                        \"batch seq_len n_heads d_head -> batch seq_len (n_heads d_head)\",\n",
    "                        n_heads=model.config.num_attention_heads)\n",
    "    \n",
    "    w_o = model.state_dict()[f\"{layer}.weight\"]\n",
    "    output = einsum(inputs, \n",
    "                    w_o, \n",
    "                    \"batch seq_len hidden_size, d_model hidden_size -> batch seq_len d_model\")\n",
    "    \n",
    "    del w_o\n",
    "    torch.cuda.empty_cache()\n",
    "    return output"
   ]
  },
  {
   "cell_type": "code",
   "execution_count": 124,
   "metadata": {},
   "outputs": [
    {
     "name": "stderr",
     "output_type": "stream",
     "text": [
      "63it [00:32,  1.96it/s]"
     ]
    },
    {
     "name": "stdout",
     "output_type": "stream",
     "text": [
      "Accuracy: 0.39\n"
     ]
    },
    {
     "name": "stderr",
     "output_type": "stream",
     "text": [
      "\n"
     ]
    }
   ],
   "source": [
    "correct_count, total_count = 0, 0\n",
    "for bi, inputs in tqdm(enumerate(dataloader)):\n",
    "    for k, v in inputs.items():\n",
    "        if v is not None and isinstance(v, torch.Tensor):\n",
    "            inputs[k] = v.to(model.device)\n",
    "\n",
    "    with TraceDict(model, modules, retain_input=True, edit_output=partial(patching, \n",
    "                                                                          patching_heads = patching_heads,\n",
    "                                                                          bi = bi)) as cache:\n",
    "        outputs = model(inputs[\"base_input_ids\"])\n",
    "\n",
    "    for idx in range(inputs[\"base_input_ids\"].size(0)):\n",
    "        label = inputs[\"labels\"][idx].item()\n",
    "        pred = torch.argmax(outputs.logits[idx, -1], dim=-1).item()\n",
    "\n",
    "        if label == pred:\n",
    "            correct_count += 1\n",
    "        # else:\n",
    "        #     print(tokenizer.decode(inputs[\"base_input_ids\"][idx][: inputs[\"base_input_last_pos\"][idx] + 1]))\n",
    "        #     print(tokenizer.decode(pred))\n",
    "        #     print()\n",
    "        total_count += 1\n",
    "\n",
    "    del outputs\n",
    "    torch.cuda.empty_cache()\n",
    "\n",
    "print(f\"Accuracy: {correct_count / total_count}\")"
   ]
  },
  {
   "cell_type": "code",
   "execution_count": 126,
   "metadata": {},
   "outputs": [],
   "source": [
    "# semantics['prev_box_attender_heads']['positional'] = correct_count / total_count"
   ]
  },
  {
   "cell_type": "code",
   "execution_count": 127,
   "metadata": {},
   "outputs": [
    {
     "data": {
      "text/plain": [
       "{'value_fetcher_heads': {'box_label_value': 0.0,\n",
       "  'object_value': 0.516,\n",
       "  'positional': 0.076},\n",
       " 'box_attender_heads': {'positional': 0.33,\n",
       "  'object_value': 0.038,\n",
       "  'box_label_value': 0.0},\n",
       " 'prev_box_attender_heads': {'box_label_value': 0.0,\n",
       "  'object_value': 0.034,\n",
       "  'positional': 0.39}}"
      ]
     },
     "execution_count": 127,
     "metadata": {},
     "output_type": "execute_result"
    }
   ],
   "source": [
    "semantics"
   ]
  },
  {
   "cell_type": "code",
   "execution_count": 20,
   "metadata": {},
   "outputs": [],
   "source": [
    "# semantics = {}\n",
    "# semantics['value_fetcher_heads'] = {}"
   ]
  },
  {
   "cell_type": "code",
   "execution_count": 128,
   "metadata": {},
   "outputs": [
    {
     "data": {
      "image/png": "[encoded data removed]",
      "text/plain": [
       "<Figure size 1500x500 with 3 Axes>"
      ]
     },
     "metadata": {},
     "output_type": "display_data"
    }
   ],
   "source": [
    "# Plot two subplots for each key in semantics\n",
    "fig, axs = plt.subplots(1, 3, figsize=(15, 5), sharey=True)\n",
    "for i, key in enumerate(semantics.keys()):\n",
    "    axs[i].bar(semantics[key].keys(), semantics[key].values())\n",
    "    axs[i].set_title(key)\n",
    "    axs[i].set_ylim(0, 1)\n",
    "    # axs[i].set_ylabel(\"Accuracy post activation patching\")\n",
    "    # axs[i].set_xlabel(\"Desiderata\")\n",
    "    axs[i].grid(True)\n",
    "\n",
    "fig.text(0.08, 0.5, 'Accuracy post activation patching', va='center', rotation='vertical', fontdict={'fontsize': 12})\n",
    "fig.text(0.5, 0.02, 'Desiderata', ha='center', fontdict={'fontsize': 12})\n",
    "\n",
    "# fig.tight_layout()\n",
    "plt.show()"
   ]
  },
  {
   "cell_type": "code",
   "execution_count": 321,
   "metadata": {},
   "outputs": [
    {
     "data": {
      "image/png": "[encoded data removed]",
      "text/plain": [
       "<Figure size 1500x500 with 3 Axes>"
      ]
     },
     "metadata": {},
     "output_type": "display_data"
    }
   ],
   "source": [
    "# Plot two subplots for each key in semantics\n",
    "fig, axs = plt.subplots(1, 3, figsize=(15, 5), sharey=True)\n",
    "for i, key in enumerate(semantics.keys()):\n",
    "    axs[i].bar(semantics[key].keys(), semantics[key].values())\n",
    "    axs[i].set_title(key)\n",
    "    axs[i].set_ylim(0, 1)\n",
    "    # axs[i].set_ylabel(\"Accuracy post activation patching\")\n",
    "    # axs[i].set_xlabel(\"Desiderata\")\n",
    "    axs[i].grid(True)\n",
    "\n",
    "fig.text(0.08, 0.5, 'Accuracy post activation patching', va='center', rotation='vertical', fontdict={'fontsize': 12})\n",
    "fig.text(0.5, 0.02, 'Desiderata', ha='center', fontdict={'fontsize': 12})\n",
    "\n",
    "# fig.tight_layout()\n",
    "plt.show()"
   ]
  }
 ],
 "metadata": {
  "kernelspec": {
   "display_name": "anima",
   "language": "python",
   "name": "python3"
  },
  "language_info": {
   "codemirror_mode": {
    "name": "ipython",
    "version": 3
   },
   "file_extension": ".py",
   "mimetype": "text/x-python",
   "name": "python",
   "nbconvert_exporter": "python",
   "pygments_lexer": "ipython3",
   "version": "3.10.4"
  },
  "orig_nbformat": 4
 },
 "nbformat": 4,
 "nbformat_minor": 2
}
