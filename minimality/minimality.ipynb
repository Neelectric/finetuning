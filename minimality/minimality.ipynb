{
 "cells": [
  {
   "cell_type": "code",
   "execution_count": 1,
   "metadata": {},
   "outputs": [
    {
     "name": "stderr",
     "output_type": "stream",
     "text": [
      "/home/local_nikhil/.conda/envs/anima/lib/python3.10/site-packages/tqdm/auto.py:21: TqdmWarning: IProgress not found. Please update jupyter and ipywidgets. See https://ipywidgets.readthedocs.io/en/stable/user_install.html\n",
      "  from .autonotebook import tqdm as notebook_tqdm\n"
     ]
    }
   ],
   "source": [
    "import torch\n",
    "import os\n",
    "import json\n",
    "import sys\n",
    "from torch.nn import CosineSimilarity\n",
    "import matplotlib.pyplot as plt\n",
    "from transformers import AutoTokenizer, AutoModelForCausalLM, LlamaForCausalLM, LlamaTokenizer\n",
    "from functools import partial\n",
    "from baukit import TraceDict\n",
    "from einops import rearrange, einsum\n",
    "from collections import defaultdict\n",
    "import matplotlib.pyplot as plt\n",
    "# from plotly_utils import imshow, scatter\n",
    "from tqdm import tqdm\n",
    "from datasets import Dataset\n",
    "from torch.utils.data import DataLoader\n",
    "import math\n",
    "import seaborn as sns\n",
    "from peft import PeftModel\n",
    "import pickle\n",
    "\n",
    "import pysvelte\n",
    "sys.path.append('../')\n",
    "import analysis_utils\n",
    "from data.data_utils import *\n",
    "\n",
    "device = torch.device(\"cuda\" if torch.cuda.is_available() else \"cpu\")\n",
    "torch.manual_seed(10)\n",
    "\n",
    "%load_ext autoreload\n",
    "%autoreload 2"
   ]
  },
  {
   "cell_type": "code",
   "execution_count": 2,
   "metadata": {},
   "outputs": [
    {
     "name": "stderr",
     "output_type": "stream",
     "text": [
      "You are using the default legacy behaviour of the <class 'transformers.models.llama.tokenization_llama.LlamaTokenizer'>. This is expected, and simply means that the `legacy` (previous) behavior will be used so nothing changes for you. If you want to use the new behaviour, set `legacy=False`. This should only be set if you understand what it means, and thouroughly read the reason why this was added as explained in https://github.com/huggingface/transformers/pull/24565\n"
     ]
    },
    {
     "name": "stdout",
     "output_type": "stream",
     "text": [
      "Model Loading...\n"
     ]
    },
    {
     "name": "stderr",
     "output_type": "stream",
     "text": [
      "Loading checkpoint shards: 100%|██████████| 33/33 [00:12<00:00,  2.69it/s]\n"
     ]
    }
   ],
   "source": [
    "print(\"Model Loading...\")\n",
    "# path = \"/data/nikhil_prakash/llama_weights/7B/\"\n",
    "# path = \"AlekseyKorshuk/vicuna-7b\"\n",
    "# path = \"/home/local_nikhil/Projects/llama_weights/7B\"\n",
    "# tokenizer = LlamaTokenizer.from_pretrained(path)\n",
    "# model = AutoModelForCausalLM.from_pretrained(path).to(device)\n",
    "\n",
    "base_model = \"decapoda-research/llama-7b-hf\"\n",
    "lora_weights = \"tiedong/goat-lora-7b\"\n",
    "\n",
    "tokenizer = LlamaTokenizer.from_pretrained(\n",
    "    \"hf-internal-testing/llama-tokenizer\", padding_side=\"right\"\n",
    ")\n",
    "\n",
    "model = LlamaForCausalLM.from_pretrained(\n",
    "    base_model,\n",
    "    load_in_8bit=False,\n",
    "    torch_dtype=torch.float32,\n",
    "    device_map=\"auto\",\n",
    ")\n",
    "model = PeftModel.from_pretrained(\n",
    "    model,\n",
    "    lora_weights,\n",
    "    torch_dtype=torch.float32,\n",
    "    device_map={'': 0},\n",
    ")\n",
    "\n",
    "tokenizer.pad_token_id = tokenizer.eos_token_id"
   ]
  },
  {
   "cell_type": "markdown",
   "metadata": {},
   "source": [
    "## Evaluating Models"
   ]
  },
  {
   "cell_type": "code",
   "execution_count": 3,
   "metadata": {},
   "outputs": [],
   "source": [
    "data_file = \"../data/dataset.jsonl\"\n",
    "object_file = \"../data/objects.jsonl\"\n",
    "batch_size = 50"
   ]
  },
  {
   "cell_type": "code",
   "execution_count": 4,
   "metadata": {},
   "outputs": [
    {
     "name": "stdout",
     "output_type": "stream",
     "text": [
      "Length of dataset: 500\n"
     ]
    }
   ],
   "source": [
    "raw_data = entity_tracking_example_sampler(\n",
    "    tokenizer=tokenizer,\n",
    "    num_samples=500,\n",
    "    data_file=data_file,\n",
    "    architecture=\"LlamaForCausalLM\",\n",
    ")\n",
    "\n",
    "dataset = Dataset.from_dict(\n",
    "    {\n",
    "        \"input_ids\": raw_data[0],\n",
    "        \"last_token_indices\": raw_data[1],\n",
    "        \"labels\": raw_data[2],\n",
    "    }\n",
    ").with_format(\"torch\")\n",
    "\n",
    "print(f\"Length of dataset: {len(dataset)}\")\n",
    "\n",
    "dataloader = DataLoader(dataset, batch_size=batch_size)"
   ]
  },
  {
   "cell_type": "code",
   "execution_count": 5,
   "metadata": {},
   "outputs": [
    {
     "name": "stdout",
     "output_type": "stream",
     "text": [
      "Prompt: <s>The document is in Box X, the pot is in Box T, the magnet is in Box A, the game is in Box E, the bill is in Box M, the cross is in Box K, the map is in Box D. Box X contains the\n",
      "Answer: document\n"
     ]
    }
   ],
   "source": [
    "idx = 0\n",
    "print(\n",
    "    f\"Prompt: {tokenizer.decode(dataset[idx]['input_ids'][:dataset[idx]['last_token_indices']+1])}\"\n",
    ")\n",
    "print(f\"Answer: {tokenizer.decode(dataset[idx]['labels'])}\")"
   ]
  },
  {
   "cell_type": "code",
   "execution_count": 6,
   "metadata": {},
   "outputs": [
    {
     "name": "stderr",
     "output_type": "stream",
     "text": [
      " 20%|██        | 2/10 [00:04<00:17,  2.23s/it]"
     ]
    },
    {
     "name": "stderr",
     "output_type": "stream",
     "text": [
      "100%|██████████| 10/10 [00:21<00:00,  2.17s/it]\n",
      "10it [00:21,  2.17s/it]\n"
     ]
    },
    {
     "name": "stdout",
     "output_type": "stream",
     "text": [
      "Task accuracy: 0.82\n"
     ]
    }
   ],
   "source": [
    "total_count = 0\n",
    "correct_count = 0\n",
    "model.eval()\n",
    "errors = defaultdict(int)\n",
    "with torch.no_grad():\n",
    "    for _, output in tqdm(enumerate(tqdm(dataloader))):\n",
    "        for k, v in output.items():\n",
    "            if v is not None and isinstance(v, torch.Tensor):\n",
    "                output[k] = v.to(model.device)\n",
    "\n",
    "        outputs = model(input_ids=output[\"input_ids\"])\n",
    "\n",
    "        for bi in range(output[\"labels\"].size(0)):\n",
    "            label = output[\"labels\"][bi]\n",
    "            pred = torch.argmax(outputs.logits[bi][output[\"last_token_indices\"][bi]])\n",
    "            box_label = output[\"input_ids\"][bi][output[\"last_token_indices\"][bi] - 2]\n",
    "            prev_box_label_pos = (\n",
    "                output[\"input_ids\"][bi].eq(box_label).nonzero()[:, 0][0].item()\n",
    "            )\n",
    "            prev_box_label_index = prev_box_label_pos // 8 + 1\n",
    "\n",
    "            if label == pred:\n",
    "                correct_count += 1\n",
    "            else:\n",
    "                errors[prev_box_label_index] += 1\n",
    "                # print(prev_box_label_pos, prev_box_label_index)\n",
    "                # print(f\"Label: {tokenizer.decode(label)}, Prediction: {tokenizer.decode(pred)}\")\n",
    "            total_count += 1\n",
    "\n",
    "del outputs\n",
    "torch.cuda.empty_cache()\n",
    "\n",
    "current_acc = round(correct_count / total_count, 2)\n",
    "print(f\"Task accuracy: {current_acc}\")"
   ]
  },
  {
   "cell_type": "markdown",
   "metadata": {},
   "source": [
    "## Evaluation Metrics"
   ]
  },
  {
   "cell_type": "markdown",
   "metadata": {},
   "source": [
    "### Faithfulness"
   ]
  },
  {
   "cell_type": "code",
   "execution_count": 6,
   "metadata": {},
   "outputs": [],
   "source": [
    "data_file = \"../data/dataset.jsonl\"\n",
    "batch_size = 50"
   ]
  },
  {
   "cell_type": "code",
   "execution_count": 7,
   "metadata": {},
   "outputs": [
    {
     "name": "stdout",
     "output_type": "stream",
     "text": [
      "Length of dataset: 500\n"
     ]
    }
   ],
   "source": [
    "raw_data = get_data_for_mean_ablation(\n",
    "    tokenizer=tokenizer,\n",
    "    num_samples=3500,\n",
    "    data_file=data_file,\n",
    "    num_boxes=7,\n",
    ")\n",
    "\n",
    "ablate_dataset = Dataset.from_dict(\n",
    "    {\n",
    "        \"input_ids\": raw_data[0],\n",
    "        \"last_token_indices\": raw_data[1],\n",
    "    }\n",
    ").with_format(\"torch\")\n",
    "\n",
    "print(f\"Length of dataset: {len(ablate_dataset)}\")\n",
    "\n",
    "ablate_dataloader = DataLoader(ablate_dataset, batch_size=batch_size)"
   ]
  },
  {
   "cell_type": "code",
   "execution_count": 8,
   "metadata": {},
   "outputs": [
    {
     "name": "stdout",
     "output_type": "stream",
     "text": [
      "Prompt: <s>The magnet is in Box O, the bell is in Box M, the leaf is in Box W, the cup is in Box G, the ice is in Box J, the milk is in Box Z, the wire is in Box H. Box P contains the\n"
     ]
    }
   ],
   "source": [
    "idx = 8\n",
    "print(\n",
    "    f\"Prompt: {tokenizer.decode(ablate_dataset[idx]['input_ids'][:ablate_dataset[idx]['last_token_indices']+1])}\"\n",
    ")"
   ]
  },
  {
   "cell_type": "code",
   "execution_count": 9,
   "metadata": {},
   "outputs": [
    {
     "name": "stderr",
     "output_type": "stream",
     "text": [
      "  0%|          | 0/10 [00:00<?, ?it/s]"
     ]
    },
    {
     "name": "stderr",
     "output_type": "stream",
     "text": [
      "100%|██████████| 10/10 [00:22<00:00,  2.21s/it]\n"
     ]
    }
   ],
   "source": [
    "if model.config.architectures[0] == \"LlamaForCausalLM\":\n",
    "    modules = [f\"model.layers.{layer}.self_attn.o_proj\" for layer in range(32)]\n",
    "else:\n",
    "    modules = [\n",
    "        f\"base_model.model.model.layers.{layer}.self_attn.o_proj\" for layer in range(32)\n",
    "    ]\n",
    "\n",
    "mean_activations = {}\n",
    "with torch.no_grad():\n",
    "    for _, inp in enumerate(tqdm(ablate_dataloader)):\n",
    "        for k, v in inp.items():\n",
    "            if v is not None and isinstance(v, torch.Tensor):\n",
    "                inp[k] = v.to(model.device)\n",
    "\n",
    "        with TraceDict(model, modules, retain_input=True) as cache:\n",
    "            _ = model(inp[\"input_ids\"])\n",
    "\n",
    "        for layer in modules:\n",
    "            if \"o_proj\" in layer:\n",
    "                if layer in mean_activations:\n",
    "                    mean_activations[layer] += torch.sum(cache[layer].input, dim=0)\n",
    "                else:\n",
    "                    mean_activations[layer] = torch.sum(cache[layer].input, dim=0)\n",
    "\n",
    "        del cache\n",
    "        torch.cuda.empty_cache()\n",
    "\n",
    "    for layer in modules:\n",
    "        mean_activations[layer] /= len(ablate_dataloader.dataset)"
   ]
  },
  {
   "cell_type": "code",
   "execution_count": 10,
   "metadata": {},
   "outputs": [],
   "source": [
    "def mean_ablate(\n",
    "    inputs=None, output=None, layer=None, circuit_components=None, mean_activations=None, input_tokens=None\n",
    "):\n",
    "    if isinstance(inputs, tuple):\n",
    "        inputs = inputs[0]\n",
    "\n",
    "    inputs = rearrange(\n",
    "        inputs,\n",
    "        \"batch seq_len (n_heads d_head) -> batch seq_len n_heads d_head\",\n",
    "        n_heads=model.config.num_attention_heads,\n",
    "    )\n",
    "\n",
    "    mean_act = rearrange(\n",
    "        mean_activations[layer],\n",
    "        \"seq_len (n_heads d_head) -> seq_len n_heads d_head\",\n",
    "        n_heads=model.config.num_attention_heads,\n",
    "    )\n",
    "\n",
    "    last_pos = inputs.size(1) - 1\n",
    "    for bi in range(inputs.size(0)):\n",
    "        try:\n",
    "            prev_query_box_pos = analysis_utils.compute_prev_query_box_pos(\n",
    "                input_tokens[bi], input_tokens[bi].size(0) - 1\n",
    "            )\n",
    "        except:\n",
    "            print(tokenizer.decode(input_tokens[bi]))\n",
    "        for token_pos in range(inputs.size(1)):\n",
    "            if (\n",
    "                token_pos != prev_query_box_pos\n",
    "                and token_pos != last_pos - 2\n",
    "                and token_pos != last_pos\n",
    "            ):\n",
    "                inputs[bi, token_pos, :] = mean_act[token_pos, :]\n",
    "            \n",
    "            elif token_pos == prev_query_box_pos:\n",
    "                for head_idx in range(model.config.num_attention_heads):\n",
    "                    if head_idx not in circuit_components[-1][layer]:\n",
    "                        inputs[bi, token_pos, head_idx] = mean_act[token_pos, head_idx]\n",
    "            \n",
    "            elif token_pos == last_pos - 2:\n",
    "                for head_idx in range(model.config.num_attention_heads):\n",
    "                    if head_idx not in circuit_components[2][layer]:\n",
    "                        inputs[bi, token_pos, head_idx] = mean_act[token_pos, head_idx]\n",
    "            \n",
    "            elif token_pos == last_pos:\n",
    "                for head_idx in range(model.config.num_attention_heads):\n",
    "                    if head_idx not in circuit_components[0][layer]:\n",
    "                        inputs[bi, token_pos, head_idx] = mean_act[token_pos, head_idx]\n",
    "\n",
    "    inputs = rearrange(\n",
    "        inputs,\n",
    "        \"batch seq_len n_heads d_head -> batch seq_len (n_heads d_head)\",\n",
    "        n_heads=model.config.num_attention_heads,\n",
    "    )\n",
    "    w_o = model.state_dict()[f\"{layer}.weight\"]\n",
    "    output = einsum(\n",
    "        inputs,\n",
    "        w_o,\n",
    "        \"batch seq_len hidden_size, d_model hidden_size -> batch seq_len d_model\",\n",
    "    )\n",
    "\n",
    "    return output"
   ]
  },
  {
   "cell_type": "code",
   "execution_count": 11,
   "metadata": {},
   "outputs": [],
   "source": [
    "def eval(model, dataloader, modules, circuit_components, mean_activations):\n",
    "    correct_count, total_count = 0, 0\n",
    "    with torch.no_grad():\n",
    "        for _, inp in enumerate(tqdm(dataloader)):\n",
    "            for k, v in inp.items():\n",
    "                if v is not None and isinstance(v, torch.Tensor):\n",
    "                    inp[k] = v.to(model.device)\n",
    "\n",
    "            with TraceDict(\n",
    "                model,\n",
    "                modules,\n",
    "                retain_input=True,\n",
    "                edit_output=partial(\n",
    "                    mean_ablate,\n",
    "                    circuit_components=circuit_components,\n",
    "                    mean_activations=mean_activations,\n",
    "                    input_tokens=inp[\"input_ids\"],\n",
    "                ),\n",
    "            ) as _:\n",
    "                outputs = model(inp[\"input_ids\"])\n",
    "\n",
    "            for bi in range(inp[\"labels\"].size(0)):\n",
    "                label = inp[\"labels\"][bi]\n",
    "                pred = torch.argmax(\n",
    "                    outputs.logits[bi][inp[\"last_token_indices\"][bi]]\n",
    "                )\n",
    "\n",
    "                if label == pred:\n",
    "                    correct_count += 1\n",
    "                total_count += 1\n",
    "\n",
    "            del outputs\n",
    "            torch.cuda.empty_cache()\n",
    "\n",
    "    current_acc = round(correct_count / total_count, 2)\n",
    "    print(f\"Task accuracy: {current_acc}\")\n",
    "    return current_acc"
   ]
  },
  {
   "cell_type": "code",
   "execution_count": 15,
   "metadata": {},
   "outputs": [],
   "source": [
    "# eval(model, dataloader, modules, circuit_components, mean_activations)"
   ]
  },
  {
   "cell_type": "markdown",
   "metadata": {},
   "source": [
    "\n",
    "## Greedy Approach - Computing Pair Drop Values"
   ]
  },
  {
   "cell_type": "code",
   "execution_count": 13,
   "metadata": {},
   "outputs": [],
   "source": [
    "n_value_fetcher = 62\n",
    "n_pos_trans = 15\n",
    "n_pos_detect = 30\n",
    "n_struct_read = 5\n",
    "root_path = \"../path_patching/results/\""
   ]
  },
  {
   "cell_type": "markdown",
   "metadata": {},
   "source": [
    "### heads_at_prev_box_pos"
   ]
  },
  {
   "cell_type": "code",
   "execution_count": 13,
   "metadata": {},
   "outputs": [
    {
     "name": "stdout",
     "output_type": "stream",
     "text": [
      "50 15 30 5\n",
      "head 1: model.layers.8.self_attn.o_proj 21\n",
      "head 2: model.layers.8.self_attn.o_proj 21\n"
     ]
    },
    {
     "name": "stderr",
     "output_type": "stream",
     "text": [
      "  0%|          | 0/2 [00:00<?, ?it/s]"
     ]
    },
    {
     "name": "stderr",
     "output_type": "stream",
     "text": [
      "100%|██████████| 2/2 [00:09<00:00,  4.76s/it]\n"
     ]
    },
    {
     "name": "stdout",
     "output_type": "stream",
     "text": [
      "Task accuracy: 0.47\n",
      "head 2: model.layers.12.self_attn.o_proj 23\n"
     ]
    },
    {
     "name": "stderr",
     "output_type": "stream",
     "text": [
      "100%|██████████| 2/2 [00:09<00:00,  4.75s/it]\n"
     ]
    },
    {
     "name": "stdout",
     "output_type": "stream",
     "text": [
      "Task accuracy: 0.45\n",
      "head 2: model.layers.11.self_attn.o_proj 9\n"
     ]
    },
    {
     "name": "stderr",
     "output_type": "stream",
     "text": [
      "100%|██████████| 2/2 [00:09<00:00,  4.77s/it]\n"
     ]
    },
    {
     "name": "stdout",
     "output_type": "stream",
     "text": [
      "Task accuracy: 0.46\n",
      "head 2: model.layers.8.self_attn.o_proj 12\n"
     ]
    },
    {
     "name": "stderr",
     "output_type": "stream",
     "text": [
      "100%|██████████| 2/2 [00:09<00:00,  4.75s/it]\n"
     ]
    },
    {
     "name": "stdout",
     "output_type": "stream",
     "text": [
      "Task accuracy: 0.46\n",
      "head 2: model.layers.11.self_attn.o_proj 23\n"
     ]
    },
    {
     "name": "stderr",
     "output_type": "stream",
     "text": [
      "100%|██████████| 2/2 [00:09<00:00,  4.74s/it]\n"
     ]
    },
    {
     "name": "stdout",
     "output_type": "stream",
     "text": [
      "Task accuracy: 0.45\n",
      "head 1: model.layers.12.self_attn.o_proj 23\n",
      "head 2: model.layers.12.self_attn.o_proj 23\n"
     ]
    },
    {
     "name": "stderr",
     "output_type": "stream",
     "text": [
      "100%|██████████| 2/2 [00:09<00:00,  4.76s/it]\n"
     ]
    },
    {
     "name": "stdout",
     "output_type": "stream",
     "text": [
      "Task accuracy: 0.61\n",
      "head 2: model.layers.11.self_attn.o_proj 9\n"
     ]
    },
    {
     "name": "stderr",
     "output_type": "stream",
     "text": [
      "100%|██████████| 2/2 [00:09<00:00,  4.74s/it]\n"
     ]
    },
    {
     "name": "stdout",
     "output_type": "stream",
     "text": [
      "Task accuracy: 0.61\n",
      "head 2: model.layers.8.self_attn.o_proj 12\n"
     ]
    },
    {
     "name": "stderr",
     "output_type": "stream",
     "text": [
      "100%|██████████| 2/2 [00:09<00:00,  4.75s/it]\n"
     ]
    },
    {
     "name": "stdout",
     "output_type": "stream",
     "text": [
      "Task accuracy: 0.6\n",
      "head 2: model.layers.11.self_attn.o_proj 23\n"
     ]
    },
    {
     "name": "stderr",
     "output_type": "stream",
     "text": [
      "100%|██████████| 2/2 [00:09<00:00,  4.74s/it]\n"
     ]
    },
    {
     "name": "stdout",
     "output_type": "stream",
     "text": [
      "Task accuracy: 0.61\n",
      "head 1: model.layers.11.self_attn.o_proj 9\n",
      "head 2: model.layers.11.self_attn.o_proj 9\n"
     ]
    },
    {
     "name": "stderr",
     "output_type": "stream",
     "text": [
      "100%|██████████| 2/2 [00:09<00:00,  4.77s/it]\n"
     ]
    },
    {
     "name": "stdout",
     "output_type": "stream",
     "text": [
      "Task accuracy: 0.61\n",
      "head 2: model.layers.8.self_attn.o_proj 12\n"
     ]
    },
    {
     "name": "stderr",
     "output_type": "stream",
     "text": [
      "100%|██████████| 2/2 [00:09<00:00,  4.73s/it]\n"
     ]
    },
    {
     "name": "stdout",
     "output_type": "stream",
     "text": [
      "Task accuracy: 0.6\n",
      "head 2: model.layers.11.self_attn.o_proj 23\n"
     ]
    },
    {
     "name": "stderr",
     "output_type": "stream",
     "text": [
      "100%|██████████| 2/2 [00:09<00:00,  4.75s/it]\n"
     ]
    },
    {
     "name": "stdout",
     "output_type": "stream",
     "text": [
      "Task accuracy: 0.6\n",
      "head 1: model.layers.8.self_attn.o_proj 12\n",
      "head 2: model.layers.8.self_attn.o_proj 12\n"
     ]
    },
    {
     "name": "stderr",
     "output_type": "stream",
     "text": [
      "100%|██████████| 2/2 [00:09<00:00,  4.75s/it]\n"
     ]
    },
    {
     "name": "stdout",
     "output_type": "stream",
     "text": [
      "Task accuracy: 0.61\n",
      "head 2: model.layers.11.self_attn.o_proj 23\n"
     ]
    },
    {
     "name": "stderr",
     "output_type": "stream",
     "text": [
      "100%|██████████| 2/2 [00:09<00:00,  4.75s/it]\n"
     ]
    },
    {
     "name": "stdout",
     "output_type": "stream",
     "text": [
      "Task accuracy: 0.6\n",
      "head 1: model.layers.11.self_attn.o_proj 23\n",
      "head 2: model.layers.11.self_attn.o_proj 23\n"
     ]
    },
    {
     "name": "stderr",
     "output_type": "stream",
     "text": [
      "100%|██████████| 2/2 [00:09<00:00,  4.75s/it]"
     ]
    },
    {
     "name": "stdout",
     "output_type": "stream",
     "text": [
      "Task accuracy: 0.61\n"
     ]
    },
    {
     "name": "stderr",
     "output_type": "stream",
     "text": [
      "\n"
     ]
    }
   ],
   "source": [
    "circuit_components = {}\n",
    "circuit_components[0] = defaultdict(list)\n",
    "circuit_components[2] = defaultdict(list)\n",
    "circuit_components[-1] = defaultdict(list)\n",
    "circuit_components[-2] = defaultdict(list)\n",
    "\n",
    "greedy_res = defaultdict(lambda: defaultdict(float))\n",
    "\n",
    "path = root_path + \"/direct_logit_heads.pt\"\n",
    "logit_values = torch.load(path)\n",
    "direct_logit_heads, _ = analysis_utils.compute_topk_components(\n",
    "    torch.load(path), k=n_value_fetcher, largest=False\n",
    ")\n",
    "\n",
    "path = root_path + \"/heads_affect_direct_logit.pt\"\n",
    "logit_values = torch.load(path)\n",
    "heads_affecting_direct_logit_heads, _ = analysis_utils.compute_topk_components(\n",
    "    torch.load(path), k=n_pos_trans, largest=False\n",
    ")\n",
    "\n",
    "path = root_path + \"/heads_at_query_box_pos.pt\"\n",
    "logit_values = torch.load(path)\n",
    "head_at_query_box_token, _ = analysis_utils.compute_topk_components(\n",
    "    torch.load(path), k=n_pos_detect, largest=False\n",
    ")\n",
    "\n",
    "path = root_path + \"/heads_at_prev_query_box_pos.pt\"\n",
    "logit_values = torch.load(path)\n",
    "heads_at_prev_box_pos, _ = analysis_utils.compute_topk_components(\n",
    "    torch.load(path), k=n_struct_read, largest=False\n",
    ")\n",
    "\n",
    "intersection = []\n",
    "for head in direct_logit_heads:\n",
    "    if head in heads_affecting_direct_logit_heads:\n",
    "        intersection.append(head)\n",
    "\n",
    "for head in intersection:\n",
    "    direct_logit_heads.remove(head)\n",
    "\n",
    "print(\n",
    "    len(direct_logit_heads),\n",
    "    len(heads_affecting_direct_logit_heads),\n",
    "    len(head_at_query_box_token),\n",
    "    len(heads_at_prev_box_pos),\n",
    ")\n",
    "\n",
    "\n",
    "for layer_idx, head in direct_logit_heads:\n",
    "    if model.config.architectures[0] == \"LlamaForCausalLM\":\n",
    "        layer = f\"model.layers.{layer_idx}.self_attn.o_proj\"\n",
    "    else:\n",
    "        layer = f\"base_model.model.model.layers.{layer_idx}.self_attn.o_proj\"\n",
    "    circuit_components[0][layer].append(head)\n",
    "\n",
    "for layer_idx, head in heads_affecting_direct_logit_heads:\n",
    "    if model.config.architectures[0] == \"LlamaForCausalLM\":\n",
    "        layer = f\"model.layers.{layer_idx}.self_attn.o_proj\"\n",
    "    else:\n",
    "        layer = f\"base_model.model.model.layers.{layer_idx}.self_attn.o_proj\"\n",
    "    circuit_components[0][layer].append(head)\n",
    "\n",
    "\n",
    "for layer_idx, head in head_at_query_box_token:\n",
    "    if model.config.architectures[0] == \"LlamaForCausalLM\":\n",
    "        layer = f\"model.layers.{layer_idx}.self_attn.o_proj\"\n",
    "    else:\n",
    "        layer = f\"base_model.model.model.layers.{layer_idx}.self_attn.o_proj\"\n",
    "    circuit_components[2][layer].append(head)\n",
    "\n",
    "for layer_idx, head in heads_at_prev_box_pos:\n",
    "    if model.config.architectures[0] == \"LlamaForCausalLM\":\n",
    "        layer = f\"model.layers.{layer_idx}.self_attn.o_proj\"\n",
    "    else:\n",
    "        layer = f\"base_model.model.model.layers.{layer_idx}.self_attn.o_proj\"\n",
    "    circuit_components[-1][layer].append(head)\n",
    "\n",
    "\n",
    "for layer_idx_1, head_1 in heads_at_prev_box_pos:\n",
    "    if model.config.architectures[0] == \"LlamaForCausalLM\":\n",
    "        layer_1 = f\"model.layers.{layer_idx_1}.self_attn.o_proj\"\n",
    "    else:\n",
    "        layer_1 = f\"base_model.model.model.layers.{layer_idx_1}.self_attn.o_proj\"\n",
    "\n",
    "    circuit_components[-1][layer_1].remove(head_1)\n",
    "    print(\"head 1:\", layer_1, head_1)\n",
    "\n",
    "    for layer_idx_2, head_2 in heads_at_prev_box_pos:\n",
    "        if model.config.architectures[0] == \"LlamaForCausalLM\":\n",
    "            layer_2 = f\"model.layers.{layer_idx_2}.self_attn.o_proj\"\n",
    "        else:\n",
    "            layer_2 = f\"base_model.model.model.layers.{layer_idx_2}.self_attn.o_proj\"\n",
    "        if greedy_res[(layer_2, head_2)][(layer_1, head_1)] > 0.0:\n",
    "            continue\n",
    "        if layer_1 is not layer_2 and head_1 is not head_2:\n",
    "            circuit_components[-1][layer_2].remove(head_2)\n",
    "        print(\"head 2:\", layer_2, head_2)\n",
    "        greedy_res[(layer_1, head_1)][(layer_2, head_2)] = eval(\n",
    "            model, dataloader, modules, circuit_components, mean_activations\n",
    "        )\n",
    "        if layer_1 is not layer_2 and head_1 is not head_2:\n",
    "            circuit_components[-1][layer_2].append(head_2)\n",
    "\n",
    "    circuit_components[-1][layer_1].append(head_1)"
   ]
  },
  {
   "cell_type": "code",
   "execution_count": 15,
   "metadata": {},
   "outputs": [],
   "source": [
    "res = defaultdict(lambda: defaultdict(float))\n",
    "for k in greedy_res:\n",
    "    for k_2 in greedy_res[k]:\n",
    "        if greedy_res[k][k_2] > 0.0:\n",
    "            res[str(k)][str(k_2)] = greedy_res[k][k_2]\n",
    "            res[str(k_2)][str(k)] = greedy_res[k][k_2]"
   ]
  },
  {
   "cell_type": "code",
   "execution_count": 16,
   "metadata": {},
   "outputs": [],
   "source": [
    "with open(\"../path_patching/results/minimality/llama_heads_at_prev_box_pos.json\", \"w\") as file:\n",
    "    json.dump(res, file)"
   ]
  },
  {
   "cell_type": "markdown",
   "metadata": {},
   "source": [
    "### head_at_query_box_token"
   ]
  },
  {
   "cell_type": "code",
   "execution_count": 14,
   "metadata": {},
   "outputs": [
    {
     "name": "stdout",
     "output_type": "stream",
     "text": [
      "50 15 30 5\n",
      "head 1: model.layers.10.self_attn.o_proj 3\n",
      "head 2: model.layers.10.self_attn.o_proj 3\n"
     ]
    },
    {
     "name": "stderr",
     "output_type": "stream",
     "text": [
      "  0%|          | 0/2 [00:00<?, ?it/s]"
     ]
    },
    {
     "name": "stderr",
     "output_type": "stream",
     "text": [
      "100%|██████████| 2/2 [00:09<00:00,  4.69s/it]\n"
     ]
    },
    {
     "name": "stdout",
     "output_type": "stream",
     "text": [
      "Task accuracy: 0.52\n",
      "head 2: model.layers.13.self_attn.o_proj 14\n"
     ]
    },
    {
     "name": "stderr",
     "output_type": "stream",
     "text": [
      "100%|██████████| 2/2 [00:09<00:00,  4.69s/it]\n"
     ]
    },
    {
     "name": "stdout",
     "output_type": "stream",
     "text": [
      "Task accuracy: 0.47\n",
      "head 2: model.layers.9.self_attn.o_proj 2\n"
     ]
    },
    {
     "name": "stderr",
     "output_type": "stream",
     "text": [
      "100%|██████████| 2/2 [00:09<00:00,  4.70s/it]\n"
     ]
    },
    {
     "name": "stdout",
     "output_type": "stream",
     "text": [
      "Task accuracy: 0.46\n",
      "head 2: model.layers.11.self_attn.o_proj 23\n"
     ]
    },
    {
     "name": "stderr",
     "output_type": "stream",
     "text": [
      "100%|██████████| 2/2 [00:09<00:00,  4.73s/it]\n"
     ]
    },
    {
     "name": "stdout",
     "output_type": "stream",
     "text": [
      "Task accuracy: 0.46\n",
      "head 2: model.layers.1.self_attn.o_proj 9\n"
     ]
    },
    {
     "name": "stderr",
     "output_type": "stream",
     "text": [
      "100%|██████████| 2/2 [00:09<00:00,  4.72s/it]\n"
     ]
    },
    {
     "name": "stdout",
     "output_type": "stream",
     "text": [
      "Task accuracy: 0.47\n",
      "head 2: model.layers.9.self_attn.o_proj 7\n"
     ]
    },
    {
     "name": "stderr",
     "output_type": "stream",
     "text": [
      "100%|██████████| 2/2 [00:09<00:00,  4.75s/it]\n"
     ]
    },
    {
     "name": "stdout",
     "output_type": "stream",
     "text": [
      "Task accuracy: 0.48\n",
      "head 2: model.layers.9.self_attn.o_proj 10\n"
     ]
    },
    {
     "name": "stderr",
     "output_type": "stream",
     "text": [
      "100%|██████████| 2/2 [00:09<00:00,  4.72s/it]\n"
     ]
    },
    {
     "name": "stdout",
     "output_type": "stream",
     "text": [
      "Task accuracy: 0.38\n",
      "head 2: model.layers.7.self_attn.o_proj 17\n"
     ]
    },
    {
     "name": "stderr",
     "output_type": "stream",
     "text": [
      "100%|██████████| 2/2 [00:09<00:00,  4.74s/it]\n"
     ]
    },
    {
     "name": "stdout",
     "output_type": "stream",
     "text": [
      "Task accuracy: 0.42\n",
      "head 2: model.layers.4.self_attn.o_proj 4\n"
     ]
    },
    {
     "name": "stderr",
     "output_type": "stream",
     "text": [
      "100%|██████████| 2/2 [00:09<00:00,  4.74s/it]\n"
     ]
    },
    {
     "name": "stdout",
     "output_type": "stream",
     "text": [
      "Task accuracy: 0.48\n",
      "head 2: model.layers.13.self_attn.o_proj 0\n"
     ]
    },
    {
     "name": "stderr",
     "output_type": "stream",
     "text": [
      "100%|██████████| 2/2 [00:09<00:00,  4.74s/it]\n"
     ]
    },
    {
     "name": "stdout",
     "output_type": "stream",
     "text": [
      "Task accuracy: 0.51\n",
      "head 2: model.layers.7.self_attn.o_proj 26\n"
     ]
    },
    {
     "name": "stderr",
     "output_type": "stream",
     "text": [
      "100%|██████████| 2/2 [00:09<00:00,  4.76s/it]\n"
     ]
    },
    {
     "name": "stdout",
     "output_type": "stream",
     "text": [
      "Task accuracy: 0.5\n",
      "head 2: model.layers.11.self_attn.o_proj 24\n"
     ]
    },
    {
     "name": "stderr",
     "output_type": "stream",
     "text": [
      "100%|██████████| 2/2 [00:09<00:00,  4.75s/it]\n"
     ]
    },
    {
     "name": "stdout",
     "output_type": "stream",
     "text": [
      "Task accuracy: 0.5\n",
      "head 2: model.layers.6.self_attn.o_proj 10\n"
     ]
    },
    {
     "name": "stderr",
     "output_type": "stream",
     "text": [
      "100%|██████████| 2/2 [00:09<00:00,  4.75s/it]\n"
     ]
    },
    {
     "name": "stdout",
     "output_type": "stream",
     "text": [
      "Task accuracy: 0.42\n",
      "head 2: model.layers.8.self_attn.o_proj 1\n"
     ]
    },
    {
     "name": "stderr",
     "output_type": "stream",
     "text": [
      "100%|██████████| 2/2 [00:09<00:00,  4.74s/it]\n"
     ]
    },
    {
     "name": "stdout",
     "output_type": "stream",
     "text": [
      "Task accuracy: 0.52\n",
      "head 2: model.layers.5.self_attn.o_proj 7\n"
     ]
    },
    {
     "name": "stderr",
     "output_type": "stream",
     "text": [
      "100%|██████████| 2/2 [00:09<00:00,  4.77s/it]\n"
     ]
    },
    {
     "name": "stdout",
     "output_type": "stream",
     "text": [
      "Task accuracy: 0.5\n",
      "head 2: model.layers.10.self_attn.o_proj 21\n"
     ]
    },
    {
     "name": "stderr",
     "output_type": "stream",
     "text": [
      "100%|██████████| 2/2 [00:09<00:00,  4.74s/it]\n"
     ]
    },
    {
     "name": "stdout",
     "output_type": "stream",
     "text": [
      "Task accuracy: 0.52\n",
      "head 2: model.layers.7.self_attn.o_proj 9\n"
     ]
    },
    {
     "name": "stderr",
     "output_type": "stream",
     "text": [
      "100%|██████████| 2/2 [00:09<00:00,  4.72s/it]\n"
     ]
    },
    {
     "name": "stdout",
     "output_type": "stream",
     "text": [
      "Task accuracy: 0.5\n",
      "head 2: model.layers.9.self_attn.o_proj 15\n"
     ]
    },
    {
     "name": "stderr",
     "output_type": "stream",
     "text": [
      "100%|██████████| 2/2 [00:09<00:00,  4.66s/it]\n"
     ]
    },
    {
     "name": "stdout",
     "output_type": "stream",
     "text": [
      "Task accuracy: 0.52\n",
      "head 2: model.layers.10.self_attn.o_proj 4\n"
     ]
    },
    {
     "name": "stderr",
     "output_type": "stream",
     "text": [
      "100%|██████████| 2/2 [00:09<00:00,  4.69s/it]\n"
     ]
    },
    {
     "name": "stdout",
     "output_type": "stream",
     "text": [
      "Task accuracy: 0.5\n",
      "head 2: model.layers.12.self_attn.o_proj 0\n"
     ]
    },
    {
     "name": "stderr",
     "output_type": "stream",
     "text": [
      "100%|██████████| 2/2 [00:09<00:00,  4.67s/it]\n"
     ]
    },
    {
     "name": "stdout",
     "output_type": "stream",
     "text": [
      "Task accuracy: 0.5\n",
      "head 2: model.layers.12.self_attn.o_proj 23\n"
     ]
    },
    {
     "name": "stderr",
     "output_type": "stream",
     "text": [
      "100%|██████████| 2/2 [00:09<00:00,  4.67s/it]\n"
     ]
    },
    {
     "name": "stdout",
     "output_type": "stream",
     "text": [
      "Task accuracy: 0.52\n",
      "head 2: model.layers.12.self_attn.o_proj 9\n"
     ]
    },
    {
     "name": "stderr",
     "output_type": "stream",
     "text": [
      "100%|██████████| 2/2 [00:09<00:00,  4.75s/it]\n"
     ]
    },
    {
     "name": "stdout",
     "output_type": "stream",
     "text": [
      "Task accuracy: 0.5\n",
      "head 2: model.layers.9.self_attn.o_proj 29\n"
     ]
    },
    {
     "name": "stderr",
     "output_type": "stream",
     "text": [
      "100%|██████████| 2/2 [00:09<00:00,  4.68s/it]\n"
     ]
    },
    {
     "name": "stdout",
     "output_type": "stream",
     "text": [
      "Task accuracy: 0.5\n",
      "head 2: model.layers.6.self_attn.o_proj 23\n"
     ]
    },
    {
     "name": "stderr",
     "output_type": "stream",
     "text": [
      "100%|██████████| 2/2 [00:09<00:00,  4.68s/it]\n"
     ]
    },
    {
     "name": "stdout",
     "output_type": "stream",
     "text": [
      "Task accuracy: 0.49\n",
      "head 2: model.layers.11.self_attn.o_proj 7\n"
     ]
    },
    {
     "name": "stderr",
     "output_type": "stream",
     "text": [
      "100%|██████████| 2/2 [00:09<00:00,  4.70s/it]\n"
     ]
    },
    {
     "name": "stdout",
     "output_type": "stream",
     "text": [
      "Task accuracy: 0.52\n",
      "head 2: model.layers.12.self_attn.o_proj 8\n"
     ]
    },
    {
     "name": "stderr",
     "output_type": "stream",
     "text": [
      "100%|██████████| 2/2 [00:09<00:00,  4.67s/it]\n"
     ]
    },
    {
     "name": "stdout",
     "output_type": "stream",
     "text": [
      "Task accuracy: 0.52\n",
      "head 2: model.layers.1.self_attn.o_proj 22\n"
     ]
    },
    {
     "name": "stderr",
     "output_type": "stream",
     "text": [
      "100%|██████████| 2/2 [00:09<00:00,  4.71s/it]\n"
     ]
    },
    {
     "name": "stdout",
     "output_type": "stream",
     "text": [
      "Task accuracy: 0.47\n",
      "head 2: model.layers.13.self_attn.o_proj 9\n"
     ]
    },
    {
     "name": "stderr",
     "output_type": "stream",
     "text": [
      "100%|██████████| 2/2 [00:09<00:00,  4.73s/it]\n"
     ]
    },
    {
     "name": "stdout",
     "output_type": "stream",
     "text": [
      "Task accuracy: 0.44\n",
      "head 2: model.layers.9.self_attn.o_proj 0\n"
     ]
    },
    {
     "name": "stderr",
     "output_type": "stream",
     "text": [
      "100%|██████████| 2/2 [00:09<00:00,  4.73s/it]\n"
     ]
    },
    {
     "name": "stdout",
     "output_type": "stream",
     "text": [
      "Task accuracy: 0.51\n",
      "head 2: model.layers.12.self_attn.o_proj 16\n"
     ]
    },
    {
     "name": "stderr",
     "output_type": "stream",
     "text": [
      "100%|██████████| 2/2 [00:09<00:00,  4.77s/it]\n"
     ]
    },
    {
     "name": "stdout",
     "output_type": "stream",
     "text": [
      "Task accuracy: 0.52\n",
      "head 1: model.layers.13.self_attn.o_proj 14\n",
      "head 2: model.layers.13.self_attn.o_proj 14\n"
     ]
    },
    {
     "name": "stderr",
     "output_type": "stream",
     "text": [
      "100%|██████████| 2/2 [00:09<00:00,  4.75s/it]\n"
     ]
    },
    {
     "name": "stdout",
     "output_type": "stream",
     "text": [
      "Task accuracy: 0.57\n",
      "head 2: model.layers.9.self_attn.o_proj 2\n"
     ]
    },
    {
     "name": "stderr",
     "output_type": "stream",
     "text": [
      "100%|██████████| 2/2 [00:09<00:00,  4.74s/it]\n"
     ]
    },
    {
     "name": "stdout",
     "output_type": "stream",
     "text": [
      "Task accuracy: 0.56\n",
      "head 2: model.layers.11.self_attn.o_proj 23\n"
     ]
    },
    {
     "name": "stderr",
     "output_type": "stream",
     "text": [
      "100%|██████████| 2/2 [00:09<00:00,  4.73s/it]\n"
     ]
    },
    {
     "name": "stdout",
     "output_type": "stream",
     "text": [
      "Task accuracy: 0.5\n",
      "head 2: model.layers.1.self_attn.o_proj 9\n"
     ]
    },
    {
     "name": "stderr",
     "output_type": "stream",
     "text": [
      "100%|██████████| 2/2 [00:09<00:00,  4.74s/it]\n"
     ]
    },
    {
     "name": "stdout",
     "output_type": "stream",
     "text": [
      "Task accuracy: 0.55\n",
      "head 2: model.layers.9.self_attn.o_proj 7\n"
     ]
    },
    {
     "name": "stderr",
     "output_type": "stream",
     "text": [
      "100%|██████████| 2/2 [00:09<00:00,  4.75s/it]\n"
     ]
    },
    {
     "name": "stdout",
     "output_type": "stream",
     "text": [
      "Task accuracy: 0.55\n",
      "head 2: model.layers.9.self_attn.o_proj 10\n"
     ]
    },
    {
     "name": "stderr",
     "output_type": "stream",
     "text": [
      "100%|██████████| 2/2 [00:09<00:00,  4.75s/it]\n"
     ]
    },
    {
     "name": "stdout",
     "output_type": "stream",
     "text": [
      "Task accuracy: 0.5\n",
      "head 2: model.layers.7.self_attn.o_proj 17\n"
     ]
    },
    {
     "name": "stderr",
     "output_type": "stream",
     "text": [
      "100%|██████████| 2/2 [00:09<00:00,  4.76s/it]\n"
     ]
    },
    {
     "name": "stdout",
     "output_type": "stream",
     "text": [
      "Task accuracy: 0.57\n",
      "head 2: model.layers.4.self_attn.o_proj 4\n"
     ]
    },
    {
     "name": "stderr",
     "output_type": "stream",
     "text": [
      "100%|██████████| 2/2 [00:09<00:00,  4.76s/it]\n"
     ]
    },
    {
     "name": "stdout",
     "output_type": "stream",
     "text": [
      "Task accuracy: 0.52\n",
      "head 2: model.layers.13.self_attn.o_proj 0\n"
     ]
    },
    {
     "name": "stderr",
     "output_type": "stream",
     "text": [
      "100%|██████████| 2/2 [00:09<00:00,  4.76s/it]\n"
     ]
    },
    {
     "name": "stdout",
     "output_type": "stream",
     "text": [
      "Task accuracy: 0.57\n",
      "head 2: model.layers.7.self_attn.o_proj 26\n"
     ]
    },
    {
     "name": "stderr",
     "output_type": "stream",
     "text": [
      "100%|██████████| 2/2 [00:09<00:00,  4.75s/it]\n"
     ]
    },
    {
     "name": "stdout",
     "output_type": "stream",
     "text": [
      "Task accuracy: 0.57\n",
      "head 2: model.layers.11.self_attn.o_proj 24\n"
     ]
    },
    {
     "name": "stderr",
     "output_type": "stream",
     "text": [
      "100%|██████████| 2/2 [00:09<00:00,  4.77s/it]\n"
     ]
    },
    {
     "name": "stdout",
     "output_type": "stream",
     "text": [
      "Task accuracy: 0.57\n",
      "head 2: model.layers.6.self_attn.o_proj 10\n"
     ]
    },
    {
     "name": "stderr",
     "output_type": "stream",
     "text": [
      "100%|██████████| 2/2 [00:09<00:00,  4.75s/it]\n"
     ]
    },
    {
     "name": "stdout",
     "output_type": "stream",
     "text": [
      "Task accuracy: 0.53\n",
      "head 2: model.layers.8.self_attn.o_proj 1\n"
     ]
    },
    {
     "name": "stderr",
     "output_type": "stream",
     "text": [
      "100%|██████████| 2/2 [00:09<00:00,  4.74s/it]\n"
     ]
    },
    {
     "name": "stdout",
     "output_type": "stream",
     "text": [
      "Task accuracy: 0.57\n",
      "head 2: model.layers.5.self_attn.o_proj 7\n"
     ]
    },
    {
     "name": "stderr",
     "output_type": "stream",
     "text": [
      "100%|██████████| 2/2 [00:09<00:00,  4.74s/it]\n"
     ]
    },
    {
     "name": "stdout",
     "output_type": "stream",
     "text": [
      "Task accuracy: 0.57\n",
      "head 2: model.layers.10.self_attn.o_proj 21\n"
     ]
    },
    {
     "name": "stderr",
     "output_type": "stream",
     "text": [
      "100%|██████████| 2/2 [00:09<00:00,  4.74s/it]\n"
     ]
    },
    {
     "name": "stdout",
     "output_type": "stream",
     "text": [
      "Task accuracy: 0.58\n",
      "head 2: model.layers.7.self_attn.o_proj 9\n"
     ]
    },
    {
     "name": "stderr",
     "output_type": "stream",
     "text": [
      "100%|██████████| 2/2 [00:09<00:00,  4.74s/it]\n"
     ]
    },
    {
     "name": "stdout",
     "output_type": "stream",
     "text": [
      "Task accuracy: 0.56\n",
      "head 2: model.layers.9.self_attn.o_proj 15\n"
     ]
    },
    {
     "name": "stderr",
     "output_type": "stream",
     "text": [
      "100%|██████████| 2/2 [00:09<00:00,  4.75s/it]\n"
     ]
    },
    {
     "name": "stdout",
     "output_type": "stream",
     "text": [
      "Task accuracy: 0.57\n",
      "head 2: model.layers.10.self_attn.o_proj 4\n"
     ]
    },
    {
     "name": "stderr",
     "output_type": "stream",
     "text": [
      "100%|██████████| 2/2 [00:09<00:00,  4.73s/it]\n"
     ]
    },
    {
     "name": "stdout",
     "output_type": "stream",
     "text": [
      "Task accuracy: 0.57\n",
      "head 2: model.layers.12.self_attn.o_proj 0\n"
     ]
    },
    {
     "name": "stderr",
     "output_type": "stream",
     "text": [
      "100%|██████████| 2/2 [00:09<00:00,  4.67s/it]\n"
     ]
    },
    {
     "name": "stdout",
     "output_type": "stream",
     "text": [
      "Task accuracy: 0.55\n",
      "head 2: model.layers.12.self_attn.o_proj 23\n"
     ]
    },
    {
     "name": "stderr",
     "output_type": "stream",
     "text": [
      "100%|██████████| 2/2 [00:09<00:00,  4.75s/it]\n"
     ]
    },
    {
     "name": "stdout",
     "output_type": "stream",
     "text": [
      "Task accuracy: 0.57\n",
      "head 2: model.layers.12.self_attn.o_proj 9\n"
     ]
    },
    {
     "name": "stderr",
     "output_type": "stream",
     "text": [
      "100%|██████████| 2/2 [00:09<00:00,  4.73s/it]\n"
     ]
    },
    {
     "name": "stdout",
     "output_type": "stream",
     "text": [
      "Task accuracy: 0.57\n",
      "head 2: model.layers.9.self_attn.o_proj 29\n"
     ]
    },
    {
     "name": "stderr",
     "output_type": "stream",
     "text": [
      "100%|██████████| 2/2 [00:09<00:00,  4.74s/it]\n"
     ]
    },
    {
     "name": "stdout",
     "output_type": "stream",
     "text": [
      "Task accuracy: 0.56\n",
      "head 2: model.layers.6.self_attn.o_proj 23\n"
     ]
    },
    {
     "name": "stderr",
     "output_type": "stream",
     "text": [
      "100%|██████████| 2/2 [00:09<00:00,  4.75s/it]\n"
     ]
    },
    {
     "name": "stdout",
     "output_type": "stream",
     "text": [
      "Task accuracy: 0.57\n",
      "head 2: model.layers.11.self_attn.o_proj 7\n"
     ]
    },
    {
     "name": "stderr",
     "output_type": "stream",
     "text": [
      "100%|██████████| 2/2 [00:09<00:00,  4.75s/it]\n"
     ]
    },
    {
     "name": "stdout",
     "output_type": "stream",
     "text": [
      "Task accuracy: 0.57\n",
      "head 2: model.layers.12.self_attn.o_proj 8\n"
     ]
    },
    {
     "name": "stderr",
     "output_type": "stream",
     "text": [
      "100%|██████████| 2/2 [00:09<00:00,  4.79s/it]\n"
     ]
    },
    {
     "name": "stdout",
     "output_type": "stream",
     "text": [
      "Task accuracy: 0.57\n",
      "head 2: model.layers.1.self_attn.o_proj 22\n"
     ]
    },
    {
     "name": "stderr",
     "output_type": "stream",
     "text": [
      "100%|██████████| 2/2 [00:09<00:00,  4.74s/it]\n"
     ]
    },
    {
     "name": "stdout",
     "output_type": "stream",
     "text": [
      "Task accuracy: 0.54\n",
      "head 2: model.layers.13.self_attn.o_proj 9\n"
     ]
    },
    {
     "name": "stderr",
     "output_type": "stream",
     "text": [
      "100%|██████████| 2/2 [00:09<00:00,  4.73s/it]\n"
     ]
    },
    {
     "name": "stdout",
     "output_type": "stream",
     "text": [
      "Task accuracy: 0.52\n",
      "head 2: model.layers.9.self_attn.o_proj 0\n"
     ]
    },
    {
     "name": "stderr",
     "output_type": "stream",
     "text": [
      "100%|██████████| 2/2 [00:09<00:00,  4.72s/it]\n"
     ]
    },
    {
     "name": "stdout",
     "output_type": "stream",
     "text": [
      "Task accuracy: 0.57\n",
      "head 2: model.layers.12.self_attn.o_proj 16\n"
     ]
    },
    {
     "name": "stderr",
     "output_type": "stream",
     "text": [
      "100%|██████████| 2/2 [00:09<00:00,  4.72s/it]\n"
     ]
    },
    {
     "name": "stdout",
     "output_type": "stream",
     "text": [
      "Task accuracy: 0.57\n",
      "head 1: model.layers.9.self_attn.o_proj 2\n",
      "head 2: model.layers.9.self_attn.o_proj 2\n"
     ]
    },
    {
     "name": "stderr",
     "output_type": "stream",
     "text": [
      "100%|██████████| 2/2 [00:09<00:00,  4.73s/it]\n"
     ]
    },
    {
     "name": "stdout",
     "output_type": "stream",
     "text": [
      "Task accuracy: 0.6\n",
      "head 2: model.layers.11.self_attn.o_proj 23\n"
     ]
    },
    {
     "name": "stderr",
     "output_type": "stream",
     "text": [
      "100%|██████████| 2/2 [00:09<00:00,  4.73s/it]\n"
     ]
    },
    {
     "name": "stdout",
     "output_type": "stream",
     "text": [
      "Task accuracy: 0.54\n",
      "head 2: model.layers.1.self_attn.o_proj 9\n"
     ]
    },
    {
     "name": "stderr",
     "output_type": "stream",
     "text": [
      "100%|██████████| 2/2 [00:09<00:00,  4.74s/it]\n"
     ]
    },
    {
     "name": "stdout",
     "output_type": "stream",
     "text": [
      "Task accuracy: 0.59\n",
      "head 2: model.layers.9.self_attn.o_proj 7\n"
     ]
    },
    {
     "name": "stderr",
     "output_type": "stream",
     "text": [
      "100%|██████████| 2/2 [00:09<00:00,  4.72s/it]\n"
     ]
    },
    {
     "name": "stdout",
     "output_type": "stream",
     "text": [
      "Task accuracy: 0.59\n",
      "head 2: model.layers.9.self_attn.o_proj 10\n"
     ]
    },
    {
     "name": "stderr",
     "output_type": "stream",
     "text": [
      "100%|██████████| 2/2 [00:09<00:00,  4.71s/it]\n"
     ]
    },
    {
     "name": "stdout",
     "output_type": "stream",
     "text": [
      "Task accuracy: 0.53\n",
      "head 2: model.layers.7.self_attn.o_proj 17\n"
     ]
    },
    {
     "name": "stderr",
     "output_type": "stream",
     "text": [
      "100%|██████████| 2/2 [00:09<00:00,  4.73s/it]\n"
     ]
    },
    {
     "name": "stdout",
     "output_type": "stream",
     "text": [
      "Task accuracy: 0.58\n",
      "head 2: model.layers.4.self_attn.o_proj 4\n"
     ]
    },
    {
     "name": "stderr",
     "output_type": "stream",
     "text": [
      "100%|██████████| 2/2 [00:09<00:00,  4.73s/it]\n"
     ]
    },
    {
     "name": "stdout",
     "output_type": "stream",
     "text": [
      "Task accuracy: 0.56\n",
      "head 2: model.layers.13.self_attn.o_proj 0\n"
     ]
    },
    {
     "name": "stderr",
     "output_type": "stream",
     "text": [
      "100%|██████████| 2/2 [00:09<00:00,  4.72s/it]\n"
     ]
    },
    {
     "name": "stdout",
     "output_type": "stream",
     "text": [
      "Task accuracy: 0.59\n",
      "head 2: model.layers.7.self_attn.o_proj 26\n"
     ]
    },
    {
     "name": "stderr",
     "output_type": "stream",
     "text": [
      "100%|██████████| 2/2 [00:09<00:00,  4.72s/it]\n"
     ]
    },
    {
     "name": "stdout",
     "output_type": "stream",
     "text": [
      "Task accuracy: 0.62\n",
      "head 2: model.layers.11.self_attn.o_proj 24\n"
     ]
    },
    {
     "name": "stderr",
     "output_type": "stream",
     "text": [
      "100%|██████████| 2/2 [00:09<00:00,  4.73s/it]\n"
     ]
    },
    {
     "name": "stdout",
     "output_type": "stream",
     "text": [
      "Task accuracy: 0.6\n",
      "head 2: model.layers.6.self_attn.o_proj 10\n"
     ]
    },
    {
     "name": "stderr",
     "output_type": "stream",
     "text": [
      "100%|██████████| 2/2 [00:09<00:00,  4.70s/it]\n"
     ]
    },
    {
     "name": "stdout",
     "output_type": "stream",
     "text": [
      "Task accuracy: 0.56\n",
      "head 2: model.layers.8.self_attn.o_proj 1\n"
     ]
    },
    {
     "name": "stderr",
     "output_type": "stream",
     "text": [
      "100%|██████████| 2/2 [00:09<00:00,  4.71s/it]\n"
     ]
    },
    {
     "name": "stdout",
     "output_type": "stream",
     "text": [
      "Task accuracy: 0.61\n",
      "head 2: model.layers.5.self_attn.o_proj 7\n"
     ]
    },
    {
     "name": "stderr",
     "output_type": "stream",
     "text": [
      "100%|██████████| 2/2 [00:09<00:00,  4.72s/it]\n"
     ]
    },
    {
     "name": "stdout",
     "output_type": "stream",
     "text": [
      "Task accuracy: 0.6\n",
      "head 2: model.layers.10.self_attn.o_proj 21\n"
     ]
    },
    {
     "name": "stderr",
     "output_type": "stream",
     "text": [
      "100%|██████████| 2/2 [00:09<00:00,  4.73s/it]\n"
     ]
    },
    {
     "name": "stdout",
     "output_type": "stream",
     "text": [
      "Task accuracy: 0.6\n",
      "head 2: model.layers.7.self_attn.o_proj 9\n"
     ]
    },
    {
     "name": "stderr",
     "output_type": "stream",
     "text": [
      "100%|██████████| 2/2 [00:09<00:00,  4.75s/it]\n"
     ]
    },
    {
     "name": "stdout",
     "output_type": "stream",
     "text": [
      "Task accuracy: 0.58\n",
      "head 2: model.layers.9.self_attn.o_proj 15\n"
     ]
    },
    {
     "name": "stderr",
     "output_type": "stream",
     "text": [
      "100%|██████████| 2/2 [00:09<00:00,  4.74s/it]\n"
     ]
    },
    {
     "name": "stdout",
     "output_type": "stream",
     "text": [
      "Task accuracy: 0.6\n",
      "head 2: model.layers.10.self_attn.o_proj 4\n"
     ]
    },
    {
     "name": "stderr",
     "output_type": "stream",
     "text": [
      "100%|██████████| 2/2 [00:09<00:00,  4.74s/it]\n"
     ]
    },
    {
     "name": "stdout",
     "output_type": "stream",
     "text": [
      "Task accuracy: 0.62\n",
      "head 2: model.layers.12.self_attn.o_proj 0\n"
     ]
    },
    {
     "name": "stderr",
     "output_type": "stream",
     "text": [
      "100%|██████████| 2/2 [00:09<00:00,  4.74s/it]\n"
     ]
    },
    {
     "name": "stdout",
     "output_type": "stream",
     "text": [
      "Task accuracy: 0.6\n",
      "head 2: model.layers.12.self_attn.o_proj 23\n"
     ]
    },
    {
     "name": "stderr",
     "output_type": "stream",
     "text": [
      "100%|██████████| 2/2 [00:09<00:00,  4.73s/it]\n"
     ]
    },
    {
     "name": "stdout",
     "output_type": "stream",
     "text": [
      "Task accuracy: 0.6\n",
      "head 2: model.layers.12.self_attn.o_proj 9\n"
     ]
    },
    {
     "name": "stderr",
     "output_type": "stream",
     "text": [
      "100%|██████████| 2/2 [00:09<00:00,  4.75s/it]\n"
     ]
    },
    {
     "name": "stdout",
     "output_type": "stream",
     "text": [
      "Task accuracy: 0.6\n",
      "head 2: model.layers.9.self_attn.o_proj 29\n"
     ]
    },
    {
     "name": "stderr",
     "output_type": "stream",
     "text": [
      "100%|██████████| 2/2 [00:09<00:00,  4.74s/it]\n"
     ]
    },
    {
     "name": "stdout",
     "output_type": "stream",
     "text": [
      "Task accuracy: 0.59\n",
      "head 2: model.layers.6.self_attn.o_proj 23\n"
     ]
    },
    {
     "name": "stderr",
     "output_type": "stream",
     "text": [
      "100%|██████████| 2/2 [00:09<00:00,  4.77s/it]\n"
     ]
    },
    {
     "name": "stdout",
     "output_type": "stream",
     "text": [
      "Task accuracy: 0.6\n",
      "head 2: model.layers.11.self_attn.o_proj 7\n"
     ]
    },
    {
     "name": "stderr",
     "output_type": "stream",
     "text": [
      "100%|██████████| 2/2 [00:09<00:00,  4.75s/it]\n"
     ]
    },
    {
     "name": "stdout",
     "output_type": "stream",
     "text": [
      "Task accuracy: 0.6\n",
      "head 2: model.layers.12.self_attn.o_proj 8\n"
     ]
    },
    {
     "name": "stderr",
     "output_type": "stream",
     "text": [
      "100%|██████████| 2/2 [00:09<00:00,  4.74s/it]\n"
     ]
    },
    {
     "name": "stdout",
     "output_type": "stream",
     "text": [
      "Task accuracy: 0.61\n",
      "head 2: model.layers.1.self_attn.o_proj 22\n"
     ]
    },
    {
     "name": "stderr",
     "output_type": "stream",
     "text": [
      "100%|██████████| 2/2 [00:09<00:00,  4.77s/it]\n"
     ]
    },
    {
     "name": "stdout",
     "output_type": "stream",
     "text": [
      "Task accuracy: 0.56\n",
      "head 2: model.layers.13.self_attn.o_proj 9\n"
     ]
    },
    {
     "name": "stderr",
     "output_type": "stream",
     "text": [
      "100%|██████████| 2/2 [00:09<00:00,  4.74s/it]\n"
     ]
    },
    {
     "name": "stdout",
     "output_type": "stream",
     "text": [
      "Task accuracy: 0.57\n",
      "head 2: model.layers.9.self_attn.o_proj 0\n"
     ]
    },
    {
     "name": "stderr",
     "output_type": "stream",
     "text": [
      "100%|██████████| 2/2 [00:09<00:00,  4.79s/it]\n"
     ]
    },
    {
     "name": "stdout",
     "output_type": "stream",
     "text": [
      "Task accuracy: 0.6\n",
      "head 2: model.layers.12.self_attn.o_proj 16\n"
     ]
    },
    {
     "name": "stderr",
     "output_type": "stream",
     "text": [
      "100%|██████████| 2/2 [00:09<00:00,  4.74s/it]\n"
     ]
    },
    {
     "name": "stdout",
     "output_type": "stream",
     "text": [
      "Task accuracy: 0.6\n",
      "head 1: model.layers.11.self_attn.o_proj 23\n",
      "head 2: model.layers.11.self_attn.o_proj 23\n"
     ]
    },
    {
     "name": "stderr",
     "output_type": "stream",
     "text": [
      "100%|██████████| 2/2 [00:09<00:00,  4.76s/it]\n"
     ]
    },
    {
     "name": "stdout",
     "output_type": "stream",
     "text": [
      "Task accuracy: 0.56\n",
      "head 2: model.layers.1.self_attn.o_proj 9\n"
     ]
    },
    {
     "name": "stderr",
     "output_type": "stream",
     "text": [
      "100%|██████████| 2/2 [00:09<00:00,  4.73s/it]\n"
     ]
    },
    {
     "name": "stdout",
     "output_type": "stream",
     "text": [
      "Task accuracy: 0.55\n",
      "head 2: model.layers.9.self_attn.o_proj 7\n"
     ]
    },
    {
     "name": "stderr",
     "output_type": "stream",
     "text": [
      "100%|██████████| 2/2 [00:09<00:00,  4.74s/it]\n"
     ]
    },
    {
     "name": "stdout",
     "output_type": "stream",
     "text": [
      "Task accuracy: 0.54\n",
      "head 2: model.layers.9.self_attn.o_proj 10\n"
     ]
    },
    {
     "name": "stderr",
     "output_type": "stream",
     "text": [
      "100%|██████████| 2/2 [00:09<00:00,  4.74s/it]\n"
     ]
    },
    {
     "name": "stdout",
     "output_type": "stream",
     "text": [
      "Task accuracy: 0.5\n",
      "head 2: model.layers.7.self_attn.o_proj 17\n"
     ]
    },
    {
     "name": "stderr",
     "output_type": "stream",
     "text": [
      "100%|██████████| 2/2 [00:09<00:00,  4.73s/it]\n"
     ]
    },
    {
     "name": "stdout",
     "output_type": "stream",
     "text": [
      "Task accuracy: 0.53\n",
      "head 2: model.layers.4.self_attn.o_proj 4\n"
     ]
    },
    {
     "name": "stderr",
     "output_type": "stream",
     "text": [
      "100%|██████████| 2/2 [00:09<00:00,  4.71s/it]\n"
     ]
    },
    {
     "name": "stdout",
     "output_type": "stream",
     "text": [
      "Task accuracy: 0.52\n",
      "head 2: model.layers.13.self_attn.o_proj 0\n"
     ]
    },
    {
     "name": "stderr",
     "output_type": "stream",
     "text": [
      "100%|██████████| 2/2 [00:09<00:00,  4.74s/it]\n"
     ]
    },
    {
     "name": "stdout",
     "output_type": "stream",
     "text": [
      "Task accuracy: 0.55\n",
      "head 2: model.layers.7.self_attn.o_proj 26\n"
     ]
    },
    {
     "name": "stderr",
     "output_type": "stream",
     "text": [
      "100%|██████████| 2/2 [00:09<00:00,  4.72s/it]\n"
     ]
    },
    {
     "name": "stdout",
     "output_type": "stream",
     "text": [
      "Task accuracy: 0.54\n",
      "head 2: model.layers.11.self_attn.o_proj 24\n"
     ]
    },
    {
     "name": "stderr",
     "output_type": "stream",
     "text": [
      "100%|██████████| 2/2 [00:09<00:00,  4.72s/it]\n"
     ]
    },
    {
     "name": "stdout",
     "output_type": "stream",
     "text": [
      "Task accuracy: 0.54\n",
      "head 2: model.layers.6.self_attn.o_proj 10\n"
     ]
    },
    {
     "name": "stderr",
     "output_type": "stream",
     "text": [
      "100%|██████████| 2/2 [00:09<00:00,  4.71s/it]\n"
     ]
    },
    {
     "name": "stdout",
     "output_type": "stream",
     "text": [
      "Task accuracy: 0.52\n",
      "head 2: model.layers.8.self_attn.o_proj 1\n"
     ]
    },
    {
     "name": "stderr",
     "output_type": "stream",
     "text": [
      "100%|██████████| 2/2 [00:09<00:00,  4.66s/it]\n"
     ]
    },
    {
     "name": "stdout",
     "output_type": "stream",
     "text": [
      "Task accuracy: 0.56\n",
      "head 2: model.layers.5.self_attn.o_proj 7\n"
     ]
    },
    {
     "name": "stderr",
     "output_type": "stream",
     "text": [
      "100%|██████████| 2/2 [00:09<00:00,  4.66s/it]\n"
     ]
    },
    {
     "name": "stdout",
     "output_type": "stream",
     "text": [
      "Task accuracy: 0.54\n",
      "head 2: model.layers.10.self_attn.o_proj 21\n"
     ]
    },
    {
     "name": "stderr",
     "output_type": "stream",
     "text": [
      "100%|██████████| 2/2 [00:09<00:00,  4.66s/it]\n"
     ]
    },
    {
     "name": "stdout",
     "output_type": "stream",
     "text": [
      "Task accuracy: 0.56\n",
      "head 2: model.layers.7.self_attn.o_proj 9\n"
     ]
    },
    {
     "name": "stderr",
     "output_type": "stream",
     "text": [
      "100%|██████████| 2/2 [00:09<00:00,  4.67s/it]\n"
     ]
    },
    {
     "name": "stdout",
     "output_type": "stream",
     "text": [
      "Task accuracy: 0.56\n",
      "head 2: model.layers.9.self_attn.o_proj 15\n"
     ]
    },
    {
     "name": "stderr",
     "output_type": "stream",
     "text": [
      "100%|██████████| 2/2 [00:09<00:00,  4.73s/it]\n"
     ]
    },
    {
     "name": "stdout",
     "output_type": "stream",
     "text": [
      "Task accuracy: 0.56\n",
      "head 2: model.layers.10.self_attn.o_proj 4\n"
     ]
    },
    {
     "name": "stderr",
     "output_type": "stream",
     "text": [
      "100%|██████████| 2/2 [00:09<00:00,  4.73s/it]\n"
     ]
    },
    {
     "name": "stdout",
     "output_type": "stream",
     "text": [
      "Task accuracy: 0.54\n",
      "head 2: model.layers.12.self_attn.o_proj 0\n"
     ]
    },
    {
     "name": "stderr",
     "output_type": "stream",
     "text": [
      "100%|██████████| 2/2 [00:09<00:00,  4.73s/it]\n"
     ]
    },
    {
     "name": "stdout",
     "output_type": "stream",
     "text": [
      "Task accuracy: 0.54\n",
      "head 2: model.layers.12.self_attn.o_proj 23\n"
     ]
    },
    {
     "name": "stderr",
     "output_type": "stream",
     "text": [
      "100%|██████████| 2/2 [00:09<00:00,  4.71s/it]\n"
     ]
    },
    {
     "name": "stdout",
     "output_type": "stream",
     "text": [
      "Task accuracy: 0.56\n",
      "head 2: model.layers.12.self_attn.o_proj 9\n"
     ]
    },
    {
     "name": "stderr",
     "output_type": "stream",
     "text": [
      "100%|██████████| 2/2 [00:09<00:00,  4.73s/it]\n"
     ]
    },
    {
     "name": "stdout",
     "output_type": "stream",
     "text": [
      "Task accuracy: 0.55\n",
      "head 2: model.layers.9.self_attn.o_proj 29\n"
     ]
    },
    {
     "name": "stderr",
     "output_type": "stream",
     "text": [
      "100%|██████████| 2/2 [00:09<00:00,  4.73s/it]\n"
     ]
    },
    {
     "name": "stdout",
     "output_type": "stream",
     "text": [
      "Task accuracy: 0.56\n",
      "head 2: model.layers.6.self_attn.o_proj 23\n"
     ]
    },
    {
     "name": "stderr",
     "output_type": "stream",
     "text": [
      "100%|██████████| 2/2 [00:09<00:00,  4.73s/it]\n"
     ]
    },
    {
     "name": "stdout",
     "output_type": "stream",
     "text": [
      "Task accuracy: 0.56\n",
      "head 2: model.layers.11.self_attn.o_proj 7\n"
     ]
    },
    {
     "name": "stderr",
     "output_type": "stream",
     "text": [
      "100%|██████████| 2/2 [00:09<00:00,  4.72s/it]\n"
     ]
    },
    {
     "name": "stdout",
     "output_type": "stream",
     "text": [
      "Task accuracy: 0.56\n",
      "head 2: model.layers.12.self_attn.o_proj 8\n"
     ]
    },
    {
     "name": "stderr",
     "output_type": "stream",
     "text": [
      "100%|██████████| 2/2 [00:09<00:00,  4.72s/it]\n"
     ]
    },
    {
     "name": "stdout",
     "output_type": "stream",
     "text": [
      "Task accuracy: 0.55\n",
      "head 2: model.layers.1.self_attn.o_proj 22\n"
     ]
    },
    {
     "name": "stderr",
     "output_type": "stream",
     "text": [
      "100%|██████████| 2/2 [00:09<00:00,  4.72s/it]\n"
     ]
    },
    {
     "name": "stdout",
     "output_type": "stream",
     "text": [
      "Task accuracy: 0.55\n",
      "head 2: model.layers.13.self_attn.o_proj 9\n"
     ]
    },
    {
     "name": "stderr",
     "output_type": "stream",
     "text": [
      "100%|██████████| 2/2 [00:09<00:00,  4.68s/it]\n"
     ]
    },
    {
     "name": "stdout",
     "output_type": "stream",
     "text": [
      "Task accuracy: 0.51\n",
      "head 2: model.layers.9.self_attn.o_proj 0\n"
     ]
    },
    {
     "name": "stderr",
     "output_type": "stream",
     "text": [
      "100%|██████████| 2/2 [00:09<00:00,  4.67s/it]\n"
     ]
    },
    {
     "name": "stdout",
     "output_type": "stream",
     "text": [
      "Task accuracy: 0.55\n",
      "head 2: model.layers.12.self_attn.o_proj 16\n"
     ]
    },
    {
     "name": "stderr",
     "output_type": "stream",
     "text": [
      "100%|██████████| 2/2 [00:09<00:00,  4.74s/it]\n"
     ]
    },
    {
     "name": "stdout",
     "output_type": "stream",
     "text": [
      "Task accuracy: 0.56\n",
      "head 1: model.layers.1.self_attn.o_proj 9\n",
      "head 2: model.layers.1.self_attn.o_proj 9\n"
     ]
    },
    {
     "name": "stderr",
     "output_type": "stream",
     "text": [
      "100%|██████████| 2/2 [00:09<00:00,  4.70s/it]\n"
     ]
    },
    {
     "name": "stdout",
     "output_type": "stream",
     "text": [
      "Task accuracy: 0.54\n",
      "head 2: model.layers.9.self_attn.o_proj 7\n"
     ]
    },
    {
     "name": "stderr",
     "output_type": "stream",
     "text": [
      "100%|██████████| 2/2 [00:09<00:00,  4.72s/it]\n"
     ]
    },
    {
     "name": "stdout",
     "output_type": "stream",
     "text": [
      "Task accuracy: 0.55\n",
      "head 2: model.layers.9.self_attn.o_proj 10\n"
     ]
    },
    {
     "name": "stderr",
     "output_type": "stream",
     "text": [
      "100%|██████████| 2/2 [00:09<00:00,  4.78s/it]\n"
     ]
    },
    {
     "name": "stdout",
     "output_type": "stream",
     "text": [
      "Task accuracy: 0.47\n",
      "head 2: model.layers.7.self_attn.o_proj 17\n"
     ]
    },
    {
     "name": "stderr",
     "output_type": "stream",
     "text": [
      "100%|██████████| 2/2 [00:09<00:00,  4.75s/it]\n"
     ]
    },
    {
     "name": "stdout",
     "output_type": "stream",
     "text": [
      "Task accuracy: 0.53\n",
      "head 2: model.layers.4.self_attn.o_proj 4\n"
     ]
    },
    {
     "name": "stderr",
     "output_type": "stream",
     "text": [
      "100%|██████████| 2/2 [00:09<00:00,  4.75s/it]\n"
     ]
    },
    {
     "name": "stdout",
     "output_type": "stream",
     "text": [
      "Task accuracy: 0.51\n",
      "head 2: model.layers.13.self_attn.o_proj 0\n"
     ]
    },
    {
     "name": "stderr",
     "output_type": "stream",
     "text": [
      "100%|██████████| 2/2 [00:09<00:00,  4.74s/it]\n"
     ]
    },
    {
     "name": "stdout",
     "output_type": "stream",
     "text": [
      "Task accuracy: 0.55\n",
      "head 2: model.layers.7.self_attn.o_proj 26\n"
     ]
    },
    {
     "name": "stderr",
     "output_type": "stream",
     "text": [
      "100%|██████████| 2/2 [00:09<00:00,  4.68s/it]\n"
     ]
    },
    {
     "name": "stdout",
     "output_type": "stream",
     "text": [
      "Task accuracy: 0.57\n",
      "head 2: model.layers.11.self_attn.o_proj 24\n"
     ]
    },
    {
     "name": "stderr",
     "output_type": "stream",
     "text": [
      "100%|██████████| 2/2 [00:09<00:00,  4.67s/it]\n"
     ]
    },
    {
     "name": "stdout",
     "output_type": "stream",
     "text": [
      "Task accuracy: 0.56\n",
      "head 2: model.layers.6.self_attn.o_proj 10\n"
     ]
    },
    {
     "name": "stderr",
     "output_type": "stream",
     "text": [
      "100%|██████████| 2/2 [00:09<00:00,  4.67s/it]\n"
     ]
    },
    {
     "name": "stdout",
     "output_type": "stream",
     "text": [
      "Task accuracy: 0.58\n",
      "head 2: model.layers.8.self_attn.o_proj 1\n"
     ]
    },
    {
     "name": "stderr",
     "output_type": "stream",
     "text": [
      "100%|██████████| 2/2 [00:09<00:00,  4.72s/it]\n"
     ]
    },
    {
     "name": "stdout",
     "output_type": "stream",
     "text": [
      "Task accuracy: 0.54\n",
      "head 2: model.layers.5.self_attn.o_proj 7\n"
     ]
    },
    {
     "name": "stderr",
     "output_type": "stream",
     "text": [
      "100%|██████████| 2/2 [00:09<00:00,  4.74s/it]\n"
     ]
    },
    {
     "name": "stdout",
     "output_type": "stream",
     "text": [
      "Task accuracy: 0.54\n",
      "head 2: model.layers.10.self_attn.o_proj 21\n"
     ]
    },
    {
     "name": "stderr",
     "output_type": "stream",
     "text": [
      "100%|██████████| 2/2 [00:09<00:00,  4.73s/it]\n"
     ]
    },
    {
     "name": "stdout",
     "output_type": "stream",
     "text": [
      "Task accuracy: 0.55\n",
      "head 2: model.layers.7.self_attn.o_proj 9\n"
     ]
    },
    {
     "name": "stderr",
     "output_type": "stream",
     "text": [
      "100%|██████████| 2/2 [00:09<00:00,  4.73s/it]\n"
     ]
    },
    {
     "name": "stdout",
     "output_type": "stream",
     "text": [
      "Task accuracy: 0.54\n",
      "head 2: model.layers.9.self_attn.o_proj 15\n"
     ]
    },
    {
     "name": "stderr",
     "output_type": "stream",
     "text": [
      "100%|██████████| 2/2 [00:09<00:00,  4.72s/it]\n"
     ]
    },
    {
     "name": "stdout",
     "output_type": "stream",
     "text": [
      "Task accuracy: 0.54\n",
      "head 2: model.layers.10.self_attn.o_proj 4\n"
     ]
    },
    {
     "name": "stderr",
     "output_type": "stream",
     "text": [
      "100%|██████████| 2/2 [00:09<00:00,  4.74s/it]\n"
     ]
    },
    {
     "name": "stdout",
     "output_type": "stream",
     "text": [
      "Task accuracy: 0.57\n",
      "head 2: model.layers.12.self_attn.o_proj 0\n"
     ]
    },
    {
     "name": "stderr",
     "output_type": "stream",
     "text": [
      "100%|██████████| 2/2 [00:09<00:00,  4.74s/it]\n"
     ]
    },
    {
     "name": "stdout",
     "output_type": "stream",
     "text": [
      "Task accuracy: 0.55\n",
      "head 2: model.layers.12.self_attn.o_proj 23\n"
     ]
    },
    {
     "name": "stderr",
     "output_type": "stream",
     "text": [
      "100%|██████████| 2/2 [00:09<00:00,  4.75s/it]\n"
     ]
    },
    {
     "name": "stdout",
     "output_type": "stream",
     "text": [
      "Task accuracy: 0.55\n",
      "head 2: model.layers.12.self_attn.o_proj 9\n"
     ]
    },
    {
     "name": "stderr",
     "output_type": "stream",
     "text": [
      "100%|██████████| 2/2 [00:09<00:00,  4.74s/it]\n"
     ]
    },
    {
     "name": "stdout",
     "output_type": "stream",
     "text": [
      "Task accuracy: 0.54\n",
      "head 2: model.layers.9.self_attn.o_proj 29\n"
     ]
    },
    {
     "name": "stderr",
     "output_type": "stream",
     "text": [
      "100%|██████████| 2/2 [00:09<00:00,  4.74s/it]\n"
     ]
    },
    {
     "name": "stdout",
     "output_type": "stream",
     "text": [
      "Task accuracy: 0.52\n",
      "head 2: model.layers.6.self_attn.o_proj 23\n"
     ]
    },
    {
     "name": "stderr",
     "output_type": "stream",
     "text": [
      "100%|██████████| 2/2 [00:09<00:00,  4.72s/it]\n"
     ]
    },
    {
     "name": "stdout",
     "output_type": "stream",
     "text": [
      "Task accuracy: 0.54\n",
      "head 2: model.layers.11.self_attn.o_proj 7\n"
     ]
    },
    {
     "name": "stderr",
     "output_type": "stream",
     "text": [
      "100%|██████████| 2/2 [00:09<00:00,  4.75s/it]\n"
     ]
    },
    {
     "name": "stdout",
     "output_type": "stream",
     "text": [
      "Task accuracy: 0.54\n",
      "head 2: model.layers.12.self_attn.o_proj 8\n"
     ]
    },
    {
     "name": "stderr",
     "output_type": "stream",
     "text": [
      "100%|██████████| 2/2 [00:09<00:00,  4.74s/it]\n"
     ]
    },
    {
     "name": "stdout",
     "output_type": "stream",
     "text": [
      "Task accuracy: 0.55\n",
      "head 2: model.layers.1.self_attn.o_proj 22\n"
     ]
    },
    {
     "name": "stderr",
     "output_type": "stream",
     "text": [
      "100%|██████████| 2/2 [00:09<00:00,  4.73s/it]\n"
     ]
    },
    {
     "name": "stdout",
     "output_type": "stream",
     "text": [
      "Task accuracy: 0.5\n",
      "head 2: model.layers.13.self_attn.o_proj 9\n"
     ]
    },
    {
     "name": "stderr",
     "output_type": "stream",
     "text": [
      "100%|██████████| 2/2 [00:09<00:00,  4.73s/it]\n"
     ]
    },
    {
     "name": "stdout",
     "output_type": "stream",
     "text": [
      "Task accuracy: 0.54\n",
      "head 2: model.layers.9.self_attn.o_proj 0\n"
     ]
    },
    {
     "name": "stderr",
     "output_type": "stream",
     "text": [
      "100%|██████████| 2/2 [00:09<00:00,  4.74s/it]\n"
     ]
    },
    {
     "name": "stdout",
     "output_type": "stream",
     "text": [
      "Task accuracy: 0.55\n",
      "head 2: model.layers.12.self_attn.o_proj 16\n"
     ]
    },
    {
     "name": "stderr",
     "output_type": "stream",
     "text": [
      "100%|██████████| 2/2 [00:09<00:00,  4.72s/it]\n"
     ]
    },
    {
     "name": "stdout",
     "output_type": "stream",
     "text": [
      "Task accuracy: 0.54\n",
      "head 1: model.layers.9.self_attn.o_proj 7\n",
      "head 2: model.layers.9.self_attn.o_proj 7\n"
     ]
    },
    {
     "name": "stderr",
     "output_type": "stream",
     "text": [
      "100%|██████████| 2/2 [00:09<00:00,  4.71s/it]\n"
     ]
    },
    {
     "name": "stdout",
     "output_type": "stream",
     "text": [
      "Task accuracy: 0.6\n",
      "head 2: model.layers.9.self_attn.o_proj 10\n"
     ]
    },
    {
     "name": "stderr",
     "output_type": "stream",
     "text": [
      "100%|██████████| 2/2 [00:09<00:00,  4.69s/it]\n"
     ]
    },
    {
     "name": "stdout",
     "output_type": "stream",
     "text": [
      "Task accuracy: 0.51\n",
      "head 2: model.layers.7.self_attn.o_proj 17\n"
     ]
    },
    {
     "name": "stderr",
     "output_type": "stream",
     "text": [
      "100%|██████████| 2/2 [00:09<00:00,  4.75s/it]\n"
     ]
    },
    {
     "name": "stdout",
     "output_type": "stream",
     "text": [
      "Task accuracy: 0.58\n",
      "head 2: model.layers.4.self_attn.o_proj 4\n"
     ]
    },
    {
     "name": "stderr",
     "output_type": "stream",
     "text": [
      "100%|██████████| 2/2 [00:09<00:00,  4.75s/it]\n"
     ]
    },
    {
     "name": "stdout",
     "output_type": "stream",
     "text": [
      "Task accuracy: 0.55\n",
      "head 2: model.layers.13.self_attn.o_proj 0\n"
     ]
    },
    {
     "name": "stderr",
     "output_type": "stream",
     "text": [
      "100%|██████████| 2/2 [00:09<00:00,  4.74s/it]\n"
     ]
    },
    {
     "name": "stdout",
     "output_type": "stream",
     "text": [
      "Task accuracy: 0.58\n",
      "head 2: model.layers.7.self_attn.o_proj 26\n"
     ]
    },
    {
     "name": "stderr",
     "output_type": "stream",
     "text": [
      "100%|██████████| 2/2 [00:09<00:00,  4.76s/it]\n"
     ]
    },
    {
     "name": "stdout",
     "output_type": "stream",
     "text": [
      "Task accuracy: 0.6\n",
      "head 2: model.layers.11.self_attn.o_proj 24\n"
     ]
    },
    {
     "name": "stderr",
     "output_type": "stream",
     "text": [
      "100%|██████████| 2/2 [00:09<00:00,  4.77s/it]\n"
     ]
    },
    {
     "name": "stdout",
     "output_type": "stream",
     "text": [
      "Task accuracy: 0.6\n",
      "head 2: model.layers.6.self_attn.o_proj 10\n"
     ]
    },
    {
     "name": "stderr",
     "output_type": "stream",
     "text": [
      "100%|██████████| 2/2 [00:09<00:00,  4.81s/it]\n"
     ]
    },
    {
     "name": "stdout",
     "output_type": "stream",
     "text": [
      "Task accuracy: 0.54\n",
      "head 2: model.layers.8.self_attn.o_proj 1\n"
     ]
    },
    {
     "name": "stderr",
     "output_type": "stream",
     "text": [
      "100%|██████████| 2/2 [00:09<00:00,  4.74s/it]\n"
     ]
    },
    {
     "name": "stdout",
     "output_type": "stream",
     "text": [
      "Task accuracy: 0.6\n",
      "head 2: model.layers.5.self_attn.o_proj 7\n"
     ]
    },
    {
     "name": "stderr",
     "output_type": "stream",
     "text": [
      "100%|██████████| 2/2 [00:09<00:00,  4.74s/it]\n"
     ]
    },
    {
     "name": "stdout",
     "output_type": "stream",
     "text": [
      "Task accuracy: 0.6\n",
      "head 2: model.layers.10.self_attn.o_proj 21\n"
     ]
    },
    {
     "name": "stderr",
     "output_type": "stream",
     "text": [
      "100%|██████████| 2/2 [00:09<00:00,  4.74s/it]\n"
     ]
    },
    {
     "name": "stdout",
     "output_type": "stream",
     "text": [
      "Task accuracy: 0.61\n",
      "head 2: model.layers.7.self_attn.o_proj 9\n"
     ]
    },
    {
     "name": "stderr",
     "output_type": "stream",
     "text": [
      "100%|██████████| 2/2 [00:09<00:00,  4.75s/it]\n"
     ]
    },
    {
     "name": "stdout",
     "output_type": "stream",
     "text": [
      "Task accuracy: 0.57\n",
      "head 2: model.layers.9.self_attn.o_proj 15\n"
     ]
    },
    {
     "name": "stderr",
     "output_type": "stream",
     "text": [
      "100%|██████████| 2/2 [00:09<00:00,  4.76s/it]\n"
     ]
    },
    {
     "name": "stdout",
     "output_type": "stream",
     "text": [
      "Task accuracy: 0.61\n",
      "head 2: model.layers.10.self_attn.o_proj 4\n"
     ]
    },
    {
     "name": "stderr",
     "output_type": "stream",
     "text": [
      "100%|██████████| 2/2 [00:09<00:00,  4.75s/it]\n"
     ]
    },
    {
     "name": "stdout",
     "output_type": "stream",
     "text": [
      "Task accuracy: 0.61\n",
      "head 2: model.layers.12.self_attn.o_proj 0\n"
     ]
    },
    {
     "name": "stderr",
     "output_type": "stream",
     "text": [
      "100%|██████████| 2/2 [00:09<00:00,  4.75s/it]\n"
     ]
    },
    {
     "name": "stdout",
     "output_type": "stream",
     "text": [
      "Task accuracy: 0.59\n",
      "head 2: model.layers.12.self_attn.o_proj 23\n"
     ]
    },
    {
     "name": "stderr",
     "output_type": "stream",
     "text": [
      "100%|██████████| 2/2 [00:09<00:00,  4.75s/it]\n"
     ]
    },
    {
     "name": "stdout",
     "output_type": "stream",
     "text": [
      "Task accuracy: 0.6\n",
      "head 2: model.layers.12.self_attn.o_proj 9\n"
     ]
    },
    {
     "name": "stderr",
     "output_type": "stream",
     "text": [
      "100%|██████████| 2/2 [00:09<00:00,  4.74s/it]\n"
     ]
    },
    {
     "name": "stdout",
     "output_type": "stream",
     "text": [
      "Task accuracy: 0.59\n",
      "head 2: model.layers.9.self_attn.o_proj 29\n"
     ]
    },
    {
     "name": "stderr",
     "output_type": "stream",
     "text": [
      "100%|██████████| 2/2 [00:09<00:00,  4.75s/it]\n"
     ]
    },
    {
     "name": "stdout",
     "output_type": "stream",
     "text": [
      "Task accuracy: 0.59\n",
      "head 2: model.layers.6.self_attn.o_proj 23\n"
     ]
    },
    {
     "name": "stderr",
     "output_type": "stream",
     "text": [
      "100%|██████████| 2/2 [00:09<00:00,  4.74s/it]\n"
     ]
    },
    {
     "name": "stdout",
     "output_type": "stream",
     "text": [
      "Task accuracy: 0.6\n",
      "head 2: model.layers.11.self_attn.o_proj 7\n"
     ]
    },
    {
     "name": "stderr",
     "output_type": "stream",
     "text": [
      "100%|██████████| 2/2 [00:09<00:00,  4.75s/it]\n"
     ]
    },
    {
     "name": "stdout",
     "output_type": "stream",
     "text": [
      "Task accuracy: 0.6\n",
      "head 2: model.layers.12.self_attn.o_proj 8\n"
     ]
    },
    {
     "name": "stderr",
     "output_type": "stream",
     "text": [
      "100%|██████████| 2/2 [00:09<00:00,  4.75s/it]\n"
     ]
    },
    {
     "name": "stdout",
     "output_type": "stream",
     "text": [
      "Task accuracy: 0.6\n",
      "head 2: model.layers.1.self_attn.o_proj 22\n"
     ]
    },
    {
     "name": "stderr",
     "output_type": "stream",
     "text": [
      "100%|██████████| 2/2 [00:09<00:00,  4.73s/it]\n"
     ]
    },
    {
     "name": "stdout",
     "output_type": "stream",
     "text": [
      "Task accuracy: 0.56\n",
      "head 2: model.layers.13.self_attn.o_proj 9\n"
     ]
    },
    {
     "name": "stderr",
     "output_type": "stream",
     "text": [
      "100%|██████████| 2/2 [00:09<00:00,  4.75s/it]\n"
     ]
    },
    {
     "name": "stdout",
     "output_type": "stream",
     "text": [
      "Task accuracy: 0.58\n",
      "head 2: model.layers.9.self_attn.o_proj 0\n"
     ]
    },
    {
     "name": "stderr",
     "output_type": "stream",
     "text": [
      "100%|██████████| 2/2 [00:09<00:00,  4.74s/it]\n"
     ]
    },
    {
     "name": "stdout",
     "output_type": "stream",
     "text": [
      "Task accuracy: 0.62\n",
      "head 2: model.layers.12.self_attn.o_proj 16\n"
     ]
    },
    {
     "name": "stderr",
     "output_type": "stream",
     "text": [
      "100%|██████████| 2/2 [00:09<00:00,  4.73s/it]\n"
     ]
    },
    {
     "name": "stdout",
     "output_type": "stream",
     "text": [
      "Task accuracy: 0.59\n",
      "head 1: model.layers.9.self_attn.o_proj 10\n",
      "head 2: model.layers.9.self_attn.o_proj 10\n"
     ]
    },
    {
     "name": "stderr",
     "output_type": "stream",
     "text": [
      "100%|██████████| 2/2 [00:09<00:00,  4.75s/it]\n"
     ]
    },
    {
     "name": "stdout",
     "output_type": "stream",
     "text": [
      "Task accuracy: 0.51\n",
      "head 2: model.layers.7.self_attn.o_proj 17\n"
     ]
    },
    {
     "name": "stderr",
     "output_type": "stream",
     "text": [
      "100%|██████████| 2/2 [00:09<00:00,  4.72s/it]\n"
     ]
    },
    {
     "name": "stdout",
     "output_type": "stream",
     "text": [
      "Task accuracy: 0.49\n",
      "head 2: model.layers.4.self_attn.o_proj 4\n"
     ]
    },
    {
     "name": "stderr",
     "output_type": "stream",
     "text": [
      "100%|██████████| 2/2 [00:09<00:00,  4.73s/it]\n"
     ]
    },
    {
     "name": "stdout",
     "output_type": "stream",
     "text": [
      "Task accuracy: 0.48\n",
      "head 2: model.layers.13.self_attn.o_proj 0\n"
     ]
    },
    {
     "name": "stderr",
     "output_type": "stream",
     "text": [
      "100%|██████████| 2/2 [00:09<00:00,  4.73s/it]\n"
     ]
    },
    {
     "name": "stdout",
     "output_type": "stream",
     "text": [
      "Task accuracy: 0.52\n",
      "head 2: model.layers.7.self_attn.o_proj 26\n"
     ]
    },
    {
     "name": "stderr",
     "output_type": "stream",
     "text": [
      "100%|██████████| 2/2 [00:09<00:00,  4.73s/it]\n"
     ]
    },
    {
     "name": "stdout",
     "output_type": "stream",
     "text": [
      "Task accuracy: 0.52\n",
      "head 2: model.layers.11.self_attn.o_proj 24\n"
     ]
    },
    {
     "name": "stderr",
     "output_type": "stream",
     "text": [
      "100%|██████████| 2/2 [00:09<00:00,  4.73s/it]\n"
     ]
    },
    {
     "name": "stdout",
     "output_type": "stream",
     "text": [
      "Task accuracy: 0.51\n",
      "head 2: model.layers.6.self_attn.o_proj 10\n"
     ]
    },
    {
     "name": "stderr",
     "output_type": "stream",
     "text": [
      "100%|██████████| 2/2 [00:09<00:00,  4.73s/it]\n"
     ]
    },
    {
     "name": "stdout",
     "output_type": "stream",
     "text": [
      "Task accuracy: 0.51\n",
      "head 2: model.layers.8.self_attn.o_proj 1\n"
     ]
    },
    {
     "name": "stderr",
     "output_type": "stream",
     "text": [
      "100%|██████████| 2/2 [00:09<00:00,  4.75s/it]\n"
     ]
    },
    {
     "name": "stdout",
     "output_type": "stream",
     "text": [
      "Task accuracy: 0.52\n",
      "head 2: model.layers.5.self_attn.o_proj 7\n"
     ]
    },
    {
     "name": "stderr",
     "output_type": "stream",
     "text": [
      "100%|██████████| 2/2 [00:09<00:00,  4.74s/it]\n"
     ]
    },
    {
     "name": "stdout",
     "output_type": "stream",
     "text": [
      "Task accuracy: 0.51\n",
      "head 2: model.layers.10.self_attn.o_proj 21\n"
     ]
    },
    {
     "name": "stderr",
     "output_type": "stream",
     "text": [
      "100%|██████████| 2/2 [00:09<00:00,  4.73s/it]\n"
     ]
    },
    {
     "name": "stdout",
     "output_type": "stream",
     "text": [
      "Task accuracy: 0.51\n",
      "head 2: model.layers.7.self_attn.o_proj 9\n"
     ]
    },
    {
     "name": "stderr",
     "output_type": "stream",
     "text": [
      "100%|██████████| 2/2 [00:09<00:00,  4.76s/it]\n"
     ]
    },
    {
     "name": "stdout",
     "output_type": "stream",
     "text": [
      "Task accuracy: 0.49\n",
      "head 2: model.layers.9.self_attn.o_proj 15\n"
     ]
    },
    {
     "name": "stderr",
     "output_type": "stream",
     "text": [
      "100%|██████████| 2/2 [00:09<00:00,  4.74s/it]\n"
     ]
    },
    {
     "name": "stdout",
     "output_type": "stream",
     "text": [
      "Task accuracy: 0.51\n",
      "head 2: model.layers.10.self_attn.o_proj 4\n"
     ]
    },
    {
     "name": "stderr",
     "output_type": "stream",
     "text": [
      "100%|██████████| 2/2 [00:09<00:00,  4.69s/it]\n"
     ]
    },
    {
     "name": "stdout",
     "output_type": "stream",
     "text": [
      "Task accuracy: 0.51\n",
      "head 2: model.layers.12.self_attn.o_proj 0\n"
     ]
    },
    {
     "name": "stderr",
     "output_type": "stream",
     "text": [
      "100%|██████████| 2/2 [00:09<00:00,  4.67s/it]\n"
     ]
    },
    {
     "name": "stdout",
     "output_type": "stream",
     "text": [
      "Task accuracy: 0.5\n",
      "head 2: model.layers.12.self_attn.o_proj 23\n"
     ]
    },
    {
     "name": "stderr",
     "output_type": "stream",
     "text": [
      "100%|██████████| 2/2 [00:09<00:00,  4.69s/it]\n"
     ]
    },
    {
     "name": "stdout",
     "output_type": "stream",
     "text": [
      "Task accuracy: 0.51\n",
      "head 2: model.layers.12.self_attn.o_proj 9\n"
     ]
    },
    {
     "name": "stderr",
     "output_type": "stream",
     "text": [
      "100%|██████████| 2/2 [00:09<00:00,  4.73s/it]\n"
     ]
    },
    {
     "name": "stdout",
     "output_type": "stream",
     "text": [
      "Task accuracy: 0.52\n",
      "head 2: model.layers.9.self_attn.o_proj 29\n"
     ]
    },
    {
     "name": "stderr",
     "output_type": "stream",
     "text": [
      "100%|██████████| 2/2 [00:09<00:00,  4.66s/it]\n"
     ]
    },
    {
     "name": "stdout",
     "output_type": "stream",
     "text": [
      "Task accuracy: 0.52\n",
      "head 2: model.layers.6.self_attn.o_proj 23\n"
     ]
    },
    {
     "name": "stderr",
     "output_type": "stream",
     "text": [
      "100%|██████████| 2/2 [00:09<00:00,  4.66s/it]\n"
     ]
    },
    {
     "name": "stdout",
     "output_type": "stream",
     "text": [
      "Task accuracy: 0.5\n",
      "head 2: model.layers.11.self_attn.o_proj 7\n"
     ]
    },
    {
     "name": "stderr",
     "output_type": "stream",
     "text": [
      "100%|██████████| 2/2 [00:09<00:00,  4.68s/it]\n"
     ]
    },
    {
     "name": "stdout",
     "output_type": "stream",
     "text": [
      "Task accuracy: 0.51\n",
      "head 2: model.layers.12.self_attn.o_proj 8\n"
     ]
    },
    {
     "name": "stderr",
     "output_type": "stream",
     "text": [
      "100%|██████████| 2/2 [00:09<00:00,  4.66s/it]\n"
     ]
    },
    {
     "name": "stdout",
     "output_type": "stream",
     "text": [
      "Task accuracy: 0.51\n",
      "head 2: model.layers.1.self_attn.o_proj 22\n"
     ]
    },
    {
     "name": "stderr",
     "output_type": "stream",
     "text": [
      "100%|██████████| 2/2 [00:09<00:00,  4.68s/it]\n"
     ]
    },
    {
     "name": "stdout",
     "output_type": "stream",
     "text": [
      "Task accuracy: 0.47\n",
      "head 2: model.layers.13.self_attn.o_proj 9\n"
     ]
    },
    {
     "name": "stderr",
     "output_type": "stream",
     "text": [
      "100%|██████████| 2/2 [00:09<00:00,  4.74s/it]\n"
     ]
    },
    {
     "name": "stdout",
     "output_type": "stream",
     "text": [
      "Task accuracy: 0.48\n",
      "head 2: model.layers.9.self_attn.o_proj 0\n"
     ]
    },
    {
     "name": "stderr",
     "output_type": "stream",
     "text": [
      "100%|██████████| 2/2 [00:09<00:00,  4.73s/it]\n"
     ]
    },
    {
     "name": "stdout",
     "output_type": "stream",
     "text": [
      "Task accuracy: 0.51\n",
      "head 2: model.layers.12.self_attn.o_proj 16\n"
     ]
    },
    {
     "name": "stderr",
     "output_type": "stream",
     "text": [
      "100%|██████████| 2/2 [00:09<00:00,  4.72s/it]\n"
     ]
    },
    {
     "name": "stdout",
     "output_type": "stream",
     "text": [
      "Task accuracy: 0.51\n",
      "head 1: model.layers.7.self_attn.o_proj 17\n",
      "head 2: model.layers.7.self_attn.o_proj 17\n"
     ]
    },
    {
     "name": "stderr",
     "output_type": "stream",
     "text": [
      "100%|██████████| 2/2 [00:09<00:00,  4.75s/it]\n"
     ]
    },
    {
     "name": "stdout",
     "output_type": "stream",
     "text": [
      "Task accuracy: 0.59\n",
      "head 2: model.layers.4.self_attn.o_proj 4\n"
     ]
    },
    {
     "name": "stderr",
     "output_type": "stream",
     "text": [
      "100%|██████████| 2/2 [00:09<00:00,  4.74s/it]\n"
     ]
    },
    {
     "name": "stdout",
     "output_type": "stream",
     "text": [
      "Task accuracy: 0.52\n",
      "head 2: model.layers.13.self_attn.o_proj 0\n"
     ]
    },
    {
     "name": "stderr",
     "output_type": "stream",
     "text": [
      "100%|██████████| 2/2 [00:09<00:00,  4.71s/it]\n"
     ]
    },
    {
     "name": "stdout",
     "output_type": "stream",
     "text": [
      "Task accuracy: 0.59\n",
      "head 2: model.layers.7.self_attn.o_proj 26\n"
     ]
    },
    {
     "name": "stderr",
     "output_type": "stream",
     "text": [
      "100%|██████████| 2/2 [00:09<00:00,  4.70s/it]\n"
     ]
    },
    {
     "name": "stdout",
     "output_type": "stream",
     "text": [
      "Task accuracy: 0.58\n",
      "head 2: model.layers.11.self_attn.o_proj 24\n"
     ]
    },
    {
     "name": "stderr",
     "output_type": "stream",
     "text": [
      "100%|██████████| 2/2 [00:09<00:00,  4.65s/it]\n"
     ]
    },
    {
     "name": "stdout",
     "output_type": "stream",
     "text": [
      "Task accuracy: 0.59\n",
      "head 2: model.layers.6.self_attn.o_proj 10\n"
     ]
    },
    {
     "name": "stderr",
     "output_type": "stream",
     "text": [
      "100%|██████████| 2/2 [00:09<00:00,  4.66s/it]\n"
     ]
    },
    {
     "name": "stdout",
     "output_type": "stream",
     "text": [
      "Task accuracy: 0.53\n",
      "head 2: model.layers.8.self_attn.o_proj 1\n"
     ]
    },
    {
     "name": "stderr",
     "output_type": "stream",
     "text": [
      "100%|██████████| 2/2 [00:09<00:00,  4.67s/it]\n"
     ]
    },
    {
     "name": "stdout",
     "output_type": "stream",
     "text": [
      "Task accuracy: 0.58\n",
      "head 2: model.layers.5.self_attn.o_proj 7\n"
     ]
    },
    {
     "name": "stderr",
     "output_type": "stream",
     "text": [
      "100%|██████████| 2/2 [00:09<00:00,  4.68s/it]\n"
     ]
    },
    {
     "name": "stdout",
     "output_type": "stream",
     "text": [
      "Task accuracy: 0.59\n",
      "head 2: model.layers.10.self_attn.o_proj 21\n"
     ]
    },
    {
     "name": "stderr",
     "output_type": "stream",
     "text": [
      "100%|██████████| 2/2 [00:09<00:00,  4.66s/it]\n"
     ]
    },
    {
     "name": "stdout",
     "output_type": "stream",
     "text": [
      "Task accuracy: 0.59\n",
      "head 2: model.layers.7.self_attn.o_proj 9\n"
     ]
    },
    {
     "name": "stderr",
     "output_type": "stream",
     "text": [
      "100%|██████████| 2/2 [00:09<00:00,  4.66s/it]\n"
     ]
    },
    {
     "name": "stdout",
     "output_type": "stream",
     "text": [
      "Task accuracy: 0.57\n",
      "head 2: model.layers.9.self_attn.o_proj 15\n"
     ]
    },
    {
     "name": "stderr",
     "output_type": "stream",
     "text": [
      "100%|██████████| 2/2 [00:09<00:00,  4.64s/it]\n"
     ]
    },
    {
     "name": "stdout",
     "output_type": "stream",
     "text": [
      "Task accuracy: 0.59\n",
      "head 2: model.layers.10.self_attn.o_proj 4\n"
     ]
    },
    {
     "name": "stderr",
     "output_type": "stream",
     "text": [
      "100%|██████████| 2/2 [00:09<00:00,  4.76s/it]\n"
     ]
    },
    {
     "name": "stdout",
     "output_type": "stream",
     "text": [
      "Task accuracy: 0.59\n",
      "head 2: model.layers.12.self_attn.o_proj 0\n"
     ]
    },
    {
     "name": "stderr",
     "output_type": "stream",
     "text": [
      "100%|██████████| 2/2 [00:09<00:00,  4.73s/it]\n"
     ]
    },
    {
     "name": "stdout",
     "output_type": "stream",
     "text": [
      "Task accuracy: 0.59\n",
      "head 2: model.layers.12.self_attn.o_proj 23\n"
     ]
    },
    {
     "name": "stderr",
     "output_type": "stream",
     "text": [
      "100%|██████████| 2/2 [00:09<00:00,  4.71s/it]\n"
     ]
    },
    {
     "name": "stdout",
     "output_type": "stream",
     "text": [
      "Task accuracy: 0.58\n",
      "head 2: model.layers.12.self_attn.o_proj 9\n"
     ]
    },
    {
     "name": "stderr",
     "output_type": "stream",
     "text": [
      "100%|██████████| 2/2 [00:09<00:00,  4.72s/it]\n"
     ]
    },
    {
     "name": "stdout",
     "output_type": "stream",
     "text": [
      "Task accuracy: 0.59\n",
      "head 2: model.layers.9.self_attn.o_proj 29\n"
     ]
    },
    {
     "name": "stderr",
     "output_type": "stream",
     "text": [
      "100%|██████████| 2/2 [00:09<00:00,  4.72s/it]\n"
     ]
    },
    {
     "name": "stdout",
     "output_type": "stream",
     "text": [
      "Task accuracy: 0.57\n",
      "head 2: model.layers.6.self_attn.o_proj 23\n"
     ]
    },
    {
     "name": "stderr",
     "output_type": "stream",
     "text": [
      "100%|██████████| 2/2 [00:09<00:00,  4.71s/it]\n"
     ]
    },
    {
     "name": "stdout",
     "output_type": "stream",
     "text": [
      "Task accuracy: 0.58\n",
      "head 2: model.layers.11.self_attn.o_proj 7\n"
     ]
    },
    {
     "name": "stderr",
     "output_type": "stream",
     "text": [
      "100%|██████████| 2/2 [00:09<00:00,  4.72s/it]\n"
     ]
    },
    {
     "name": "stdout",
     "output_type": "stream",
     "text": [
      "Task accuracy: 0.59\n",
      "head 2: model.layers.12.self_attn.o_proj 8\n"
     ]
    },
    {
     "name": "stderr",
     "output_type": "stream",
     "text": [
      "100%|██████████| 2/2 [00:09<00:00,  4.70s/it]\n"
     ]
    },
    {
     "name": "stdout",
     "output_type": "stream",
     "text": [
      "Task accuracy: 0.59\n",
      "head 2: model.layers.1.self_attn.o_proj 22\n"
     ]
    },
    {
     "name": "stderr",
     "output_type": "stream",
     "text": [
      "100%|██████████| 2/2 [00:09<00:00,  4.71s/it]\n"
     ]
    },
    {
     "name": "stdout",
     "output_type": "stream",
     "text": [
      "Task accuracy: 0.56\n",
      "head 2: model.layers.13.self_attn.o_proj 9\n"
     ]
    },
    {
     "name": "stderr",
     "output_type": "stream",
     "text": [
      "100%|██████████| 2/2 [00:09<00:00,  4.71s/it]\n"
     ]
    },
    {
     "name": "stdout",
     "output_type": "stream",
     "text": [
      "Task accuracy: 0.59\n",
      "head 2: model.layers.9.self_attn.o_proj 0\n"
     ]
    },
    {
     "name": "stderr",
     "output_type": "stream",
     "text": [
      "100%|██████████| 2/2 [00:09<00:00,  4.67s/it]\n"
     ]
    },
    {
     "name": "stdout",
     "output_type": "stream",
     "text": [
      "Task accuracy: 0.59\n",
      "head 2: model.layers.12.self_attn.o_proj 16\n"
     ]
    },
    {
     "name": "stderr",
     "output_type": "stream",
     "text": [
      "100%|██████████| 2/2 [00:09<00:00,  4.75s/it]\n"
     ]
    },
    {
     "name": "stdout",
     "output_type": "stream",
     "text": [
      "Task accuracy: 0.59\n",
      "head 1: model.layers.4.self_attn.o_proj 4\n",
      "head 2: model.layers.4.self_attn.o_proj 4\n"
     ]
    },
    {
     "name": "stderr",
     "output_type": "stream",
     "text": [
      "100%|██████████| 2/2 [00:09<00:00,  4.68s/it]\n"
     ]
    },
    {
     "name": "stdout",
     "output_type": "stream",
     "text": [
      "Task accuracy: 0.58\n",
      "head 2: model.layers.13.self_attn.o_proj 0\n"
     ]
    },
    {
     "name": "stderr",
     "output_type": "stream",
     "text": [
      "100%|██████████| 2/2 [00:09<00:00,  4.70s/it]\n"
     ]
    },
    {
     "name": "stdout",
     "output_type": "stream",
     "text": [
      "Task accuracy: 0.55\n",
      "head 2: model.layers.7.self_attn.o_proj 26\n"
     ]
    },
    {
     "name": "stderr",
     "output_type": "stream",
     "text": [
      "100%|██████████| 2/2 [00:09<00:00,  4.68s/it]\n"
     ]
    },
    {
     "name": "stdout",
     "output_type": "stream",
     "text": [
      "Task accuracy: 0.55\n",
      "head 2: model.layers.11.self_attn.o_proj 24\n"
     ]
    },
    {
     "name": "stderr",
     "output_type": "stream",
     "text": [
      "100%|██████████| 2/2 [00:09<00:00,  4.69s/it]\n"
     ]
    },
    {
     "name": "stdout",
     "output_type": "stream",
     "text": [
      "Task accuracy: 0.59\n",
      "head 2: model.layers.6.self_attn.o_proj 10\n"
     ]
    },
    {
     "name": "stderr",
     "output_type": "stream",
     "text": [
      "100%|██████████| 2/2 [00:09<00:00,  4.65s/it]\n"
     ]
    },
    {
     "name": "stdout",
     "output_type": "stream",
     "text": [
      "Task accuracy: 0.5\n",
      "head 2: model.layers.8.self_attn.o_proj 1\n"
     ]
    },
    {
     "name": "stderr",
     "output_type": "stream",
     "text": [
      "100%|██████████| 2/2 [00:09<00:00,  4.67s/it]\n"
     ]
    },
    {
     "name": "stdout",
     "output_type": "stream",
     "text": [
      "Task accuracy: 0.58\n",
      "head 2: model.layers.5.self_attn.o_proj 7\n"
     ]
    },
    {
     "name": "stderr",
     "output_type": "stream",
     "text": [
      "100%|██████████| 2/2 [00:09<00:00,  4.67s/it]\n"
     ]
    },
    {
     "name": "stdout",
     "output_type": "stream",
     "text": [
      "Task accuracy: 0.6\n",
      "head 2: model.layers.10.self_attn.o_proj 21\n"
     ]
    },
    {
     "name": "stderr",
     "output_type": "stream",
     "text": [
      "100%|██████████| 2/2 [00:09<00:00,  4.66s/it]\n"
     ]
    },
    {
     "name": "stdout",
     "output_type": "stream",
     "text": [
      "Task accuracy: 0.59\n",
      "head 2: model.layers.7.self_attn.o_proj 9\n"
     ]
    },
    {
     "name": "stderr",
     "output_type": "stream",
     "text": [
      "100%|██████████| 2/2 [00:09<00:00,  4.66s/it]\n"
     ]
    },
    {
     "name": "stdout",
     "output_type": "stream",
     "text": [
      "Task accuracy: 0.54\n",
      "head 2: model.layers.9.self_attn.o_proj 15\n"
     ]
    },
    {
     "name": "stderr",
     "output_type": "stream",
     "text": [
      "100%|██████████| 2/2 [00:09<00:00,  4.72s/it]\n"
     ]
    },
    {
     "name": "stdout",
     "output_type": "stream",
     "text": [
      "Task accuracy: 0.58\n",
      "head 2: model.layers.10.self_attn.o_proj 4\n"
     ]
    },
    {
     "name": "stderr",
     "output_type": "stream",
     "text": [
      "100%|██████████| 2/2 [00:09<00:00,  4.71s/it]\n"
     ]
    },
    {
     "name": "stdout",
     "output_type": "stream",
     "text": [
      "Task accuracy: 0.58\n",
      "head 2: model.layers.12.self_attn.o_proj 0\n"
     ]
    },
    {
     "name": "stderr",
     "output_type": "stream",
     "text": [
      "100%|██████████| 2/2 [00:09<00:00,  4.69s/it]\n"
     ]
    },
    {
     "name": "stdout",
     "output_type": "stream",
     "text": [
      "Task accuracy: 0.57\n",
      "head 2: model.layers.12.self_attn.o_proj 23\n"
     ]
    },
    {
     "name": "stderr",
     "output_type": "stream",
     "text": [
      "100%|██████████| 2/2 [00:09<00:00,  4.67s/it]\n"
     ]
    },
    {
     "name": "stdout",
     "output_type": "stream",
     "text": [
      "Task accuracy: 0.59\n",
      "head 2: model.layers.12.self_attn.o_proj 9\n"
     ]
    },
    {
     "name": "stderr",
     "output_type": "stream",
     "text": [
      "100%|██████████| 2/2 [00:09<00:00,  4.75s/it]\n"
     ]
    },
    {
     "name": "stdout",
     "output_type": "stream",
     "text": [
      "Task accuracy: 0.58\n",
      "head 2: model.layers.9.self_attn.o_proj 29\n"
     ]
    },
    {
     "name": "stderr",
     "output_type": "stream",
     "text": [
      "100%|██████████| 2/2 [00:09<00:00,  4.76s/it]\n"
     ]
    },
    {
     "name": "stdout",
     "output_type": "stream",
     "text": [
      "Task accuracy: 0.57\n",
      "head 2: model.layers.6.self_attn.o_proj 23\n"
     ]
    },
    {
     "name": "stderr",
     "output_type": "stream",
     "text": [
      "100%|██████████| 2/2 [00:09<00:00,  4.73s/it]\n"
     ]
    },
    {
     "name": "stdout",
     "output_type": "stream",
     "text": [
      "Task accuracy: 0.57\n",
      "head 2: model.layers.11.self_attn.o_proj 7\n"
     ]
    },
    {
     "name": "stderr",
     "output_type": "stream",
     "text": [
      "100%|██████████| 2/2 [00:09<00:00,  4.72s/it]\n"
     ]
    },
    {
     "name": "stdout",
     "output_type": "stream",
     "text": [
      "Task accuracy: 0.58\n",
      "head 2: model.layers.12.self_attn.o_proj 8\n"
     ]
    },
    {
     "name": "stderr",
     "output_type": "stream",
     "text": [
      "100%|██████████| 2/2 [00:09<00:00,  4.71s/it]\n"
     ]
    },
    {
     "name": "stdout",
     "output_type": "stream",
     "text": [
      "Task accuracy: 0.57\n",
      "head 2: model.layers.1.self_attn.o_proj 22\n"
     ]
    },
    {
     "name": "stderr",
     "output_type": "stream",
     "text": [
      "100%|██████████| 2/2 [00:09<00:00,  4.73s/it]\n"
     ]
    },
    {
     "name": "stdout",
     "output_type": "stream",
     "text": [
      "Task accuracy: 0.52\n",
      "head 2: model.layers.13.self_attn.o_proj 9\n"
     ]
    },
    {
     "name": "stderr",
     "output_type": "stream",
     "text": [
      "100%|██████████| 2/2 [00:09<00:00,  4.74s/it]\n"
     ]
    },
    {
     "name": "stdout",
     "output_type": "stream",
     "text": [
      "Task accuracy: 0.53\n",
      "head 2: model.layers.9.self_attn.o_proj 0\n"
     ]
    },
    {
     "name": "stderr",
     "output_type": "stream",
     "text": [
      "100%|██████████| 2/2 [00:09<00:00,  4.74s/it]\n"
     ]
    },
    {
     "name": "stdout",
     "output_type": "stream",
     "text": [
      "Task accuracy: 0.59\n",
      "head 2: model.layers.12.self_attn.o_proj 16\n"
     ]
    },
    {
     "name": "stderr",
     "output_type": "stream",
     "text": [
      "100%|██████████| 2/2 [00:09<00:00,  4.74s/it]\n"
     ]
    },
    {
     "name": "stdout",
     "output_type": "stream",
     "text": [
      "Task accuracy: 0.58\n",
      "head 1: model.layers.13.self_attn.o_proj 0\n",
      "head 2: model.layers.13.self_attn.o_proj 0\n"
     ]
    },
    {
     "name": "stderr",
     "output_type": "stream",
     "text": [
      "100%|██████████| 2/2 [00:09<00:00,  4.71s/it]\n"
     ]
    },
    {
     "name": "stdout",
     "output_type": "stream",
     "text": [
      "Task accuracy: 0.6\n",
      "head 2: model.layers.7.self_attn.o_proj 26\n"
     ]
    },
    {
     "name": "stderr",
     "output_type": "stream",
     "text": [
      "100%|██████████| 2/2 [00:09<00:00,  4.73s/it]\n"
     ]
    },
    {
     "name": "stdout",
     "output_type": "stream",
     "text": [
      "Task accuracy: 0.59\n",
      "head 2: model.layers.11.self_attn.o_proj 24\n"
     ]
    },
    {
     "name": "stderr",
     "output_type": "stream",
     "text": [
      "100%|██████████| 2/2 [00:09<00:00,  4.72s/it]\n"
     ]
    },
    {
     "name": "stdout",
     "output_type": "stream",
     "text": [
      "Task accuracy: 0.6\n",
      "head 2: model.layers.6.self_attn.o_proj 10\n"
     ]
    },
    {
     "name": "stderr",
     "output_type": "stream",
     "text": [
      "100%|██████████| 2/2 [00:09<00:00,  4.74s/it]\n"
     ]
    },
    {
     "name": "stdout",
     "output_type": "stream",
     "text": [
      "Task accuracy: 0.53\n",
      "head 2: model.layers.8.self_attn.o_proj 1\n"
     ]
    },
    {
     "name": "stderr",
     "output_type": "stream",
     "text": [
      "100%|██████████| 2/2 [00:09<00:00,  4.70s/it]\n"
     ]
    },
    {
     "name": "stdout",
     "output_type": "stream",
     "text": [
      "Task accuracy: 0.6\n",
      "head 2: model.layers.5.self_attn.o_proj 7\n"
     ]
    },
    {
     "name": "stderr",
     "output_type": "stream",
     "text": [
      "100%|██████████| 2/2 [00:09<00:00,  4.68s/it]\n"
     ]
    },
    {
     "name": "stdout",
     "output_type": "stream",
     "text": [
      "Task accuracy: 0.6\n",
      "head 2: model.layers.10.self_attn.o_proj 21\n"
     ]
    },
    {
     "name": "stderr",
     "output_type": "stream",
     "text": [
      "100%|██████████| 2/2 [00:09<00:00,  4.69s/it]\n"
     ]
    },
    {
     "name": "stdout",
     "output_type": "stream",
     "text": [
      "Task accuracy: 0.6\n",
      "head 2: model.layers.7.self_attn.o_proj 9\n"
     ]
    },
    {
     "name": "stderr",
     "output_type": "stream",
     "text": [
      "100%|██████████| 2/2 [00:09<00:00,  4.67s/it]\n"
     ]
    },
    {
     "name": "stdout",
     "output_type": "stream",
     "text": [
      "Task accuracy: 0.58\n",
      "head 2: model.layers.9.self_attn.o_proj 15\n"
     ]
    },
    {
     "name": "stderr",
     "output_type": "stream",
     "text": [
      "100%|██████████| 2/2 [00:09<00:00,  4.79s/it]\n"
     ]
    },
    {
     "name": "stdout",
     "output_type": "stream",
     "text": [
      "Task accuracy: 0.6\n",
      "head 2: model.layers.10.self_attn.o_proj 4\n"
     ]
    },
    {
     "name": "stderr",
     "output_type": "stream",
     "text": [
      "100%|██████████| 2/2 [00:09<00:00,  4.75s/it]\n"
     ]
    },
    {
     "name": "stdout",
     "output_type": "stream",
     "text": [
      "Task accuracy: 0.61\n",
      "head 2: model.layers.12.self_attn.o_proj 0\n"
     ]
    },
    {
     "name": "stderr",
     "output_type": "stream",
     "text": [
      "100%|██████████| 2/2 [00:09<00:00,  4.75s/it]\n"
     ]
    },
    {
     "name": "stdout",
     "output_type": "stream",
     "text": [
      "Task accuracy: 0.6\n",
      "head 2: model.layers.12.self_attn.o_proj 23\n"
     ]
    },
    {
     "name": "stderr",
     "output_type": "stream",
     "text": [
      "100%|██████████| 2/2 [00:09<00:00,  4.76s/it]\n"
     ]
    },
    {
     "name": "stdout",
     "output_type": "stream",
     "text": [
      "Task accuracy: 0.6\n",
      "head 2: model.layers.12.self_attn.o_proj 9\n"
     ]
    },
    {
     "name": "stderr",
     "output_type": "stream",
     "text": [
      "100%|██████████| 2/2 [00:09<00:00,  4.75s/it]\n"
     ]
    },
    {
     "name": "stdout",
     "output_type": "stream",
     "text": [
      "Task accuracy: 0.6\n",
      "head 2: model.layers.9.self_attn.o_proj 29\n"
     ]
    },
    {
     "name": "stderr",
     "output_type": "stream",
     "text": [
      "100%|██████████| 2/2 [00:09<00:00,  4.75s/it]\n"
     ]
    },
    {
     "name": "stdout",
     "output_type": "stream",
     "text": [
      "Task accuracy: 0.58\n",
      "head 2: model.layers.6.self_attn.o_proj 23\n"
     ]
    },
    {
     "name": "stderr",
     "output_type": "stream",
     "text": [
      "100%|██████████| 2/2 [00:09<00:00,  4.72s/it]\n"
     ]
    },
    {
     "name": "stdout",
     "output_type": "stream",
     "text": [
      "Task accuracy: 0.6\n",
      "head 2: model.layers.11.self_attn.o_proj 7\n"
     ]
    },
    {
     "name": "stderr",
     "output_type": "stream",
     "text": [
      "100%|██████████| 2/2 [00:09<00:00,  4.74s/it]\n"
     ]
    },
    {
     "name": "stdout",
     "output_type": "stream",
     "text": [
      "Task accuracy: 0.6\n",
      "head 2: model.layers.12.self_attn.o_proj 8\n"
     ]
    },
    {
     "name": "stderr",
     "output_type": "stream",
     "text": [
      "100%|██████████| 2/2 [00:09<00:00,  4.75s/it]\n"
     ]
    },
    {
     "name": "stdout",
     "output_type": "stream",
     "text": [
      "Task accuracy: 0.6\n",
      "head 2: model.layers.1.self_attn.o_proj 22\n"
     ]
    },
    {
     "name": "stderr",
     "output_type": "stream",
     "text": [
      "100%|██████████| 2/2 [00:09<00:00,  4.74s/it]\n"
     ]
    },
    {
     "name": "stdout",
     "output_type": "stream",
     "text": [
      "Task accuracy: 0.56\n",
      "head 2: model.layers.13.self_attn.o_proj 9\n"
     ]
    },
    {
     "name": "stderr",
     "output_type": "stream",
     "text": [
      "100%|██████████| 2/2 [00:09<00:00,  4.74s/it]\n"
     ]
    },
    {
     "name": "stdout",
     "output_type": "stream",
     "text": [
      "Task accuracy: 0.55\n",
      "head 2: model.layers.9.self_attn.o_proj 0\n"
     ]
    },
    {
     "name": "stderr",
     "output_type": "stream",
     "text": [
      "100%|██████████| 2/2 [00:09<00:00,  4.72s/it]\n"
     ]
    },
    {
     "name": "stdout",
     "output_type": "stream",
     "text": [
      "Task accuracy: 0.6\n",
      "head 2: model.layers.12.self_attn.o_proj 16\n"
     ]
    },
    {
     "name": "stderr",
     "output_type": "stream",
     "text": [
      "100%|██████████| 2/2 [00:09<00:00,  4.72s/it]\n"
     ]
    },
    {
     "name": "stdout",
     "output_type": "stream",
     "text": [
      "Task accuracy: 0.6\n",
      "head 1: model.layers.7.self_attn.o_proj 26\n",
      "head 2: model.layers.7.self_attn.o_proj 26\n"
     ]
    },
    {
     "name": "stderr",
     "output_type": "stream",
     "text": [
      "100%|██████████| 2/2 [00:09<00:00,  4.73s/it]\n"
     ]
    },
    {
     "name": "stdout",
     "output_type": "stream",
     "text": [
      "Task accuracy: 0.61\n",
      "head 2: model.layers.11.self_attn.o_proj 24\n"
     ]
    },
    {
     "name": "stderr",
     "output_type": "stream",
     "text": [
      "100%|██████████| 2/2 [00:09<00:00,  4.74s/it]\n"
     ]
    },
    {
     "name": "stdout",
     "output_type": "stream",
     "text": [
      "Task accuracy: 0.61\n",
      "head 2: model.layers.6.self_attn.o_proj 10\n"
     ]
    },
    {
     "name": "stderr",
     "output_type": "stream",
     "text": [
      "100%|██████████| 2/2 [00:09<00:00,  4.73s/it]\n"
     ]
    },
    {
     "name": "stdout",
     "output_type": "stream",
     "text": [
      "Task accuracy: 0.51\n",
      "head 2: model.layers.8.self_attn.o_proj 1\n"
     ]
    },
    {
     "name": "stderr",
     "output_type": "stream",
     "text": [
      "100%|██████████| 2/2 [00:09<00:00,  4.73s/it]\n"
     ]
    },
    {
     "name": "stdout",
     "output_type": "stream",
     "text": [
      "Task accuracy: 0.61\n",
      "head 2: model.layers.5.self_attn.o_proj 7\n"
     ]
    },
    {
     "name": "stderr",
     "output_type": "stream",
     "text": [
      "100%|██████████| 2/2 [00:09<00:00,  4.74s/it]\n"
     ]
    },
    {
     "name": "stdout",
     "output_type": "stream",
     "text": [
      "Task accuracy: 0.61\n",
      "head 2: model.layers.10.self_attn.o_proj 21\n"
     ]
    },
    {
     "name": "stderr",
     "output_type": "stream",
     "text": [
      "100%|██████████| 2/2 [00:09<00:00,  4.74s/it]\n"
     ]
    },
    {
     "name": "stdout",
     "output_type": "stream",
     "text": [
      "Task accuracy: 0.61\n",
      "head 2: model.layers.7.self_attn.o_proj 9\n"
     ]
    },
    {
     "name": "stderr",
     "output_type": "stream",
     "text": [
      "100%|██████████| 2/2 [00:09<00:00,  4.73s/it]\n"
     ]
    },
    {
     "name": "stdout",
     "output_type": "stream",
     "text": [
      "Task accuracy: 0.58\n",
      "head 2: model.layers.9.self_attn.o_proj 15\n"
     ]
    },
    {
     "name": "stderr",
     "output_type": "stream",
     "text": [
      "100%|██████████| 2/2 [00:09<00:00,  4.75s/it]\n"
     ]
    },
    {
     "name": "stdout",
     "output_type": "stream",
     "text": [
      "Task accuracy: 0.61\n",
      "head 2: model.layers.10.self_attn.o_proj 4\n"
     ]
    },
    {
     "name": "stderr",
     "output_type": "stream",
     "text": [
      "100%|██████████| 2/2 [00:09<00:00,  4.73s/it]\n"
     ]
    },
    {
     "name": "stdout",
     "output_type": "stream",
     "text": [
      "Task accuracy: 0.62\n",
      "head 2: model.layers.12.self_attn.o_proj 0\n"
     ]
    },
    {
     "name": "stderr",
     "output_type": "stream",
     "text": [
      "100%|██████████| 2/2 [00:09<00:00,  4.73s/it]\n"
     ]
    },
    {
     "name": "stdout",
     "output_type": "stream",
     "text": [
      "Task accuracy: 0.61\n",
      "head 2: model.layers.12.self_attn.o_proj 23\n"
     ]
    },
    {
     "name": "stderr",
     "output_type": "stream",
     "text": [
      "100%|██████████| 2/2 [00:09<00:00,  4.71s/it]\n"
     ]
    },
    {
     "name": "stdout",
     "output_type": "stream",
     "text": [
      "Task accuracy: 0.61\n",
      "head 2: model.layers.12.self_attn.o_proj 9\n"
     ]
    },
    {
     "name": "stderr",
     "output_type": "stream",
     "text": [
      "100%|██████████| 2/2 [00:09<00:00,  4.69s/it]\n"
     ]
    },
    {
     "name": "stdout",
     "output_type": "stream",
     "text": [
      "Task accuracy: 0.61\n",
      "head 2: model.layers.9.self_attn.o_proj 29\n"
     ]
    },
    {
     "name": "stderr",
     "output_type": "stream",
     "text": [
      "100%|██████████| 2/2 [00:09<00:00,  4.72s/it]\n"
     ]
    },
    {
     "name": "stdout",
     "output_type": "stream",
     "text": [
      "Task accuracy: 0.61\n",
      "head 2: model.layers.6.self_attn.o_proj 23\n"
     ]
    },
    {
     "name": "stderr",
     "output_type": "stream",
     "text": [
      "100%|██████████| 2/2 [00:09<00:00,  4.69s/it]\n"
     ]
    },
    {
     "name": "stdout",
     "output_type": "stream",
     "text": [
      "Task accuracy: 0.61\n",
      "head 2: model.layers.11.self_attn.o_proj 7\n"
     ]
    },
    {
     "name": "stderr",
     "output_type": "stream",
     "text": [
      "100%|██████████| 2/2 [00:09<00:00,  4.73s/it]\n"
     ]
    },
    {
     "name": "stdout",
     "output_type": "stream",
     "text": [
      "Task accuracy: 0.61\n",
      "head 2: model.layers.12.self_attn.o_proj 8\n"
     ]
    },
    {
     "name": "stderr",
     "output_type": "stream",
     "text": [
      "100%|██████████| 2/2 [00:09<00:00,  4.72s/it]\n"
     ]
    },
    {
     "name": "stdout",
     "output_type": "stream",
     "text": [
      "Task accuracy: 0.6\n",
      "head 2: model.layers.1.self_attn.o_proj 22\n"
     ]
    },
    {
     "name": "stderr",
     "output_type": "stream",
     "text": [
      "100%|██████████| 2/2 [00:09<00:00,  4.74s/it]\n"
     ]
    },
    {
     "name": "stdout",
     "output_type": "stream",
     "text": [
      "Task accuracy: 0.58\n",
      "head 2: model.layers.13.self_attn.o_proj 9\n"
     ]
    },
    {
     "name": "stderr",
     "output_type": "stream",
     "text": [
      "100%|██████████| 2/2 [00:09<00:00,  4.71s/it]\n"
     ]
    },
    {
     "name": "stdout",
     "output_type": "stream",
     "text": [
      "Task accuracy: 0.56\n",
      "head 2: model.layers.9.self_attn.o_proj 0\n"
     ]
    },
    {
     "name": "stderr",
     "output_type": "stream",
     "text": [
      "100%|██████████| 2/2 [00:09<00:00,  4.80s/it]\n"
     ]
    },
    {
     "name": "stdout",
     "output_type": "stream",
     "text": [
      "Task accuracy: 0.61\n",
      "head 2: model.layers.12.self_attn.o_proj 16\n"
     ]
    },
    {
     "name": "stderr",
     "output_type": "stream",
     "text": [
      "100%|██████████| 2/2 [00:09<00:00,  4.73s/it]\n"
     ]
    },
    {
     "name": "stdout",
     "output_type": "stream",
     "text": [
      "Task accuracy: 0.61\n",
      "head 1: model.layers.11.self_attn.o_proj 24\n",
      "head 2: model.layers.11.self_attn.o_proj 24\n"
     ]
    },
    {
     "name": "stderr",
     "output_type": "stream",
     "text": [
      "100%|██████████| 2/2 [00:09<00:00,  4.75s/it]\n"
     ]
    },
    {
     "name": "stdout",
     "output_type": "stream",
     "text": [
      "Task accuracy: 0.61\n",
      "head 2: model.layers.6.self_attn.o_proj 10\n"
     ]
    },
    {
     "name": "stderr",
     "output_type": "stream",
     "text": [
      "100%|██████████| 2/2 [00:09<00:00,  4.73s/it]\n"
     ]
    },
    {
     "name": "stdout",
     "output_type": "stream",
     "text": [
      "Task accuracy: 0.53\n",
      "head 2: model.layers.8.self_attn.o_proj 1\n"
     ]
    },
    {
     "name": "stderr",
     "output_type": "stream",
     "text": [
      "100%|██████████| 2/2 [00:09<00:00,  4.74s/it]\n"
     ]
    },
    {
     "name": "stdout",
     "output_type": "stream",
     "text": [
      "Task accuracy: 0.61\n",
      "head 2: model.layers.5.self_attn.o_proj 7\n"
     ]
    },
    {
     "name": "stderr",
     "output_type": "stream",
     "text": [
      "100%|██████████| 2/2 [00:09<00:00,  4.68s/it]\n"
     ]
    },
    {
     "name": "stdout",
     "output_type": "stream",
     "text": [
      "Task accuracy: 0.62\n",
      "head 2: model.layers.10.self_attn.o_proj 21\n"
     ]
    },
    {
     "name": "stderr",
     "output_type": "stream",
     "text": [
      "100%|██████████| 2/2 [00:09<00:00,  4.66s/it]\n"
     ]
    },
    {
     "name": "stdout",
     "output_type": "stream",
     "text": [
      "Task accuracy: 0.61\n",
      "head 2: model.layers.7.self_attn.o_proj 9\n"
     ]
    },
    {
     "name": "stderr",
     "output_type": "stream",
     "text": [
      "100%|██████████| 2/2 [00:09<00:00,  4.67s/it]\n"
     ]
    },
    {
     "name": "stdout",
     "output_type": "stream",
     "text": [
      "Task accuracy: 0.61\n",
      "head 2: model.layers.9.self_attn.o_proj 15\n"
     ]
    },
    {
     "name": "stderr",
     "output_type": "stream",
     "text": [
      "100%|██████████| 2/2 [00:09<00:00,  4.67s/it]\n"
     ]
    },
    {
     "name": "stdout",
     "output_type": "stream",
     "text": [
      "Task accuracy: 0.61\n",
      "head 2: model.layers.10.self_attn.o_proj 4\n"
     ]
    },
    {
     "name": "stderr",
     "output_type": "stream",
     "text": [
      "100%|██████████| 2/2 [00:09<00:00,  4.67s/it]\n"
     ]
    },
    {
     "name": "stdout",
     "output_type": "stream",
     "text": [
      "Task accuracy: 0.61\n",
      "head 2: model.layers.12.self_attn.o_proj 0\n"
     ]
    },
    {
     "name": "stderr",
     "output_type": "stream",
     "text": [
      "100%|██████████| 2/2 [00:09<00:00,  4.68s/it]\n"
     ]
    },
    {
     "name": "stdout",
     "output_type": "stream",
     "text": [
      "Task accuracy: 0.61\n",
      "head 2: model.layers.12.self_attn.o_proj 23\n"
     ]
    },
    {
     "name": "stderr",
     "output_type": "stream",
     "text": [
      "100%|██████████| 2/2 [00:09<00:00,  4.68s/it]\n"
     ]
    },
    {
     "name": "stdout",
     "output_type": "stream",
     "text": [
      "Task accuracy: 0.61\n",
      "head 2: model.layers.12.self_attn.o_proj 9\n"
     ]
    },
    {
     "name": "stderr",
     "output_type": "stream",
     "text": [
      "100%|██████████| 2/2 [00:09<00:00,  4.68s/it]\n"
     ]
    },
    {
     "name": "stdout",
     "output_type": "stream",
     "text": [
      "Task accuracy: 0.61\n",
      "head 2: model.layers.9.self_attn.o_proj 29\n"
     ]
    },
    {
     "name": "stderr",
     "output_type": "stream",
     "text": [
      "100%|██████████| 2/2 [00:09<00:00,  4.74s/it]\n"
     ]
    },
    {
     "name": "stdout",
     "output_type": "stream",
     "text": [
      "Task accuracy: 0.6\n",
      "head 2: model.layers.6.self_attn.o_proj 23\n"
     ]
    },
    {
     "name": "stderr",
     "output_type": "stream",
     "text": [
      "100%|██████████| 2/2 [00:09<00:00,  4.75s/it]\n"
     ]
    },
    {
     "name": "stdout",
     "output_type": "stream",
     "text": [
      "Task accuracy: 0.61\n",
      "head 2: model.layers.11.self_attn.o_proj 7\n"
     ]
    },
    {
     "name": "stderr",
     "output_type": "stream",
     "text": [
      "100%|██████████| 2/2 [00:09<00:00,  4.76s/it]\n"
     ]
    },
    {
     "name": "stdout",
     "output_type": "stream",
     "text": [
      "Task accuracy: 0.61\n",
      "head 2: model.layers.12.self_attn.o_proj 8\n"
     ]
    },
    {
     "name": "stderr",
     "output_type": "stream",
     "text": [
      "100%|██████████| 2/2 [00:09<00:00,  4.75s/it]\n"
     ]
    },
    {
     "name": "stdout",
     "output_type": "stream",
     "text": [
      "Task accuracy: 0.61\n",
      "head 2: model.layers.1.self_attn.o_proj 22\n"
     ]
    },
    {
     "name": "stderr",
     "output_type": "stream",
     "text": [
      "100%|██████████| 2/2 [00:09<00:00,  4.75s/it]\n"
     ]
    },
    {
     "name": "stdout",
     "output_type": "stream",
     "text": [
      "Task accuracy: 0.58\n",
      "head 2: model.layers.13.self_attn.o_proj 9\n"
     ]
    },
    {
     "name": "stderr",
     "output_type": "stream",
     "text": [
      "100%|██████████| 2/2 [00:09<00:00,  4.76s/it]\n"
     ]
    },
    {
     "name": "stdout",
     "output_type": "stream",
     "text": [
      "Task accuracy: 0.56\n",
      "head 2: model.layers.9.self_attn.o_proj 0\n"
     ]
    },
    {
     "name": "stderr",
     "output_type": "stream",
     "text": [
      "100%|██████████| 2/2 [00:09<00:00,  4.77s/it]\n"
     ]
    },
    {
     "name": "stdout",
     "output_type": "stream",
     "text": [
      "Task accuracy: 0.62\n",
      "head 2: model.layers.12.self_attn.o_proj 16\n"
     ]
    },
    {
     "name": "stderr",
     "output_type": "stream",
     "text": [
      "100%|██████████| 2/2 [00:09<00:00,  4.77s/it]\n"
     ]
    },
    {
     "name": "stdout",
     "output_type": "stream",
     "text": [
      "Task accuracy: 0.61\n",
      "head 1: model.layers.6.self_attn.o_proj 10\n",
      "head 2: model.layers.6.self_attn.o_proj 10\n"
     ]
    },
    {
     "name": "stderr",
     "output_type": "stream",
     "text": [
      "100%|██████████| 2/2 [00:09<00:00,  4.77s/it]\n"
     ]
    },
    {
     "name": "stdout",
     "output_type": "stream",
     "text": [
      "Task accuracy: 0.52\n",
      "head 2: model.layers.8.self_attn.o_proj 1\n"
     ]
    },
    {
     "name": "stderr",
     "output_type": "stream",
     "text": [
      "100%|██████████| 2/2 [00:09<00:00,  4.74s/it]\n"
     ]
    },
    {
     "name": "stdout",
     "output_type": "stream",
     "text": [
      "Task accuracy: 0.52\n",
      "head 2: model.layers.5.self_attn.o_proj 7\n"
     ]
    },
    {
     "name": "stderr",
     "output_type": "stream",
     "text": [
      "100%|██████████| 2/2 [00:09<00:00,  4.75s/it]\n"
     ]
    },
    {
     "name": "stdout",
     "output_type": "stream",
     "text": [
      "Task accuracy: 0.52\n",
      "head 2: model.layers.10.self_attn.o_proj 21\n"
     ]
    },
    {
     "name": "stderr",
     "output_type": "stream",
     "text": [
      "100%|██████████| 2/2 [00:09<00:00,  4.75s/it]\n"
     ]
    },
    {
     "name": "stdout",
     "output_type": "stream",
     "text": [
      "Task accuracy: 0.53\n",
      "head 2: model.layers.7.self_attn.o_proj 9\n"
     ]
    },
    {
     "name": "stderr",
     "output_type": "stream",
     "text": [
      "100%|██████████| 2/2 [00:09<00:00,  4.76s/it]\n"
     ]
    },
    {
     "name": "stdout",
     "output_type": "stream",
     "text": [
      "Task accuracy: 0.53\n",
      "head 2: model.layers.9.self_attn.o_proj 15\n"
     ]
    },
    {
     "name": "stderr",
     "output_type": "stream",
     "text": [
      "100%|██████████| 2/2 [00:09<00:00,  4.75s/it]\n"
     ]
    },
    {
     "name": "stdout",
     "output_type": "stream",
     "text": [
      "Task accuracy: 0.52\n",
      "head 2: model.layers.10.self_attn.o_proj 4\n"
     ]
    },
    {
     "name": "stderr",
     "output_type": "stream",
     "text": [
      "100%|██████████| 2/2 [00:09<00:00,  4.75s/it]\n"
     ]
    },
    {
     "name": "stdout",
     "output_type": "stream",
     "text": [
      "Task accuracy: 0.53\n",
      "head 2: model.layers.12.self_attn.o_proj 0\n"
     ]
    },
    {
     "name": "stderr",
     "output_type": "stream",
     "text": [
      "100%|██████████| 2/2 [00:09<00:00,  4.76s/it]\n"
     ]
    },
    {
     "name": "stdout",
     "output_type": "stream",
     "text": [
      "Task accuracy: 0.53\n",
      "head 2: model.layers.12.self_attn.o_proj 23\n"
     ]
    },
    {
     "name": "stderr",
     "output_type": "stream",
     "text": [
      "100%|██████████| 2/2 [00:09<00:00,  4.76s/it]\n"
     ]
    },
    {
     "name": "stdout",
     "output_type": "stream",
     "text": [
      "Task accuracy: 0.53\n",
      "head 2: model.layers.12.self_attn.o_proj 9\n"
     ]
    },
    {
     "name": "stderr",
     "output_type": "stream",
     "text": [
      "100%|██████████| 2/2 [00:09<00:00,  4.75s/it]\n"
     ]
    },
    {
     "name": "stdout",
     "output_type": "stream",
     "text": [
      "Task accuracy: 0.52\n",
      "head 2: model.layers.9.self_attn.o_proj 29\n"
     ]
    },
    {
     "name": "stderr",
     "output_type": "stream",
     "text": [
      "100%|██████████| 2/2 [00:09<00:00,  4.77s/it]\n"
     ]
    },
    {
     "name": "stdout",
     "output_type": "stream",
     "text": [
      "Task accuracy: 0.5\n",
      "head 2: model.layers.6.self_attn.o_proj 23\n"
     ]
    },
    {
     "name": "stderr",
     "output_type": "stream",
     "text": [
      "100%|██████████| 2/2 [00:09<00:00,  4.74s/it]\n"
     ]
    },
    {
     "name": "stdout",
     "output_type": "stream",
     "text": [
      "Task accuracy: 0.51\n",
      "head 2: model.layers.11.self_attn.o_proj 7\n"
     ]
    },
    {
     "name": "stderr",
     "output_type": "stream",
     "text": [
      "100%|██████████| 2/2 [00:09<00:00,  4.79s/it]\n"
     ]
    },
    {
     "name": "stdout",
     "output_type": "stream",
     "text": [
      "Task accuracy: 0.52\n",
      "head 2: model.layers.12.self_attn.o_proj 8\n"
     ]
    },
    {
     "name": "stderr",
     "output_type": "stream",
     "text": [
      "100%|██████████| 2/2 [00:09<00:00,  4.74s/it]\n"
     ]
    },
    {
     "name": "stdout",
     "output_type": "stream",
     "text": [
      "Task accuracy: 0.53\n",
      "head 2: model.layers.1.self_attn.o_proj 22\n"
     ]
    },
    {
     "name": "stderr",
     "output_type": "stream",
     "text": [
      "100%|██████████| 2/2 [00:09<00:00,  4.74s/it]\n"
     ]
    },
    {
     "name": "stdout",
     "output_type": "stream",
     "text": [
      "Task accuracy: 0.51\n",
      "head 2: model.layers.13.self_attn.o_proj 9\n"
     ]
    },
    {
     "name": "stderr",
     "output_type": "stream",
     "text": [
      "100%|██████████| 2/2 [00:09<00:00,  4.77s/it]\n"
     ]
    },
    {
     "name": "stdout",
     "output_type": "stream",
     "text": [
      "Task accuracy: 0.52\n",
      "head 2: model.layers.9.self_attn.o_proj 0\n"
     ]
    },
    {
     "name": "stderr",
     "output_type": "stream",
     "text": [
      "100%|██████████| 2/2 [00:09<00:00,  4.76s/it]\n"
     ]
    },
    {
     "name": "stdout",
     "output_type": "stream",
     "text": [
      "Task accuracy: 0.53\n",
      "head 2: model.layers.12.self_attn.o_proj 16\n"
     ]
    },
    {
     "name": "stderr",
     "output_type": "stream",
     "text": [
      "100%|██████████| 2/2 [00:09<00:00,  4.77s/it]\n"
     ]
    },
    {
     "name": "stdout",
     "output_type": "stream",
     "text": [
      "Task accuracy: 0.52\n",
      "head 1: model.layers.8.self_attn.o_proj 1\n",
      "head 2: model.layers.8.self_attn.o_proj 1\n"
     ]
    },
    {
     "name": "stderr",
     "output_type": "stream",
     "text": [
      "100%|██████████| 2/2 [00:09<00:00,  4.75s/it]\n"
     ]
    },
    {
     "name": "stdout",
     "output_type": "stream",
     "text": [
      "Task accuracy: 0.61\n",
      "head 2: model.layers.5.self_attn.o_proj 7\n"
     ]
    },
    {
     "name": "stderr",
     "output_type": "stream",
     "text": [
      "100%|██████████| 2/2 [00:09<00:00,  4.74s/it]\n"
     ]
    },
    {
     "name": "stdout",
     "output_type": "stream",
     "text": [
      "Task accuracy: 0.61\n",
      "head 2: model.layers.10.self_attn.o_proj 21\n"
     ]
    },
    {
     "name": "stderr",
     "output_type": "stream",
     "text": [
      "100%|██████████| 2/2 [00:09<00:00,  4.73s/it]\n"
     ]
    },
    {
     "name": "stdout",
     "output_type": "stream",
     "text": [
      "Task accuracy: 0.62\n",
      "head 2: model.layers.7.self_attn.o_proj 9\n"
     ]
    },
    {
     "name": "stderr",
     "output_type": "stream",
     "text": [
      "100%|██████████| 2/2 [00:09<00:00,  4.75s/it]\n"
     ]
    },
    {
     "name": "stdout",
     "output_type": "stream",
     "text": [
      "Task accuracy: 0.59\n",
      "head 2: model.layers.9.self_attn.o_proj 15\n"
     ]
    },
    {
     "name": "stderr",
     "output_type": "stream",
     "text": [
      "100%|██████████| 2/2 [00:09<00:00,  4.72s/it]\n"
     ]
    },
    {
     "name": "stdout",
     "output_type": "stream",
     "text": [
      "Task accuracy: 0.61\n",
      "head 2: model.layers.10.self_attn.o_proj 4\n"
     ]
    },
    {
     "name": "stderr",
     "output_type": "stream",
     "text": [
      "100%|██████████| 2/2 [00:09<00:00,  4.66s/it]\n"
     ]
    },
    {
     "name": "stdout",
     "output_type": "stream",
     "text": [
      "Task accuracy: 0.62\n",
      "head 2: model.layers.12.self_attn.o_proj 0\n"
     ]
    },
    {
     "name": "stderr",
     "output_type": "stream",
     "text": [
      "100%|██████████| 2/2 [00:09<00:00,  4.78s/it]\n"
     ]
    },
    {
     "name": "stdout",
     "output_type": "stream",
     "text": [
      "Task accuracy: 0.61\n",
      "head 2: model.layers.12.self_attn.o_proj 23\n"
     ]
    },
    {
     "name": "stderr",
     "output_type": "stream",
     "text": [
      "100%|██████████| 2/2 [00:09<00:00,  4.73s/it]\n"
     ]
    },
    {
     "name": "stdout",
     "output_type": "stream",
     "text": [
      "Task accuracy: 0.61\n",
      "head 2: model.layers.12.self_attn.o_proj 9\n"
     ]
    },
    {
     "name": "stderr",
     "output_type": "stream",
     "text": [
      "100%|██████████| 2/2 [00:09<00:00,  4.73s/it]\n"
     ]
    },
    {
     "name": "stdout",
     "output_type": "stream",
     "text": [
      "Task accuracy: 0.61\n",
      "head 2: model.layers.9.self_attn.o_proj 29\n"
     ]
    },
    {
     "name": "stderr",
     "output_type": "stream",
     "text": [
      "100%|██████████| 2/2 [00:09<00:00,  4.75s/it]\n"
     ]
    },
    {
     "name": "stdout",
     "output_type": "stream",
     "text": [
      "Task accuracy: 0.61\n",
      "head 2: model.layers.6.self_attn.o_proj 23\n"
     ]
    },
    {
     "name": "stderr",
     "output_type": "stream",
     "text": [
      "100%|██████████| 2/2 [00:09<00:00,  4.73s/it]\n"
     ]
    },
    {
     "name": "stdout",
     "output_type": "stream",
     "text": [
      "Task accuracy: 0.62\n",
      "head 2: model.layers.11.self_attn.o_proj 7\n"
     ]
    },
    {
     "name": "stderr",
     "output_type": "stream",
     "text": [
      "100%|██████████| 2/2 [00:09<00:00,  4.74s/it]\n"
     ]
    },
    {
     "name": "stdout",
     "output_type": "stream",
     "text": [
      "Task accuracy: 0.61\n",
      "head 2: model.layers.12.self_attn.o_proj 8\n"
     ]
    },
    {
     "name": "stderr",
     "output_type": "stream",
     "text": [
      "100%|██████████| 2/2 [00:09<00:00,  4.74s/it]\n"
     ]
    },
    {
     "name": "stdout",
     "output_type": "stream",
     "text": [
      "Task accuracy: 0.61\n",
      "head 2: model.layers.1.self_attn.o_proj 22\n"
     ]
    },
    {
     "name": "stderr",
     "output_type": "stream",
     "text": [
      "100%|██████████| 2/2 [00:09<00:00,  4.74s/it]\n"
     ]
    },
    {
     "name": "stdout",
     "output_type": "stream",
     "text": [
      "Task accuracy: 0.58\n",
      "head 2: model.layers.13.self_attn.o_proj 9\n"
     ]
    },
    {
     "name": "stderr",
     "output_type": "stream",
     "text": [
      "100%|██████████| 2/2 [00:09<00:00,  4.74s/it]\n"
     ]
    },
    {
     "name": "stdout",
     "output_type": "stream",
     "text": [
      "Task accuracy: 0.54\n",
      "head 2: model.layers.9.self_attn.o_proj 0\n"
     ]
    },
    {
     "name": "stderr",
     "output_type": "stream",
     "text": [
      "100%|██████████| 2/2 [00:09<00:00,  4.73s/it]\n"
     ]
    },
    {
     "name": "stdout",
     "output_type": "stream",
     "text": [
      "Task accuracy: 0.62\n",
      "head 2: model.layers.12.self_attn.o_proj 16\n"
     ]
    },
    {
     "name": "stderr",
     "output_type": "stream",
     "text": [
      "100%|██████████| 2/2 [00:09<00:00,  4.72s/it]\n"
     ]
    },
    {
     "name": "stdout",
     "output_type": "stream",
     "text": [
      "Task accuracy: 0.61\n",
      "head 1: model.layers.5.self_attn.o_proj 7\n",
      "head 2: model.layers.5.self_attn.o_proj 7\n"
     ]
    },
    {
     "name": "stderr",
     "output_type": "stream",
     "text": [
      "100%|██████████| 2/2 [00:09<00:00,  4.75s/it]\n"
     ]
    },
    {
     "name": "stdout",
     "output_type": "stream",
     "text": [
      "Task accuracy: 0.61\n",
      "head 2: model.layers.10.self_attn.o_proj 21\n"
     ]
    },
    {
     "name": "stderr",
     "output_type": "stream",
     "text": [
      "100%|██████████| 2/2 [00:09<00:00,  4.73s/it]\n"
     ]
    },
    {
     "name": "stdout",
     "output_type": "stream",
     "text": [
      "Task accuracy: 0.63\n",
      "head 2: model.layers.7.self_attn.o_proj 9\n"
     ]
    },
    {
     "name": "stderr",
     "output_type": "stream",
     "text": [
      "100%|██████████| 2/2 [00:09<00:00,  4.73s/it]\n"
     ]
    },
    {
     "name": "stdout",
     "output_type": "stream",
     "text": [
      "Task accuracy: 0.61\n",
      "head 2: model.layers.9.self_attn.o_proj 15\n"
     ]
    },
    {
     "name": "stderr",
     "output_type": "stream",
     "text": [
      "100%|██████████| 2/2 [00:09<00:00,  4.72s/it]\n"
     ]
    },
    {
     "name": "stdout",
     "output_type": "stream",
     "text": [
      "Task accuracy: 0.61\n",
      "head 2: model.layers.10.self_attn.o_proj 4\n"
     ]
    },
    {
     "name": "stderr",
     "output_type": "stream",
     "text": [
      "100%|██████████| 2/2 [00:09<00:00,  4.73s/it]\n"
     ]
    },
    {
     "name": "stdout",
     "output_type": "stream",
     "text": [
      "Task accuracy: 0.61\n",
      "head 2: model.layers.12.self_attn.o_proj 0\n"
     ]
    },
    {
     "name": "stderr",
     "output_type": "stream",
     "text": [
      "100%|██████████| 2/2 [00:09<00:00,  4.73s/it]\n"
     ]
    },
    {
     "name": "stdout",
     "output_type": "stream",
     "text": [
      "Task accuracy: 0.61\n",
      "head 2: model.layers.12.self_attn.o_proj 23\n"
     ]
    },
    {
     "name": "stderr",
     "output_type": "stream",
     "text": [
      "100%|██████████| 2/2 [00:09<00:00,  4.72s/it]\n"
     ]
    },
    {
     "name": "stdout",
     "output_type": "stream",
     "text": [
      "Task accuracy: 0.61\n",
      "head 2: model.layers.12.self_attn.o_proj 9\n"
     ]
    },
    {
     "name": "stderr",
     "output_type": "stream",
     "text": [
      "100%|██████████| 2/2 [00:09<00:00,  4.71s/it]\n"
     ]
    },
    {
     "name": "stdout",
     "output_type": "stream",
     "text": [
      "Task accuracy: 0.62\n",
      "head 2: model.layers.9.self_attn.o_proj 29\n"
     ]
    },
    {
     "name": "stderr",
     "output_type": "stream",
     "text": [
      "100%|██████████| 2/2 [00:09<00:00,  4.75s/it]\n"
     ]
    },
    {
     "name": "stdout",
     "output_type": "stream",
     "text": [
      "Task accuracy: 0.59\n",
      "head 2: model.layers.6.self_attn.o_proj 23\n"
     ]
    },
    {
     "name": "stderr",
     "output_type": "stream",
     "text": [
      "100%|██████████| 2/2 [00:09<00:00,  4.71s/it]\n"
     ]
    },
    {
     "name": "stdout",
     "output_type": "stream",
     "text": [
      "Task accuracy: 0.62\n",
      "head 2: model.layers.11.self_attn.o_proj 7\n"
     ]
    },
    {
     "name": "stderr",
     "output_type": "stream",
     "text": [
      "100%|██████████| 2/2 [00:09<00:00,  4.73s/it]\n"
     ]
    },
    {
     "name": "stdout",
     "output_type": "stream",
     "text": [
      "Task accuracy: 0.61\n",
      "head 2: model.layers.12.self_attn.o_proj 8\n"
     ]
    },
    {
     "name": "stderr",
     "output_type": "stream",
     "text": [
      "100%|██████████| 2/2 [00:09<00:00,  4.73s/it]\n"
     ]
    },
    {
     "name": "stdout",
     "output_type": "stream",
     "text": [
      "Task accuracy: 0.6\n",
      "head 2: model.layers.1.self_attn.o_proj 22\n"
     ]
    },
    {
     "name": "stderr",
     "output_type": "stream",
     "text": [
      "100%|██████████| 2/2 [00:09<00:00,  4.73s/it]\n"
     ]
    },
    {
     "name": "stdout",
     "output_type": "stream",
     "text": [
      "Task accuracy: 0.58\n",
      "head 2: model.layers.13.self_attn.o_proj 9\n"
     ]
    },
    {
     "name": "stderr",
     "output_type": "stream",
     "text": [
      "100%|██████████| 2/2 [00:09<00:00,  4.73s/it]\n"
     ]
    },
    {
     "name": "stdout",
     "output_type": "stream",
     "text": [
      "Task accuracy: 0.53\n",
      "head 2: model.layers.9.self_attn.o_proj 0\n"
     ]
    },
    {
     "name": "stderr",
     "output_type": "stream",
     "text": [
      "100%|██████████| 2/2 [00:09<00:00,  4.74s/it]\n"
     ]
    },
    {
     "name": "stdout",
     "output_type": "stream",
     "text": [
      "Task accuracy: 0.62\n",
      "head 2: model.layers.12.self_attn.o_proj 16\n"
     ]
    },
    {
     "name": "stderr",
     "output_type": "stream",
     "text": [
      "100%|██████████| 2/2 [00:09<00:00,  4.72s/it]\n"
     ]
    },
    {
     "name": "stdout",
     "output_type": "stream",
     "text": [
      "Task accuracy: 0.61\n",
      "head 1: model.layers.10.self_attn.o_proj 21\n",
      "head 2: model.layers.10.self_attn.o_proj 21\n"
     ]
    },
    {
     "name": "stderr",
     "output_type": "stream",
     "text": [
      "100%|██████████| 2/2 [00:09<00:00,  4.74s/it]\n"
     ]
    },
    {
     "name": "stdout",
     "output_type": "stream",
     "text": [
      "Task accuracy: 0.62\n",
      "head 2: model.layers.7.self_attn.o_proj 9\n"
     ]
    },
    {
     "name": "stderr",
     "output_type": "stream",
     "text": [
      "100%|██████████| 2/2 [00:09<00:00,  4.72s/it]\n"
     ]
    },
    {
     "name": "stdout",
     "output_type": "stream",
     "text": [
      "Task accuracy: 0.61\n",
      "head 2: model.layers.9.self_attn.o_proj 15\n"
     ]
    },
    {
     "name": "stderr",
     "output_type": "stream",
     "text": [
      "100%|██████████| 2/2 [00:09<00:00,  4.73s/it]\n"
     ]
    },
    {
     "name": "stdout",
     "output_type": "stream",
     "text": [
      "Task accuracy: 0.62\n",
      "head 2: model.layers.10.self_attn.o_proj 4\n"
     ]
    },
    {
     "name": "stderr",
     "output_type": "stream",
     "text": [
      "100%|██████████| 2/2 [00:09<00:00,  4.74s/it]\n"
     ]
    },
    {
     "name": "stdout",
     "output_type": "stream",
     "text": [
      "Task accuracy: 0.62\n",
      "head 2: model.layers.12.self_attn.o_proj 0\n"
     ]
    },
    {
     "name": "stderr",
     "output_type": "stream",
     "text": [
      "100%|██████████| 2/2 [00:09<00:00,  4.72s/it]\n"
     ]
    },
    {
     "name": "stdout",
     "output_type": "stream",
     "text": [
      "Task accuracy: 0.62\n",
      "head 2: model.layers.12.self_attn.o_proj 23\n"
     ]
    },
    {
     "name": "stderr",
     "output_type": "stream",
     "text": [
      "100%|██████████| 2/2 [00:09<00:00,  4.72s/it]\n"
     ]
    },
    {
     "name": "stdout",
     "output_type": "stream",
     "text": [
      "Task accuracy: 0.62\n",
      "head 2: model.layers.12.self_attn.o_proj 9\n"
     ]
    },
    {
     "name": "stderr",
     "output_type": "stream",
     "text": [
      "100%|██████████| 2/2 [00:09<00:00,  4.73s/it]\n"
     ]
    },
    {
     "name": "stdout",
     "output_type": "stream",
     "text": [
      "Task accuracy: 0.62\n",
      "head 2: model.layers.9.self_attn.o_proj 29\n"
     ]
    },
    {
     "name": "stderr",
     "output_type": "stream",
     "text": [
      "100%|██████████| 2/2 [00:09<00:00,  4.74s/it]\n"
     ]
    },
    {
     "name": "stdout",
     "output_type": "stream",
     "text": [
      "Task accuracy: 0.59\n",
      "head 2: model.layers.6.self_attn.o_proj 23\n"
     ]
    },
    {
     "name": "stderr",
     "output_type": "stream",
     "text": [
      "100%|██████████| 2/2 [00:09<00:00,  4.70s/it]\n"
     ]
    },
    {
     "name": "stdout",
     "output_type": "stream",
     "text": [
      "Task accuracy: 0.62\n",
      "head 2: model.layers.11.self_attn.o_proj 7\n"
     ]
    },
    {
     "name": "stderr",
     "output_type": "stream",
     "text": [
      "100%|██████████| 2/2 [00:09<00:00,  4.72s/it]\n"
     ]
    },
    {
     "name": "stdout",
     "output_type": "stream",
     "text": [
      "Task accuracy: 0.62\n",
      "head 2: model.layers.12.self_attn.o_proj 8\n"
     ]
    },
    {
     "name": "stderr",
     "output_type": "stream",
     "text": [
      "100%|██████████| 2/2 [00:09<00:00,  4.74s/it]\n"
     ]
    },
    {
     "name": "stdout",
     "output_type": "stream",
     "text": [
      "Task accuracy: 0.62\n",
      "head 2: model.layers.1.self_attn.o_proj 22\n"
     ]
    },
    {
     "name": "stderr",
     "output_type": "stream",
     "text": [
      "100%|██████████| 2/2 [00:09<00:00,  4.74s/it]\n"
     ]
    },
    {
     "name": "stdout",
     "output_type": "stream",
     "text": [
      "Task accuracy: 0.58\n",
      "head 2: model.layers.13.self_attn.o_proj 9\n"
     ]
    },
    {
     "name": "stderr",
     "output_type": "stream",
     "text": [
      "100%|██████████| 2/2 [00:09<00:00,  4.75s/it]\n"
     ]
    },
    {
     "name": "stdout",
     "output_type": "stream",
     "text": [
      "Task accuracy: 0.52\n",
      "head 2: model.layers.9.self_attn.o_proj 0\n"
     ]
    },
    {
     "name": "stderr",
     "output_type": "stream",
     "text": [
      "100%|██████████| 2/2 [00:09<00:00,  4.74s/it]\n"
     ]
    },
    {
     "name": "stdout",
     "output_type": "stream",
     "text": [
      "Task accuracy: 0.63\n",
      "head 2: model.layers.12.self_attn.o_proj 16\n"
     ]
    },
    {
     "name": "stderr",
     "output_type": "stream",
     "text": [
      "100%|██████████| 2/2 [00:09<00:00,  4.75s/it]\n"
     ]
    },
    {
     "name": "stdout",
     "output_type": "stream",
     "text": [
      "Task accuracy: 0.62\n",
      "head 1: model.layers.7.self_attn.o_proj 9\n",
      "head 2: model.layers.7.self_attn.o_proj 9\n"
     ]
    },
    {
     "name": "stderr",
     "output_type": "stream",
     "text": [
      "100%|██████████| 2/2 [00:09<00:00,  4.74s/it]\n"
     ]
    },
    {
     "name": "stdout",
     "output_type": "stream",
     "text": [
      "Task accuracy: 0.61\n",
      "head 2: model.layers.9.self_attn.o_proj 15\n"
     ]
    },
    {
     "name": "stderr",
     "output_type": "stream",
     "text": [
      "100%|██████████| 2/2 [00:09<00:00,  4.75s/it]\n"
     ]
    },
    {
     "name": "stdout",
     "output_type": "stream",
     "text": [
      "Task accuracy: 0.59\n",
      "head 2: model.layers.10.self_attn.o_proj 4\n"
     ]
    },
    {
     "name": "stderr",
     "output_type": "stream",
     "text": [
      "100%|██████████| 2/2 [00:09<00:00,  4.76s/it]\n"
     ]
    },
    {
     "name": "stdout",
     "output_type": "stream",
     "text": [
      "Task accuracy: 0.6\n",
      "head 2: model.layers.12.self_attn.o_proj 0\n"
     ]
    },
    {
     "name": "stderr",
     "output_type": "stream",
     "text": [
      "100%|██████████| 2/2 [00:09<00:00,  4.75s/it]\n"
     ]
    },
    {
     "name": "stdout",
     "output_type": "stream",
     "text": [
      "Task accuracy: 0.6\n",
      "head 2: model.layers.12.self_attn.o_proj 23\n"
     ]
    },
    {
     "name": "stderr",
     "output_type": "stream",
     "text": [
      "100%|██████████| 2/2 [00:09<00:00,  4.75s/it]\n"
     ]
    },
    {
     "name": "stdout",
     "output_type": "stream",
     "text": [
      "Task accuracy: 0.61\n",
      "head 2: model.layers.12.self_attn.o_proj 9\n"
     ]
    },
    {
     "name": "stderr",
     "output_type": "stream",
     "text": [
      "100%|██████████| 2/2 [00:09<00:00,  4.75s/it]\n"
     ]
    },
    {
     "name": "stdout",
     "output_type": "stream",
     "text": [
      "Task accuracy: 0.61\n",
      "head 2: model.layers.9.self_attn.o_proj 29\n"
     ]
    },
    {
     "name": "stderr",
     "output_type": "stream",
     "text": [
      "100%|██████████| 2/2 [00:09<00:00,  4.77s/it]\n"
     ]
    },
    {
     "name": "stdout",
     "output_type": "stream",
     "text": [
      "Task accuracy: 0.6\n",
      "head 2: model.layers.6.self_attn.o_proj 23\n"
     ]
    },
    {
     "name": "stderr",
     "output_type": "stream",
     "text": [
      "100%|██████████| 2/2 [00:09<00:00,  4.75s/it]\n"
     ]
    },
    {
     "name": "stdout",
     "output_type": "stream",
     "text": [
      "Task accuracy: 0.57\n",
      "head 2: model.layers.11.self_attn.o_proj 7\n"
     ]
    },
    {
     "name": "stderr",
     "output_type": "stream",
     "text": [
      "100%|██████████| 2/2 [00:09<00:00,  4.79s/it]\n"
     ]
    },
    {
     "name": "stdout",
     "output_type": "stream",
     "text": [
      "Task accuracy: 0.59\n",
      "head 2: model.layers.12.self_attn.o_proj 8\n"
     ]
    },
    {
     "name": "stderr",
     "output_type": "stream",
     "text": [
      "100%|██████████| 2/2 [00:09<00:00,  4.68s/it]\n"
     ]
    },
    {
     "name": "stdout",
     "output_type": "stream",
     "text": [
      "Task accuracy: 0.59\n",
      "head 2: model.layers.1.self_attn.o_proj 22\n"
     ]
    },
    {
     "name": "stderr",
     "output_type": "stream",
     "text": [
      "100%|██████████| 2/2 [00:09<00:00,  4.76s/it]\n"
     ]
    },
    {
     "name": "stdout",
     "output_type": "stream",
     "text": [
      "Task accuracy: 0.54\n",
      "head 2: model.layers.13.self_attn.o_proj 9\n"
     ]
    },
    {
     "name": "stderr",
     "output_type": "stream",
     "text": [
      "100%|██████████| 2/2 [00:09<00:00,  4.77s/it]\n"
     ]
    },
    {
     "name": "stdout",
     "output_type": "stream",
     "text": [
      "Task accuracy: 0.61\n",
      "head 2: model.layers.9.self_attn.o_proj 0\n"
     ]
    },
    {
     "name": "stderr",
     "output_type": "stream",
     "text": [
      "100%|██████████| 2/2 [00:09<00:00,  4.70s/it]\n"
     ]
    },
    {
     "name": "stdout",
     "output_type": "stream",
     "text": [
      "Task accuracy: 0.61\n",
      "head 2: model.layers.12.self_attn.o_proj 16\n"
     ]
    },
    {
     "name": "stderr",
     "output_type": "stream",
     "text": [
      "100%|██████████| 2/2 [00:09<00:00,  4.74s/it]\n"
     ]
    },
    {
     "name": "stdout",
     "output_type": "stream",
     "text": [
      "Task accuracy: 0.6\n",
      "head 1: model.layers.9.self_attn.o_proj 15\n",
      "head 2: model.layers.9.self_attn.o_proj 15\n"
     ]
    },
    {
     "name": "stderr",
     "output_type": "stream",
     "text": [
      "100%|██████████| 2/2 [00:09<00:00,  4.75s/it]\n"
     ]
    },
    {
     "name": "stdout",
     "output_type": "stream",
     "text": [
      "Task accuracy: 0.61\n",
      "head 2: model.layers.10.self_attn.o_proj 4\n"
     ]
    },
    {
     "name": "stderr",
     "output_type": "stream",
     "text": [
      "100%|██████████| 2/2 [00:09<00:00,  4.72s/it]\n"
     ]
    },
    {
     "name": "stdout",
     "output_type": "stream",
     "text": [
      "Task accuracy: 0.61\n",
      "head 2: model.layers.12.self_attn.o_proj 0\n"
     ]
    },
    {
     "name": "stderr",
     "output_type": "stream",
     "text": [
      "100%|██████████| 2/2 [00:09<00:00,  4.74s/it]\n"
     ]
    },
    {
     "name": "stdout",
     "output_type": "stream",
     "text": [
      "Task accuracy: 0.61\n",
      "head 2: model.layers.12.self_attn.o_proj 23\n"
     ]
    },
    {
     "name": "stderr",
     "output_type": "stream",
     "text": [
      "100%|██████████| 2/2 [00:09<00:00,  4.74s/it]\n"
     ]
    },
    {
     "name": "stdout",
     "output_type": "stream",
     "text": [
      "Task accuracy: 0.61\n",
      "head 2: model.layers.12.self_attn.o_proj 9\n"
     ]
    },
    {
     "name": "stderr",
     "output_type": "stream",
     "text": [
      "100%|██████████| 2/2 [00:09<00:00,  4.73s/it]\n"
     ]
    },
    {
     "name": "stdout",
     "output_type": "stream",
     "text": [
      "Task accuracy: 0.61\n",
      "head 2: model.layers.9.self_attn.o_proj 29\n"
     ]
    },
    {
     "name": "stderr",
     "output_type": "stream",
     "text": [
      "100%|██████████| 2/2 [00:09<00:00,  4.73s/it]\n"
     ]
    },
    {
     "name": "stdout",
     "output_type": "stream",
     "text": [
      "Task accuracy: 0.6\n",
      "head 2: model.layers.6.self_attn.o_proj 23\n"
     ]
    },
    {
     "name": "stderr",
     "output_type": "stream",
     "text": [
      "100%|██████████| 2/2 [00:09<00:00,  4.76s/it]\n"
     ]
    },
    {
     "name": "stdout",
     "output_type": "stream",
     "text": [
      "Task accuracy: 0.62\n",
      "head 2: model.layers.11.self_attn.o_proj 7\n"
     ]
    },
    {
     "name": "stderr",
     "output_type": "stream",
     "text": [
      "100%|██████████| 2/2 [00:09<00:00,  4.74s/it]\n"
     ]
    },
    {
     "name": "stdout",
     "output_type": "stream",
     "text": [
      "Task accuracy: 0.61\n",
      "head 2: model.layers.12.self_attn.o_proj 8\n"
     ]
    },
    {
     "name": "stderr",
     "output_type": "stream",
     "text": [
      "100%|██████████| 2/2 [00:09<00:00,  4.72s/it]\n"
     ]
    },
    {
     "name": "stdout",
     "output_type": "stream",
     "text": [
      "Task accuracy: 0.61\n",
      "head 2: model.layers.1.self_attn.o_proj 22\n"
     ]
    },
    {
     "name": "stderr",
     "output_type": "stream",
     "text": [
      "100%|██████████| 2/2 [00:09<00:00,  4.72s/it]\n"
     ]
    },
    {
     "name": "stdout",
     "output_type": "stream",
     "text": [
      "Task accuracy: 0.58\n",
      "head 2: model.layers.13.self_attn.o_proj 9\n"
     ]
    },
    {
     "name": "stderr",
     "output_type": "stream",
     "text": [
      "100%|██████████| 2/2 [00:09<00:00,  4.70s/it]\n"
     ]
    },
    {
     "name": "stdout",
     "output_type": "stream",
     "text": [
      "Task accuracy: 0.54\n",
      "head 2: model.layers.9.self_attn.o_proj 0\n"
     ]
    },
    {
     "name": "stderr",
     "output_type": "stream",
     "text": [
      "100%|██████████| 2/2 [00:09<00:00,  4.73s/it]\n"
     ]
    },
    {
     "name": "stdout",
     "output_type": "stream",
     "text": [
      "Task accuracy: 0.63\n",
      "head 2: model.layers.12.self_attn.o_proj 16\n"
     ]
    },
    {
     "name": "stderr",
     "output_type": "stream",
     "text": [
      "100%|██████████| 2/2 [00:09<00:00,  4.71s/it]\n"
     ]
    },
    {
     "name": "stdout",
     "output_type": "stream",
     "text": [
      "Task accuracy: 0.61\n",
      "head 1: model.layers.10.self_attn.o_proj 4\n",
      "head 2: model.layers.10.self_attn.o_proj 4\n"
     ]
    },
    {
     "name": "stderr",
     "output_type": "stream",
     "text": [
      "100%|██████████| 2/2 [00:09<00:00,  4.71s/it]\n"
     ]
    },
    {
     "name": "stdout",
     "output_type": "stream",
     "text": [
      "Task accuracy: 0.62\n",
      "head 2: model.layers.12.self_attn.o_proj 0\n"
     ]
    },
    {
     "name": "stderr",
     "output_type": "stream",
     "text": [
      "100%|██████████| 2/2 [00:09<00:00,  4.70s/it]\n"
     ]
    },
    {
     "name": "stdout",
     "output_type": "stream",
     "text": [
      "Task accuracy: 0.61\n",
      "head 2: model.layers.12.self_attn.o_proj 23\n"
     ]
    },
    {
     "name": "stderr",
     "output_type": "stream",
     "text": [
      "100%|██████████| 2/2 [00:09<00:00,  4.71s/it]\n"
     ]
    },
    {
     "name": "stdout",
     "output_type": "stream",
     "text": [
      "Task accuracy: 0.62\n",
      "head 2: model.layers.12.self_attn.o_proj 9\n"
     ]
    },
    {
     "name": "stderr",
     "output_type": "stream",
     "text": [
      "100%|██████████| 2/2 [00:09<00:00,  4.72s/it]\n"
     ]
    },
    {
     "name": "stdout",
     "output_type": "stream",
     "text": [
      "Task accuracy: 0.61\n",
      "head 2: model.layers.9.self_attn.o_proj 29\n"
     ]
    },
    {
     "name": "stderr",
     "output_type": "stream",
     "text": [
      "100%|██████████| 2/2 [00:09<00:00,  4.73s/it]\n"
     ]
    },
    {
     "name": "stdout",
     "output_type": "stream",
     "text": [
      "Task accuracy: 0.59\n",
      "head 2: model.layers.6.self_attn.o_proj 23\n"
     ]
    },
    {
     "name": "stderr",
     "output_type": "stream",
     "text": [
      "100%|██████████| 2/2 [00:09<00:00,  4.70s/it]\n"
     ]
    },
    {
     "name": "stdout",
     "output_type": "stream",
     "text": [
      "Task accuracy: 0.6\n",
      "head 2: model.layers.11.self_attn.o_proj 7\n"
     ]
    },
    {
     "name": "stderr",
     "output_type": "stream",
     "text": [
      "100%|██████████| 2/2 [00:09<00:00,  4.71s/it]\n"
     ]
    },
    {
     "name": "stdout",
     "output_type": "stream",
     "text": [
      "Task accuracy: 0.62\n",
      "head 2: model.layers.12.self_attn.o_proj 8\n"
     ]
    },
    {
     "name": "stderr",
     "output_type": "stream",
     "text": [
      "100%|██████████| 2/2 [00:09<00:00,  4.73s/it]\n"
     ]
    },
    {
     "name": "stdout",
     "output_type": "stream",
     "text": [
      "Task accuracy: 0.62\n",
      "head 2: model.layers.1.self_attn.o_proj 22\n"
     ]
    },
    {
     "name": "stderr",
     "output_type": "stream",
     "text": [
      "100%|██████████| 2/2 [00:09<00:00,  4.72s/it]\n"
     ]
    },
    {
     "name": "stdout",
     "output_type": "stream",
     "text": [
      "Task accuracy: 0.57\n",
      "head 2: model.layers.13.self_attn.o_proj 9\n"
     ]
    },
    {
     "name": "stderr",
     "output_type": "stream",
     "text": [
      "100%|██████████| 2/2 [00:09<00:00,  4.71s/it]\n"
     ]
    },
    {
     "name": "stdout",
     "output_type": "stream",
     "text": [
      "Task accuracy: 0.55\n",
      "head 2: model.layers.9.self_attn.o_proj 0\n"
     ]
    },
    {
     "name": "stderr",
     "output_type": "stream",
     "text": [
      "100%|██████████| 2/2 [00:09<00:00,  4.71s/it]\n"
     ]
    },
    {
     "name": "stdout",
     "output_type": "stream",
     "text": [
      "Task accuracy: 0.61\n",
      "head 2: model.layers.12.self_attn.o_proj 16\n"
     ]
    },
    {
     "name": "stderr",
     "output_type": "stream",
     "text": [
      "100%|██████████| 2/2 [00:09<00:00,  4.71s/it]\n"
     ]
    },
    {
     "name": "stdout",
     "output_type": "stream",
     "text": [
      "Task accuracy: 0.62\n",
      "head 1: model.layers.12.self_attn.o_proj 0\n",
      "head 2: model.layers.12.self_attn.o_proj 0\n"
     ]
    },
    {
     "name": "stderr",
     "output_type": "stream",
     "text": [
      "100%|██████████| 2/2 [00:09<00:00,  4.78s/it]\n"
     ]
    },
    {
     "name": "stdout",
     "output_type": "stream",
     "text": [
      "Task accuracy: 0.61\n",
      "head 2: model.layers.12.self_attn.o_proj 23\n"
     ]
    },
    {
     "name": "stderr",
     "output_type": "stream",
     "text": [
      "100%|██████████| 2/2 [00:09<00:00,  4.73s/it]\n"
     ]
    },
    {
     "name": "stdout",
     "output_type": "stream",
     "text": [
      "Task accuracy: 0.61\n",
      "head 2: model.layers.12.self_attn.o_proj 9\n"
     ]
    },
    {
     "name": "stderr",
     "output_type": "stream",
     "text": [
      "100%|██████████| 2/2 [00:09<00:00,  4.72s/it]\n"
     ]
    },
    {
     "name": "stdout",
     "output_type": "stream",
     "text": [
      "Task accuracy: 0.61\n",
      "head 2: model.layers.9.self_attn.o_proj 29\n"
     ]
    },
    {
     "name": "stderr",
     "output_type": "stream",
     "text": [
      "100%|██████████| 2/2 [00:09<00:00,  4.73s/it]\n"
     ]
    },
    {
     "name": "stdout",
     "output_type": "stream",
     "text": [
      "Task accuracy: 0.58\n",
      "head 2: model.layers.6.self_attn.o_proj 23\n"
     ]
    },
    {
     "name": "stderr",
     "output_type": "stream",
     "text": [
      "100%|██████████| 2/2 [00:09<00:00,  4.73s/it]\n"
     ]
    },
    {
     "name": "stdout",
     "output_type": "stream",
     "text": [
      "Task accuracy: 0.62\n",
      "head 2: model.layers.11.self_attn.o_proj 7\n"
     ]
    },
    {
     "name": "stderr",
     "output_type": "stream",
     "text": [
      "100%|██████████| 2/2 [00:09<00:00,  4.72s/it]\n"
     ]
    },
    {
     "name": "stdout",
     "output_type": "stream",
     "text": [
      "Task accuracy: 0.61\n",
      "head 2: model.layers.12.self_attn.o_proj 8\n"
     ]
    },
    {
     "name": "stderr",
     "output_type": "stream",
     "text": [
      "100%|██████████| 2/2 [00:09<00:00,  4.74s/it]\n"
     ]
    },
    {
     "name": "stdout",
     "output_type": "stream",
     "text": [
      "Task accuracy: 0.61\n",
      "head 2: model.layers.1.self_attn.o_proj 22\n"
     ]
    },
    {
     "name": "stderr",
     "output_type": "stream",
     "text": [
      "100%|██████████| 2/2 [00:09<00:00,  4.74s/it]\n"
     ]
    },
    {
     "name": "stdout",
     "output_type": "stream",
     "text": [
      "Task accuracy: 0.58\n",
      "head 2: model.layers.13.self_attn.o_proj 9\n"
     ]
    },
    {
     "name": "stderr",
     "output_type": "stream",
     "text": [
      "100%|██████████| 2/2 [00:09<00:00,  4.75s/it]\n"
     ]
    },
    {
     "name": "stdout",
     "output_type": "stream",
     "text": [
      "Task accuracy: 0.54\n",
      "head 2: model.layers.9.self_attn.o_proj 0\n"
     ]
    },
    {
     "name": "stderr",
     "output_type": "stream",
     "text": [
      "100%|██████████| 2/2 [00:09<00:00,  4.77s/it]\n"
     ]
    },
    {
     "name": "stdout",
     "output_type": "stream",
     "text": [
      "Task accuracy: 0.61\n",
      "head 2: model.layers.12.self_attn.o_proj 16\n"
     ]
    },
    {
     "name": "stderr",
     "output_type": "stream",
     "text": [
      "100%|██████████| 2/2 [00:09<00:00,  4.76s/it]\n"
     ]
    },
    {
     "name": "stdout",
     "output_type": "stream",
     "text": [
      "Task accuracy: 0.61\n",
      "head 1: model.layers.12.self_attn.o_proj 23\n",
      "head 2: model.layers.12.self_attn.o_proj 23\n"
     ]
    },
    {
     "name": "stderr",
     "output_type": "stream",
     "text": [
      "100%|██████████| 2/2 [00:09<00:00,  4.76s/it]\n"
     ]
    },
    {
     "name": "stdout",
     "output_type": "stream",
     "text": [
      "Task accuracy: 0.61\n",
      "head 2: model.layers.12.self_attn.o_proj 9\n"
     ]
    },
    {
     "name": "stderr",
     "output_type": "stream",
     "text": [
      "100%|██████████| 2/2 [00:09<00:00,  4.75s/it]\n"
     ]
    },
    {
     "name": "stdout",
     "output_type": "stream",
     "text": [
      "Task accuracy: 0.61\n",
      "head 2: model.layers.9.self_attn.o_proj 29\n"
     ]
    },
    {
     "name": "stderr",
     "output_type": "stream",
     "text": [
      "100%|██████████| 2/2 [00:09<00:00,  4.76s/it]\n"
     ]
    },
    {
     "name": "stdout",
     "output_type": "stream",
     "text": [
      "Task accuracy: 0.59\n",
      "head 2: model.layers.6.self_attn.o_proj 23\n"
     ]
    },
    {
     "name": "stderr",
     "output_type": "stream",
     "text": [
      "  0%|          | 0/2 [00:00<?, ?it/s]"
     ]
    }
   ],
   "source": [
    "circuit_components = {}\n",
    "circuit_components[0] = defaultdict(list)\n",
    "circuit_components[2] = defaultdict(list)\n",
    "circuit_components[-1] = defaultdict(list)\n",
    "circuit_components[-2] = defaultdict(list)\n",
    "\n",
    "greedy_res = defaultdict(lambda: defaultdict(float))\n",
    "\n",
    "path = root_path + \"/direct_logit_heads.pt\"\n",
    "logit_values = torch.load(path)\n",
    "direct_logit_heads, _ = analysis_utils.compute_topk_components(\n",
    "    torch.load(path), k=n_value_fetcher, largest=False\n",
    ")\n",
    "\n",
    "path = root_path + \"/heads_affect_direct_logit.pt\"\n",
    "logit_values = torch.load(path)\n",
    "heads_affecting_direct_logit_heads, _ = analysis_utils.compute_topk_components(\n",
    "    torch.load(path), k=n_pos_trans, largest=False\n",
    ")\n",
    "\n",
    "path = root_path + \"/heads_at_query_box_pos.pt\"\n",
    "logit_values = torch.load(path)\n",
    "head_at_query_box_token, _ = analysis_utils.compute_topk_components(\n",
    "    torch.load(path), k=n_pos_detect, largest=False\n",
    ")\n",
    "\n",
    "path = root_path + \"/heads_at_prev_query_box_pos.pt\"\n",
    "logit_values = torch.load(path)\n",
    "heads_at_prev_box_pos, _ = analysis_utils.compute_topk_components(\n",
    "    torch.load(path), k=n_struct_read, largest=False\n",
    ")\n",
    "\n",
    "intersection = []\n",
    "for head in direct_logit_heads:\n",
    "    if head in heads_affecting_direct_logit_heads:\n",
    "        intersection.append(head)\n",
    "\n",
    "for head in intersection:\n",
    "    direct_logit_heads.remove(head)\n",
    "\n",
    "print(\n",
    "    len(direct_logit_heads),\n",
    "    len(heads_affecting_direct_logit_heads),\n",
    "    len(head_at_query_box_token),\n",
    "    len(heads_at_prev_box_pos),\n",
    ")\n",
    "\n",
    "\n",
    "for layer_idx, head in direct_logit_heads:\n",
    "    if model.config.architectures[0] == \"LlamaForCausalLM\":\n",
    "        layer = f\"model.layers.{layer_idx}.self_attn.o_proj\"\n",
    "    else:\n",
    "        layer = f\"base_model.model.model.layers.{layer_idx}.self_attn.o_proj\"\n",
    "    circuit_components[0][layer].append(head)\n",
    "\n",
    "for layer_idx, head in heads_affecting_direct_logit_heads:\n",
    "    if model.config.architectures[0] == \"LlamaForCausalLM\":\n",
    "        layer = f\"model.layers.{layer_idx}.self_attn.o_proj\"\n",
    "    else:\n",
    "        layer = f\"base_model.model.model.layers.{layer_idx}.self_attn.o_proj\"\n",
    "    circuit_components[0][layer].append(head)\n",
    "\n",
    "\n",
    "for layer_idx, head in head_at_query_box_token:\n",
    "    if model.config.architectures[0] == \"LlamaForCausalLM\":\n",
    "        layer = f\"model.layers.{layer_idx}.self_attn.o_proj\"\n",
    "    else:\n",
    "        layer = f\"base_model.model.model.layers.{layer_idx}.self_attn.o_proj\"\n",
    "    circuit_components[2][layer].append(head)\n",
    "\n",
    "for layer_idx, head in heads_at_prev_box_pos:\n",
    "    if model.config.architectures[0] == \"LlamaForCausalLM\":\n",
    "        layer = f\"model.layers.{layer_idx}.self_attn.o_proj\"\n",
    "    else:\n",
    "        layer = f\"base_model.model.model.layers.{layer_idx}.self_attn.o_proj\"\n",
    "    circuit_components[-1][layer].append(head)\n",
    "\n",
    "\n",
    "for layer_idx_1, head_1 in head_at_query_box_token:\n",
    "    if model.config.architectures[0] == \"LlamaForCausalLM\":\n",
    "        layer_1 = f\"model.layers.{layer_idx_1}.self_attn.o_proj\"\n",
    "    else:\n",
    "        layer_1 = f\"base_model.model.model.layers.{layer_idx_1}.self_attn.o_proj\"\n",
    "\n",
    "    circuit_components[2][layer_1].remove(head_1)\n",
    "    print(\"head 1:\", layer_1, head_1)\n",
    "\n",
    "    for layer_idx_2, head_2 in head_at_query_box_token:\n",
    "        if model.config.architectures[0] == \"LlamaForCausalLM\":\n",
    "            layer_2 = f\"model.layers.{layer_idx_2}.self_attn.o_proj\"\n",
    "        else:\n",
    "            layer_2 = f\"base_model.model.model.layers.{layer_idx_2}.self_attn.o_proj\"\n",
    "\n",
    "        if greedy_res[(layer_2, head_2)][(layer_1, head_1)] > 0.0:\n",
    "            continue\n",
    "        if layer_1 is not layer_2 and head_1 is not head_2:\n",
    "            circuit_components[2][layer_2].remove(head_2)\n",
    "\n",
    "        print(\"head 2:\", layer_2, head_2)\n",
    "        greedy_res[(layer_1, head_1)][(layer_2, head_2)] = eval(\n",
    "            model, dataloader, modules, circuit_components, mean_activations\n",
    "        )\n",
    "        if layer_1 is not layer_2 and head_1 is not head_2:\n",
    "            circuit_components[2][layer_2].append(head_2)\n",
    "\n",
    "    circuit_components[2][layer_1].append(head_1)"
   ]
  },
  {
   "cell_type": "code",
   "execution_count": null,
   "metadata": {},
   "outputs": [],
   "source": [
    "res = defaultdict(lambda: defaultdict(float))\n",
    "for k in greedy_res:\n",
    "    for k_2 in greedy_res[k]:\n",
    "        if greedy_res[k][k_2] > 0.0:\n",
    "            res[str(k)][str(k_2)] = greedy_res[k][k_2]\n",
    "            res[str(k_2)][str(k)] = greedy_res[k][k_2]\n",
    "\n",
    "with open(\"../path_patching/results/minimality/head_at_query_box_token.json\", \"w\") as file:\n",
    "    json.dump(res, file)"
   ]
  },
  {
   "cell_type": "markdown",
   "metadata": {},
   "source": [
    "### direct_logit_heads"
   ]
  },
  {
   "cell_type": "code",
   "execution_count": null,
   "metadata": {},
   "outputs": [],
   "source": [
    "circuit_components = {}\n",
    "circuit_components[0] = defaultdict(list)\n",
    "circuit_components[2] = defaultdict(list)\n",
    "circuit_components[-1] = defaultdict(list)\n",
    "circuit_components[-2] = defaultdict(list)\n",
    "\n",
    "greedy_res = defaultdict(lambda: defaultdict(float))\n",
    "\n",
    "path = root_path + \"/direct_logit_heads.pt\"\n",
    "logit_values = torch.load(path)\n",
    "direct_logit_heads = analysis_utils.compute_topk_components(\n",
    "    torch.load(path), k=n_value_fetcher, largest=False\n",
    ")\n",
    "\n",
    "path = root_path + \"/heads_affect_direct_logit.pt\"\n",
    "logit_values = torch.load(path)\n",
    "heads_affecting_direct_logit_heads = analysis_utils.compute_topk_components(\n",
    "    torch.load(path), k=n_pos_trans, largest=False\n",
    ")\n",
    "\n",
    "path = root_path + \"/heads_at_query_box_pos.pt\"\n",
    "logit_values = torch.load(path)\n",
    "head_at_query_box_token = analysis_utils.compute_topk_components(\n",
    "    torch.load(path), k=n_pos_detect, largest=False\n",
    ")\n",
    "\n",
    "path = root_path + \"/heads_at_prev_query_box_pos.pt\"\n",
    "logit_values = torch.load(path)\n",
    "heads_at_prev_box_pos = analysis_utils.compute_topk_components(\n",
    "    torch.load(path), k=n_struct_read, largest=False\n",
    ")\n",
    "\n",
    "intersection = []\n",
    "for head in direct_logit_heads:\n",
    "    if head in heads_affecting_direct_logit_heads:\n",
    "        intersection.append(head)\n",
    "\n",
    "for head in intersection:\n",
    "    direct_logit_heads.remove(head)\n",
    "\n",
    "print(\n",
    "    len(direct_logit_heads),\n",
    "    len(heads_affecting_direct_logit_heads),\n",
    "    len(head_at_query_box_token),\n",
    "    len(heads_at_prev_box_pos),\n",
    ")\n",
    "\n",
    "\n",
    "for layer_idx, head in direct_logit_heads:\n",
    "    if model.config.architectures[0] == \"LlamaForCausalLM\":\n",
    "        layer = f\"model.layers.{layer_idx}.self_attn.o_proj\"\n",
    "    else:\n",
    "        layer = f\"base_model.model.model.layers.{layer_idx}.self_attn.o_proj\"\n",
    "    circuit_components[0][layer].append(head)\n",
    "\n",
    "for layer_idx, head in heads_affecting_direct_logit_heads:\n",
    "    if model.config.architectures[0] == \"LlamaForCausalLM\":\n",
    "        layer = f\"model.layers.{layer_idx}.self_attn.o_proj\"\n",
    "    else:\n",
    "        layer = f\"base_model.model.model.layers.{layer_idx}.self_attn.o_proj\"\n",
    "    circuit_components[0][layer].append(head)\n",
    "\n",
    "\n",
    "for layer_idx, head in head_at_query_box_token:\n",
    "    if model.config.architectures[0] == \"LlamaForCausalLM\":\n",
    "        layer = f\"model.layers.{layer_idx}.self_attn.o_proj\"\n",
    "    else:\n",
    "        layer = f\"base_model.model.model.layers.{layer_idx}.self_attn.o_proj\"\n",
    "    circuit_components[2][layer].append(head)\n",
    "\n",
    "for layer_idx, head in heads_at_prev_box_pos:\n",
    "    if model.config.architectures[0] == \"LlamaForCausalLM\":\n",
    "        layer = f\"model.layers.{layer_idx}.self_attn.o_proj\"\n",
    "    else:\n",
    "        layer = f\"base_model.model.model.layers.{layer_idx}.self_attn.o_proj\"\n",
    "    circuit_components[-1][layer].append(head)\n",
    "\n",
    "\n",
    "for layer_idx_1, head_1 in direct_logit_heads:\n",
    "    if model.config.architectures[0] == \"LlamaForCausalLM\":\n",
    "        layer_1 = f\"model.layers.{layer_idx_1}.self_attn.o_proj\"\n",
    "    else:\n",
    "        layer_1 = f\"base_model.model.model.layers.{layer_idx_1}.self_attn.o_proj\"\n",
    "\n",
    "    circuit_components[0][layer_1].remove(head_1)\n",
    "    print(\"head 1:\", layer_1, head_1)\n",
    "\n",
    "    for layer_idx_2, head_2 in direct_logit_heads:\n",
    "        if model.config.architectures[0] == \"LlamaForCausalLM\":\n",
    "            layer_2 = f\"model.layers.{layer_idx_2}.self_attn.o_proj\"\n",
    "        else:\n",
    "            layer_2 = f\"base_model.model.model.layers.{layer_idx_2}.self_attn.o_proj\"\n",
    "        if greedy_res[(layer_2, head_2)][(layer_1, head_1)] > 0.0:\n",
    "            continue\n",
    "        if layer_1 is not layer_2 and head_1 is not head_2:\n",
    "            circuit_components[0][layer_2].remove(head_2)\n",
    "        print(\"head 2:\", layer_2, head_2)\n",
    "        greedy_res[(layer_1, head_1)][(layer_2, head_2)] = eval(\n",
    "            model, dataloader, modules, circuit_components, mean_activations\n",
    "        )\n",
    "        if layer_1 is not layer_2 and head_1 is not head_2:\n",
    "            circuit_components[0][layer_2].append(head_2)\n",
    "\n",
    "    circuit_components[0][layer_1].append(head_1)"
   ]
  },
  {
   "cell_type": "code",
   "execution_count": null,
   "metadata": {},
   "outputs": [],
   "source": [
    "res = defaultdict(lambda: defaultdict(float))\n",
    "for k in greedy_res:\n",
    "    for k_2 in greedy_res[k]:\n",
    "        if greedy_res[k][k_2] > 0.0:\n",
    "            res[str(k)][str(k_2)] = greedy_res[k][k_2]\n",
    "            res[str(k_2)][str(k)] = greedy_res[k][k_2]\n",
    "\n",
    "with open(\"./post-submission/goat-7b/direct_logit_heads.json\", \"w\") as file:\n",
    "    json.dump(res, file)"
   ]
  },
  {
   "cell_type": "markdown",
   "metadata": {
    "jp-MarkdownHeadingCollapsed": true
   },
   "source": [
    "### heads_affecting_direct_logit_heads"
   ]
  },
  {
   "cell_type": "code",
   "execution_count": null,
   "metadata": {},
   "outputs": [],
   "source": [
    "circuit_components = {}\n",
    "circuit_components[0] = defaultdict(list)\n",
    "circuit_components[2] = defaultdict(list)\n",
    "circuit_components[-1] = defaultdict(list)\n",
    "circuit_components[-2] = defaultdict(list)\n",
    "\n",
    "greedy_res = defaultdict(lambda: defaultdict(float))\n",
    "\n",
    "path = root_path + \"/direct_logit_heads.pt\"\n",
    "logit_values = torch.load(path)\n",
    "direct_logit_heads = analysis_utils.compute_topk_components(\n",
    "    torch.load(path), k=n_value_fetcher, largest=False\n",
    ")\n",
    "\n",
    "path = root_path + \"/heads_affect_direct_logit.pt\"\n",
    "logit_values = torch.load(path)\n",
    "heads_affecting_direct_logit_heads = analysis_utils.compute_topk_components(\n",
    "    torch.load(path), k=n_pos_trans, largest=False\n",
    ")\n",
    "\n",
    "path = root_path + \"/heads_at_query_box_pos.pt\"\n",
    "logit_values = torch.load(path)\n",
    "head_at_query_box_token = analysis_utils.compute_topk_components(\n",
    "    torch.load(path), k=n_pos_detect, largest=False\n",
    ")\n",
    "\n",
    "path = root_path + \"/heads_at_prev_query_box_pos.pt\"\n",
    "logit_values = torch.load(path)\n",
    "heads_at_prev_box_pos = analysis_utils.compute_topk_components(\n",
    "    torch.load(path), k=n_struct_read, largest=False\n",
    ")\n",
    "\n",
    "intersection = []\n",
    "for head in direct_logit_heads:\n",
    "    if head in heads_affecting_direct_logit_heads:\n",
    "        intersection.append(head)\n",
    "\n",
    "for head in intersection:\n",
    "    direct_logit_heads.remove(head)\n",
    "\n",
    "print(\n",
    "    len(direct_logit_heads),\n",
    "    len(heads_affecting_direct_logit_heads),\n",
    "    len(head_at_query_box_token),\n",
    "    len(heads_at_prev_box_pos),\n",
    ")\n",
    "\n",
    "\n",
    "for layer_idx, head in direct_logit_heads:\n",
    "    if model.config.architectures[0] == \"LlamaForCausalLM\":\n",
    "        layer = f\"model.layers.{layer_idx}.self_attn.o_proj\"\n",
    "    else:\n",
    "        layer = f\"base_model.model.model.layers.{layer_idx}.self_attn.o_proj\"\n",
    "    circuit_components[0][layer].append(head)\n",
    "\n",
    "for layer_idx, head in heads_affecting_direct_logit_heads:\n",
    "    if model.config.architectures[0] == \"LlamaForCausalLM\":\n",
    "        layer = f\"model.layers.{layer_idx}.self_attn.o_proj\"\n",
    "    else:\n",
    "        layer = f\"base_model.model.model.layers.{layer_idx}.self_attn.o_proj\"\n",
    "    circuit_components[0][layer].append(head)\n",
    "\n",
    "\n",
    "for layer_idx, head in head_at_query_box_token:\n",
    "    if model.config.architectures[0] == \"LlamaForCausalLM\":\n",
    "        layer = f\"model.layers.{layer_idx}.self_attn.o_proj\"\n",
    "    else:\n",
    "        layer = f\"base_model.model.model.layers.{layer_idx}.self_attn.o_proj\"\n",
    "    circuit_components[2][layer].append(head)\n",
    "\n",
    "for layer_idx, head in heads_at_prev_box_pos:\n",
    "    if model.config.architectures[0] == \"LlamaForCausalLM\":\n",
    "        layer = f\"model.layers.{layer_idx}.self_attn.o_proj\"\n",
    "    else:\n",
    "        layer = f\"base_model.model.model.layers.{layer_idx}.self_attn.o_proj\"\n",
    "    circuit_components[-1][layer].append(head)\n",
    "\n",
    "\n",
    "for layer_idx_1, head_1 in heads_affecting_direct_logit_heads:\n",
    "    if model.config.architectures[0] == \"LlamaForCausalLM\":\n",
    "        layer_1 = f\"model.layers.{layer_idx_1}.self_attn.o_proj\"\n",
    "    else:\n",
    "        layer_1 = f\"base_model.model.model.layers.{layer_idx_1}.self_attn.o_proj\"\n",
    "\n",
    "    circuit_components[0][layer_1].remove(head_1)\n",
    "    print(\"head 1:\", layer_1, head_1)\n",
    "\n",
    "    for layer_idx_2, head_2 in heads_affecting_direct_logit_heads:\n",
    "        if model.config.architectures[0] == \"LlamaForCausalLM\":\n",
    "            layer_2 = f\"model.layers.{layer_idx_2}.self_attn.o_proj\"\n",
    "        else:\n",
    "            layer_2 = f\"base_model.model.model.layers.{layer_idx_2}.self_attn.o_proj\"\n",
    "        if greedy_res[(layer_2, head_2)][(layer_1, head_1)] > 0.0:\n",
    "            continue\n",
    "        if layer_1 is not layer_2 and head_1 is not head_2:\n",
    "            circuit_components[0][layer_2].remove(head_2)\n",
    "        print(\"head 2:\", layer_2, head_2)\n",
    "        greedy_res[(layer_1, head_1)][(layer_2, head_2)] = eval(\n",
    "            model, dataloader, modules, circuit_components, mean_activations\n",
    "        )\n",
    "        if layer_1 is not layer_2 and head_1 is not head_2:\n",
    "            circuit_components[0][layer_2].append(head_2)\n",
    "\n",
    "    circuit_components[0][layer_1].append(head_1)"
   ]
  },
  {
   "cell_type": "code",
   "execution_count": null,
   "metadata": {},
   "outputs": [],
   "source": [
    "res = defaultdict(lambda: defaultdict(float))\n",
    "for k in greedy_res:\n",
    "    for k_2 in greedy_res[k]:\n",
    "        if greedy_res[k][k_2] > 0.0:\n",
    "            res[str(k)][str(k_2)] = greedy_res[k][k_2]\n",
    "            res[str(k_2)][str(k)] = greedy_res[k][k_2]\n",
    "\n",
    "with open(\n",
    "    \"./post-submission/goat-7b/heads_affecting_direct_logit_heads.json\", \"w\"\n",
    ") as file:\n",
    "    json.dump(res, file)"
   ]
  },
  {
   "cell_type": "markdown",
   "metadata": {},
   "source": [
    "## Greedy search - Computing the set"
   ]
  },
  {
   "cell_type": "code",
   "execution_count": 15,
   "metadata": {},
   "outputs": [],
   "source": [
    "def string_to_tuple(myStr):\n",
    "    myStr = myStr.replace(\"(\", \"\")\n",
    "    myStr = myStr.replace(\")\", \"\")\n",
    "    myStr = myStr.replace(\",\", \" \")\n",
    "    myList = myStr.split()\n",
    "    myList = list(map(str, myList))\n",
    "    myTuple = tuple(myList)\n",
    "    return myTuple"
   ]
  },
  {
   "cell_type": "code",
   "execution_count": 16,
   "metadata": {},
   "outputs": [],
   "source": [
    "n_value_fetcher = 63\n",
    "n_pos_trans = 15\n",
    "n_pos_detect = 30\n",
    "n_struct_read = 5\n",
    "percentage = 0.3"
   ]
  },
  {
   "cell_type": "markdown",
   "metadata": {},
   "source": [
    "### llama_heads_at_prev_box_pos.json"
   ]
  },
  {
   "cell_type": "code",
   "execution_count": 33,
   "metadata": {},
   "outputs": [],
   "source": [
    "import json\n",
    "\n",
    "with open(\"./post-submission/llama-7b/llama_heads_at_prev_box_pos.json\", \"r\") as f:\n",
    "    data = json.load(f)"
   ]
  },
  {
   "cell_type": "code",
   "execution_count": 34,
   "metadata": {},
   "outputs": [],
   "source": [
    "ranked = defaultdict(list)\n",
    "for k_1 in data:\n",
    "    for k_2 in data[k_1]:\n",
    "        ranked[k_1].append((k_2, data[k_2][k_2] - data[k_1][k_2]))\n",
    "for k_1 in ranked:\n",
    "    ranked[k_1].sort(key=(lambda x: x[1]), reverse=True)"
   ]
  },
  {
   "cell_type": "code",
   "execution_count": 37,
   "metadata": {},
   "outputs": [
    {
     "name": "stdout",
     "output_type": "stream",
     "text": [
      "50 15 30 5\n"
     ]
    },
    {
     "name": "stderr",
     "output_type": "stream",
     "text": [
      "100%|██████████| 10/10 [01:03<00:00,  6.36s/it]\n"
     ]
    },
    {
     "name": "stdout",
     "output_type": "stream",
     "text": [
      "Task accuracy: 0.57\n"
     ]
    },
    {
     "name": "stderr",
     "output_type": "stream",
     "text": [
      "\r\n",
      "  0%|          | 0/5 [00:00<?, ?it/s]"
     ]
    },
    {
     "name": "stdout",
     "output_type": "stream",
     "text": [
      "model.layers.8.self_attn.o_proj 21\n",
      "remove model.layers.11.self_attn.o_proj 23\n",
      "remove model.layers.12.self_attn.o_proj 23\n"
     ]
    },
    {
     "name": "stderr",
     "output_type": "stream",
     "text": [
      "\n",
      "  0%|          | 0/10 [00:00<?, ?it/s]\u001b[A\n",
      " 10%|█         | 1/10 [00:06<00:56,  6.28s/it]\u001b[A\n",
      " 20%|██        | 2/10 [00:12<00:50,  6.27s/it]\u001b[A\n",
      " 30%|███       | 3/10 [00:18<00:43,  6.27s/it]\u001b[A\n",
      " 40%|████      | 4/10 [00:25<00:37,  6.28s/it]\u001b[A\n",
      " 50%|█████     | 5/10 [00:31<00:31,  6.28s/it]\u001b[A\n",
      " 60%|██████    | 6/10 [00:37<00:25,  6.28s/it]\u001b[A\n",
      " 70%|███████   | 7/10 [00:43<00:18,  6.28s/it]\u001b[A\n",
      " 80%|████████  | 8/10 [00:50<00:12,  6.29s/it]\u001b[A\n",
      " 90%|█████████ | 9/10 [00:56<00:06,  6.29s/it]\u001b[A\n",
      "100%|██████████| 10/10 [01:02<00:00,  6.28s/it]\u001b[A\n"
     ]
    },
    {
     "name": "stdout",
     "output_type": "stream",
     "text": [
      "Task accuracy: 0.55\n"
     ]
    },
    {
     "name": "stderr",
     "output_type": "stream",
     "text": [
      "\n",
      "  0%|          | 0/10 [00:00<?, ?it/s]\u001b[A\n",
      " 10%|█         | 1/10 [00:06<00:56,  6.28s/it]\u001b[A\n",
      " 20%|██        | 2/10 [00:12<00:50,  6.25s/it]\u001b[A\n",
      " 30%|███       | 3/10 [00:18<00:43,  6.25s/it]\u001b[A\n",
      " 40%|████      | 4/10 [00:25<00:37,  6.26s/it]\u001b[A\n",
      " 50%|█████     | 5/10 [00:31<00:31,  6.27s/it]\u001b[A\n",
      " 60%|██████    | 6/10 [00:37<00:25,  6.27s/it]\u001b[A\n",
      " 70%|███████   | 7/10 [00:43<00:18,  6.27s/it]\u001b[A\n",
      " 80%|████████  | 8/10 [00:50<00:12,  6.28s/it]\u001b[A\n",
      " 90%|█████████ | 9/10 [00:56<00:06,  6.28s/it]\u001b[A\n",
      "100%|██████████| 10/10 [01:02<00:00,  6.27s/it]\u001b[A\n",
      " 20%|██        | 1/5 [02:05<08:22, 125.52s/it]"
     ]
    },
    {
     "name": "stdout",
     "output_type": "stream",
     "text": [
      "Task accuracy: 0.4\n",
      "model.layers.12.self_attn.o_proj 23\n",
      "remove model.layers.8.self_attn.o_proj 21\n",
      "remove model.layers.11.self_attn.o_proj 9\n"
     ]
    },
    {
     "name": "stderr",
     "output_type": "stream",
     "text": [
      "\n",
      "  0%|          | 0/10 [00:00<?, ?it/s]\u001b[A\n",
      " 10%|█         | 1/10 [00:06<00:56,  6.30s/it]\u001b[A\n",
      " 20%|██        | 2/10 [00:12<00:50,  6.26s/it]\u001b[A\n",
      " 30%|███       | 3/10 [00:18<00:43,  6.26s/it]\u001b[A\n",
      " 40%|████      | 4/10 [00:25<00:37,  6.26s/it]\u001b[A\n",
      " 50%|█████     | 5/10 [00:31<00:31,  6.27s/it]\u001b[A\n",
      " 60%|██████    | 6/10 [00:37<00:25,  6.27s/it]\u001b[A\n",
      " 70%|███████   | 7/10 [00:43<00:18,  6.27s/it]\u001b[A\n",
      " 80%|████████  | 8/10 [00:50<00:12,  6.28s/it]\u001b[A\n",
      " 90%|█████████ | 9/10 [00:56<00:06,  6.27s/it]\u001b[A\n",
      "100%|██████████| 10/10 [01:02<00:00,  6.27s/it]\u001b[A\n"
     ]
    },
    {
     "name": "stdout",
     "output_type": "stream",
     "text": [
      "Task accuracy: 0.42\n"
     ]
    },
    {
     "name": "stderr",
     "output_type": "stream",
     "text": [
      "\n",
      "  0%|          | 0/10 [00:00<?, ?it/s]\u001b[A\n",
      " 10%|█         | 1/10 [00:06<00:56,  6.24s/it]\u001b[A\n",
      " 20%|██        | 2/10 [00:12<00:49,  6.25s/it]\u001b[A\n",
      " 30%|███       | 3/10 [00:18<00:43,  6.27s/it]\u001b[A\n",
      " 40%|████      | 4/10 [00:25<00:37,  6.27s/it]\u001b[A\n",
      " 50%|█████     | 5/10 [00:31<00:31,  6.28s/it]\u001b[A\n",
      " 60%|██████    | 6/10 [00:37<00:25,  6.28s/it]\u001b[A\n",
      " 70%|███████   | 7/10 [00:43<00:18,  6.29s/it]\u001b[A\n",
      " 80%|████████  | 8/10 [00:50<00:12,  6.29s/it]\u001b[A\n",
      " 90%|█████████ | 9/10 [00:56<00:06,  6.29s/it]\u001b[A\n",
      "100%|██████████| 10/10 [01:02<00:00,  6.28s/it]\u001b[A\n",
      " 40%|████      | 2/5 [04:10<06:16, 125.47s/it]"
     ]
    },
    {
     "name": "stdout",
     "output_type": "stream",
     "text": [
      "Task accuracy: 0.42\n",
      "model.layers.11.self_attn.o_proj 9\n",
      "remove model.layers.8.self_attn.o_proj 21\n",
      "remove model.layers.12.self_attn.o_proj 23\n"
     ]
    },
    {
     "name": "stderr",
     "output_type": "stream",
     "text": [
      "\n",
      "  0%|          | 0/10 [00:00<?, ?it/s]\u001b[A\n",
      " 10%|█         | 1/10 [00:06<00:56,  6.26s/it]\u001b[A\n",
      " 20%|██        | 2/10 [00:12<00:50,  6.26s/it]\u001b[A\n",
      " 30%|███       | 3/10 [00:18<00:43,  6.28s/it]\u001b[A\n",
      " 40%|████      | 4/10 [00:25<00:37,  6.28s/it]\u001b[A\n",
      " 50%|█████     | 5/10 [00:31<00:31,  6.28s/it]\u001b[A\n",
      " 60%|██████    | 6/10 [00:37<00:25,  6.28s/it]\u001b[A\n",
      " 70%|███████   | 7/10 [00:43<00:18,  6.29s/it]\u001b[A\n",
      " 80%|████████  | 8/10 [00:50<00:12,  6.28s/it]\u001b[A\n",
      " 90%|█████████ | 9/10 [00:56<00:06,  6.28s/it]\u001b[A\n",
      "100%|██████████| 10/10 [01:02<00:00,  6.28s/it]\u001b[A\n"
     ]
    },
    {
     "name": "stdout",
     "output_type": "stream",
     "text": [
      "Task accuracy: 0.42\n"
     ]
    },
    {
     "name": "stderr",
     "output_type": "stream",
     "text": [
      "\n",
      "  0%|          | 0/10 [00:00<?, ?it/s]\u001b[A\n",
      " 10%|█         | 1/10 [00:06<00:56,  6.25s/it]\u001b[A\n",
      " 20%|██        | 2/10 [00:12<00:49,  6.25s/it]\u001b[A\n",
      " 30%|███       | 3/10 [00:18<00:43,  6.25s/it]\u001b[A\n",
      " 40%|████      | 4/10 [00:25<00:37,  6.26s/it]\u001b[A\n",
      " 50%|█████     | 5/10 [00:31<00:31,  6.26s/it]\u001b[A\n",
      " 60%|██████    | 6/10 [00:37<00:25,  6.27s/it]\u001b[A\n",
      " 70%|███████   | 7/10 [00:43<00:18,  6.27s/it]\u001b[A\n",
      " 80%|████████  | 8/10 [00:50<00:12,  6.27s/it]\u001b[A\n",
      " 90%|█████████ | 9/10 [00:56<00:06,  6.27s/it]\u001b[A\n",
      "100%|██████████| 10/10 [01:02<00:00,  6.26s/it]\u001b[A\n",
      " 60%|██████    | 3/5 [06:16<04:10, 125.44s/it]"
     ]
    },
    {
     "name": "stdout",
     "output_type": "stream",
     "text": [
      "Task accuracy: 0.42\n",
      "model.layers.11.self_attn.o_proj 23\n",
      "remove model.layers.8.self_attn.o_proj 21\n",
      "remove model.layers.11.self_attn.o_proj 9\n"
     ]
    },
    {
     "name": "stderr",
     "output_type": "stream",
     "text": [
      "\n",
      "  0%|          | 0/10 [00:00<?, ?it/s]\u001b[A\n",
      " 10%|█         | 1/10 [00:06<00:56,  6.24s/it]\u001b[A\n",
      " 20%|██        | 2/10 [00:12<00:49,  6.24s/it]\u001b[A\n",
      " 30%|███       | 3/10 [00:18<00:43,  6.25s/it]\u001b[A\n",
      " 40%|████      | 4/10 [00:25<00:37,  6.26s/it]\u001b[A\n",
      " 50%|█████     | 5/10 [00:31<00:31,  6.34s/it]\u001b[A\n",
      " 60%|██████    | 6/10 [00:37<00:25,  6.32s/it]\u001b[A\n",
      " 70%|███████   | 7/10 [00:44<00:18,  6.31s/it]\u001b[A\n",
      " 80%|████████  | 8/10 [00:50<00:12,  6.30s/it]\u001b[A\n",
      " 90%|█████████ | 9/10 [00:56<00:06,  6.29s/it]\u001b[A\n",
      "100%|██████████| 10/10 [01:02<00:00,  6.29s/it]\u001b[A\n"
     ]
    },
    {
     "name": "stdout",
     "output_type": "stream",
     "text": [
      "Task accuracy: 0.42\n"
     ]
    },
    {
     "name": "stderr",
     "output_type": "stream",
     "text": [
      "\n",
      "  0%|          | 0/10 [00:00<?, ?it/s]\u001b[A\n",
      " 10%|█         | 1/10 [00:06<00:56,  6.28s/it]\u001b[A\n",
      " 20%|██        | 2/10 [00:12<00:50,  6.27s/it]\u001b[A\n",
      " 30%|███       | 3/10 [00:18<00:43,  6.26s/it]\u001b[A\n",
      " 40%|████      | 4/10 [00:25<00:37,  6.27s/it]\u001b[A\n",
      " 50%|█████     | 5/10 [00:31<00:31,  6.27s/it]\u001b[A\n",
      " 60%|██████    | 6/10 [00:37<00:25,  6.28s/it]\u001b[A\n",
      " 70%|███████   | 7/10 [00:43<00:18,  6.28s/it]\u001b[A\n",
      " 80%|████████  | 8/10 [00:50<00:12,  6.28s/it]\u001b[A\n",
      " 90%|█████████ | 9/10 [00:56<00:06,  6.27s/it]\u001b[A\n",
      "100%|██████████| 10/10 [01:02<00:00,  6.27s/it]\u001b[A\n",
      " 80%|████████  | 4/5 [08:21<02:05, 125.50s/it]"
     ]
    },
    {
     "name": "stdout",
     "output_type": "stream",
     "text": [
      "Task accuracy: 0.41\n",
      "model.layers.8.self_attn.o_proj 12\n",
      "remove model.layers.8.self_attn.o_proj 21\n",
      "remove model.layers.12.self_attn.o_proj 23\n"
     ]
    },
    {
     "name": "stderr",
     "output_type": "stream",
     "text": [
      "\n",
      "  0%|          | 0/10 [00:00<?, ?it/s]\u001b[A\n",
      " 10%|█         | 1/10 [00:06<00:56,  6.25s/it]\u001b[A\n",
      " 20%|██        | 2/10 [00:12<00:50,  6.26s/it]\u001b[A\n",
      " 30%|███       | 3/10 [00:18<00:43,  6.26s/it]\u001b[A\n",
      " 40%|████      | 4/10 [00:25<00:37,  6.26s/it]\u001b[A\n",
      " 50%|█████     | 5/10 [00:31<00:31,  6.27s/it]\u001b[A\n",
      " 60%|██████    | 6/10 [00:37<00:25,  6.27s/it]\u001b[A\n",
      " 70%|███████   | 7/10 [00:43<00:18,  6.27s/it]\u001b[A\n",
      " 80%|████████  | 8/10 [00:50<00:12,  6.27s/it]\u001b[A\n",
      " 90%|█████████ | 9/10 [00:56<00:06,  6.26s/it]\u001b[A\n",
      "100%|██████████| 10/10 [01:02<00:00,  6.26s/it]\u001b[A\n"
     ]
    },
    {
     "name": "stdout",
     "output_type": "stream",
     "text": [
      "Task accuracy: 0.42\n"
     ]
    },
    {
     "name": "stderr",
     "output_type": "stream",
     "text": [
      "\n",
      "  0%|          | 0/10 [00:00<?, ?it/s]\u001b[A\n",
      " 10%|█         | 1/10 [00:06<00:56,  6.25s/it]\u001b[A\n",
      " 20%|██        | 2/10 [00:12<00:50,  6.27s/it]\u001b[A\n",
      " 30%|███       | 3/10 [00:18<00:43,  6.26s/it]\u001b[A\n",
      " 40%|████      | 4/10 [00:25<00:37,  6.26s/it]\u001b[A\n",
      " 50%|█████     | 5/10 [00:31<00:31,  6.27s/it]\u001b[A\n",
      " 60%|██████    | 6/10 [00:37<00:25,  6.27s/it]\u001b[A\n",
      " 70%|███████   | 7/10 [00:43<00:18,  6.28s/it]\u001b[A\n",
      " 80%|████████  | 8/10 [00:50<00:12,  6.29s/it]\u001b[A\n",
      " 90%|█████████ | 9/10 [00:56<00:06,  6.28s/it]\u001b[A\n",
      "100%|██████████| 10/10 [01:02<00:00,  6.27s/it]\u001b[A\n",
      "100%|██████████| 5/5 [10:27<00:00, 125.47s/it]"
     ]
    },
    {
     "name": "stdout",
     "output_type": "stream",
     "text": [
      "Task accuracy: 0.41\n"
     ]
    },
    {
     "name": "stderr",
     "output_type": "stream",
     "text": [
      "\n"
     ]
    }
   ],
   "source": [
    "circuit_components = {}\n",
    "circuit_components[0] = defaultdict(list)\n",
    "circuit_components[2] = defaultdict(list)\n",
    "circuit_components[-1] = defaultdict(list)\n",
    "circuit_components[-2] = defaultdict(list)\n",
    "\n",
    "res = {}\n",
    "\n",
    "root_path = \"../new_pp_exps/post_submission/llama-7b\"\n",
    "path = root_path + \"/direct_logit_heads.pt\"\n",
    "logit_values = torch.load(path)\n",
    "direct_logit_heads = analysis_utils.compute_topk_components(\n",
    "    torch.load(path), k=n_value_fetcher, largest=False\n",
    ")\n",
    "\n",
    "path = root_path + \"/heads_affect_direct_logit.pt\"\n",
    "logit_values = torch.load(path)\n",
    "heads_affecting_direct_logit_heads = analysis_utils.compute_topk_components(\n",
    "    torch.load(path), k=n_pos_trans, largest=False\n",
    ")\n",
    "\n",
    "path = root_path + \"/heads_at_query_box_pos.pt\"\n",
    "logit_values = torch.load(path)\n",
    "head_at_query_box_token = analysis_utils.compute_topk_components(\n",
    "    torch.load(path), k=n_pos_detect, largest=False\n",
    ")\n",
    "\n",
    "path = root_path + \"/heads_at_prev_query_box_pos.pt\"\n",
    "logit_values = torch.load(path)\n",
    "heads_at_prev_box_pos = analysis_utils.compute_topk_components(\n",
    "    torch.load(path), k=n_struct_read, largest=False\n",
    ")\n",
    "\n",
    "intersection = []\n",
    "for head in direct_logit_heads:\n",
    "    if head in heads_affecting_direct_logit_heads:\n",
    "        intersection.append(head)\n",
    "\n",
    "for head in intersection:\n",
    "    direct_logit_heads.remove(head)\n",
    "\n",
    "print(\n",
    "    len(direct_logit_heads),\n",
    "    len(heads_affecting_direct_logit_heads),\n",
    "    len(head_at_query_box_token),\n",
    "    len(heads_at_prev_box_pos),\n",
    ")\n",
    "\n",
    "for layer_idx, head in direct_logit_heads:\n",
    "    if model.config.architectures[0] == \"LlamaForCausalLM\":\n",
    "        layer = f\"model.layers.{layer_idx}.self_attn.o_proj\"\n",
    "    else:\n",
    "        layer = f\"base_model.model.model.layers.{layer_idx}.self_attn.o_proj\"\n",
    "    circuit_components[0][layer].append(head)\n",
    "\n",
    "for layer_idx, head in heads_affecting_direct_logit_heads:\n",
    "    if model.config.architectures[0] == \"LlamaForCausalLM\":\n",
    "        layer = f\"model.layers.{layer_idx}.self_attn.o_proj\"\n",
    "    else:\n",
    "        layer = f\"base_model.model.model.layers.{layer_idx}.self_attn.o_proj\"\n",
    "    circuit_components[0][layer].append(head)\n",
    "\n",
    "\n",
    "for layer_idx, head in head_at_query_box_token:\n",
    "    if model.config.architectures[0] == \"LlamaForCausalLM\":\n",
    "        layer = f\"model.layers.{layer_idx}.self_attn.o_proj\"\n",
    "    else:\n",
    "        layer = f\"base_model.model.model.layers.{layer_idx}.self_attn.o_proj\"\n",
    "    circuit_components[2][layer].append(head)\n",
    "\n",
    "for layer_idx, head in heads_at_prev_box_pos:\n",
    "    if model.config.architectures[0] == \"LlamaForCausalLM\":\n",
    "        layer = f\"model.layers.{layer_idx}.self_attn.o_proj\"\n",
    "    else:\n",
    "        layer = f\"base_model.model.model.layers.{layer_idx}.self_attn.o_proj\"\n",
    "    circuit_components[-1][layer].append(head)\n",
    "\n",
    "eval(model, dataloader, modules, circuit_components, mean_activations)\n",
    "\n",
    "\n",
    "for layer_idx, head in tqdm(heads_at_prev_box_pos):\n",
    "    if model.config.architectures[0] == \"LlamaForCausalLM\":\n",
    "        layer = f\"model.layers.{layer_idx}.self_attn.o_proj\"\n",
    "    else:\n",
    "        layer = f\"base_model.model.model.layers.{layer_idx}.self_attn.o_proj\"\n",
    "\n",
    "    print(layer, head)\n",
    "    # Form the set using only the top 30% of the heads\n",
    "    for r in ranked[str((layer, head))][: math.ceil(percentage * len(ranked.values()))]:\n",
    "        top_layer = r[0].split(\",\")[0][2:-1]\n",
    "        top_head = int(r[0].split(\",\")[1][:-1])\n",
    "        print(\"remove\", top_layer, top_head)\n",
    "        circuit_components[-1][top_layer].remove(top_head)\n",
    "\n",
    "    befor = eval(model, dataloader, modules, circuit_components, mean_activations)\n",
    "    circuit_components[-1][layer].remove(head)\n",
    "    after = eval(model, dataloader, modules, circuit_components, mean_activations)\n",
    "    res[(layer, head)] = (befor, after)\n",
    "\n",
    "    for r in ranked[str((layer, head))][: math.ceil(percentage * len(ranked.values()))]:\n",
    "        top_layer = r[0].split(\",\")[0][2:-1]\n",
    "        top_head = int(r[0].split(\",\")[1][:-1])\n",
    "        circuit_components[-1][top_layer].append(top_head)\n",
    "    circuit_components[-1][layer].append(head)"
   ]
  },
  {
   "cell_type": "code",
   "execution_count": 24,
   "metadata": {},
   "outputs": [],
   "source": [
    "# with open(\"llama_heads_at_prev_box_pos_res_k_3.json\", \"r\") as file:\n",
    "#     res = json.load(file)"
   ]
  },
  {
   "cell_type": "code",
   "execution_count": 38,
   "metadata": {},
   "outputs": [
    {
     "data": {
      "image/png": "[encoded data removed]",
      "text/plain": [
       "<Figure size 640x480 with 1 Axes>"
      ]
     },
     "metadata": {},
     "output_type": "display_data"
    }
   ],
   "source": [
    "from matplotlib import pyplot as plt\n",
    "import matplotlib.ticker as mtick\n",
    "\n",
    "names = []\n",
    "scores = []\n",
    "\n",
    "for k in res:\n",
    "    # new_k = string_to_tuple(k)\n",
    "    names.append(str((k[0].split(\".\")[2], str(k[1]))))\n",
    "    scores.append((res[k][0] / res[k][1] - 1))\n",
    "\n",
    "plt.bar(names, scores)\n",
    "plt.title(\"heads at prev query box pos, k=2\")\n",
    "plt.xlabel(\"heads\")\n",
    "plt.ylabel(\"change in accuracy\")\n",
    "plt.gca().yaxis.set_major_formatter(mtick.PercentFormatter(1))\n",
    "plt.show()"
   ]
  },
  {
   "cell_type": "code",
   "execution_count": 39,
   "metadata": {},
   "outputs": [],
   "source": [
    "new = {}\n",
    "for k in res:\n",
    "    new[str(k)] = res[k]\n",
    "\n",
    "\n",
    "with open(\n",
    "    \"./post-submission/llama-7b/llama_heads_at_prev_box_pos_res_k_2.json\", \"w\"\n",
    ") as outfile:\n",
    "    json.dump(new, outfile)"
   ]
  },
  {
   "cell_type": "markdown",
   "metadata": {},
   "source": [
    "### llama_head_at_query_box_token"
   ]
  },
  {
   "cell_type": "code",
   "execution_count": 41,
   "metadata": {},
   "outputs": [],
   "source": [
    "import json\n",
    "\n",
    "with open(\"./post-submission/llama-7b/head_at_query_box_token.json\", \"r\") as f:\n",
    "    data = json.load(f)\n",
    "\n",
    "ranked = defaultdict(list)\n",
    "for k_1 in data:\n",
    "    for k_2 in data[k_1]:\n",
    "        ranked[k_1].append((k_2, data[k_2][k_2] - data[k_1][k_2]))\n",
    "for k_1 in ranked:\n",
    "    ranked[k_1].sort(key=(lambda x: x[1]), reverse=True)"
   ]
  },
  {
   "cell_type": "code",
   "execution_count": 42,
   "metadata": {},
   "outputs": [
    {
     "name": "stdout",
     "output_type": "stream",
     "text": [
      "50 15 30 5\n"
     ]
    },
    {
     "name": "stderr",
     "output_type": "stream",
     "text": [
      "\r\n",
      "  0%|          | 0/30 [00:00<?, ?it/s]"
     ]
    },
    {
     "name": "stdout",
     "output_type": "stream",
     "text": [
      "model.layers.10.self_attn.o_proj 3\n",
      "remove model.layers.9.self_attn.o_proj 7\n",
      "remove model.layers.4.self_attn.o_proj 4\n",
      "remove model.layers.7.self_attn.o_proj 17\n",
      "remove model.layers.7.self_attn.o_proj 3\n",
      "remove model.layers.6.self_attn.o_proj 10\n",
      "remove model.layers.11.self_attn.o_proj 7\n",
      "remove model.layers.10.self_attn.o_proj 4\n",
      "remove model.layers.9.self_attn.o_proj 2\n",
      "remove model.layers.7.self_attn.o_proj 26\n"
     ]
    },
    {
     "name": "stderr",
     "output_type": "stream",
     "text": [
      "\n",
      "  0%|          | 0/10 [00:00<?, ?it/s]\u001b[A\n",
      " 10%|█         | 1/10 [00:06<00:56,  6.30s/it]\u001b[A\n",
      " 20%|██        | 2/10 [00:12<00:50,  6.29s/it]\u001b[A\n",
      " 30%|███       | 3/10 [00:18<00:43,  6.28s/it]\u001b[A\n",
      " 40%|████      | 4/10 [00:25<00:37,  6.29s/it]\u001b[A\n",
      " 50%|█████     | 5/10 [00:31<00:31,  6.33s/it]\u001b[A\n",
      " 60%|██████    | 6/10 [00:37<00:25,  6.31s/it]\u001b[A\n",
      " 70%|███████   | 7/10 [00:44<00:18,  6.28s/it]\u001b[A\n",
      " 80%|████████  | 8/10 [00:50<00:12,  6.26s/it]\u001b[A\n",
      " 90%|█████████ | 9/10 [00:56<00:06,  6.27s/it]\u001b[A\n",
      "100%|██████████| 10/10 [01:02<00:00,  6.28s/it]\u001b[A\n"
     ]
    },
    {
     "name": "stdout",
     "output_type": "stream",
     "text": [
      "Task accuracy: 0.49\n"
     ]
    },
    {
     "name": "stderr",
     "output_type": "stream",
     "text": [
      "\n",
      "  0%|          | 0/10 [00:00<?, ?it/s]\u001b[A\n",
      " 10%|█         | 1/10 [00:06<00:56,  6.26s/it]\u001b[A\n",
      " 20%|██        | 2/10 [00:12<00:50,  6.27s/it]\u001b[A\n",
      " 30%|███       | 3/10 [00:18<00:43,  6.27s/it]\u001b[A\n",
      " 40%|████      | 4/10 [00:25<00:37,  6.28s/it]\u001b[A\n",
      " 50%|█████     | 5/10 [00:31<00:31,  6.27s/it]\u001b[A\n",
      " 60%|██████    | 6/10 [00:37<00:25,  6.28s/it]\u001b[A\n",
      " 70%|███████   | 7/10 [00:43<00:18,  6.27s/it]\u001b[A\n",
      " 80%|████████  | 8/10 [00:50<00:12,  6.26s/it]\u001b[A\n",
      " 90%|█████████ | 9/10 [00:56<00:06,  6.26s/it]\u001b[A\n",
      "100%|██████████| 10/10 [01:02<00:00,  6.27s/it]\u001b[A\n",
      "  3%|▎         | 1/30 [02:05<1:00:38, 125.47s/it]"
     ]
    },
    {
     "name": "stdout",
     "output_type": "stream",
     "text": [
      "Task accuracy: 0.17\n",
      "model.layers.13.self_attn.o_proj 14\n",
      "remove model.layers.9.self_attn.o_proj 2\n",
      "remove model.layers.6.self_attn.o_proj 10\n",
      "remove model.layers.9.self_attn.o_proj 7\n",
      "remove model.layers.11.self_attn.o_proj 23\n",
      "remove model.layers.7.self_attn.o_proj 17\n",
      "remove model.layers.4.self_attn.o_proj 4\n",
      "remove model.layers.9.self_attn.o_proj 10\n",
      "remove model.layers.11.self_attn.o_proj 7\n",
      "remove model.layers.10.self_attn.o_proj 7\n"
     ]
    },
    {
     "name": "stderr",
     "output_type": "stream",
     "text": [
      "\n",
      "  0%|          | 0/10 [00:00<?, ?it/s]\u001b[A\n",
      " 10%|█         | 1/10 [00:06<00:56,  6.26s/it]\u001b[A\n",
      " 20%|██        | 2/10 [00:12<00:50,  6.26s/it]\u001b[A\n",
      " 30%|███       | 3/10 [00:18<00:43,  6.27s/it]\u001b[A\n",
      " 40%|████      | 4/10 [00:25<00:37,  6.25s/it]\u001b[A\n",
      " 50%|█████     | 5/10 [00:31<00:31,  6.25s/it]\u001b[A\n",
      " 60%|██████    | 6/10 [00:37<00:25,  6.25s/it]\u001b[A\n",
      " 70%|███████   | 7/10 [00:43<00:18,  6.26s/it]\u001b[A\n",
      " 80%|████████  | 8/10 [00:50<00:12,  6.27s/it]\u001b[A\n",
      " 90%|█████████ | 9/10 [00:56<00:06,  6.26s/it]\u001b[A\n",
      "100%|██████████| 10/10 [01:02<00:00,  6.26s/it]\u001b[A\n"
     ]
    },
    {
     "name": "stdout",
     "output_type": "stream",
     "text": [
      "Task accuracy: 0.3\n"
     ]
    },
    {
     "name": "stderr",
     "output_type": "stream",
     "text": [
      "\n",
      "  0%|          | 0/10 [00:00<?, ?it/s]\u001b[A\n",
      " 10%|█         | 1/10 [00:06<00:56,  6.26s/it]\u001b[A\n",
      " 20%|██        | 2/10 [00:12<00:50,  6.26s/it]\u001b[A\n",
      " 30%|███       | 3/10 [00:18<00:43,  6.28s/it]\u001b[A\n",
      " 40%|████      | 4/10 [00:25<00:37,  6.28s/it]\u001b[A\n",
      " 50%|█████     | 5/10 [00:31<00:31,  6.28s/it]\u001b[A\n",
      " 60%|██████    | 6/10 [00:37<00:25,  6.27s/it]\u001b[A\n",
      " 70%|███████   | 7/10 [00:43<00:18,  6.27s/it]\u001b[A\n",
      " 80%|████████  | 8/10 [00:50<00:12,  6.27s/it]\u001b[A\n",
      " 90%|█████████ | 9/10 [00:56<00:06,  6.27s/it]\u001b[A\n",
      "100%|██████████| 10/10 [01:02<00:00,  6.29s/it]\u001b[A\n",
      "  7%|▋         | 2/30 [04:11<58:34, 125.51s/it]  "
     ]
    },
    {
     "name": "stdout",
     "output_type": "stream",
     "text": [
      "Task accuracy: 0.22\n",
      "model.layers.9.self_attn.o_proj 2\n"
     ]
    },
    {
     "name": "stderr",
     "output_type": "stream",
     "text": [
      "\n",
      "  0%|          | 0/10 [00:00<?, ?it/s]\u001b[A\n",
      " 10%|█         | 1/10 [00:06<00:56,  6.26s/it]\u001b[A\n",
      " 20%|██        | 2/10 [00:12<00:50,  6.26s/it]\u001b[A\n",
      " 30%|███       | 3/10 [00:18<00:43,  6.25s/it]\u001b[A\n",
      " 40%|████      | 4/10 [00:24<00:37,  6.24s/it]\u001b[A\n",
      " 50%|█████     | 5/10 [00:31<00:31,  6.25s/it]\u001b[A\n",
      " 60%|██████    | 6/10 [00:37<00:25,  6.25s/it]\u001b[A\n",
      " 70%|███████   | 7/10 [00:43<00:18,  6.26s/it]\u001b[A\n",
      " 80%|████████  | 8/10 [00:50<00:12,  6.25s/it]\u001b[A\n",
      " 90%|█████████ | 9/10 [00:56<00:06,  6.25s/it]\u001b[A\n",
      "100%|██████████| 10/10 [01:02<00:00,  6.25s/it]\u001b[A\n"
     ]
    },
    {
     "name": "stdout",
     "output_type": "stream",
     "text": [
      "Task accuracy: 0.57\n"
     ]
    },
    {
     "name": "stderr",
     "output_type": "stream",
     "text": [
      "\n",
      "  0%|          | 0/10 [00:00<?, ?it/s]\u001b[A\n",
      " 10%|█         | 1/10 [00:06<00:56,  6.23s/it]\u001b[A\n",
      " 20%|██        | 2/10 [00:12<00:49,  6.25s/it]\u001b[A\n",
      " 30%|███       | 3/10 [00:18<00:44,  6.31s/it]\u001b[A\n",
      " 40%|████      | 4/10 [00:25<00:37,  6.29s/it]\u001b[A\n",
      " 50%|█████     | 5/10 [00:31<00:31,  6.27s/it]\u001b[A\n",
      " 60%|██████    | 6/10 [00:37<00:25,  6.27s/it]\u001b[A\n",
      " 70%|███████   | 7/10 [00:43<00:18,  6.26s/it]\u001b[A\n",
      " 80%|████████  | 8/10 [00:50<00:12,  6.25s/it]\u001b[A\n",
      " 90%|█████████ | 9/10 [00:56<00:06,  6.24s/it]\u001b[A\n",
      "100%|██████████| 10/10 [01:02<00:00,  6.26s/it]\u001b[A\n",
      " 10%|█         | 3/30 [06:16<56:23, 125.32s/it]"
     ]
    },
    {
     "name": "stdout",
     "output_type": "stream",
     "text": [
      "Task accuracy: 0.61\n",
      "model.layers.11.self_attn.o_proj 23\n",
      "remove model.layers.13.self_attn.o_proj 14\n",
      "remove model.layers.5.self_attn.o_proj 7\n",
      "remove model.layers.9.self_attn.o_proj 7\n",
      "remove model.layers.4.self_attn.o_proj 4\n",
      "remove model.layers.7.self_attn.o_proj 9\n",
      "remove model.layers.8.self_attn.o_proj 1\n",
      "remove model.layers.11.self_attn.o_proj 24\n",
      "remove model.layers.13.self_attn.o_proj 0\n",
      "remove model.layers.11.self_attn.o_proj 7\n"
     ]
    },
    {
     "name": "stderr",
     "output_type": "stream",
     "text": [
      "\n",
      "  0%|          | 0/10 [00:00<?, ?it/s]\u001b[A\n",
      " 10%|█         | 1/10 [00:06<00:56,  6.26s/it]\u001b[A\n",
      " 20%|██        | 2/10 [00:12<00:50,  6.31s/it]\u001b[A\n",
      " 30%|███       | 3/10 [00:18<00:44,  6.30s/it]\u001b[A\n",
      " 40%|████      | 4/10 [00:25<00:37,  6.30s/it]\u001b[A\n",
      " 50%|█████     | 5/10 [00:31<00:31,  6.29s/it]\u001b[A\n",
      " 60%|██████    | 6/10 [00:37<00:25,  6.29s/it]\u001b[A\n",
      " 70%|███████   | 7/10 [00:44<00:18,  6.29s/it]\u001b[A\n",
      " 80%|████████  | 8/10 [00:50<00:12,  6.28s/it]\u001b[A\n",
      " 90%|█████████ | 9/10 [00:56<00:06,  6.27s/it]\u001b[A\n",
      "100%|██████████| 10/10 [01:02<00:00,  6.28s/it]\u001b[A\n"
     ]
    },
    {
     "name": "stdout",
     "output_type": "stream",
     "text": [
      "Task accuracy: 0.55\n"
     ]
    },
    {
     "name": "stderr",
     "output_type": "stream",
     "text": [
      "\n",
      "  0%|          | 0/10 [00:00<?, ?it/s]\u001b[A\n",
      " 10%|█         | 1/10 [00:06<00:56,  6.25s/it]\u001b[A\n",
      " 20%|██        | 2/10 [00:12<00:50,  6.26s/it]\u001b[A\n",
      " 30%|███       | 3/10 [00:18<00:43,  6.27s/it]\u001b[A\n",
      " 40%|████      | 4/10 [00:25<00:37,  6.28s/it]\u001b[A\n",
      " 50%|█████     | 5/10 [00:31<00:31,  6.26s/it]\u001b[A\n",
      " 60%|██████    | 6/10 [00:37<00:25,  6.28s/it]\u001b[A\n",
      " 70%|███████   | 7/10 [00:44<00:18,  6.33s/it]\u001b[A\n",
      " 80%|████████  | 8/10 [00:50<00:12,  6.35s/it]\u001b[A\n",
      " 90%|█████████ | 9/10 [00:56<00:06,  6.36s/it]\u001b[A\n",
      "100%|██████████| 10/10 [01:03<00:00,  6.31s/it]\u001b[A\n",
      " 13%|█▎        | 4/30 [08:22<54:24, 125.56s/it]"
     ]
    },
    {
     "name": "stdout",
     "output_type": "stream",
     "text": [
      "Task accuracy: 0.52\n",
      "model.layers.1.self_attn.o_proj 9\n",
      "remove model.layers.7.self_attn.o_proj 3\n",
      "remove model.layers.4.self_attn.o_proj 4\n",
      "remove model.layers.7.self_attn.o_proj 9\n",
      "remove model.layers.9.self_attn.o_proj 2\n",
      "remove model.layers.13.self_attn.o_proj 0\n",
      "remove model.layers.6.self_attn.o_proj 10\n",
      "remove model.layers.11.self_attn.o_proj 7\n",
      "remove model.layers.12.self_attn.o_proj 23\n",
      "remove model.layers.10.self_attn.o_proj 21\n"
     ]
    },
    {
     "name": "stderr",
     "output_type": "stream",
     "text": [
      "\n",
      "  0%|          | 0/10 [00:00<?, ?it/s]\u001b[A\n",
      " 10%|█         | 1/10 [00:06<00:56,  6.32s/it]\u001b[A\n",
      " 20%|██        | 2/10 [00:12<00:50,  6.35s/it]\u001b[A\n",
      " 30%|███       | 3/10 [00:19<00:44,  6.38s/it]\u001b[A\n",
      " 40%|████      | 4/10 [00:25<00:38,  6.39s/it]\u001b[A\n",
      " 50%|█████     | 5/10 [00:31<00:32,  6.40s/it]\u001b[A\n",
      " 60%|██████    | 6/10 [00:38<00:25,  6.41s/it]\u001b[A\n",
      " 70%|███████   | 7/10 [00:44<00:19,  6.41s/it]\u001b[A\n",
      " 80%|████████  | 8/10 [00:51<00:12,  6.41s/it]\u001b[A\n",
      " 90%|█████████ | 9/10 [00:57<00:06,  6.40s/it]\u001b[A\n",
      "100%|██████████| 10/10 [01:04<00:00,  6.40s/it]\u001b[A\n"
     ]
    },
    {
     "name": "stdout",
     "output_type": "stream",
     "text": [
      "Task accuracy: 0.51\n"
     ]
    },
    {
     "name": "stderr",
     "output_type": "stream",
     "text": [
      "\n",
      "  0%|          | 0/10 [00:00<?, ?it/s]\u001b[A\n",
      " 10%|█         | 1/10 [00:06<00:57,  6.40s/it]\u001b[A\n",
      " 20%|██        | 2/10 [00:12<00:51,  6.42s/it]\u001b[A\n",
      " 30%|███       | 3/10 [00:19<00:44,  6.40s/it]\u001b[A\n",
      " 40%|████      | 4/10 [00:25<00:38,  6.41s/it]\u001b[A\n",
      " 50%|█████     | 5/10 [00:32<00:32,  6.42s/it]\u001b[A\n",
      " 60%|██████    | 6/10 [00:38<00:25,  6.43s/it]\u001b[A\n",
      " 70%|███████   | 7/10 [00:44<00:19,  6.43s/it]\u001b[A\n",
      " 80%|████████  | 8/10 [00:51<00:12,  6.43s/it]\u001b[A\n",
      " 90%|█████████ | 9/10 [00:57<00:06,  6.42s/it]\u001b[A\n",
      "100%|██████████| 10/10 [01:04<00:00,  6.42s/it]\u001b[A\n",
      " 17%|█▋        | 5/30 [10:30<52:42, 126.51s/it]"
     ]
    },
    {
     "name": "stdout",
     "output_type": "stream",
     "text": [
      "Task accuracy: 0.51\n",
      "model.layers.9.self_attn.o_proj 7\n"
     ]
    },
    {
     "name": "stderr",
     "output_type": "stream",
     "text": [
      "\n",
      "  0%|          | 0/10 [00:00<?, ?it/s]\u001b[A\n",
      " 10%|█         | 1/10 [00:06<00:57,  6.38s/it]\u001b[A\n",
      " 20%|██        | 2/10 [00:12<00:51,  6.41s/it]\u001b[A\n",
      " 30%|███       | 3/10 [00:19<00:44,  6.41s/it]\u001b[A\n",
      " 40%|████      | 4/10 [00:25<00:38,  6.42s/it]\u001b[A\n",
      " 50%|█████     | 5/10 [00:32<00:32,  6.43s/it]\u001b[A\n",
      " 60%|██████    | 6/10 [00:38<00:25,  6.43s/it]\u001b[A\n",
      " 70%|███████   | 7/10 [00:44<00:19,  6.43s/it]\u001b[A\n",
      " 80%|████████  | 8/10 [00:51<00:12,  6.42s/it]\u001b[A\n",
      " 90%|█████████ | 9/10 [00:57<00:06,  6.41s/it]\u001b[A\n",
      "100%|██████████| 10/10 [01:04<00:00,  6.41s/it]\u001b[A\n"
     ]
    },
    {
     "name": "stdout",
     "output_type": "stream",
     "text": [
      "Task accuracy: 0.57\n"
     ]
    },
    {
     "name": "stderr",
     "output_type": "stream",
     "text": [
      "\n",
      "  0%|          | 0/10 [00:00<?, ?it/s]\u001b[A\n",
      " 10%|█         | 1/10 [00:06<00:57,  6.40s/it]\u001b[A\n",
      " 20%|██        | 2/10 [00:12<00:51,  6.41s/it]\u001b[A\n",
      " 30%|███       | 3/10 [00:19<00:44,  6.42s/it]\u001b[A\n",
      " 40%|████      | 4/10 [00:25<00:38,  6.42s/it]\u001b[A\n",
      " 50%|█████     | 5/10 [00:32<00:32,  6.42s/it]\u001b[A\n",
      " 60%|██████    | 6/10 [00:38<00:25,  6.42s/it]\u001b[A\n",
      " 70%|███████   | 7/10 [00:44<00:19,  6.42s/it]\u001b[A\n",
      " 80%|████████  | 8/10 [00:51<00:12,  6.41s/it]\u001b[A\n",
      " 90%|█████████ | 9/10 [00:57<00:06,  6.47s/it]\u001b[A\n",
      "100%|██████████| 10/10 [01:04<00:00,  6.43s/it]\u001b[A\n",
      " 20%|██        | 6/30 [12:38<50:51, 127.17s/it]"
     ]
    },
    {
     "name": "stdout",
     "output_type": "stream",
     "text": [
      "Task accuracy: 0.6\n",
      "model.layers.9.self_attn.o_proj 10\n",
      "remove model.layers.4.self_attn.o_proj 4\n",
      "remove model.layers.7.self_attn.o_proj 9\n",
      "remove model.layers.10.self_attn.o_proj 7\n",
      "remove model.layers.13.self_attn.o_proj 14\n",
      "remove model.layers.6.self_attn.o_proj 10\n",
      "remove model.layers.11.self_attn.o_proj 7\n",
      "remove model.layers.9.self_attn.o_proj 7\n",
      "remove model.layers.7.self_attn.o_proj 17\n",
      "remove model.layers.8.self_attn.o_proj 1\n"
     ]
    },
    {
     "name": "stderr",
     "output_type": "stream",
     "text": [
      "\n",
      "  0%|          | 0/10 [00:00<?, ?it/s]\u001b[A\n",
      " 10%|█         | 1/10 [00:06<00:57,  6.41s/it]\u001b[A\n",
      " 20%|██        | 2/10 [00:12<00:51,  6.40s/it]\u001b[A\n",
      " 30%|███       | 3/10 [00:19<00:44,  6.41s/it]\u001b[A\n",
      " 40%|████      | 4/10 [00:25<00:38,  6.41s/it]\u001b[A\n",
      " 50%|█████     | 5/10 [00:32<00:32,  6.42s/it]\u001b[A\n",
      " 60%|██████    | 6/10 [00:38<00:25,  6.38s/it]\u001b[A\n",
      " 70%|███████   | 7/10 [00:44<00:19,  6.36s/it]\u001b[A\n",
      " 80%|████████  | 8/10 [00:50<00:12,  6.32s/it]\u001b[A\n",
      " 90%|█████████ | 9/10 [00:57<00:06,  6.31s/it]\u001b[A\n",
      "100%|██████████| 10/10 [01:03<00:00,  6.35s/it]\u001b[A\n"
     ]
    },
    {
     "name": "stdout",
     "output_type": "stream",
     "text": [
      "Task accuracy: 0.49\n"
     ]
    },
    {
     "name": "stderr",
     "output_type": "stream",
     "text": [
      "\n",
      "  0%|          | 0/10 [00:00<?, ?it/s]\u001b[A\n",
      " 10%|█         | 1/10 [00:06<00:56,  6.27s/it]\u001b[A\n",
      " 20%|██        | 2/10 [00:12<00:50,  6.28s/it]\u001b[A\n",
      " 30%|███       | 3/10 [00:18<00:43,  6.28s/it]\u001b[A\n",
      " 40%|████      | 4/10 [00:25<00:37,  6.28s/it]\u001b[A\n",
      " 50%|█████     | 5/10 [00:31<00:31,  6.29s/it]\u001b[A\n",
      " 60%|██████    | 6/10 [00:37<00:25,  6.28s/it]\u001b[A\n",
      " 70%|███████   | 7/10 [00:43<00:18,  6.29s/it]\u001b[A\n",
      " 80%|████████  | 8/10 [00:50<00:12,  6.32s/it]\u001b[A\n",
      " 90%|█████████ | 9/10 [00:56<00:06,  6.34s/it]\u001b[A\n",
      "100%|██████████| 10/10 [01:03<00:00,  6.32s/it]\u001b[A\n",
      " 23%|██▎       | 7/30 [14:45<48:40, 127.00s/it]"
     ]
    },
    {
     "name": "stdout",
     "output_type": "stream",
     "text": [
      "Task accuracy: 0.37\n",
      "model.layers.7.self_attn.o_proj 17\n",
      "remove model.layers.6.self_attn.o_proj 10\n",
      "remove model.layers.7.self_attn.o_proj 9\n",
      "remove model.layers.9.self_attn.o_proj 2\n",
      "remove model.layers.9.self_attn.o_proj 7\n",
      "remove model.layers.4.self_attn.o_proj 4\n"
     ]
    },
    {
     "name": "stderr",
     "output_type": "stream",
     "text": [
      "\n",
      "  0%|          | 0/10 [00:00<?, ?it/s]\u001b[A\n",
      " 10%|█         | 1/10 [00:06<00:57,  6.42s/it]\u001b[A\n",
      " 20%|██        | 2/10 [00:12<00:51,  6.42s/it]\u001b[A\n",
      " 30%|███       | 3/10 [00:19<00:44,  6.42s/it]\u001b[A\n",
      " 40%|████      | 4/10 [00:25<00:38,  6.43s/it]\u001b[A\n",
      " 50%|█████     | 5/10 [00:32<00:32,  6.42s/it]\u001b[A\n",
      " 60%|██████    | 6/10 [00:38<00:25,  6.43s/it]\u001b[A\n",
      " 70%|███████   | 7/10 [00:44<00:19,  6.42s/it]\u001b[A\n",
      " 80%|████████  | 8/10 [00:51<00:12,  6.41s/it]\u001b[A\n",
      " 90%|█████████ | 9/10 [00:57<00:06,  6.42s/it]\u001b[A\n",
      "100%|██████████| 10/10 [01:04<00:00,  6.42s/it]\u001b[A\n"
     ]
    },
    {
     "name": "stdout",
     "output_type": "stream",
     "text": [
      "Task accuracy: 0.54\n"
     ]
    },
    {
     "name": "stderr",
     "output_type": "stream",
     "text": [
      "\n",
      "  0%|          | 0/10 [00:00<?, ?it/s]\u001b[A\n",
      " 10%|█         | 1/10 [00:06<00:57,  6.39s/it]\u001b[A\n",
      " 20%|██        | 2/10 [00:12<00:51,  6.41s/it]\u001b[A\n",
      " 30%|███       | 3/10 [00:19<00:44,  6.42s/it]\u001b[A\n",
      " 40%|████      | 4/10 [00:25<00:38,  6.42s/it]\u001b[A\n",
      " 50%|█████     | 5/10 [00:32<00:32,  6.42s/it]\u001b[A\n",
      " 60%|██████    | 6/10 [00:38<00:25,  6.43s/it]\u001b[A\n",
      " 70%|███████   | 7/10 [00:44<00:19,  6.42s/it]\u001b[A\n",
      " 80%|████████  | 8/10 [00:51<00:12,  6.41s/it]\u001b[A\n",
      " 90%|█████████ | 9/10 [00:57<00:06,  6.41s/it]\u001b[A\n",
      "100%|██████████| 10/10 [01:04<00:00,  6.41s/it]\u001b[A\n",
      " 27%|██▋       | 8/30 [16:53<46:42, 127.40s/it]"
     ]
    },
    {
     "name": "stdout",
     "output_type": "stream",
     "text": [
      "Task accuracy: 0.5\n",
      "model.layers.11.self_attn.o_proj 24\n",
      "remove model.layers.7.self_attn.o_proj 9\n"
     ]
    },
    {
     "name": "stderr",
     "output_type": "stream",
     "text": [
      "\n",
      "  0%|          | 0/10 [00:00<?, ?it/s]\u001b[A\n",
      " 10%|█         | 1/10 [00:06<00:57,  6.42s/it]\u001b[A\n",
      " 20%|██        | 2/10 [00:12<00:51,  6.42s/it]\u001b[A\n",
      " 30%|███       | 3/10 [00:19<00:44,  6.41s/it]\u001b[A\n",
      " 40%|████      | 4/10 [00:25<00:38,  6.41s/it]\u001b[A\n",
      " 50%|█████     | 5/10 [00:32<00:32,  6.41s/it]\u001b[A\n",
      " 60%|██████    | 6/10 [00:38<00:25,  6.41s/it]\u001b[A\n",
      " 70%|███████   | 7/10 [00:44<00:19,  6.41s/it]\u001b[A\n",
      " 80%|████████  | 8/10 [00:51<00:12,  6.40s/it]\u001b[A\n",
      " 90%|█████████ | 9/10 [00:57<00:06,  6.40s/it]\u001b[A\n",
      "100%|██████████| 10/10 [01:04<00:00,  6.41s/it]\u001b[A\n"
     ]
    },
    {
     "name": "stdout",
     "output_type": "stream",
     "text": [
      "Task accuracy: 0.57\n"
     ]
    },
    {
     "name": "stderr",
     "output_type": "stream",
     "text": [
      "\n",
      "  0%|          | 0/10 [00:00<?, ?it/s]\u001b[A\n",
      " 10%|█         | 1/10 [00:06<00:57,  6.42s/it]\u001b[A\n",
      " 20%|██        | 2/10 [00:12<00:51,  6.42s/it]\u001b[A\n",
      " 30%|███       | 3/10 [00:19<00:44,  6.42s/it]\u001b[A\n",
      " 40%|████      | 4/10 [00:25<00:38,  6.42s/it]\u001b[A\n",
      " 50%|█████     | 5/10 [00:32<00:32,  6.42s/it]\u001b[A\n",
      " 60%|██████    | 6/10 [00:38<00:25,  6.41s/it]\u001b[A\n",
      " 70%|███████   | 7/10 [00:44<00:19,  6.41s/it]\u001b[A\n",
      " 80%|████████  | 8/10 [00:51<00:12,  6.41s/it]\u001b[A\n",
      " 90%|█████████ | 9/10 [00:57<00:06,  6.41s/it]\u001b[A\n",
      "100%|██████████| 10/10 [01:04<00:00,  6.41s/it]\u001b[A\n",
      " 30%|███       | 9/30 [19:01<44:40, 127.64s/it]"
     ]
    },
    {
     "name": "stdout",
     "output_type": "stream",
     "text": [
      "Task accuracy: 0.58\n",
      "model.layers.7.self_attn.o_proj 26\n",
      "remove model.layers.6.self_attn.o_proj 10\n",
      "remove model.layers.9.self_attn.o_proj 2\n"
     ]
    },
    {
     "name": "stderr",
     "output_type": "stream",
     "text": [
      "\n",
      "  0%|          | 0/10 [00:00<?, ?it/s]\u001b[A\n",
      " 10%|█         | 1/10 [00:06<00:57,  6.42s/it]\u001b[A\n",
      " 20%|██        | 2/10 [00:12<00:51,  6.43s/it]\u001b[A\n",
      " 30%|███       | 3/10 [00:19<00:44,  6.41s/it]\u001b[A\n",
      " 40%|████      | 4/10 [00:25<00:38,  6.42s/it]\u001b[A\n",
      " 50%|█████     | 5/10 [00:32<00:32,  6.42s/it]\u001b[A\n",
      " 60%|██████    | 6/10 [00:38<00:25,  6.41s/it]\u001b[A\n",
      " 70%|███████   | 7/10 [00:44<00:19,  6.41s/it]\u001b[A\n",
      " 80%|████████  | 8/10 [00:51<00:12,  6.41s/it]\u001b[A\n",
      " 90%|█████████ | 9/10 [00:57<00:06,  6.40s/it]\u001b[A\n",
      "100%|██████████| 10/10 [01:04<00:00,  6.41s/it]\u001b[A\n"
     ]
    },
    {
     "name": "stdout",
     "output_type": "stream",
     "text": [
      "Task accuracy: 0.6\n"
     ]
    },
    {
     "name": "stderr",
     "output_type": "stream",
     "text": [
      "\n",
      "  0%|          | 0/10 [00:00<?, ?it/s]\u001b[A\n",
      " 10%|█         | 1/10 [00:06<00:57,  6.44s/it]\u001b[A\n",
      " 20%|██        | 2/10 [00:12<00:51,  6.42s/it]\u001b[A\n",
      " 30%|███       | 3/10 [00:19<00:44,  6.43s/it]\u001b[A\n",
      " 40%|████      | 4/10 [00:25<00:38,  6.43s/it]\u001b[A\n",
      " 50%|█████     | 5/10 [00:32<00:32,  6.43s/it]\u001b[A\n",
      " 60%|██████    | 6/10 [00:38<00:25,  6.43s/it]\u001b[A\n",
      " 70%|███████   | 7/10 [00:44<00:19,  6.41s/it]\u001b[A\n",
      " 80%|████████  | 8/10 [00:51<00:12,  6.42s/it]\u001b[A\n",
      " 90%|█████████ | 9/10 [00:57<00:06,  6.41s/it]\u001b[A\n",
      "100%|██████████| 10/10 [01:04<00:00,  6.42s/it]\u001b[A\n",
      " 33%|███▎      | 10/30 [21:09<42:36, 127.83s/it]"
     ]
    },
    {
     "name": "stdout",
     "output_type": "stream",
     "text": [
      "Task accuracy: 0.58\n",
      "model.layers.4.self_attn.o_proj 4\n",
      "remove model.layers.6.self_attn.o_proj 10\n",
      "remove model.layers.10.self_attn.o_proj 3\n",
      "remove model.layers.9.self_attn.o_proj 7\n",
      "remove model.layers.7.self_attn.o_proj 17\n",
      "remove model.layers.7.self_attn.o_proj 9\n"
     ]
    },
    {
     "name": "stderr",
     "output_type": "stream",
     "text": [
      "\n",
      "  0%|          | 0/10 [00:00<?, ?it/s]\u001b[A\n",
      " 10%|█         | 1/10 [00:06<00:57,  6.42s/it]\u001b[A\n",
      " 20%|██        | 2/10 [00:13<00:52,  6.52s/it]\u001b[A\n",
      " 30%|███       | 3/10 [00:19<00:45,  6.47s/it]\u001b[A\n",
      " 40%|████      | 4/10 [00:25<00:38,  6.45s/it]\u001b[A\n",
      " 50%|█████     | 5/10 [00:32<00:32,  6.44s/it]\u001b[A\n",
      " 60%|██████    | 6/10 [00:38<00:25,  6.43s/it]\u001b[A\n",
      " 70%|███████   | 7/10 [00:45<00:19,  6.42s/it]\u001b[A\n",
      " 80%|████████  | 8/10 [00:51<00:12,  6.42s/it]\u001b[A\n",
      " 90%|█████████ | 9/10 [00:57<00:06,  6.42s/it]\u001b[A\n",
      "100%|██████████| 10/10 [01:04<00:00,  6.43s/it]\u001b[A\n"
     ]
    },
    {
     "name": "stdout",
     "output_type": "stream",
     "text": [
      "Task accuracy: 0.41\n"
     ]
    },
    {
     "name": "stderr",
     "output_type": "stream",
     "text": [
      "\n",
      "  0%|          | 0/10 [00:00<?, ?it/s]\u001b[A\n",
      " 10%|█         | 1/10 [00:06<00:57,  6.41s/it]\u001b[A\n",
      " 20%|██        | 2/10 [00:12<00:51,  6.44s/it]\u001b[A\n",
      " 30%|███       | 3/10 [00:19<00:44,  6.42s/it]\u001b[A\n",
      " 40%|████      | 4/10 [00:25<00:38,  6.43s/it]\u001b[A\n",
      " 50%|█████     | 5/10 [00:32<00:32,  6.43s/it]\u001b[A\n",
      " 60%|██████    | 6/10 [00:38<00:25,  6.42s/it]\u001b[A\n",
      " 70%|███████   | 7/10 [00:44<00:19,  6.42s/it]\u001b[A\n",
      " 80%|████████  | 8/10 [00:51<00:12,  6.42s/it]\u001b[A\n",
      " 90%|█████████ | 9/10 [00:57<00:06,  6.41s/it]\u001b[A\n",
      "100%|██████████| 10/10 [01:04<00:00,  6.42s/it]\u001b[A\n",
      " 37%|███▋      | 11/30 [23:18<40:32, 128.03s/it]"
     ]
    },
    {
     "name": "stdout",
     "output_type": "stream",
     "text": [
      "Task accuracy: 0.37\n",
      "model.layers.13.self_attn.o_proj 0\n",
      "remove model.layers.6.self_attn.o_proj 10\n"
     ]
    },
    {
     "name": "stderr",
     "output_type": "stream",
     "text": [
      "\n",
      "  0%|          | 0/10 [00:00<?, ?it/s]\u001b[A\n",
      " 10%|█         | 1/10 [00:06<00:57,  6.42s/it]\u001b[A\n",
      " 20%|██        | 2/10 [00:12<00:51,  6.43s/it]\u001b[A\n",
      " 30%|███       | 3/10 [00:19<00:44,  6.43s/it]\u001b[A\n",
      " 40%|████      | 4/10 [00:25<00:38,  6.44s/it]\u001b[A\n",
      " 50%|█████     | 5/10 [00:32<00:32,  6.43s/it]\u001b[A\n",
      " 60%|██████    | 6/10 [00:38<00:25,  6.42s/it]\u001b[A\n",
      " 70%|███████   | 7/10 [00:44<00:19,  6.42s/it]\u001b[A\n",
      " 80%|████████  | 8/10 [00:51<00:12,  6.42s/it]\u001b[A\n",
      " 90%|█████████ | 9/10 [00:57<00:06,  6.41s/it]\u001b[A\n",
      "100%|██████████| 10/10 [01:04<00:00,  6.42s/it]\u001b[A\n"
     ]
    },
    {
     "name": "stdout",
     "output_type": "stream",
     "text": [
      "Task accuracy: 0.57\n"
     ]
    },
    {
     "name": "stderr",
     "output_type": "stream",
     "text": [
      "\n",
      "  0%|          | 0/10 [00:00<?, ?it/s]\u001b[A\n",
      " 10%|█         | 1/10 [00:06<00:57,  6.43s/it]\u001b[A\n",
      " 20%|██        | 2/10 [00:12<00:51,  6.42s/it]\u001b[A\n",
      " 30%|███       | 3/10 [00:19<00:44,  6.42s/it]\u001b[A\n",
      " 40%|████      | 4/10 [00:25<00:38,  6.41s/it]\u001b[A\n",
      " 50%|█████     | 5/10 [00:32<00:32,  6.42s/it]\u001b[A\n",
      " 60%|██████    | 6/10 [00:38<00:25,  6.42s/it]\u001b[A\n",
      " 70%|███████   | 7/10 [00:44<00:19,  6.41s/it]\u001b[A\n",
      " 80%|████████  | 8/10 [00:51<00:12,  6.41s/it]\u001b[A\n",
      " 90%|█████████ | 9/10 [00:57<00:06,  6.40s/it]\u001b[A\n",
      "100%|██████████| 10/10 [01:04<00:00,  6.41s/it]\u001b[A\n",
      " 40%|████      | 12/30 [25:26<38:26, 128.11s/it]"
     ]
    },
    {
     "name": "stdout",
     "output_type": "stream",
     "text": [
      "Task accuracy: 0.56\n",
      "model.layers.6.self_attn.o_proj 10\n",
      "remove model.layers.4.self_attn.o_proj 4\n",
      "remove model.layers.9.self_attn.o_proj 2\n",
      "remove model.layers.7.self_attn.o_proj 17\n",
      "remove model.layers.7.self_attn.o_proj 26\n",
      "remove model.layers.7.self_attn.o_proj 9\n",
      "remove model.layers.10.self_attn.o_proj 7\n",
      "remove model.layers.13.self_attn.o_proj 14\n",
      "remove model.layers.9.self_attn.o_proj 7\n",
      "remove model.layers.7.self_attn.o_proj 3\n"
     ]
    },
    {
     "name": "stderr",
     "output_type": "stream",
     "text": [
      "\n",
      "  0%|          | 0/10 [00:00<?, ?it/s]\u001b[A\n",
      " 10%|█         | 1/10 [00:06<00:57,  6.41s/it]\u001b[A\n",
      " 20%|██        | 2/10 [00:12<00:51,  6.43s/it]\u001b[A\n",
      " 30%|███       | 3/10 [00:19<00:45,  6.43s/it]\u001b[A\n",
      " 40%|████      | 4/10 [00:25<00:38,  6.43s/it]\u001b[A\n",
      " 50%|█████     | 5/10 [00:32<00:32,  6.43s/it]\u001b[A\n",
      " 60%|██████    | 6/10 [00:38<00:25,  6.41s/it]\u001b[A\n",
      " 70%|███████   | 7/10 [00:44<00:19,  6.43s/it]\u001b[A\n",
      " 80%|████████  | 8/10 [00:51<00:12,  6.39s/it]\u001b[A\n",
      " 90%|█████████ | 9/10 [00:57<00:06,  6.35s/it]\u001b[A\n",
      "100%|██████████| 10/10 [01:03<00:00,  6.38s/it]\u001b[A\n"
     ]
    },
    {
     "name": "stdout",
     "output_type": "stream",
     "text": [
      "Task accuracy: 0.49\n"
     ]
    },
    {
     "name": "stderr",
     "output_type": "stream",
     "text": [
      "\n",
      "  0%|          | 0/10 [00:00<?, ?it/s]\u001b[A\n",
      " 10%|█         | 1/10 [00:06<00:56,  6.30s/it]\u001b[A\n",
      " 20%|██        | 2/10 [00:12<00:50,  6.29s/it]\u001b[A\n",
      " 30%|███       | 3/10 [00:18<00:44,  6.29s/it]\u001b[A\n",
      " 40%|████      | 4/10 [00:25<00:37,  6.29s/it]\u001b[A\n",
      " 50%|█████     | 5/10 [00:31<00:31,  6.29s/it]\u001b[A\n",
      " 60%|██████    | 6/10 [00:37<00:25,  6.28s/it]\u001b[A\n",
      " 70%|███████   | 7/10 [00:44<00:18,  6.28s/it]\u001b[A\n",
      " 80%|████████  | 8/10 [00:50<00:12,  6.28s/it]\u001b[A\n",
      " 90%|█████████ | 9/10 [00:56<00:06,  6.28s/it]\u001b[A\n",
      "100%|██████████| 10/10 [01:02<00:00,  6.28s/it]\u001b[A\n",
      " 43%|████▎     | 13/30 [27:33<36:10, 127.68s/it]"
     ]
    },
    {
     "name": "stdout",
     "output_type": "stream",
     "text": [
      "Task accuracy: 0.39\n",
      "model.layers.7.self_attn.o_proj 9\n",
      "remove model.layers.6.self_attn.o_proj 10\n",
      "remove model.layers.7.self_attn.o_proj 17\n",
      "remove model.layers.9.self_attn.o_proj 2\n",
      "remove model.layers.5.self_attn.o_proj 7\n",
      "remove model.layers.4.self_attn.o_proj 4\n"
     ]
    },
    {
     "name": "stderr",
     "output_type": "stream",
     "text": [
      "\n",
      "  0%|          | 0/10 [00:00<?, ?it/s]\u001b[A\n",
      " 10%|█         | 1/10 [00:06<00:56,  6.28s/it]\u001b[A\n",
      " 20%|██        | 2/10 [00:12<00:50,  6.29s/it]\u001b[A\n",
      " 30%|███       | 3/10 [00:18<00:44,  6.29s/it]\u001b[A\n",
      " 40%|████      | 4/10 [00:25<00:37,  6.29s/it]\u001b[A\n",
      " 50%|█████     | 5/10 [00:31<00:31,  6.29s/it]\u001b[A\n",
      " 60%|██████    | 6/10 [00:37<00:25,  6.28s/it]\u001b[A\n",
      " 70%|███████   | 7/10 [00:43<00:18,  6.28s/it]\u001b[A\n",
      " 80%|████████  | 8/10 [00:50<00:12,  6.27s/it]\u001b[A\n",
      " 90%|█████████ | 9/10 [00:56<00:06,  6.31s/it]\u001b[A\n",
      "100%|██████████| 10/10 [01:03<00:00,  6.31s/it]\u001b[A\n"
     ]
    },
    {
     "name": "stdout",
     "output_type": "stream",
     "text": [
      "Task accuracy: 0.54\n"
     ]
    },
    {
     "name": "stderr",
     "output_type": "stream",
     "text": [
      "\n",
      "  0%|          | 0/10 [00:00<?, ?it/s]\u001b[A\n",
      " 10%|█         | 1/10 [00:06<00:57,  6.42s/it]\u001b[A\n",
      " 20%|██        | 2/10 [00:12<00:51,  6.42s/it]\u001b[A\n",
      " 30%|███       | 3/10 [00:19<00:44,  6.42s/it]\u001b[A\n",
      " 40%|████      | 4/10 [00:25<00:38,  6.43s/it]\u001b[A\n",
      " 50%|█████     | 5/10 [00:32<00:32,  6.43s/it]\u001b[A\n",
      " 60%|██████    | 6/10 [00:38<00:25,  6.42s/it]\u001b[A\n",
      " 70%|███████   | 7/10 [00:44<00:19,  6.42s/it]\u001b[A\n",
      " 80%|████████  | 8/10 [00:51<00:12,  6.41s/it]\u001b[A\n",
      " 90%|█████████ | 9/10 [00:57<00:06,  6.41s/it]\u001b[A\n",
      "100%|██████████| 10/10 [01:04<00:00,  6.42s/it]\u001b[A\n",
      " 47%|████▋     | 14/30 [29:40<34:00, 127.55s/it]"
     ]
    },
    {
     "name": "stdout",
     "output_type": "stream",
     "text": [
      "Task accuracy: 0.53\n",
      "model.layers.5.self_attn.o_proj 7\n",
      "remove model.layers.10.self_attn.o_proj 7\n",
      "remove model.layers.7.self_attn.o_proj 9\n",
      "remove model.layers.11.self_attn.o_proj 23\n",
      "remove model.layers.12.self_attn.o_proj 23\n",
      "remove model.layers.4.self_attn.o_proj 4\n",
      "remove model.layers.11.self_attn.o_proj 24\n",
      "remove model.layers.13.self_attn.o_proj 0\n",
      "remove model.layers.11.self_attn.o_proj 7\n",
      "remove model.layers.9.self_attn.o_proj 15\n"
     ]
    },
    {
     "name": "stderr",
     "output_type": "stream",
     "text": [
      "\n",
      "  0%|          | 0/10 [00:00<?, ?it/s]\u001b[A\n",
      " 10%|█         | 1/10 [00:06<00:59,  6.61s/it]\u001b[A\n",
      " 20%|██        | 2/10 [00:13<00:52,  6.51s/it]\u001b[A\n",
      " 30%|███       | 3/10 [00:19<00:45,  6.47s/it]\u001b[A\n",
      " 40%|████      | 4/10 [00:25<00:38,  6.46s/it]\u001b[A\n",
      " 50%|█████     | 5/10 [00:32<00:32,  6.45s/it]\u001b[A\n",
      " 60%|██████    | 6/10 [00:38<00:25,  6.44s/it]\u001b[A\n",
      " 70%|███████   | 7/10 [00:45<00:19,  6.44s/it]\u001b[A\n",
      " 80%|████████  | 8/10 [00:51<00:12,  6.43s/it]\u001b[A\n",
      " 90%|█████████ | 9/10 [00:58<00:06,  6.43s/it]\u001b[A\n",
      "100%|██████████| 10/10 [01:04<00:00,  6.45s/it]\u001b[A\n"
     ]
    },
    {
     "name": "stdout",
     "output_type": "stream",
     "text": [
      "Task accuracy: 0.55\n"
     ]
    },
    {
     "name": "stderr",
     "output_type": "stream",
     "text": [
      "\n",
      "  0%|          | 0/10 [00:00<?, ?it/s]\u001b[A\n",
      " 10%|█         | 1/10 [00:06<00:57,  6.42s/it]\u001b[A\n",
      " 20%|██        | 2/10 [00:12<00:51,  6.43s/it]\u001b[A\n",
      " 30%|███       | 3/10 [00:19<00:44,  6.42s/it]\u001b[A\n",
      " 40%|████      | 4/10 [00:25<00:38,  6.43s/it]\u001b[A\n",
      " 50%|█████     | 5/10 [00:32<00:32,  6.43s/it]\u001b[A\n",
      " 60%|██████    | 6/10 [00:38<00:25,  6.42s/it]\u001b[A\n",
      " 70%|███████   | 7/10 [00:44<00:19,  6.42s/it]\u001b[A\n",
      " 80%|████████  | 8/10 [00:51<00:12,  6.42s/it]\u001b[A\n",
      " 90%|█████████ | 9/10 [00:57<00:06,  6.43s/it]\u001b[A\n",
      "100%|██████████| 10/10 [01:04<00:00,  6.42s/it]\u001b[A\n",
      " 50%|█████     | 15/30 [31:49<31:58, 127.90s/it]"
     ]
    },
    {
     "name": "stdout",
     "output_type": "stream",
     "text": [
      "Task accuracy: 0.54\n",
      "model.layers.12.self_attn.o_proj 0\n",
      "remove model.layers.11.self_attn.o_proj 7\n",
      "remove model.layers.1.self_attn.o_proj 9\n",
      "remove model.layers.9.self_attn.o_proj 7\n",
      "remove model.layers.5.self_attn.o_proj 7\n",
      "remove model.layers.12.self_attn.o_proj 9\n",
      "remove model.layers.10.self_attn.o_proj 4\n",
      "remove model.layers.13.self_attn.o_proj 26\n",
      "remove model.layers.4.self_attn.o_proj 4\n",
      "remove model.layers.7.self_attn.o_proj 9\n"
     ]
    },
    {
     "name": "stderr",
     "output_type": "stream",
     "text": [
      "\n",
      "  0%|          | 0/10 [00:00<?, ?it/s]\u001b[A\n",
      " 10%|█         | 1/10 [00:06<00:57,  6.43s/it]\u001b[A\n",
      " 20%|██        | 2/10 [00:12<00:51,  6.40s/it]\u001b[A\n",
      " 30%|███       | 3/10 [00:19<00:44,  6.41s/it]\u001b[A\n",
      " 40%|████      | 4/10 [00:25<00:38,  6.41s/it]\u001b[A\n",
      " 50%|█████     | 5/10 [00:32<00:32,  6.41s/it]\u001b[A\n",
      " 60%|██████    | 6/10 [00:38<00:25,  6.41s/it]\u001b[A\n",
      " 70%|███████   | 7/10 [00:44<00:19,  6.41s/it]\u001b[A\n",
      " 80%|████████  | 8/10 [00:51<00:12,  6.40s/it]\u001b[A\n",
      " 90%|█████████ | 9/10 [00:57<00:06,  6.40s/it]\u001b[A\n",
      "100%|██████████| 10/10 [01:04<00:00,  6.41s/it]\u001b[A\n"
     ]
    },
    {
     "name": "stdout",
     "output_type": "stream",
     "text": [
      "Task accuracy: 0.55\n"
     ]
    },
    {
     "name": "stderr",
     "output_type": "stream",
     "text": [
      "\n",
      "  0%|          | 0/10 [00:00<?, ?it/s]\u001b[A\n",
      " 10%|█         | 1/10 [00:06<00:57,  6.44s/it]\u001b[A\n",
      " 20%|██        | 2/10 [00:12<00:51,  6.44s/it]\u001b[A\n",
      " 30%|███       | 3/10 [00:19<00:45,  6.44s/it]\u001b[A\n",
      " 40%|████      | 4/10 [00:25<00:38,  6.43s/it]\u001b[A\n",
      " 50%|█████     | 5/10 [00:32<00:32,  6.43s/it]\u001b[A\n",
      " 60%|██████    | 6/10 [00:38<00:25,  6.42s/it]\u001b[A\n",
      " 70%|███████   | 7/10 [00:45<00:19,  6.43s/it]\u001b[A\n",
      " 80%|████████  | 8/10 [00:51<00:12,  6.42s/it]\u001b[A\n",
      " 90%|█████████ | 9/10 [00:57<00:06,  6.42s/it]\u001b[A\n",
      "100%|██████████| 10/10 [01:04<00:00,  6.43s/it]\u001b[A\n",
      " 53%|█████▎    | 16/30 [33:57<29:52, 128.03s/it]"
     ]
    },
    {
     "name": "stdout",
     "output_type": "stream",
     "text": [
      "Task accuracy: 0.55\n",
      "model.layers.8.self_attn.o_proj 1\n"
     ]
    },
    {
     "name": "stderr",
     "output_type": "stream",
     "text": [
      "\n",
      "  0%|          | 0/10 [00:00<?, ?it/s]\u001b[A\n",
      " 10%|█         | 1/10 [00:06<00:57,  6.41s/it]\u001b[A\n",
      " 20%|██        | 2/10 [00:12<00:51,  6.42s/it]\u001b[A\n",
      " 30%|███       | 3/10 [00:19<00:44,  6.42s/it]\u001b[A\n",
      " 40%|████      | 4/10 [00:25<00:38,  6.42s/it]\u001b[A\n",
      " 50%|█████     | 5/10 [00:32<00:32,  6.42s/it]\u001b[A\n",
      " 60%|██████    | 6/10 [00:38<00:25,  6.41s/it]\u001b[A\n",
      " 70%|███████   | 7/10 [00:44<00:19,  6.41s/it]\u001b[A\n",
      " 80%|████████  | 8/10 [00:51<00:12,  6.41s/it]\u001b[A\n",
      " 90%|█████████ | 9/10 [00:57<00:06,  6.41s/it]\u001b[A\n",
      "100%|██████████| 10/10 [01:04<00:00,  6.41s/it]\u001b[A\n"
     ]
    },
    {
     "name": "stdout",
     "output_type": "stream",
     "text": [
      "Task accuracy: 0.57\n"
     ]
    },
    {
     "name": "stderr",
     "output_type": "stream",
     "text": [
      "\n",
      "  0%|          | 0/10 [00:00<?, ?it/s]\u001b[A\n",
      " 10%|█         | 1/10 [00:06<00:57,  6.43s/it]\u001b[A\n",
      " 20%|██        | 2/10 [00:12<00:51,  6.42s/it]\u001b[A\n",
      " 30%|███       | 3/10 [00:19<00:44,  6.42s/it]\u001b[A\n",
      " 40%|████      | 4/10 [00:25<00:38,  6.42s/it]\u001b[A\n",
      " 50%|█████     | 5/10 [00:32<00:32,  6.41s/it]\u001b[A\n",
      " 60%|██████    | 6/10 [00:38<00:25,  6.41s/it]\u001b[A\n",
      " 70%|███████   | 7/10 [00:44<00:19,  6.40s/it]\u001b[A\n",
      " 80%|████████  | 8/10 [00:51<00:12,  6.40s/it]\u001b[A\n",
      " 90%|█████████ | 9/10 [00:57<00:06,  6.41s/it]\u001b[A\n",
      "100%|██████████| 10/10 [01:04<00:00,  6.41s/it]\u001b[A\n",
      " 57%|█████▋    | 17/30 [36:06<27:45, 128.10s/it]"
     ]
    },
    {
     "name": "stdout",
     "output_type": "stream",
     "text": [
      "Task accuracy: 0.58\n",
      "model.layers.9.self_attn.o_proj 29\n",
      "remove model.layers.6.self_attn.o_proj 10\n",
      "remove model.layers.4.self_attn.o_proj 4\n",
      "remove model.layers.7.self_attn.o_proj 9\n",
      "remove model.layers.10.self_attn.o_proj 7\n",
      "remove model.layers.11.self_attn.o_proj 24\n",
      "remove model.layers.13.self_attn.o_proj 0\n",
      "remove model.layers.11.self_attn.o_proj 7\n",
      "remove model.layers.10.self_attn.o_proj 4\n",
      "remove model.layers.7.self_attn.o_proj 17\n"
     ]
    },
    {
     "name": "stderr",
     "output_type": "stream",
     "text": [
      "\n",
      "  0%|          | 0/10 [00:00<?, ?it/s]\u001b[A\n",
      " 10%|█         | 1/10 [00:06<00:57,  6.44s/it]\u001b[A\n",
      " 20%|██        | 2/10 [00:12<00:51,  6.42s/it]\u001b[A\n",
      " 30%|███       | 3/10 [00:19<00:44,  6.37s/it]\u001b[A\n",
      " 40%|████      | 4/10 [00:25<00:38,  6.35s/it]\u001b[A\n",
      " 50%|█████     | 5/10 [00:31<00:31,  6.32s/it]\u001b[A\n",
      " 60%|██████    | 6/10 [00:38<00:25,  6.31s/it]\u001b[A\n",
      " 70%|███████   | 7/10 [00:44<00:18,  6.29s/it]\u001b[A\n",
      " 80%|████████  | 8/10 [00:50<00:12,  6.28s/it]\u001b[A\n",
      " 90%|█████████ | 9/10 [00:56<00:06,  6.27s/it]\u001b[A\n",
      "100%|██████████| 10/10 [01:03<00:00,  6.31s/it]\u001b[A\n"
     ]
    },
    {
     "name": "stdout",
     "output_type": "stream",
     "text": [
      "Task accuracy: 0.53\n"
     ]
    },
    {
     "name": "stderr",
     "output_type": "stream",
     "text": [
      "\n",
      "  0%|          | 0/10 [00:00<?, ?it/s]\u001b[A\n",
      " 10%|█         | 1/10 [00:06<00:56,  6.28s/it]\u001b[A\n",
      " 20%|██        | 2/10 [00:12<00:50,  6.28s/it]\u001b[A\n",
      " 30%|███       | 3/10 [00:18<00:43,  6.28s/it]\u001b[A\n",
      " 40%|████      | 4/10 [00:25<00:37,  6.28s/it]\u001b[A\n",
      " 50%|█████     | 5/10 [00:31<00:31,  6.28s/it]\u001b[A\n",
      " 60%|██████    | 6/10 [00:37<00:25,  6.27s/it]\u001b[A\n",
      " 70%|███████   | 7/10 [00:43<00:18,  6.27s/it]\u001b[A\n",
      " 80%|████████  | 8/10 [00:50<00:12,  6.27s/it]\u001b[A\n",
      " 90%|█████████ | 9/10 [00:56<00:06,  6.27s/it]\u001b[A\n",
      "100%|██████████| 10/10 [01:02<00:00,  6.27s/it]\u001b[A\n",
      " 60%|██████    | 18/30 [38:11<25:29, 127.42s/it]"
     ]
    },
    {
     "name": "stdout",
     "output_type": "stream",
     "text": [
      "Task accuracy: 0.52\n",
      "model.layers.12.self_attn.o_proj 9\n",
      "remove model.layers.11.self_attn.o_proj 7\n",
      "remove model.layers.4.self_attn.o_proj 4\n"
     ]
    },
    {
     "name": "stderr",
     "output_type": "stream",
     "text": [
      "\n",
      "  0%|          | 0/10 [00:00<?, ?it/s]\u001b[A\n",
      " 10%|█         | 1/10 [00:06<00:58,  6.47s/it]\u001b[A\n",
      " 20%|██        | 2/10 [00:12<00:50,  6.37s/it]\u001b[A\n",
      " 30%|███       | 3/10 [00:19<00:44,  6.32s/it]\u001b[A\n",
      " 40%|████      | 4/10 [00:25<00:37,  6.30s/it]\u001b[A\n",
      " 50%|█████     | 5/10 [00:31<00:31,  6.29s/it]\u001b[A\n",
      " 60%|██████    | 6/10 [00:37<00:25,  6.27s/it]\u001b[A\n",
      " 70%|███████   | 7/10 [00:44<00:18,  6.28s/it]\u001b[A\n",
      " 80%|████████  | 8/10 [00:50<00:12,  6.26s/it]\u001b[A\n",
      " 90%|█████████ | 9/10 [00:56<00:06,  6.27s/it]\u001b[A\n",
      "100%|██████████| 10/10 [01:02<00:00,  6.29s/it]\u001b[A\n"
     ]
    },
    {
     "name": "stdout",
     "output_type": "stream",
     "text": [
      "Task accuracy: 0.56\n"
     ]
    },
    {
     "name": "stderr",
     "output_type": "stream",
     "text": [
      "\n",
      "  0%|          | 0/10 [00:00<?, ?it/s]\u001b[A\n",
      " 10%|█         | 1/10 [00:06<00:56,  6.28s/it]\u001b[A\n",
      " 20%|██        | 2/10 [00:12<00:50,  6.29s/it]\u001b[A\n",
      " 30%|███       | 3/10 [00:18<00:43,  6.27s/it]\u001b[A\n",
      " 40%|████      | 4/10 [00:25<00:37,  6.28s/it]\u001b[A\n",
      " 50%|█████     | 5/10 [00:31<00:31,  6.26s/it]\u001b[A\n",
      " 60%|██████    | 6/10 [00:37<00:25,  6.27s/it]\u001b[A\n",
      " 70%|███████   | 7/10 [00:43<00:18,  6.27s/it]\u001b[A\n",
      " 80%|████████  | 8/10 [00:50<00:12,  6.27s/it]\u001b[A\n",
      " 90%|█████████ | 9/10 [00:56<00:06,  6.28s/it]\u001b[A\n",
      "100%|██████████| 10/10 [01:02<00:00,  6.27s/it]\u001b[A\n",
      " 63%|██████▎   | 19/30 [40:17<23:15, 126.88s/it]"
     ]
    },
    {
     "name": "stdout",
     "output_type": "stream",
     "text": [
      "Task accuracy: 0.56\n",
      "model.layers.7.self_attn.o_proj 3\n",
      "remove model.layers.9.self_attn.o_proj 2\n",
      "remove model.layers.1.self_attn.o_proj 9\n",
      "remove model.layers.6.self_attn.o_proj 10\n"
     ]
    },
    {
     "name": "stderr",
     "output_type": "stream",
     "text": [
      "\n",
      "  0%|          | 0/10 [00:00<?, ?it/s]\u001b[A\n",
      " 10%|█         | 1/10 [00:06<00:56,  6.29s/it]\u001b[A\n",
      " 20%|██        | 2/10 [00:12<00:50,  6.28s/it]\u001b[A\n",
      " 30%|███       | 3/10 [00:18<00:43,  6.28s/it]\u001b[A\n",
      " 40%|████      | 4/10 [00:25<00:37,  6.27s/it]\u001b[A\n",
      " 50%|█████     | 5/10 [00:31<00:31,  6.25s/it]\u001b[A\n",
      " 60%|██████    | 6/10 [00:37<00:25,  6.26s/it]\u001b[A\n",
      " 70%|███████   | 7/10 [00:43<00:18,  6.26s/it]\u001b[A\n",
      " 80%|████████  | 8/10 [00:50<00:12,  6.27s/it]\u001b[A\n",
      " 90%|█████████ | 9/10 [00:56<00:06,  6.27s/it]\u001b[A\n",
      "100%|██████████| 10/10 [01:02<00:00,  6.27s/it]\u001b[A\n"
     ]
    },
    {
     "name": "stdout",
     "output_type": "stream",
     "text": [
      "Task accuracy: 0.6\n"
     ]
    },
    {
     "name": "stderr",
     "output_type": "stream",
     "text": [
      "\n",
      "  0%|          | 0/10 [00:00<?, ?it/s]\u001b[A\n",
      " 10%|█         | 1/10 [00:06<00:56,  6.30s/it]\u001b[A\n",
      " 20%|██        | 2/10 [00:12<00:50,  6.27s/it]\u001b[A\n",
      " 30%|███       | 3/10 [00:18<00:43,  6.28s/it]\u001b[A\n",
      " 40%|████      | 4/10 [00:25<00:37,  6.28s/it]\u001b[A\n",
      " 50%|█████     | 5/10 [00:31<00:31,  6.27s/it]\u001b[A\n",
      " 60%|██████    | 6/10 [00:37<00:25,  6.28s/it]\u001b[A\n",
      " 70%|███████   | 7/10 [00:43<00:18,  6.27s/it]\u001b[A\n",
      " 80%|████████  | 8/10 [00:50<00:12,  6.28s/it]\u001b[A\n",
      " 90%|█████████ | 9/10 [00:56<00:06,  6.28s/it]\u001b[A\n",
      "100%|██████████| 10/10 [01:02<00:00,  6.28s/it]\u001b[A\n",
      " 67%|██████▋   | 20/30 [42:22<21:04, 126.45s/it]"
     ]
    },
    {
     "name": "stdout",
     "output_type": "stream",
     "text": [
      "Task accuracy: 0.6\n",
      "model.layers.11.self_attn.o_proj 7\n",
      "remove model.layers.10.self_attn.o_proj 7\n",
      "remove model.layers.12.self_attn.o_proj 23\n",
      "remove model.layers.7.self_attn.o_proj 26\n",
      "remove model.layers.7.self_attn.o_proj 9\n",
      "remove model.layers.8.self_attn.o_proj 1\n"
     ]
    },
    {
     "name": "stderr",
     "output_type": "stream",
     "text": [
      "\n",
      "  0%|          | 0/10 [00:00<?, ?it/s]\u001b[A\n",
      " 10%|█         | 1/10 [00:06<00:56,  6.28s/it]\u001b[A\n",
      " 20%|██        | 2/10 [00:12<00:50,  6.27s/it]\u001b[A\n",
      " 30%|███       | 3/10 [00:18<00:43,  6.27s/it]\u001b[A\n",
      " 40%|████      | 4/10 [00:25<00:37,  6.25s/it]\u001b[A\n",
      " 50%|█████     | 5/10 [00:31<00:31,  6.25s/it]\u001b[A\n",
      " 60%|██████    | 6/10 [00:37<00:25,  6.26s/it]\u001b[A\n",
      " 70%|███████   | 7/10 [00:43<00:18,  6.26s/it]\u001b[A\n",
      " 80%|████████  | 8/10 [00:50<00:12,  6.27s/it]\u001b[A\n",
      " 90%|█████████ | 9/10 [00:56<00:06,  6.27s/it]\u001b[A\n",
      "100%|██████████| 10/10 [01:02<00:00,  6.27s/it]\u001b[A\n"
     ]
    },
    {
     "name": "stdout",
     "output_type": "stream",
     "text": [
      "Task accuracy: 0.6\n"
     ]
    },
    {
     "name": "stderr",
     "output_type": "stream",
     "text": [
      "\n",
      "  0%|          | 0/10 [00:00<?, ?it/s]\u001b[A\n",
      " 10%|█         | 1/10 [00:06<00:56,  6.27s/it]\u001b[A\n",
      " 20%|██        | 2/10 [00:12<00:50,  6.27s/it]\u001b[A\n",
      " 30%|███       | 3/10 [00:18<00:43,  6.28s/it]\u001b[A\n",
      " 40%|████      | 4/10 [00:25<00:37,  6.28s/it]\u001b[A\n",
      " 50%|█████     | 5/10 [00:31<00:31,  6.28s/it]\u001b[A\n",
      " 60%|██████    | 6/10 [00:37<00:25,  6.28s/it]\u001b[A\n",
      " 70%|███████   | 7/10 [00:43<00:18,  6.28s/it]\u001b[A\n",
      " 80%|████████  | 8/10 [00:50<00:12,  6.28s/it]\u001b[A\n",
      " 90%|█████████ | 9/10 [00:56<00:06,  6.29s/it]\u001b[A\n",
      "100%|██████████| 10/10 [01:02<00:00,  6.28s/it]\u001b[A\n",
      " 70%|███████   | 21/30 [44:28<18:55, 126.17s/it]"
     ]
    },
    {
     "name": "stdout",
     "output_type": "stream",
     "text": [
      "Task accuracy: 0.6\n",
      "model.layers.12.self_attn.o_proj 23\n",
      "remove model.layers.5.self_attn.o_proj 7\n",
      "remove model.layers.11.self_attn.o_proj 7\n",
      "remove model.layers.1.self_attn.o_proj 9\n",
      "remove model.layers.9.self_attn.o_proj 7\n",
      "remove model.layers.6.self_attn.o_proj 10\n",
      "remove model.layers.13.self_attn.o_proj 26\n",
      "remove model.layers.4.self_attn.o_proj 4\n",
      "remove model.layers.7.self_attn.o_proj 9\n",
      "remove model.layers.8.self_attn.o_proj 1\n"
     ]
    },
    {
     "name": "stderr",
     "output_type": "stream",
     "text": [
      "\n",
      "  0%|          | 0/10 [00:00<?, ?it/s]\u001b[A\n",
      " 10%|█         | 1/10 [00:06<00:56,  6.27s/it]\u001b[A\n",
      " 20%|██        | 2/10 [00:12<00:50,  6.29s/it]\u001b[A\n",
      " 30%|███       | 3/10 [00:18<00:43,  6.28s/it]\u001b[A\n",
      " 40%|████      | 4/10 [00:25<00:37,  6.29s/it]\u001b[A\n",
      " 50%|█████     | 5/10 [00:31<00:31,  6.29s/it]\u001b[A\n",
      " 60%|██████    | 6/10 [00:37<00:25,  6.28s/it]\u001b[A\n",
      " 70%|███████   | 7/10 [00:43<00:18,  6.28s/it]\u001b[A\n",
      " 80%|████████  | 8/10 [00:50<00:12,  6.28s/it]\u001b[A\n",
      " 90%|█████████ | 9/10 [00:56<00:06,  6.28s/it]\u001b[A\n",
      "100%|██████████| 10/10 [01:02<00:00,  6.28s/it]\u001b[A\n"
     ]
    },
    {
     "name": "stdout",
     "output_type": "stream",
     "text": [
      "Task accuracy: 0.52\n"
     ]
    },
    {
     "name": "stderr",
     "output_type": "stream",
     "text": [
      "\n",
      "  0%|          | 0/10 [00:00<?, ?it/s]\u001b[A\n",
      " 10%|█         | 1/10 [00:06<00:56,  6.29s/it]\u001b[A\n",
      " 20%|██        | 2/10 [00:12<00:50,  6.29s/it]\u001b[A\n",
      " 30%|███       | 3/10 [00:18<00:43,  6.27s/it]\u001b[A\n",
      " 40%|████      | 4/10 [00:25<00:37,  6.27s/it]\u001b[A\n",
      " 50%|█████     | 5/10 [00:31<00:31,  6.27s/it]\u001b[A\n",
      " 60%|██████    | 6/10 [00:37<00:25,  6.26s/it]\u001b[A\n",
      " 70%|███████   | 7/10 [00:43<00:18,  6.27s/it]\u001b[A\n",
      " 80%|████████  | 8/10 [00:50<00:12,  6.28s/it]\u001b[A\n",
      " 90%|█████████ | 9/10 [00:56<00:06,  6.28s/it]\u001b[A\n",
      "100%|██████████| 10/10 [01:02<00:00,  6.30s/it]\u001b[A\n",
      " 73%|███████▎  | 22/30 [46:34<16:48, 126.06s/it]"
     ]
    },
    {
     "name": "stdout",
     "output_type": "stream",
     "text": [
      "Task accuracy: 0.52\n",
      "model.layers.9.self_attn.o_proj 15\n",
      "remove model.layers.9.self_attn.o_proj 2\n",
      "remove model.layers.9.self_attn.o_proj 7\n",
      "remove model.layers.6.self_attn.o_proj 10\n",
      "remove model.layers.5.self_attn.o_proj 7\n",
      "remove model.layers.11.self_attn.o_proj 7\n",
      "remove model.layers.4.self_attn.o_proj 4\n",
      "remove model.layers.8.self_attn.o_proj 1\n"
     ]
    },
    {
     "name": "stderr",
     "output_type": "stream",
     "text": [
      "\n",
      "  0%|          | 0/10 [00:00<?, ?it/s]\u001b[A\n",
      " 10%|█         | 1/10 [00:06<00:56,  6.30s/it]\u001b[A\n",
      " 20%|██        | 2/10 [00:12<00:50,  6.27s/it]\u001b[A\n",
      " 30%|███       | 3/10 [00:18<00:43,  6.27s/it]\u001b[A\n",
      " 40%|████      | 4/10 [00:25<00:37,  6.27s/it]\u001b[A\n",
      " 50%|█████     | 5/10 [00:31<00:31,  6.25s/it]\u001b[A\n",
      " 60%|██████    | 6/10 [00:37<00:25,  6.26s/it]\u001b[A\n",
      " 70%|███████   | 7/10 [00:43<00:18,  6.27s/it]\u001b[A\n",
      " 80%|████████  | 8/10 [00:50<00:12,  6.27s/it]\u001b[A\n",
      " 90%|█████████ | 9/10 [00:56<00:06,  6.28s/it]\u001b[A\n",
      "100%|██████████| 10/10 [01:02<00:00,  6.27s/it]\u001b[A\n"
     ]
    },
    {
     "name": "stdout",
     "output_type": "stream",
     "text": [
      "Task accuracy: 0.58\n"
     ]
    },
    {
     "name": "stderr",
     "output_type": "stream",
     "text": [
      "\n",
      "  0%|          | 0/10 [00:00<?, ?it/s]\u001b[A\n",
      " 10%|█         | 1/10 [00:06<00:56,  6.27s/it]\u001b[A\n",
      " 20%|██        | 2/10 [00:12<00:50,  6.27s/it]\u001b[A\n",
      " 30%|███       | 3/10 [00:18<00:43,  6.28s/it]\u001b[A\n",
      " 40%|████      | 4/10 [00:25<00:37,  6.28s/it]\u001b[A\n",
      " 50%|█████     | 5/10 [00:31<00:31,  6.28s/it]\u001b[A\n",
      " 60%|██████    | 6/10 [00:37<00:25,  6.28s/it]\u001b[A\n",
      " 70%|███████   | 7/10 [00:43<00:18,  6.27s/it]\u001b[A\n",
      " 80%|████████  | 8/10 [00:50<00:12,  6.28s/it]\u001b[A\n",
      " 90%|█████████ | 9/10 [00:56<00:06,  6.28s/it]\u001b[A\n",
      "100%|██████████| 10/10 [01:02<00:00,  6.28s/it]\u001b[A\n",
      " 77%|███████▋  | 23/30 [48:39<14:41, 125.89s/it]"
     ]
    },
    {
     "name": "stdout",
     "output_type": "stream",
     "text": [
      "Task accuracy: 0.57\n",
      "model.layers.10.self_attn.o_proj 21\n",
      "remove model.layers.1.self_attn.o_proj 9\n",
      "remove model.layers.5.self_attn.o_proj 7\n",
      "remove model.layers.11.self_attn.o_proj 7\n",
      "remove model.layers.4.self_attn.o_proj 4\n",
      "remove model.layers.7.self_attn.o_proj 3\n",
      "remove model.layers.11.self_attn.o_proj 23\n",
      "remove model.layers.9.self_attn.o_proj 10\n",
      "remove model.layers.11.self_attn.o_proj 24\n",
      "remove model.layers.13.self_attn.o_proj 0\n"
     ]
    },
    {
     "name": "stderr",
     "output_type": "stream",
     "text": [
      "\n",
      "  0%|          | 0/10 [00:00<?, ?it/s]\u001b[A\n",
      " 10%|█         | 1/10 [00:06<00:56,  6.27s/it]\u001b[A\n",
      " 20%|██        | 2/10 [00:12<00:50,  6.27s/it]\u001b[A\n",
      " 30%|███       | 3/10 [00:18<00:43,  6.29s/it]\u001b[A\n",
      " 40%|████      | 4/10 [00:25<00:37,  6.28s/it]\u001b[A\n",
      " 50%|█████     | 5/10 [00:31<00:31,  6.28s/it]\u001b[A\n",
      " 60%|██████    | 6/10 [00:37<00:25,  6.27s/it]\u001b[A\n",
      " 70%|███████   | 7/10 [00:43<00:18,  6.27s/it]\u001b[A\n",
      " 80%|████████  | 8/10 [00:50<00:12,  6.27s/it]\u001b[A\n",
      " 90%|█████████ | 9/10 [00:56<00:06,  6.27s/it]\u001b[A\n",
      "100%|██████████| 10/10 [01:02<00:00,  6.27s/it]\u001b[A\n"
     ]
    },
    {
     "name": "stdout",
     "output_type": "stream",
     "text": [
      "Task accuracy: 0.46\n"
     ]
    },
    {
     "name": "stderr",
     "output_type": "stream",
     "text": [
      "\n",
      "  0%|          | 0/10 [00:00<?, ?it/s]\u001b[A\n",
      " 10%|█         | 1/10 [00:06<00:56,  6.26s/it]\u001b[A\n",
      " 20%|██        | 2/10 [00:12<00:50,  6.28s/it]\u001b[A\n",
      " 30%|███       | 3/10 [00:18<00:43,  6.28s/it]\u001b[A\n",
      " 40%|████      | 4/10 [00:25<00:37,  6.28s/it]\u001b[A\n",
      " 50%|█████     | 5/10 [00:31<00:31,  6.27s/it]\u001b[A\n",
      " 60%|██████    | 6/10 [00:37<00:25,  6.27s/it]\u001b[A\n",
      " 70%|███████   | 7/10 [00:43<00:18,  6.27s/it]\u001b[A\n",
      " 80%|████████  | 8/10 [00:50<00:12,  6.27s/it]\u001b[A\n",
      " 90%|█████████ | 9/10 [00:56<00:06,  6.27s/it]\u001b[A\n",
      "100%|██████████| 10/10 [01:02<00:00,  6.27s/it]\u001b[A\n",
      " 80%|████████  | 24/30 [50:45<12:34, 125.76s/it]"
     ]
    },
    {
     "name": "stdout",
     "output_type": "stream",
     "text": [
      "Task accuracy: 0.45\n",
      "model.layers.9.self_attn.o_proj 21\n",
      "remove model.layers.5.self_attn.o_proj 7\n",
      "remove model.layers.11.self_attn.o_proj 7\n",
      "remove model.layers.10.self_attn.o_proj 4\n",
      "remove model.layers.9.self_attn.o_proj 7\n",
      "remove model.layers.8.self_attn.o_proj 1\n",
      "remove model.layers.13.self_attn.o_proj 14\n",
      "remove model.layers.12.self_attn.o_proj 9\n",
      "remove model.layers.9.self_attn.o_proj 15\n",
      "remove model.layers.4.self_attn.o_proj 4\n"
     ]
    },
    {
     "name": "stderr",
     "output_type": "stream",
     "text": [
      "\n",
      "  0%|          | 0/10 [00:00<?, ?it/s]\u001b[A\n",
      " 10%|█         | 1/10 [00:06<00:56,  6.27s/it]\u001b[A\n",
      " 20%|██        | 2/10 [00:12<00:50,  6.27s/it]\u001b[A\n",
      " 30%|███       | 3/10 [00:18<00:43,  6.27s/it]\u001b[A\n",
      " 40%|████      | 4/10 [00:25<00:37,  6.27s/it]\u001b[A\n",
      " 50%|█████     | 5/10 [00:31<00:31,  6.28s/it]\u001b[A\n",
      " 60%|██████    | 6/10 [00:37<00:25,  6.27s/it]\u001b[A\n",
      " 70%|███████   | 7/10 [00:43<00:18,  6.27s/it]\u001b[A\n",
      " 80%|████████  | 8/10 [00:50<00:12,  6.27s/it]\u001b[A\n",
      " 90%|█████████ | 9/10 [00:56<00:06,  6.27s/it]\u001b[A\n",
      "100%|██████████| 10/10 [01:02<00:00,  6.27s/it]\u001b[A\n"
     ]
    },
    {
     "name": "stdout",
     "output_type": "stream",
     "text": [
      "Task accuracy: 0.56\n"
     ]
    },
    {
     "name": "stderr",
     "output_type": "stream",
     "text": [
      "\n",
      "  0%|          | 0/10 [00:00<?, ?it/s]\u001b[A\n",
      " 10%|█         | 1/10 [00:06<00:56,  6.28s/it]\u001b[A\n",
      " 20%|██        | 2/10 [00:12<00:50,  6.28s/it]\u001b[A\n",
      " 30%|███       | 3/10 [00:18<00:43,  6.26s/it]\u001b[A\n",
      " 40%|████      | 4/10 [00:25<00:37,  6.27s/it]\u001b[A\n",
      " 50%|█████     | 5/10 [00:31<00:31,  6.27s/it]\u001b[A\n",
      " 60%|██████    | 6/10 [00:37<00:25,  6.28s/it]\u001b[A\n",
      " 70%|███████   | 7/10 [00:43<00:18,  6.27s/it]\u001b[A\n",
      " 80%|████████  | 8/10 [00:50<00:12,  6.26s/it]\u001b[A\n",
      " 90%|█████████ | 9/10 [00:56<00:06,  6.27s/it]\u001b[A\n",
      "100%|██████████| 10/10 [01:02<00:00,  6.27s/it]\u001b[A\n",
      " 83%|████████▎ | 25/30 [52:50<10:28, 125.65s/it]"
     ]
    },
    {
     "name": "stdout",
     "output_type": "stream",
     "text": [
      "Task accuracy: 0.43\n",
      "model.layers.10.self_attn.o_proj 4\n",
      "remove model.layers.9.self_attn.o_proj 7\n",
      "remove model.layers.7.self_attn.o_proj 9\n",
      "remove model.layers.10.self_attn.o_proj 3\n",
      "remove model.layers.11.self_attn.o_proj 24\n",
      "remove model.layers.5.self_attn.o_proj 7\n",
      "remove model.layers.9.self_attn.o_proj 29\n",
      "remove model.layers.11.self_attn.o_proj 7\n",
      "remove model.layers.9.self_attn.o_proj 21\n",
      "remove model.layers.10.self_attn.o_proj 7\n"
     ]
    },
    {
     "name": "stderr",
     "output_type": "stream",
     "text": [
      "\n",
      "  0%|          | 0/10 [00:00<?, ?it/s]\u001b[A\n",
      " 10%|█         | 1/10 [00:06<00:56,  6.27s/it]\u001b[A\n",
      " 20%|██        | 2/10 [00:12<00:50,  6.27s/it]\u001b[A\n",
      " 30%|███       | 3/10 [00:18<00:43,  6.28s/it]\u001b[A\n",
      " 40%|████      | 4/10 [00:25<00:37,  6.28s/it]\u001b[A\n",
      " 50%|█████     | 5/10 [00:31<00:31,  6.28s/it]\u001b[A\n",
      " 60%|██████    | 6/10 [00:37<00:25,  6.29s/it]\u001b[A\n",
      " 70%|███████   | 7/10 [00:43<00:18,  6.27s/it]\u001b[A\n",
      " 80%|████████  | 8/10 [00:50<00:12,  6.26s/it]\u001b[A\n",
      " 90%|█████████ | 9/10 [00:56<00:06,  6.26s/it]\u001b[A\n",
      "100%|██████████| 10/10 [01:02<00:00,  6.27s/it]\u001b[A\n"
     ]
    },
    {
     "name": "stdout",
     "output_type": "stream",
     "text": [
      "Task accuracy: 0.41\n"
     ]
    },
    {
     "name": "stderr",
     "output_type": "stream",
     "text": [
      "\n",
      "  0%|          | 0/10 [00:00<?, ?it/s]\u001b[A\n",
      " 10%|█         | 1/10 [00:06<00:56,  6.26s/it]\u001b[A\n",
      " 20%|██        | 2/10 [00:12<00:49,  6.25s/it]\u001b[A\n",
      " 30%|███       | 3/10 [00:18<00:43,  6.25s/it]\u001b[A\n",
      " 40%|████      | 4/10 [00:25<00:37,  6.26s/it]\u001b[A\n",
      " 50%|█████     | 5/10 [00:31<00:31,  6.27s/it]\u001b[A\n",
      " 60%|██████    | 6/10 [00:37<00:25,  6.27s/it]\u001b[A\n",
      " 70%|███████   | 7/10 [00:43<00:18,  6.28s/it]\u001b[A\n",
      " 80%|████████  | 8/10 [00:50<00:12,  6.27s/it]\u001b[A\n",
      " 90%|█████████ | 9/10 [00:56<00:06,  6.26s/it]\u001b[A\n",
      "100%|██████████| 10/10 [01:02<00:00,  6.27s/it]\u001b[A\n",
      " 87%|████████▋ | 26/30 [54:55<08:22, 125.57s/it]"
     ]
    },
    {
     "name": "stdout",
     "output_type": "stream",
     "text": [
      "Task accuracy: 0.41\n",
      "model.layers.10.self_attn.o_proj 7\n"
     ]
    },
    {
     "name": "stderr",
     "output_type": "stream",
     "text": [
      "\n",
      "  0%|          | 0/10 [00:00<?, ?it/s]\u001b[A\n",
      " 10%|█         | 1/10 [00:06<00:56,  6.28s/it]\u001b[A\n",
      " 20%|██        | 2/10 [00:12<00:50,  6.27s/it]\u001b[A\n",
      " 30%|███       | 3/10 [00:19<00:44,  6.36s/it]\u001b[A\n",
      " 40%|████      | 4/10 [00:25<00:37,  6.32s/it]\u001b[A\n",
      " 50%|█████     | 5/10 [00:31<00:31,  6.31s/it]\u001b[A\n",
      " 60%|██████    | 6/10 [00:37<00:25,  6.30s/it]\u001b[A\n",
      " 70%|███████   | 7/10 [00:44<00:18,  6.29s/it]\u001b[A\n",
      " 80%|████████  | 8/10 [00:50<00:12,  6.28s/it]\u001b[A\n",
      " 90%|█████████ | 9/10 [00:56<00:06,  6.27s/it]\u001b[A\n",
      "100%|██████████| 10/10 [01:03<00:00,  6.30s/it]\u001b[A\n"
     ]
    },
    {
     "name": "stdout",
     "output_type": "stream",
     "text": [
      "Task accuracy: 0.57\n"
     ]
    },
    {
     "name": "stderr",
     "output_type": "stream",
     "text": [
      "\n",
      "  0%|          | 0/10 [00:00<?, ?it/s]\u001b[A\n",
      " 10%|█         | 1/10 [00:06<00:57,  6.39s/it]\u001b[A\n",
      " 20%|██        | 2/10 [00:12<00:50,  6.33s/it]\u001b[A\n",
      " 30%|███       | 3/10 [00:18<00:44,  6.30s/it]\u001b[A\n",
      " 40%|████      | 4/10 [00:25<00:37,  6.29s/it]\u001b[A\n",
      " 50%|█████     | 5/10 [00:31<00:31,  6.29s/it]\u001b[A\n",
      " 60%|██████    | 6/10 [00:37<00:25,  6.28s/it]\u001b[A\n",
      " 70%|███████   | 7/10 [00:44<00:18,  6.28s/it]\u001b[A\n",
      " 80%|████████  | 8/10 [00:50<00:12,  6.27s/it]\u001b[A\n",
      " 90%|█████████ | 9/10 [00:56<00:06,  6.27s/it]\u001b[A\n",
      "100%|██████████| 10/10 [01:02<00:00,  6.28s/it]\u001b[A\n",
      " 90%|█████████ | 27/30 [57:01<06:16, 125.65s/it]"
     ]
    },
    {
     "name": "stdout",
     "output_type": "stream",
     "text": [
      "Task accuracy: 0.59\n",
      "model.layers.13.self_attn.o_proj 26\n",
      "remove model.layers.11.self_attn.o_proj 7\n",
      "remove model.layers.12.self_attn.o_proj 23\n",
      "remove model.layers.8.self_attn.o_proj 1\n"
     ]
    },
    {
     "name": "stderr",
     "output_type": "stream",
     "text": [
      "\n",
      "  0%|          | 0/10 [00:00<?, ?it/s]\u001b[A\n",
      " 10%|█         | 1/10 [00:06<00:56,  6.23s/it]\u001b[A\n",
      " 20%|██        | 2/10 [00:12<00:49,  6.24s/it]\u001b[A\n",
      " 30%|███       | 3/10 [00:18<00:43,  6.25s/it]\u001b[A\n",
      " 40%|████      | 4/10 [00:24<00:37,  6.24s/it]\u001b[A\n",
      " 50%|█████     | 5/10 [00:31<00:31,  6.24s/it]\u001b[A\n",
      " 60%|██████    | 6/10 [00:37<00:24,  6.25s/it]\u001b[A\n",
      " 70%|███████   | 7/10 [00:43<00:18,  6.25s/it]\u001b[A\n",
      " 80%|████████  | 8/10 [00:49<00:12,  6.24s/it]\u001b[A\n",
      " 90%|█████████ | 9/10 [00:56<00:06,  6.24s/it]\u001b[A\n",
      "100%|██████████| 10/10 [01:02<00:00,  6.24s/it]\u001b[A\n"
     ]
    },
    {
     "name": "stdout",
     "output_type": "stream",
     "text": [
      "Task accuracy: 0.58\n"
     ]
    },
    {
     "name": "stderr",
     "output_type": "stream",
     "text": [
      "\n",
      "  0%|          | 0/10 [00:00<?, ?it/s]\u001b[A\n",
      " 10%|█         | 1/10 [00:06<00:56,  6.25s/it]\u001b[A\n",
      " 20%|██        | 2/10 [00:12<00:49,  6.25s/it]\u001b[A\n",
      " 30%|███       | 3/10 [00:18<00:43,  6.26s/it]\u001b[A\n",
      " 40%|████      | 4/10 [00:25<00:37,  6.27s/it]\u001b[A\n",
      " 50%|█████     | 5/10 [00:31<00:31,  6.26s/it]\u001b[A\n",
      " 60%|██████    | 6/10 [00:37<00:25,  6.26s/it]\u001b[A\n",
      " 70%|███████   | 7/10 [00:43<00:18,  6.27s/it]\u001b[A\n",
      " 80%|████████  | 8/10 [00:50<00:12,  6.27s/it]\u001b[A\n",
      " 90%|█████████ | 9/10 [00:56<00:06,  6.27s/it]\u001b[A\n",
      "100%|██████████| 10/10 [01:02<00:00,  6.27s/it]\u001b[A\n",
      " 93%|█████████▎| 28/30 [59:06<04:10, 125.49s/it]"
     ]
    },
    {
     "name": "stdout",
     "output_type": "stream",
     "text": [
      "Task accuracy: 0.58\n",
      "model.layers.13.self_attn.o_proj 12\n",
      "remove model.layers.9.self_attn.o_proj 2\n",
      "remove model.layers.6.self_attn.o_proj 10\n",
      "remove model.layers.11.self_attn.o_proj 7\n"
     ]
    },
    {
     "name": "stderr",
     "output_type": "stream",
     "text": [
      "\n",
      "  0%|          | 0/10 [00:00<?, ?it/s]\u001b[A\n",
      " 10%|█         | 1/10 [00:06<00:56,  6.28s/it]\u001b[A\n",
      " 20%|██        | 2/10 [00:12<00:50,  6.25s/it]\u001b[A\n",
      " 30%|███       | 3/10 [00:18<00:43,  6.25s/it]\u001b[A\n",
      " 40%|████      | 4/10 [00:25<00:37,  6.26s/it]\u001b[A\n",
      " 50%|█████     | 5/10 [00:31<00:31,  6.26s/it]\u001b[A\n",
      " 60%|██████    | 6/10 [00:37<00:25,  6.26s/it]\u001b[A\n",
      " 70%|███████   | 7/10 [00:43<00:18,  6.26s/it]\u001b[A\n",
      " 80%|████████  | 8/10 [00:50<00:12,  6.27s/it]\u001b[A\n",
      " 90%|█████████ | 9/10 [00:56<00:06,  6.26s/it]\u001b[A\n",
      "100%|██████████| 10/10 [01:02<00:00,  6.26s/it]\u001b[A\n"
     ]
    },
    {
     "name": "stdout",
     "output_type": "stream",
     "text": [
      "Task accuracy: 0.6\n"
     ]
    },
    {
     "name": "stderr",
     "output_type": "stream",
     "text": [
      "\n",
      "  0%|          | 0/10 [00:00<?, ?it/s]\u001b[A\n",
      " 10%|█         | 1/10 [00:06<00:56,  6.24s/it]\u001b[A\n",
      " 20%|██        | 2/10 [00:12<00:50,  6.26s/it]\u001b[A\n",
      " 30%|███       | 3/10 [00:18<00:43,  6.27s/it]\u001b[A\n",
      " 40%|████      | 4/10 [00:25<00:37,  6.26s/it]\u001b[A\n",
      " 50%|█████     | 5/10 [00:31<00:31,  6.27s/it]\u001b[A\n",
      " 60%|██████    | 6/10 [00:37<00:25,  6.27s/it]\u001b[A\n",
      " 70%|███████   | 7/10 [00:43<00:18,  6.27s/it]\u001b[A\n",
      " 80%|████████  | 8/10 [00:50<00:12,  6.27s/it]\u001b[A\n",
      " 90%|█████████ | 9/10 [00:56<00:06,  6.27s/it]\u001b[A\n",
      "100%|██████████| 10/10 [01:02<00:00,  6.27s/it]\u001b[A\n",
      " 97%|█████████▋| 29/30 [1:01:12<02:05, 125.44s/it]"
     ]
    },
    {
     "name": "stdout",
     "output_type": "stream",
     "text": [
      "Task accuracy: 0.59\n",
      "model.layers.8.self_attn.o_proj 12\n",
      "remove model.layers.10.self_attn.o_proj 4\n",
      "remove model.layers.9.self_attn.o_proj 7\n",
      "remove model.layers.11.self_attn.o_proj 7\n",
      "remove model.layers.10.self_attn.o_proj 7\n",
      "remove model.layers.13.self_attn.o_proj 26\n",
      "remove model.layers.7.self_attn.o_proj 17\n",
      "remove model.layers.4.self_attn.o_proj 4\n",
      "remove model.layers.7.self_attn.o_proj 9\n",
      "remove model.layers.13.self_attn.o_proj 14\n"
     ]
    },
    {
     "name": "stderr",
     "output_type": "stream",
     "text": [
      "\n",
      "  0%|          | 0/10 [00:00<?, ?it/s]\u001b[A\n",
      " 10%|█         | 1/10 [00:06<00:56,  6.27s/it]\u001b[A\n",
      " 20%|██        | 2/10 [00:12<00:50,  6.28s/it]\u001b[A\n",
      " 30%|███       | 3/10 [00:18<00:43,  6.28s/it]\u001b[A\n",
      " 40%|████      | 4/10 [00:25<00:37,  6.27s/it]\u001b[A\n",
      " 50%|█████     | 5/10 [00:31<00:31,  6.26s/it]\u001b[A\n",
      " 60%|██████    | 6/10 [00:37<00:25,  6.26s/it]\u001b[A\n",
      " 70%|███████   | 7/10 [00:43<00:18,  6.26s/it]\u001b[A\n",
      " 80%|████████  | 8/10 [00:50<00:12,  6.26s/it]\u001b[A\n",
      " 90%|█████████ | 9/10 [00:56<00:06,  6.25s/it]\u001b[A\n",
      "100%|██████████| 10/10 [01:02<00:00,  6.26s/it]\u001b[A\n"
     ]
    },
    {
     "name": "stdout",
     "output_type": "stream",
     "text": [
      "Task accuracy: 0.56\n"
     ]
    },
    {
     "name": "stderr",
     "output_type": "stream",
     "text": [
      "\n",
      "  0%|          | 0/10 [00:00<?, ?it/s]\u001b[A\n",
      " 10%|█         | 1/10 [00:06<00:56,  6.22s/it]\u001b[A\n",
      " 20%|██        | 2/10 [00:12<00:49,  6.24s/it]\u001b[A\n",
      " 30%|███       | 3/10 [00:18<00:43,  6.24s/it]\u001b[A\n",
      " 40%|████      | 4/10 [00:24<00:37,  6.23s/it]\u001b[A\n",
      " 50%|█████     | 5/10 [00:31<00:31,  6.24s/it]\u001b[A\n",
      " 60%|██████    | 6/10 [00:37<00:24,  6.24s/it]\u001b[A\n",
      " 70%|███████   | 7/10 [00:43<00:18,  6.25s/it]\u001b[A\n",
      " 80%|████████  | 8/10 [00:49<00:12,  6.25s/it]\u001b[A\n",
      " 90%|█████████ | 9/10 [00:56<00:06,  6.26s/it]\u001b[A\n",
      "100%|██████████| 10/10 [01:02<00:00,  6.25s/it]\u001b[A\n",
      "100%|██████████| 30/30 [1:03:17<00:00, 126.58s/it]"
     ]
    },
    {
     "name": "stdout",
     "output_type": "stream",
     "text": [
      "Task accuracy: 0.51\n"
     ]
    },
    {
     "name": "stderr",
     "output_type": "stream",
     "text": [
      "\n"
     ]
    }
   ],
   "source": [
    "circuit_components = {}\n",
    "circuit_components[0] = defaultdict(list)\n",
    "circuit_components[2] = defaultdict(list)\n",
    "circuit_components[-1] = defaultdict(list)\n",
    "circuit_components[-2] = defaultdict(list)\n",
    "\n",
    "res = {}\n",
    "\n",
    "root_path = \"../new_pp_exps/post_submission/llama-7b\"\n",
    "path = root_path + \"/direct_logit_heads.pt\"\n",
    "logit_values = torch.load(path)\n",
    "direct_logit_heads = analysis_utils.compute_topk_components(\n",
    "    torch.load(path), k=n_value_fetcher, largest=False\n",
    ")\n",
    "\n",
    "path = root_path + \"/heads_affect_direct_logit.pt\"\n",
    "logit_values = torch.load(path)\n",
    "heads_affecting_direct_logit_heads = analysis_utils.compute_topk_components(\n",
    "    torch.load(path), k=n_pos_trans, largest=False\n",
    ")\n",
    "\n",
    "path = root_path + \"/heads_at_query_box_pos.pt\"\n",
    "logit_values = torch.load(path)\n",
    "head_at_query_box_token = analysis_utils.compute_topk_components(\n",
    "    torch.load(path), k=n_pos_detect, largest=False\n",
    ")\n",
    "\n",
    "path = root_path + \"/heads_at_prev_query_box_pos.pt\"\n",
    "logit_values = torch.load(path)\n",
    "heads_at_prev_box_pos = analysis_utils.compute_topk_components(\n",
    "    torch.load(path), k=n_struct_read, largest=False\n",
    ")\n",
    "\n",
    "intersection = []\n",
    "for head in direct_logit_heads:\n",
    "    if head in heads_affecting_direct_logit_heads:\n",
    "        intersection.append(head)\n",
    "\n",
    "for head in intersection:\n",
    "    direct_logit_heads.remove(head)\n",
    "\n",
    "print(\n",
    "    len(direct_logit_heads),\n",
    "    len(heads_affecting_direct_logit_heads),\n",
    "    len(head_at_query_box_token),\n",
    "    len(heads_at_prev_box_pos),\n",
    ")\n",
    "\n",
    "\n",
    "for layer_idx, head in direct_logit_heads:\n",
    "    if model.config.architectures[0] == \"LlamaForCausalLM\":\n",
    "        layer = f\"model.layers.{layer_idx}.self_attn.o_proj\"\n",
    "    else:\n",
    "        layer = f\"base_model.model.model.layers.{layer_idx}.self_attn.o_proj\"\n",
    "    circuit_components[0][layer].append(head)\n",
    "\n",
    "for layer_idx, head in heads_affecting_direct_logit_heads:\n",
    "    if model.config.architectures[0] == \"LlamaForCausalLM\":\n",
    "        layer = f\"model.layers.{layer_idx}.self_attn.o_proj\"\n",
    "    else:\n",
    "        layer = f\"base_model.model.model.layers.{layer_idx}.self_attn.o_proj\"\n",
    "    circuit_components[0][layer].append(head)\n",
    "\n",
    "\n",
    "for layer_idx, head in head_at_query_box_token:\n",
    "    if model.config.architectures[0] == \"LlamaForCausalLM\":\n",
    "        layer = f\"model.layers.{layer_idx}.self_attn.o_proj\"\n",
    "    else:\n",
    "        layer = f\"base_model.model.model.layers.{layer_idx}.self_attn.o_proj\"\n",
    "    circuit_components[2][layer].append(head)\n",
    "\n",
    "for layer_idx, head in heads_at_prev_box_pos:\n",
    "    if model.config.architectures[0] == \"LlamaForCausalLM\":\n",
    "        layer = f\"model.layers.{layer_idx}.self_attn.o_proj\"\n",
    "    else:\n",
    "        layer = f\"base_model.model.model.layers.{layer_idx}.self_attn.o_proj\"\n",
    "    circuit_components[-1][layer].append(head)\n",
    "\n",
    "\n",
    "for layer_idx, head in tqdm(head_at_query_box_token):\n",
    "    if model.config.architectures[0] == \"LlamaForCausalLM\":\n",
    "        layer = f\"model.layers.{layer_idx}.self_attn.o_proj\"\n",
    "    else:\n",
    "        layer = f\"base_model.model.model.layers.{layer_idx}.self_attn.o_proj\"\n",
    "\n",
    "    print(layer, head)\n",
    "    for r in ranked[str((layer, head))][: math.ceil(percentage * len(ranked.values()))]:\n",
    "        top_layer = r[0].split(\",\")[0][2:-1]\n",
    "        top_head = int(r[0].split(\",\")[1][:-1])\n",
    "        if r[1] <= 0:\n",
    "            break\n",
    "        print(\"remove\", top_layer, top_head)\n",
    "        circuit_components[2][top_layer].remove(top_head)\n",
    "\n",
    "    befor = eval(model, dataloader, modules, circuit_components, mean_activations)\n",
    "    circuit_components[2][layer].remove(head)\n",
    "    after = eval(model, dataloader, modules, circuit_components, mean_activations)\n",
    "    res[(layer, head)] = (befor, after)\n",
    "\n",
    "    for r in ranked[str((layer, head))][: math.ceil(percentage * len(ranked.values()))]:\n",
    "        top_layer = r[0].split(\",\")[0][2:-1]\n",
    "        top_head = int(r[0].split(\",\")[1][:-1])\n",
    "        if r[1] <= 0:\n",
    "            break\n",
    "        circuit_components[2][top_layer].append(top_head)\n",
    "    circuit_components[2][layer].append(head)"
   ]
  },
  {
   "cell_type": "code",
   "execution_count": 49,
   "metadata": {},
   "outputs": [],
   "source": [
    "# with open(\"llama_head_at_query_box_token_res_k_10.json\", \"r\") as file:\n",
    "#     res = json.load(file)"
   ]
  },
  {
   "cell_type": "code",
   "execution_count": 43,
   "metadata": {},
   "outputs": [
    {
     "data": {
      "image/png": "[encoded data removed]",
      "text/plain": [
       "<Figure size 2200x500 with 1 Axes>"
      ]
     },
     "metadata": {},
     "output_type": "display_data"
    }
   ],
   "source": [
    "from matplotlib import pyplot as plt\n",
    "import matplotlib.ticker as mtick\n",
    "\n",
    "names = []\n",
    "scores = []\n",
    "\n",
    "for k in res:\n",
    "    new_k = string_to_tuple(str(k))\n",
    "    names.append(str((int(new_k[0].split(\".\")[2]), new_k[1])))\n",
    "    scores.append((res[k][0] / res[k][1] - 1))\n",
    "\n",
    "f, ax = plt.subplots(figsize=(22, 5))\n",
    "plt.bar(names, scores)\n",
    "plt.title(\"head at query box token, k=9\")\n",
    "plt.xlabel(\"heads\")\n",
    "plt.ylabel(\"change in accuracy\")\n",
    "plt.gca().yaxis.set_major_formatter(mtick.PercentFormatter(1))\n",
    "plt.show()"
   ]
  },
  {
   "cell_type": "code",
   "execution_count": 44,
   "metadata": {},
   "outputs": [],
   "source": [
    "new = {}\n",
    "for k in res:\n",
    "    new[str(k)] = res[k]\n",
    "\n",
    "with open(\n",
    "    \"./post-submission/llama-7b/llama_head_at_query_box_token_res_k_9.json\", \"w\"\n",
    ") as outfile:\n",
    "    json.dump(new, outfile)"
   ]
  },
  {
   "cell_type": "markdown",
   "metadata": {},
   "source": [
    "### llama_heads_affecting_direct_logit_heads"
   ]
  },
  {
   "cell_type": "code",
   "execution_count": 46,
   "metadata": {},
   "outputs": [],
   "source": [
    "import json\n",
    "\n",
    "with open(\n",
    "    \"./post-submission/llama-7b/heads_affecting_direct_logit_heads.json\", \"r\"\n",
    ") as f:\n",
    "    data = json.load(f)\n",
    "\n",
    "ranked = defaultdict(list)\n",
    "for k_1 in data:\n",
    "    for k_2 in data[k_1]:\n",
    "        ranked[k_1].append((k_2, data[k_2][k_2] - data[k_1][k_2]))\n",
    "for k_1 in ranked:\n",
    "    ranked[k_1].sort(key=(lambda x: x[1]), reverse=True)"
   ]
  },
  {
   "cell_type": "code",
   "execution_count": 47,
   "metadata": {},
   "outputs": [
    {
     "name": "stdout",
     "output_type": "stream",
     "text": [
      "50 15 30 5\n"
     ]
    },
    {
     "name": "stderr",
     "output_type": "stream",
     "text": [
      "\r\n",
      "  0%|          | 0/15 [00:00<?, ?it/s]"
     ]
    },
    {
     "name": "stdout",
     "output_type": "stream",
     "text": [
      "model.layers.14.self_attn.o_proj 27\n",
      "remove model.layers.11.self_attn.o_proj 23\n",
      "remove model.layers.13.self_attn.o_proj 14\n",
      "remove model.layers.12.self_attn.o_proj 23\n",
      "remove model.layers.17.self_attn.o_proj 26\n",
      "remove model.layers.14.self_attn.o_proj 0\n"
     ]
    },
    {
     "name": "stderr",
     "output_type": "stream",
     "text": [
      "\n",
      "  0%|          | 0/10 [00:00<?, ?it/s]\u001b[A\n",
      " 10%|█         | 1/10 [00:06<00:57,  6.42s/it]\u001b[A\n",
      " 20%|██        | 2/10 [00:12<00:51,  6.41s/it]\u001b[A\n",
      " 30%|███       | 3/10 [00:19<00:44,  6.43s/it]\u001b[A\n",
      " 40%|████      | 4/10 [00:25<00:38,  6.42s/it]\u001b[A\n",
      " 50%|█████     | 5/10 [00:32<00:32,  6.41s/it]\u001b[A\n",
      " 60%|██████    | 6/10 [00:38<00:25,  6.42s/it]\u001b[A\n",
      " 70%|███████   | 7/10 [00:44<00:19,  6.42s/it]\u001b[A\n",
      " 80%|████████  | 8/10 [00:51<00:12,  6.41s/it]\u001b[A\n",
      " 90%|█████████ | 9/10 [00:57<00:06,  6.41s/it]\u001b[A\n",
      "100%|██████████| 10/10 [01:04<00:00,  6.41s/it]\u001b[A\n"
     ]
    },
    {
     "name": "stdout",
     "output_type": "stream",
     "text": [
      "Task accuracy: 0.53\n"
     ]
    },
    {
     "name": "stderr",
     "output_type": "stream",
     "text": [
      "\n",
      "  0%|          | 0/10 [00:00<?, ?it/s]\u001b[A\n",
      " 10%|█         | 1/10 [00:06<00:57,  6.40s/it]\u001b[A\n",
      " 20%|██        | 2/10 [00:12<00:51,  6.39s/it]\u001b[A\n",
      " 30%|███       | 3/10 [00:19<00:44,  6.39s/it]\u001b[A\n",
      " 40%|████      | 4/10 [00:25<00:38,  6.39s/it]\u001b[A\n",
      " 50%|█████     | 5/10 [00:31<00:31,  6.39s/it]\u001b[A\n",
      " 60%|██████    | 6/10 [00:38<00:25,  6.39s/it]\u001b[A\n",
      " 70%|███████   | 7/10 [00:44<00:19,  6.36s/it]\u001b[A\n",
      " 80%|████████  | 8/10 [00:51<00:12,  6.37s/it]\u001b[A\n",
      " 90%|█████████ | 9/10 [00:57<00:06,  6.38s/it]\u001b[A\n",
      "100%|██████████| 10/10 [01:03<00:00,  6.39s/it]\u001b[A\n",
      "  7%|▋         | 1/15 [02:07<29:51, 127.98s/it]"
     ]
    },
    {
     "name": "stdout",
     "output_type": "stream",
     "text": [
      "Task accuracy: 0.15\n",
      "model.layers.11.self_attn.o_proj 23\n",
      "remove model.layers.14.self_attn.o_proj 27\n",
      "remove model.layers.12.self_attn.o_proj 23\n",
      "remove model.layers.11.self_attn.o_proj 26\n",
      "remove model.layers.17.self_attn.o_proj 26\n",
      "remove model.layers.19.self_attn.o_proj 12\n"
     ]
    },
    {
     "name": "stderr",
     "output_type": "stream",
     "text": [
      "\n",
      "  0%|          | 0/10 [00:00<?, ?it/s]\u001b[A\n",
      " 10%|█         | 1/10 [00:06<00:57,  6.42s/it]\u001b[A\n",
      " 20%|██        | 2/10 [00:12<00:51,  6.43s/it]\u001b[A\n",
      " 30%|███       | 3/10 [00:19<00:44,  6.42s/it]\u001b[A\n",
      " 40%|████      | 4/10 [00:25<00:38,  6.43s/it]\u001b[A\n",
      " 50%|█████     | 5/10 [00:32<00:31,  6.39s/it]\u001b[A\n",
      " 60%|██████    | 6/10 [00:38<00:25,  6.35s/it]\u001b[A\n",
      " 70%|███████   | 7/10 [00:44<00:18,  6.32s/it]\u001b[A\n",
      " 80%|████████  | 8/10 [00:50<00:12,  6.30s/it]\u001b[A\n",
      " 90%|█████████ | 9/10 [00:57<00:06,  6.29s/it]\u001b[A\n",
      "100%|██████████| 10/10 [01:03<00:00,  6.34s/it]\u001b[A\n"
     ]
    },
    {
     "name": "stdout",
     "output_type": "stream",
     "text": [
      "Task accuracy: 0.4\n"
     ]
    },
    {
     "name": "stderr",
     "output_type": "stream",
     "text": [
      "\n",
      "  0%|          | 0/10 [00:00<?, ?it/s]\u001b[A\n",
      " 10%|█         | 1/10 [00:06<00:57,  6.39s/it]\u001b[A\n",
      " 20%|██        | 2/10 [00:12<00:51,  6.40s/it]\u001b[A\n",
      " 30%|███       | 3/10 [00:19<00:44,  6.41s/it]\u001b[A\n",
      " 40%|████      | 4/10 [00:25<00:38,  6.41s/it]\u001b[A\n",
      " 50%|█████     | 5/10 [00:32<00:32,  6.41s/it]\u001b[A\n",
      " 60%|██████    | 6/10 [00:38<00:25,  6.42s/it]\u001b[A\n",
      " 70%|███████   | 7/10 [00:44<00:19,  6.42s/it]\u001b[A\n",
      " 80%|████████  | 8/10 [00:51<00:12,  6.41s/it]\u001b[A\n",
      " 90%|█████████ | 9/10 [00:57<00:06,  6.41s/it]\u001b[A\n",
      "100%|██████████| 10/10 [01:04<00:00,  6.41s/it]\u001b[A\n",
      " 13%|█▎        | 2/15 [04:15<27:39, 127.69s/it]"
     ]
    },
    {
     "name": "stdout",
     "output_type": "stream",
     "text": [
      "Task accuracy: 0.15\n",
      "model.layers.12.self_attn.o_proj 23\n",
      "remove model.layers.14.self_attn.o_proj 27\n",
      "remove model.layers.13.self_attn.o_proj 14\n",
      "remove model.layers.19.self_attn.o_proj 12\n",
      "remove model.layers.11.self_attn.o_proj 26\n",
      "remove model.layers.10.self_attn.o_proj 6\n"
     ]
    },
    {
     "name": "stderr",
     "output_type": "stream",
     "text": [
      "\n",
      "  0%|          | 0/10 [00:00<?, ?it/s]\u001b[A\n",
      " 10%|█         | 1/10 [00:06<00:57,  6.44s/it]\u001b[A\n",
      " 20%|██        | 2/10 [00:12<00:51,  6.42s/it]\u001b[A\n",
      " 30%|███       | 3/10 [00:19<00:45,  6.43s/it]\u001b[A\n",
      " 40%|████      | 4/10 [00:25<00:38,  6.42s/it]\u001b[A\n",
      " 50%|█████     | 5/10 [00:32<00:32,  6.41s/it]\u001b[A\n",
      " 60%|██████    | 6/10 [00:38<00:25,  6.37s/it]\u001b[A\n",
      " 70%|███████   | 7/10 [00:44<00:19,  6.36s/it]\u001b[A\n",
      " 80%|████████  | 8/10 [00:51<00:12,  6.34s/it]\u001b[A\n",
      " 90%|█████████ | 9/10 [00:57<00:06,  6.32s/it]\u001b[A\n",
      "100%|██████████| 10/10 [01:03<00:00,  6.36s/it]\u001b[A\n"
     ]
    },
    {
     "name": "stdout",
     "output_type": "stream",
     "text": [
      "Task accuracy: 0.42\n"
     ]
    },
    {
     "name": "stderr",
     "output_type": "stream",
     "text": [
      "\n",
      "  0%|          | 0/10 [00:00<?, ?it/s]\u001b[A\n",
      " 10%|█         | 1/10 [00:06<00:56,  6.27s/it]\u001b[A\n",
      " 20%|██        | 2/10 [00:12<00:50,  6.30s/it]\u001b[A\n",
      " 30%|███       | 3/10 [00:18<00:44,  6.29s/it]\u001b[A\n",
      " 40%|████      | 4/10 [00:25<00:37,  6.29s/it]\u001b[A\n",
      " 50%|█████     | 5/10 [00:31<00:31,  6.29s/it]\u001b[A\n",
      " 60%|██████    | 6/10 [00:37<00:25,  6.29s/it]\u001b[A\n",
      " 70%|███████   | 7/10 [00:44<00:18,  6.29s/it]\u001b[A\n",
      " 80%|████████  | 8/10 [00:50<00:12,  6.29s/it]\u001b[A\n",
      " 90%|█████████ | 9/10 [00:56<00:06,  6.27s/it]\u001b[A\n",
      "100%|██████████| 10/10 [01:02<00:00,  6.28s/it]\u001b[A\n",
      " 20%|██        | 3/15 [06:21<25:25, 127.10s/it]"
     ]
    },
    {
     "name": "stdout",
     "output_type": "stream",
     "text": [
      "Task accuracy: 0.28\n",
      "model.layers.19.self_attn.o_proj 12\n",
      "remove model.layers.14.self_attn.o_proj 27\n",
      "remove model.layers.12.self_attn.o_proj 23\n"
     ]
    },
    {
     "name": "stderr",
     "output_type": "stream",
     "text": [
      "\n",
      "  0%|          | 0/10 [00:00<?, ?it/s]\u001b[A\n",
      " 10%|█         | 1/10 [00:06<00:56,  6.25s/it]\u001b[A\n",
      " 20%|██        | 2/10 [00:12<00:50,  6.27s/it]\u001b[A\n",
      " 30%|███       | 3/10 [00:18<00:43,  6.27s/it]\u001b[A\n",
      " 40%|████      | 4/10 [00:25<00:37,  6.33s/it]\u001b[A\n",
      " 50%|█████     | 5/10 [00:31<00:31,  6.36s/it]\u001b[A\n",
      " 60%|██████    | 6/10 [00:38<00:25,  6.39s/it]\u001b[A\n",
      " 70%|███████   | 7/10 [00:44<00:19,  6.40s/it]\u001b[A\n",
      " 80%|████████  | 8/10 [00:50<00:12,  6.41s/it]\u001b[A\n",
      " 90%|█████████ | 9/10 [00:57<00:06,  6.42s/it]\u001b[A\n",
      "100%|██████████| 10/10 [01:03<00:00,  6.38s/it]\u001b[A\n"
     ]
    },
    {
     "name": "stdout",
     "output_type": "stream",
     "text": [
      "Task accuracy: 0.42\n"
     ]
    },
    {
     "name": "stderr",
     "output_type": "stream",
     "text": [
      "\n",
      "  0%|          | 0/10 [00:00<?, ?it/s]\u001b[A\n",
      " 10%|█         | 1/10 [00:06<00:57,  6.42s/it]\u001b[A\n",
      " 20%|██        | 2/10 [00:12<00:51,  6.41s/it]\u001b[A\n",
      " 30%|███       | 3/10 [00:19<00:44,  6.39s/it]\u001b[A\n",
      " 40%|████      | 4/10 [00:25<00:38,  6.38s/it]\u001b[A\n",
      " 50%|█████     | 5/10 [00:31<00:31,  6.37s/it]\u001b[A\n",
      " 60%|██████    | 6/10 [00:38<00:25,  6.37s/it]\u001b[A\n",
      " 70%|███████   | 7/10 [00:44<00:19,  6.43s/it]\u001b[A\n",
      " 80%|████████  | 8/10 [00:51<00:12,  6.42s/it]\u001b[A\n",
      " 90%|█████████ | 9/10 [00:57<00:06,  6.41s/it]\u001b[A\n",
      "100%|██████████| 10/10 [01:04<00:00,  6.41s/it]\u001b[A\n",
      " 27%|██▋       | 4/15 [08:29<23:21, 127.40s/it]"
     ]
    },
    {
     "name": "stdout",
     "output_type": "stream",
     "text": [
      "Task accuracy: 0.39\n",
      "model.layers.13.self_attn.o_proj 0\n",
      "remove model.layers.14.self_attn.o_proj 27\n",
      "remove model.layers.19.self_attn.o_proj 12\n",
      "remove model.layers.16.self_attn.o_proj 2\n",
      "remove model.layers.11.self_attn.o_proj 26\n",
      "remove model.layers.14.self_attn.o_proj 0\n"
     ]
    },
    {
     "name": "stderr",
     "output_type": "stream",
     "text": [
      "\n",
      "  0%|          | 0/10 [00:00<?, ?it/s]\u001b[A\n",
      " 10%|█         | 1/10 [00:06<00:57,  6.42s/it]\u001b[A\n",
      " 20%|██        | 2/10 [00:12<00:51,  6.42s/it]\u001b[A\n",
      " 30%|███       | 3/10 [00:19<00:44,  6.42s/it]\u001b[A\n",
      " 40%|████      | 4/10 [00:25<00:38,  6.42s/it]\u001b[A\n",
      " 50%|█████     | 5/10 [00:32<00:32,  6.41s/it]\u001b[A\n",
      " 60%|██████    | 6/10 [00:38<00:25,  6.41s/it]\u001b[A\n",
      " 70%|███████   | 7/10 [00:44<00:19,  6.42s/it]\u001b[A\n",
      " 80%|████████  | 8/10 [00:51<00:12,  6.41s/it]\u001b[A\n",
      " 90%|█████████ | 9/10 [00:57<00:06,  6.42s/it]\u001b[A\n",
      "100%|██████████| 10/10 [01:04<00:00,  6.42s/it]\u001b[A\n"
     ]
    },
    {
     "name": "stdout",
     "output_type": "stream",
     "text": [
      "Task accuracy: 0.42\n"
     ]
    },
    {
     "name": "stderr",
     "output_type": "stream",
     "text": [
      "\n",
      "  0%|          | 0/10 [00:00<?, ?it/s]\u001b[A\n",
      " 10%|█         | 1/10 [00:06<00:57,  6.43s/it]\u001b[A\n",
      " 20%|██        | 2/10 [00:12<00:51,  6.44s/it]\u001b[A\n",
      " 30%|███       | 3/10 [00:19<00:44,  6.42s/it]\u001b[A\n",
      " 40%|████      | 4/10 [00:25<00:38,  6.44s/it]\u001b[A\n",
      " 50%|█████     | 5/10 [00:32<00:32,  6.43s/it]\u001b[A\n",
      " 60%|██████    | 6/10 [00:38<00:25,  6.43s/it]\u001b[A\n",
      " 70%|███████   | 7/10 [00:45<00:19,  6.43s/it]\u001b[A\n",
      " 80%|████████  | 8/10 [00:51<00:12,  6.42s/it]\u001b[A\n",
      " 90%|█████████ | 9/10 [00:57<00:06,  6.43s/it]\u001b[A\n",
      "100%|██████████| 10/10 [01:04<00:00,  6.43s/it]\u001b[A\n",
      " 33%|███▎      | 5/15 [10:38<21:17, 127.77s/it]"
     ]
    },
    {
     "name": "stdout",
     "output_type": "stream",
     "text": [
      "Task accuracy: 0.36\n",
      "model.layers.16.self_attn.o_proj 2\n",
      "remove model.layers.14.self_attn.o_proj 27\n",
      "remove model.layers.12.self_attn.o_proj 23\n",
      "remove model.layers.13.self_attn.o_proj 0\n",
      "remove model.layers.17.self_attn.o_proj 26\n",
      "remove model.layers.13.self_attn.o_proj 14\n"
     ]
    },
    {
     "name": "stderr",
     "output_type": "stream",
     "text": [
      "\n",
      "  0%|          | 0/10 [00:00<?, ?it/s]\u001b[A\n",
      " 10%|█         | 1/10 [00:06<00:57,  6.42s/it]\u001b[A\n",
      " 20%|██        | 2/10 [00:12<00:51,  6.41s/it]\u001b[A\n",
      " 30%|███       | 3/10 [00:19<00:44,  6.41s/it]\u001b[A\n",
      " 40%|████      | 4/10 [00:25<00:38,  6.42s/it]\u001b[A\n",
      " 50%|█████     | 5/10 [00:32<00:32,  6.42s/it]\u001b[A\n",
      " 60%|██████    | 6/10 [00:38<00:25,  6.41s/it]\u001b[A\n",
      " 70%|███████   | 7/10 [00:44<00:19,  6.41s/it]\u001b[A\n",
      " 80%|████████  | 8/10 [00:51<00:12,  6.41s/it]\u001b[A\n",
      " 90%|█████████ | 9/10 [00:57<00:06,  6.41s/it]\u001b[A\n",
      "100%|██████████| 10/10 [01:04<00:00,  6.41s/it]\u001b[A\n"
     ]
    },
    {
     "name": "stdout",
     "output_type": "stream",
     "text": [
      "Task accuracy: 0.29\n"
     ]
    },
    {
     "name": "stderr",
     "output_type": "stream",
     "text": [
      "\n",
      "  0%|          | 0/10 [00:00<?, ?it/s]\u001b[A\n",
      " 10%|█         | 1/10 [00:06<00:57,  6.41s/it]\u001b[A\n",
      " 20%|██        | 2/10 [00:12<00:51,  6.41s/it]\u001b[A\n",
      " 30%|███       | 3/10 [00:19<00:44,  6.41s/it]\u001b[A\n",
      " 40%|████      | 4/10 [00:25<00:38,  6.41s/it]\u001b[A\n",
      " 50%|█████     | 5/10 [00:32<00:32,  6.41s/it]\u001b[A\n",
      " 60%|██████    | 6/10 [00:38<00:25,  6.41s/it]\u001b[A\n",
      " 70%|███████   | 7/10 [00:44<00:19,  6.41s/it]\u001b[A\n",
      " 80%|████████  | 8/10 [00:51<00:12,  6.41s/it]\u001b[A\n",
      " 90%|█████████ | 9/10 [00:57<00:06,  6.41s/it]\u001b[A\n",
      "100%|██████████| 10/10 [01:04<00:00,  6.41s/it]\u001b[A\n",
      " 40%|████      | 6/15 [12:46<19:11, 127.92s/it]"
     ]
    },
    {
     "name": "stdout",
     "output_type": "stream",
     "text": [
      "Task accuracy: 0.27\n",
      "model.layers.13.self_attn.o_proj 1\n",
      "remove model.layers.14.self_attn.o_proj 27\n",
      "remove model.layers.12.self_attn.o_proj 23\n",
      "remove model.layers.19.self_attn.o_proj 12\n",
      "remove model.layers.16.self_attn.o_proj 2\n",
      "remove model.layers.11.self_attn.o_proj 26\n"
     ]
    },
    {
     "name": "stderr",
     "output_type": "stream",
     "text": [
      "\n",
      "  0%|          | 0/10 [00:00<?, ?it/s]\u001b[A\n",
      " 10%|█         | 1/10 [00:06<00:57,  6.43s/it]\u001b[A\n",
      " 20%|██        | 2/10 [00:12<00:51,  6.43s/it]\u001b[A\n",
      " 30%|███       | 3/10 [00:19<00:44,  6.42s/it]\u001b[A\n",
      " 40%|████      | 4/10 [00:25<00:38,  6.41s/it]\u001b[A\n",
      " 50%|█████     | 5/10 [00:32<00:32,  6.41s/it]\u001b[A\n",
      " 60%|██████    | 6/10 [00:38<00:25,  6.41s/it]\u001b[A\n",
      " 70%|███████   | 7/10 [00:44<00:19,  6.41s/it]\u001b[A\n",
      " 80%|████████  | 8/10 [00:51<00:12,  6.41s/it]\u001b[A\n",
      " 90%|█████████ | 9/10 [00:57<00:06,  6.42s/it]\u001b[A\n",
      "100%|██████████| 10/10 [01:04<00:00,  6.41s/it]\u001b[A\n"
     ]
    },
    {
     "name": "stdout",
     "output_type": "stream",
     "text": [
      "Task accuracy: 0.39\n"
     ]
    },
    {
     "name": "stderr",
     "output_type": "stream",
     "text": [
      "\n",
      "  0%|          | 0/10 [00:00<?, ?it/s]\u001b[A\n",
      " 10%|█         | 1/10 [00:06<00:57,  6.38s/it]\u001b[A\n",
      " 20%|██        | 2/10 [00:12<00:51,  6.39s/it]\u001b[A\n",
      " 30%|███       | 3/10 [00:19<00:44,  6.40s/it]\u001b[A\n",
      " 40%|████      | 4/10 [00:25<00:38,  6.41s/it]\u001b[A\n",
      " 50%|█████     | 5/10 [00:32<00:32,  6.41s/it]\u001b[A\n",
      " 60%|██████    | 6/10 [00:38<00:25,  6.41s/it]\u001b[A\n",
      " 70%|███████   | 7/10 [00:44<00:19,  6.42s/it]\u001b[A\n",
      " 80%|████████  | 8/10 [00:51<00:12,  6.41s/it]\u001b[A\n",
      " 90%|█████████ | 9/10 [00:57<00:06,  6.41s/it]\u001b[A\n",
      "100%|██████████| 10/10 [01:04<00:00,  6.41s/it]\u001b[A\n",
      " 47%|████▋     | 7/15 [14:54<17:04, 128.02s/it]"
     ]
    },
    {
     "name": "stdout",
     "output_type": "stream",
     "text": [
      "Task accuracy: 0.38\n",
      "model.layers.11.self_attn.o_proj 26\n",
      "remove model.layers.17.self_attn.o_proj 26\n",
      "remove model.layers.14.self_attn.o_proj 27\n",
      "remove model.layers.12.self_attn.o_proj 23\n"
     ]
    },
    {
     "name": "stderr",
     "output_type": "stream",
     "text": [
      "\n",
      "  0%|          | 0/10 [00:00<?, ?it/s]\u001b[A\n",
      " 10%|█         | 1/10 [00:06<00:57,  6.42s/it]\u001b[A\n",
      " 20%|██        | 2/10 [00:12<00:51,  6.42s/it]\u001b[A\n",
      " 30%|███       | 3/10 [00:19<00:45,  6.43s/it]\u001b[A\n",
      " 40%|████      | 4/10 [00:25<00:38,  6.44s/it]\u001b[A\n",
      " 50%|█████     | 5/10 [00:32<00:32,  6.44s/it]\u001b[A\n",
      " 60%|██████    | 6/10 [00:38<00:25,  6.44s/it]\u001b[A\n",
      " 70%|███████   | 7/10 [00:45<00:19,  6.44s/it]\u001b[A\n",
      " 80%|████████  | 8/10 [00:51<00:12,  6.44s/it]\u001b[A\n",
      " 90%|█████████ | 9/10 [00:57<00:06,  6.43s/it]\u001b[A\n",
      "100%|██████████| 10/10 [01:04<00:00,  6.43s/it]\u001b[A\n"
     ]
    },
    {
     "name": "stdout",
     "output_type": "stream",
     "text": [
      "Task accuracy: 0.41\n"
     ]
    },
    {
     "name": "stderr",
     "output_type": "stream",
     "text": [
      "\n",
      "  0%|          | 0/10 [00:00<?, ?it/s]\u001b[A\n",
      " 10%|█         | 1/10 [00:06<00:57,  6.44s/it]\u001b[A\n",
      " 20%|██        | 2/10 [00:12<00:51,  6.42s/it]\u001b[A\n",
      " 30%|███       | 3/10 [00:19<00:44,  6.42s/it]\u001b[A\n",
      " 40%|████      | 4/10 [00:25<00:38,  6.41s/it]\u001b[A\n",
      " 50%|█████     | 5/10 [00:32<00:31,  6.39s/it]\u001b[A\n",
      " 60%|██████    | 6/10 [00:38<00:25,  6.39s/it]\u001b[A\n",
      " 70%|███████   | 7/10 [00:44<00:19,  6.45s/it]\u001b[A\n",
      " 80%|████████  | 8/10 [00:51<00:12,  6.43s/it]\u001b[A\n",
      " 90%|█████████ | 9/10 [00:57<00:06,  6.42s/it]\u001b[A\n",
      "100%|██████████| 10/10 [01:04<00:00,  6.42s/it]\u001b[A\n",
      " 53%|█████▎    | 8/15 [17:03<14:57, 128.17s/it]"
     ]
    },
    {
     "name": "stdout",
     "output_type": "stream",
     "text": [
      "Task accuracy: 0.4\n",
      "model.layers.13.self_attn.o_proj 14\n",
      "remove model.layers.14.self_attn.o_proj 27\n",
      "remove model.layers.12.self_attn.o_proj 23\n"
     ]
    },
    {
     "name": "stderr",
     "output_type": "stream",
     "text": [
      "\n",
      "  0%|          | 0/10 [00:00<?, ?it/s]\u001b[A\n",
      " 10%|█         | 1/10 [00:06<00:57,  6.42s/it]\u001b[A\n",
      " 20%|██        | 2/10 [00:12<00:51,  6.43s/it]\u001b[A\n",
      " 30%|███       | 3/10 [00:19<00:44,  6.43s/it]\u001b[A\n",
      " 40%|████      | 4/10 [00:25<00:38,  6.41s/it]\u001b[A\n",
      " 50%|█████     | 5/10 [00:32<00:32,  6.43s/it]\u001b[A\n",
      " 60%|██████    | 6/10 [00:38<00:25,  6.42s/it]\u001b[A\n",
      " 70%|███████   | 7/10 [00:44<00:19,  6.41s/it]\u001b[A\n",
      " 80%|████████  | 8/10 [00:51<00:12,  6.40s/it]\u001b[A\n",
      " 90%|█████████ | 9/10 [00:57<00:06,  6.40s/it]\u001b[A\n",
      "100%|██████████| 10/10 [01:04<00:00,  6.41s/it]\u001b[A\n"
     ]
    },
    {
     "name": "stdout",
     "output_type": "stream",
     "text": [
      "Task accuracy: 0.42\n"
     ]
    },
    {
     "name": "stderr",
     "output_type": "stream",
     "text": [
      "\n",
      "  0%|          | 0/10 [00:00<?, ?it/s]\u001b[A\n",
      " 10%|█         | 1/10 [00:06<00:57,  6.39s/it]\u001b[A\n",
      " 20%|██        | 2/10 [00:12<00:51,  6.41s/it]\u001b[A\n",
      " 30%|███       | 3/10 [00:19<00:44,  6.41s/it]\u001b[A\n",
      " 40%|████      | 4/10 [00:25<00:38,  6.41s/it]\u001b[A\n",
      " 50%|█████     | 5/10 [00:32<00:32,  6.41s/it]\u001b[A\n",
      " 60%|██████    | 6/10 [00:38<00:25,  6.41s/it]\u001b[A\n",
      " 70%|███████   | 7/10 [00:44<00:19,  6.41s/it]\u001b[A\n",
      " 80%|████████  | 8/10 [00:51<00:12,  6.41s/it]\u001b[A\n",
      " 90%|█████████ | 9/10 [00:57<00:06,  6.42s/it]\u001b[A\n",
      "100%|██████████| 10/10 [01:04<00:00,  6.41s/it]\u001b[A\n",
      " 60%|██████    | 9/15 [19:11<12:49, 128.18s/it]"
     ]
    },
    {
     "name": "stdout",
     "output_type": "stream",
     "text": [
      "Task accuracy: 0.35\n",
      "model.layers.16.self_attn.o_proj 16\n",
      "remove model.layers.12.self_attn.o_proj 23\n"
     ]
    },
    {
     "name": "stderr",
     "output_type": "stream",
     "text": [
      "\n",
      "  0%|          | 0/10 [00:00<?, ?it/s]\u001b[A\n",
      " 10%|█         | 1/10 [00:06<00:57,  6.39s/it]\u001b[A\n",
      " 20%|██        | 2/10 [00:12<00:51,  6.39s/it]\u001b[A\n",
      " 30%|███       | 3/10 [00:19<00:44,  6.40s/it]\u001b[A\n",
      " 40%|████      | 4/10 [00:25<00:38,  6.40s/it]\u001b[A\n",
      " 50%|█████     | 5/10 [00:32<00:32,  6.41s/it]\u001b[A\n",
      " 60%|██████    | 6/10 [00:38<00:25,  6.42s/it]\u001b[A\n",
      " 70%|███████   | 7/10 [00:44<00:19,  6.42s/it]\u001b[A\n",
      " 80%|████████  | 8/10 [00:51<00:12,  6.42s/it]\u001b[A\n",
      " 90%|█████████ | 9/10 [00:57<00:06,  6.41s/it]\u001b[A\n",
      "100%|██████████| 10/10 [01:04<00:00,  6.41s/it]\u001b[A\n"
     ]
    },
    {
     "name": "stdout",
     "output_type": "stream",
     "text": [
      "Task accuracy: 0.57\n"
     ]
    },
    {
     "name": "stderr",
     "output_type": "stream",
     "text": [
      "\n",
      "  0%|          | 0/10 [00:00<?, ?it/s]\u001b[A\n",
      " 10%|█         | 1/10 [00:06<00:57,  6.41s/it]\u001b[A\n",
      " 20%|██        | 2/10 [00:12<00:51,  6.43s/it]\u001b[A\n",
      " 30%|███       | 3/10 [00:19<00:44,  6.43s/it]\u001b[A\n",
      " 40%|████      | 4/10 [00:25<00:38,  6.42s/it]\u001b[A\n",
      " 50%|█████     | 5/10 [00:32<00:32,  6.42s/it]\u001b[A\n",
      " 60%|██████    | 6/10 [00:38<00:25,  6.41s/it]\u001b[A\n",
      " 70%|███████   | 7/10 [00:44<00:19,  6.42s/it]\u001b[A\n",
      " 80%|████████  | 8/10 [00:51<00:12,  6.42s/it]\u001b[A\n",
      " 90%|█████████ | 9/10 [00:57<00:06,  6.42s/it]\u001b[A\n",
      "100%|██████████| 10/10 [01:04<00:00,  6.42s/it]\u001b[A\n",
      " 67%|██████▋   | 10/15 [21:19<10:41, 128.23s/it]"
     ]
    },
    {
     "name": "stdout",
     "output_type": "stream",
     "text": [
      "Task accuracy: 0.57\n",
      "model.layers.14.self_attn.o_proj 0\n",
      "remove model.layers.14.self_attn.o_proj 27\n"
     ]
    },
    {
     "name": "stderr",
     "output_type": "stream",
     "text": [
      "\n",
      "  0%|          | 0/10 [00:00<?, ?it/s]\u001b[A\n",
      " 10%|█         | 1/10 [00:06<00:57,  6.42s/it]\u001b[A\n",
      " 20%|██        | 2/10 [00:12<00:51,  6.43s/it]\u001b[A\n",
      " 30%|███       | 3/10 [00:19<00:44,  6.43s/it]\u001b[A\n",
      " 40%|████      | 4/10 [00:25<00:38,  6.43s/it]\u001b[A\n",
      " 50%|█████     | 5/10 [00:32<00:32,  6.43s/it]\u001b[A\n",
      " 60%|██████    | 6/10 [00:38<00:25,  6.42s/it]\u001b[A\n",
      " 70%|███████   | 7/10 [00:44<00:19,  6.42s/it]\u001b[A\n",
      " 80%|████████  | 8/10 [00:51<00:12,  6.42s/it]\u001b[A\n",
      " 90%|█████████ | 9/10 [00:57<00:06,  6.42s/it]\u001b[A\n",
      "100%|██████████| 10/10 [01:04<00:00,  6.42s/it]\u001b[A\n"
     ]
    },
    {
     "name": "stdout",
     "output_type": "stream",
     "text": [
      "Task accuracy: 0.48\n"
     ]
    },
    {
     "name": "stderr",
     "output_type": "stream",
     "text": [
      "\n",
      "  0%|          | 0/10 [00:00<?, ?it/s]\u001b[A\n",
      " 10%|█         | 1/10 [00:06<00:57,  6.42s/it]\u001b[A\n",
      " 20%|██        | 2/10 [00:12<00:51,  6.43s/it]\u001b[A\n",
      " 30%|███       | 3/10 [00:19<00:44,  6.43s/it]\u001b[A\n",
      " 40%|████      | 4/10 [00:25<00:38,  6.42s/it]\u001b[A\n",
      " 50%|█████     | 5/10 [00:32<00:32,  6.42s/it]\u001b[A\n",
      " 60%|██████    | 6/10 [00:38<00:25,  6.42s/it]\u001b[A\n",
      " 70%|███████   | 7/10 [00:44<00:19,  6.42s/it]\u001b[A\n",
      " 80%|████████  | 8/10 [00:51<00:12,  6.42s/it]\u001b[A\n",
      " 90%|█████████ | 9/10 [00:57<00:06,  6.41s/it]\u001b[A\n",
      "100%|██████████| 10/10 [01:04<00:00,  6.41s/it]\u001b[A\n",
      " 73%|███████▎  | 11/15 [23:27<08:33, 128.27s/it]"
     ]
    },
    {
     "name": "stdout",
     "output_type": "stream",
     "text": [
      "Task accuracy: 0.46\n",
      "model.layers.14.self_attn.o_proj 13\n",
      "remove model.layers.14.self_attn.o_proj 27\n",
      "remove model.layers.11.self_attn.o_proj 26\n"
     ]
    },
    {
     "name": "stderr",
     "output_type": "stream",
     "text": [
      "\n",
      "  0%|          | 0/10 [00:00<?, ?it/s]\u001b[A\n",
      " 10%|█         | 1/10 [00:06<00:56,  6.32s/it]\u001b[A\n",
      " 20%|██        | 2/10 [00:12<00:50,  6.29s/it]\u001b[A\n",
      " 30%|███       | 3/10 [00:18<00:44,  6.30s/it]\u001b[A\n",
      " 40%|████      | 4/10 [00:25<00:37,  6.33s/it]\u001b[A\n",
      " 50%|█████     | 5/10 [00:31<00:31,  6.35s/it]\u001b[A\n",
      " 60%|██████    | 6/10 [00:38<00:25,  6.38s/it]\u001b[A\n",
      " 70%|███████   | 7/10 [00:44<00:19,  6.39s/it]\u001b[A\n",
      " 80%|████████  | 8/10 [00:50<00:12,  6.40s/it]\u001b[A\n",
      " 90%|█████████ | 9/10 [00:57<00:06,  6.40s/it]\u001b[A\n",
      "100%|██████████| 10/10 [01:03<00:00,  6.38s/it]\u001b[A\n"
     ]
    },
    {
     "name": "stdout",
     "output_type": "stream",
     "text": [
      "Task accuracy: 0.48\n"
     ]
    },
    {
     "name": "stderr",
     "output_type": "stream",
     "text": [
      "\n",
      "  0%|          | 0/10 [00:00<?, ?it/s]\u001b[A\n",
      " 10%|█         | 1/10 [00:06<00:57,  6.41s/it]\u001b[A\n",
      " 20%|██        | 2/10 [00:12<00:51,  6.42s/it]\u001b[A\n",
      " 30%|███       | 3/10 [00:19<00:44,  6.41s/it]\u001b[A\n",
      " 40%|████      | 4/10 [00:25<00:38,  6.41s/it]\u001b[A\n",
      " 50%|█████     | 5/10 [00:32<00:31,  6.40s/it]\u001b[A\n",
      " 60%|██████    | 6/10 [00:38<00:25,  6.39s/it]\u001b[A\n",
      " 70%|███████   | 7/10 [00:44<00:19,  6.40s/it]\u001b[A\n",
      " 80%|████████  | 8/10 [00:51<00:12,  6.40s/it]\u001b[A\n",
      " 90%|█████████ | 9/10 [00:57<00:06,  6.41s/it]\u001b[A\n",
      "100%|██████████| 10/10 [01:04<00:00,  6.41s/it]\u001b[A\n",
      " 80%|████████  | 12/15 [25:35<06:24, 128.15s/it]"
     ]
    },
    {
     "name": "stdout",
     "output_type": "stream",
     "text": [
      "Task accuracy: 0.46\n",
      "model.layers.10.self_attn.o_proj 6\n",
      "remove model.layers.12.self_attn.o_proj 23\n",
      "remove model.layers.14.self_attn.o_proj 27\n"
     ]
    },
    {
     "name": "stderr",
     "output_type": "stream",
     "text": [
      "\n",
      "  0%|          | 0/10 [00:00<?, ?it/s]\u001b[A\n",
      " 10%|█         | 1/10 [00:06<00:59,  6.59s/it]\u001b[A\n",
      " 20%|██        | 2/10 [00:13<00:51,  6.49s/it]\u001b[A\n",
      " 30%|███       | 3/10 [00:19<00:45,  6.44s/it]\u001b[A\n",
      " 40%|████      | 4/10 [00:25<00:38,  6.42s/it]\u001b[A\n",
      " 50%|█████     | 5/10 [00:32<00:32,  6.41s/it]\u001b[A\n",
      " 60%|██████    | 6/10 [00:38<00:25,  6.40s/it]\u001b[A\n",
      " 70%|███████   | 7/10 [00:45<00:19,  6.42s/it]\u001b[A\n",
      " 80%|████████  | 8/10 [00:51<00:12,  6.42s/it]\u001b[A\n",
      " 90%|█████████ | 9/10 [00:57<00:06,  6.41s/it]\u001b[A\n",
      "100%|██████████| 10/10 [01:04<00:00,  6.42s/it]\u001b[A\n"
     ]
    },
    {
     "name": "stdout",
     "output_type": "stream",
     "text": [
      "Task accuracy: 0.42\n"
     ]
    },
    {
     "name": "stderr",
     "output_type": "stream",
     "text": [
      "\n",
      "  0%|          | 0/10 [00:00<?, ?it/s]\u001b[A\n",
      " 10%|█         | 1/10 [00:06<00:57,  6.44s/it]\u001b[A\n",
      " 20%|██        | 2/10 [00:12<00:51,  6.42s/it]\u001b[A\n",
      " 30%|███       | 3/10 [00:19<00:44,  6.42s/it]\u001b[A\n",
      " 40%|████      | 4/10 [00:25<00:38,  6.41s/it]\u001b[A\n",
      " 50%|█████     | 5/10 [00:32<00:32,  6.40s/it]\u001b[A\n",
      " 60%|██████    | 6/10 [00:38<00:25,  6.41s/it]\u001b[A\n",
      " 70%|███████   | 7/10 [00:44<00:19,  6.40s/it]\u001b[A\n",
      " 80%|████████  | 8/10 [00:51<00:12,  6.41s/it]\u001b[A\n",
      " 90%|█████████ | 9/10 [00:57<00:06,  6.42s/it]\u001b[A\n",
      "100%|██████████| 10/10 [01:04<00:00,  6.41s/it]\u001b[A\n",
      " 87%|████████▋ | 13/15 [27:44<04:16, 128.22s/it]"
     ]
    },
    {
     "name": "stdout",
     "output_type": "stream",
     "text": [
      "Task accuracy: 0.37\n",
      "model.layers.17.self_attn.o_proj 26\n",
      "remove model.layers.14.self_attn.o_proj 27\n"
     ]
    },
    {
     "name": "stderr",
     "output_type": "stream",
     "text": [
      "\n",
      "  0%|          | 0/10 [00:00<?, ?it/s]\u001b[A\n",
      " 10%|█         | 1/10 [00:06<00:57,  6.44s/it]\u001b[A\n",
      " 20%|██        | 2/10 [00:12<00:51,  6.43s/it]\u001b[A\n",
      " 30%|███       | 3/10 [00:19<00:45,  6.44s/it]\u001b[A\n",
      " 40%|████      | 4/10 [00:25<00:38,  6.42s/it]\u001b[A\n",
      " 50%|█████     | 5/10 [00:32<00:32,  6.42s/it]\u001b[A\n",
      " 60%|██████    | 6/10 [00:38<00:25,  6.42s/it]\u001b[A\n",
      " 70%|███████   | 7/10 [00:44<00:19,  6.41s/it]\u001b[A\n",
      " 80%|████████  | 8/10 [00:51<00:12,  6.41s/it]\u001b[A\n",
      " 90%|█████████ | 9/10 [00:57<00:06,  6.41s/it]\u001b[A\n",
      "100%|██████████| 10/10 [01:04<00:00,  6.42s/it]\u001b[A\n"
     ]
    },
    {
     "name": "stdout",
     "output_type": "stream",
     "text": [
      "Task accuracy: 0.48\n"
     ]
    },
    {
     "name": "stderr",
     "output_type": "stream",
     "text": [
      "\n",
      "  0%|          | 0/10 [00:00<?, ?it/s]\u001b[A\n",
      " 10%|█         | 1/10 [00:06<00:57,  6.35s/it]\u001b[A\n",
      " 20%|██        | 2/10 [00:12<00:50,  6.34s/it]\u001b[A\n",
      " 30%|███       | 3/10 [00:18<00:44,  6.32s/it]\u001b[A\n",
      " 40%|████      | 4/10 [00:25<00:37,  6.30s/it]\u001b[A\n",
      " 50%|█████     | 5/10 [00:31<00:31,  6.29s/it]\u001b[A\n",
      " 60%|██████    | 6/10 [00:37<00:25,  6.29s/it]\u001b[A\n",
      " 70%|███████   | 7/10 [00:44<00:18,  6.28s/it]\u001b[A\n",
      " 80%|████████  | 8/10 [00:50<00:12,  6.27s/it]\u001b[A\n",
      " 90%|█████████ | 9/10 [00:56<00:06,  6.28s/it]\u001b[A\n",
      "100%|██████████| 10/10 [01:02<00:00,  6.29s/it]\u001b[A\n",
      " 93%|█████████▎| 14/15 [29:51<02:07, 127.89s/it]"
     ]
    },
    {
     "name": "stdout",
     "output_type": "stream",
     "text": [
      "Task accuracy: 0.46\n",
      "model.layers.12.self_attn.o_proj 0\n",
      "remove model.layers.14.self_attn.o_proj 27\n",
      "remove model.layers.12.self_attn.o_proj 23\n"
     ]
    },
    {
     "name": "stderr",
     "output_type": "stream",
     "text": [
      "\n",
      "  0%|          | 0/10 [00:00<?, ?it/s]\u001b[A\n",
      " 10%|█         | 1/10 [00:06<00:56,  6.29s/it]\u001b[A\n",
      " 20%|██        | 2/10 [00:12<00:50,  6.29s/it]\u001b[A\n",
      " 30%|███       | 3/10 [00:18<00:44,  6.29s/it]\u001b[A\n",
      " 40%|████      | 4/10 [00:25<00:37,  6.28s/it]\u001b[A\n",
      " 50%|█████     | 5/10 [00:31<00:31,  6.27s/it]\u001b[A\n",
      " 60%|██████    | 6/10 [00:37<00:25,  6.28s/it]\u001b[A\n",
      " 70%|███████   | 7/10 [00:43<00:18,  6.28s/it]\u001b[A\n",
      " 80%|████████  | 8/10 [00:50<00:12,  6.28s/it]\u001b[A\n",
      " 90%|█████████ | 9/10 [00:56<00:06,  6.28s/it]\u001b[A\n",
      "100%|██████████| 10/10 [01:02<00:00,  6.28s/it]\u001b[A\n"
     ]
    },
    {
     "name": "stdout",
     "output_type": "stream",
     "text": [
      "Task accuracy: 0.42\n"
     ]
    },
    {
     "name": "stderr",
     "output_type": "stream",
     "text": [
      "\n",
      "  0%|          | 0/10 [00:00<?, ?it/s]\u001b[A\n",
      " 10%|█         | 1/10 [00:06<00:56,  6.30s/it]\u001b[A\n",
      " 20%|██        | 2/10 [00:12<00:50,  6.29s/it]\u001b[A\n",
      " 30%|███       | 3/10 [00:18<00:44,  6.29s/it]\u001b[A\n",
      " 40%|████      | 4/10 [00:25<00:37,  6.29s/it]\u001b[A\n",
      " 50%|█████     | 5/10 [00:31<00:31,  6.29s/it]\u001b[A\n",
      " 60%|██████    | 6/10 [00:37<00:25,  6.29s/it]\u001b[A\n",
      " 70%|███████   | 7/10 [00:44<00:18,  6.29s/it]\u001b[A\n",
      " 80%|████████  | 8/10 [00:50<00:12,  6.29s/it]\u001b[A\n",
      " 90%|█████████ | 9/10 [00:56<00:06,  6.28s/it]\u001b[A\n",
      "100%|██████████| 10/10 [01:02<00:00,  6.29s/it]\u001b[A\n",
      "100%|██████████| 15/15 [31:57<00:00, 127.80s/it]"
     ]
    },
    {
     "name": "stdout",
     "output_type": "stream",
     "text": [
      "Task accuracy: 0.4\n"
     ]
    },
    {
     "name": "stderr",
     "output_type": "stream",
     "text": [
      "\n"
     ]
    }
   ],
   "source": [
    "circuit_components = {}\n",
    "circuit_components[0] = defaultdict(list)\n",
    "circuit_components[2] = defaultdict(list)\n",
    "circuit_components[-1] = defaultdict(list)\n",
    "circuit_components[-2] = defaultdict(list)\n",
    "\n",
    "res = {}\n",
    "\n",
    "root_path = \"../new_pp_exps/post_submission/llama-7b\"\n",
    "path = root_path + \"/direct_logit_heads.pt\"\n",
    "logit_values = torch.load(path)\n",
    "direct_logit_heads = analysis_utils.compute_topk_components(\n",
    "    torch.load(path), k=n_value_fetcher, largest=False\n",
    ")\n",
    "\n",
    "path = root_path + \"/heads_affect_direct_logit.pt\"\n",
    "logit_values = torch.load(path)\n",
    "heads_affecting_direct_logit_heads = analysis_utils.compute_topk_components(\n",
    "    torch.load(path), k=n_pos_trans, largest=False\n",
    ")\n",
    "\n",
    "path = root_path + \"/heads_at_query_box_pos.pt\"\n",
    "logit_values = torch.load(path)\n",
    "head_at_query_box_token = analysis_utils.compute_topk_components(\n",
    "    torch.load(path), k=n_pos_detect, largest=False\n",
    ")\n",
    "\n",
    "path = root_path + \"/heads_at_prev_query_box_pos.pt\"\n",
    "logit_values = torch.load(path)\n",
    "heads_at_prev_box_pos = analysis_utils.compute_topk_components(\n",
    "    torch.load(path), k=n_struct_read, largest=False\n",
    ")\n",
    "\n",
    "intersection = []\n",
    "for head in direct_logit_heads:\n",
    "    if head in heads_affecting_direct_logit_heads:\n",
    "        intersection.append(head)\n",
    "\n",
    "for head in intersection:\n",
    "    direct_logit_heads.remove(head)\n",
    "\n",
    "print(\n",
    "    len(direct_logit_heads),\n",
    "    len(heads_affecting_direct_logit_heads),\n",
    "    len(head_at_query_box_token),\n",
    "    len(heads_at_prev_box_pos),\n",
    ")\n",
    "\n",
    "\n",
    "for layer_idx, head in direct_logit_heads:\n",
    "    if model.config.architectures[0] == \"LlamaForCausalLM\":\n",
    "        layer = f\"model.layers.{layer_idx}.self_attn.o_proj\"\n",
    "    else:\n",
    "        layer = f\"base_model.model.model.layers.{layer_idx}.self_attn.o_proj\"\n",
    "    circuit_components[0][layer].append(head)\n",
    "\n",
    "for layer_idx, head in heads_affecting_direct_logit_heads:\n",
    "    if model.config.architectures[0] == \"LlamaForCausalLM\":\n",
    "        layer = f\"model.layers.{layer_idx}.self_attn.o_proj\"\n",
    "    else:\n",
    "        layer = f\"base_model.model.model.layers.{layer_idx}.self_attn.o_proj\"\n",
    "    circuit_components[0][layer].append(head)\n",
    "\n",
    "\n",
    "for layer_idx, head in head_at_query_box_token:\n",
    "    if model.config.architectures[0] == \"LlamaForCausalLM\":\n",
    "        layer = f\"model.layers.{layer_idx}.self_attn.o_proj\"\n",
    "    else:\n",
    "        layer = f\"base_model.model.model.layers.{layer_idx}.self_attn.o_proj\"\n",
    "    circuit_components[2][layer].append(head)\n",
    "\n",
    "for layer_idx, head in heads_at_prev_box_pos:\n",
    "    if model.config.architectures[0] == \"LlamaForCausalLM\":\n",
    "        layer = f\"model.layers.{layer_idx}.self_attn.o_proj\"\n",
    "    else:\n",
    "        layer = f\"base_model.model.model.layers.{layer_idx}.self_attn.o_proj\"\n",
    "    circuit_components[-1][layer].append(head)\n",
    "\n",
    "\n",
    "for layer_idx, head in tqdm(heads_affecting_direct_logit_heads):\n",
    "    if model.config.architectures[0] == \"LlamaForCausalLM\":\n",
    "        layer = f\"model.layers.{layer_idx}.self_attn.o_proj\"\n",
    "    else:\n",
    "        layer = f\"base_model.model.model.layers.{layer_idx}.self_attn.o_proj\"\n",
    "    print(layer, head)\n",
    "\n",
    "    for r in ranked[str((layer, head))][: math.ceil(percentage * len(ranked.values()))]:\n",
    "        top_layer = r[0].split(\",\")[0][2:-1]\n",
    "        top_head = int(r[0].split(\",\")[1][:-1])\n",
    "        if r[1] <= 0:\n",
    "            break\n",
    "        print(\"remove\", top_layer, top_head)\n",
    "        circuit_components[0][top_layer].remove(top_head)\n",
    "\n",
    "    befor = eval(model, dataloader, modules, circuit_components, mean_activations)\n",
    "    circuit_components[0][layer].remove(head)\n",
    "    after = eval(model, dataloader, modules, circuit_components, mean_activations)\n",
    "    res[(layer, head)] = (befor, after)\n",
    "\n",
    "    for r in ranked[str((layer, head))][: math.ceil(percentage * len(ranked.values()))]:\n",
    "        top_layer = r[0].split(\",\")[0][2:-1]\n",
    "        top_head = int(r[0].split(\",\")[1][:-1])\n",
    "        if r[1] <= 0:\n",
    "            break\n",
    "        circuit_components[0][top_layer].append(top_head)\n",
    "    circuit_components[0][layer].append(head)"
   ]
  },
  {
   "cell_type": "code",
   "execution_count": 49,
   "metadata": {
    "scrolled": true
   },
   "outputs": [
    {
     "data": {
      "image/png": "[encoded data removed]",
      "text/plain": [
       "<Figure size 1200x500 with 1 Axes>"
      ]
     },
     "metadata": {},
     "output_type": "display_data"
    }
   ],
   "source": [
    "from matplotlib import pyplot as plt\n",
    "import matplotlib.ticker as mtick\n",
    "\n",
    "# with open('llama_heads_affecting_direct_logit_heads_res_k_5.json', 'r') as f:\n",
    "#   res = json.load(f)\n",
    "\n",
    "names = []\n",
    "scores = []\n",
    "\n",
    "for k in res:\n",
    "    new_k = str(k)\n",
    "    names.append(str((int(new_k.split(\".\")[2]), int(new_k.split(\",\")[1][1:-1]))))\n",
    "    scores.append((res[k][0] / res[k][1] - 1))\n",
    "\n",
    "f, ax = plt.subplots(figsize=(12, 5))\n",
    "plt.bar(names, scores)\n",
    "plt.title(\"heads affecting direct logit heads, k=5\")\n",
    "plt.xlabel(\"heads\")\n",
    "plt.ylabel(\"change in accuracy\")\n",
    "plt.gca().yaxis.set_major_formatter(mtick.PercentFormatter(1))\n",
    "plt.show()"
   ]
  },
  {
   "cell_type": "code",
   "execution_count": null,
   "metadata": {},
   "outputs": [],
   "source": []
  },
  {
   "cell_type": "code",
   "execution_count": 50,
   "metadata": {},
   "outputs": [],
   "source": [
    "new = {}\n",
    "for k in res:\n",
    "    new[str(k)] = res[k]\n",
    "\n",
    "with open(\n",
    "    \"./post-submission/llama-7b/llama_heads_affecting_direct_logit_heads_res_k_5.json\",\n",
    "    \"w\",\n",
    ") as outfile:\n",
    "    json.dump(new, outfile)"
   ]
  },
  {
   "cell_type": "markdown",
   "metadata": {},
   "source": [
    "### llama_direct_logit_heads"
   ]
  },
  {
   "cell_type": "code",
   "execution_count": 28,
   "metadata": {},
   "outputs": [],
   "source": [
    "import json\n",
    "\n",
    "with open(\"./post-submission/llama-7b/direct_logit_heads.json\", \"r\") as f:\n",
    "    data = json.load(f)\n",
    "\n",
    "ranked = defaultdict(list)\n",
    "for k_1 in data:\n",
    "    for k_2 in data[k_1]:\n",
    "        ranked[k_1].append((k_2, data[k_2][k_2] - data[k_1][k_2]))\n",
    "for k_1 in ranked:\n",
    "    ranked[k_1].sort(key=(lambda x: x[1]), reverse=True)"
   ]
  },
  {
   "cell_type": "code",
   "execution_count": 29,
   "metadata": {},
   "outputs": [
    {
     "name": "stdout",
     "output_type": "stream",
     "text": [
      "50 15 30 5\n"
     ]
    },
    {
     "name": "stderr",
     "output_type": "stream",
     "text": [
      "\r\n",
      "  0%|          | 0/50 [00:00<?, ?it/s]"
     ]
    },
    {
     "name": "stdout",
     "output_type": "stream",
     "text": [
      "model.layers.15.self_attn.o_proj 13\n",
      "remove model.layers.23.self_attn.o_proj 5\n",
      "remove model.layers.21.self_attn.o_proj 26\n",
      "remove model.layers.16.self_attn.o_proj 27\n",
      "remove model.layers.18.self_attn.o_proj 20\n",
      "remove model.layers.21.self_attn.o_proj 23\n",
      "remove model.layers.18.self_attn.o_proj 8\n",
      "remove model.layers.24.self_attn.o_proj 5\n",
      "remove model.layers.29.self_attn.o_proj 7\n",
      "remove model.layers.17.self_attn.o_proj 27\n",
      "remove model.layers.19.self_attn.o_proj 2\n",
      "remove model.layers.31.self_attn.o_proj 25\n",
      "remove model.layers.19.self_attn.o_proj 8\n",
      "remove model.layers.25.self_attn.o_proj 19\n",
      "remove model.layers.15.self_attn.o_proj 18\n",
      "remove model.layers.30.self_attn.o_proj 4\n",
      "remove model.layers.18.self_attn.o_proj 3\n",
      "remove model.layers.15.self_attn.o_proj 5\n",
      "remove model.layers.31.self_attn.o_proj 26\n",
      "remove model.layers.21.self_attn.o_proj 25\n",
      "remove model.layers.17.self_attn.o_proj 3\n",
      "remove model.layers.23.self_attn.o_proj 30\n",
      "remove model.layers.23.self_attn.o_proj 17\n",
      "remove model.layers.21.self_attn.o_proj 0\n",
      "remove model.layers.28.self_attn.o_proj 16\n",
      "remove model.layers.31.self_attn.o_proj 29\n"
     ]
    },
    {
     "name": "stderr",
     "output_type": "stream",
     "text": [
      "\n",
      "  0%|          | 0/6 [00:00<?, ?it/s]\u001b[A\n",
      " 17%|█▋        | 1/6 [00:06<00:31,  6.28s/it]\u001b[A\n",
      " 33%|███▎      | 2/6 [00:12<00:25,  6.27s/it]\u001b[A\n",
      " 50%|█████     | 3/6 [00:18<00:18,  6.27s/it]\u001b[A\n",
      " 67%|██████▋   | 4/6 [00:25<00:12,  6.27s/it]\u001b[A\n",
      " 83%|████████▎ | 5/6 [00:31<00:06,  6.27s/it]\u001b[A\n",
      "100%|██████████| 6/6 [00:37<00:00,  6.27s/it]\u001b[A\n"
     ]
    },
    {
     "name": "stdout",
     "output_type": "stream",
     "text": [
      "Task accuracy: 0.39\n"
     ]
    },
    {
     "name": "stderr",
     "output_type": "stream",
     "text": [
      "\n",
      "  0%|          | 0/6 [00:00<?, ?it/s]\u001b[A\n",
      " 17%|█▋        | 1/6 [00:06<00:31,  6.25s/it]\u001b[A\n",
      " 33%|███▎      | 2/6 [00:12<00:25,  6.27s/it]\u001b[A\n",
      " 50%|█████     | 3/6 [00:18<00:18,  6.27s/it]\u001b[A\n",
      " 67%|██████▋   | 4/6 [00:25<00:12,  6.27s/it]\u001b[A\n",
      " 83%|████████▎ | 5/6 [00:31<00:06,  6.28s/it]\u001b[A\n",
      "100%|██████████| 6/6 [00:37<00:00,  6.27s/it]\u001b[A\n",
      "  2%|▏         | 1/50 [01:15<1:01:28, 75.28s/it]"
     ]
    },
    {
     "name": "stdout",
     "output_type": "stream",
     "text": [
      "Task accuracy: 0.36\n",
      "model.layers.21.self_attn.o_proj 3\n",
      "remove model.layers.18.self_attn.o_proj 8\n",
      "remove model.layers.23.self_attn.o_proj 5\n",
      "remove model.layers.15.self_attn.o_proj 1\n",
      "remove model.layers.21.self_attn.o_proj 23\n",
      "remove model.layers.15.self_attn.o_proj 18\n",
      "remove model.layers.30.self_attn.o_proj 4\n",
      "remove model.layers.29.self_attn.o_proj 7\n",
      "remove model.layers.23.self_attn.o_proj 15\n",
      "remove model.layers.21.self_attn.o_proj 4\n",
      "remove model.layers.17.self_attn.o_proj 27\n",
      "remove model.layers.19.self_attn.o_proj 2\n",
      "remove model.layers.31.self_attn.o_proj 26\n",
      "remove model.layers.21.self_attn.o_proj 25\n",
      "remove model.layers.31.self_attn.o_proj 25\n",
      "remove model.layers.18.self_attn.o_proj 20\n",
      "remove model.layers.23.self_attn.o_proj 30\n",
      "remove model.layers.21.self_attn.o_proj 0\n",
      "remove model.layers.28.self_attn.o_proj 16\n",
      "remove model.layers.23.self_attn.o_proj 19\n",
      "remove model.layers.21.self_attn.o_proj 26\n",
      "remove model.layers.31.self_attn.o_proj 29\n",
      "remove model.layers.19.self_attn.o_proj 8\n",
      "remove model.layers.16.self_attn.o_proj 27\n",
      "remove model.layers.18.self_attn.o_proj 6\n",
      "remove model.layers.15.self_attn.o_proj 12\n"
     ]
    },
    {
     "name": "stderr",
     "output_type": "stream",
     "text": [
      "\n",
      "  0%|          | 0/6 [00:00<?, ?it/s]\u001b[A\n",
      " 17%|█▋        | 1/6 [00:06<00:31,  6.26s/it]\u001b[A\n",
      " 33%|███▎      | 2/6 [00:12<00:25,  6.26s/it]\u001b[A\n",
      " 50%|█████     | 3/6 [00:18<00:18,  6.27s/it]\u001b[A\n",
      " 67%|██████▋   | 4/6 [00:25<00:12,  6.27s/it]\u001b[A\n",
      " 83%|████████▎ | 5/6 [00:31<00:06,  6.27s/it]\u001b[A\n",
      "100%|██████████| 6/6 [00:37<00:00,  6.27s/it]\u001b[A\n"
     ]
    },
    {
     "name": "stdout",
     "output_type": "stream",
     "text": [
      "Task accuracy: 0.37\n"
     ]
    },
    {
     "name": "stderr",
     "output_type": "stream",
     "text": [
      "\n",
      "  0%|          | 0/6 [00:00<?, ?it/s]\u001b[A\n",
      " 17%|█▋        | 1/6 [00:06<00:31,  6.27s/it]\u001b[A\n",
      " 33%|███▎      | 2/6 [00:12<00:25,  6.27s/it]\u001b[A\n",
      " 50%|█████     | 3/6 [00:18<00:18,  6.27s/it]\u001b[A\n",
      " 67%|██████▋   | 4/6 [00:25<00:12,  6.28s/it]\u001b[A\n",
      " 83%|████████▎ | 5/6 [00:31<00:06,  6.27s/it]\u001b[A\n",
      "100%|██████████| 6/6 [00:37<00:00,  6.28s/it]\u001b[A\n",
      "  4%|▍         | 2/50 [02:30<1:00:13, 75.28s/it]"
     ]
    },
    {
     "name": "stdout",
     "output_type": "stream",
     "text": [
      "Task accuracy: 0.35\n",
      "model.layers.15.self_attn.o_proj 18\n",
      "remove model.layers.16.self_attn.o_proj 27\n",
      "remove model.layers.21.self_attn.o_proj 19\n",
      "remove model.layers.15.self_attn.o_proj 13\n",
      "remove model.layers.21.self_attn.o_proj 3\n",
      "remove model.layers.23.self_attn.o_proj 5\n",
      "remove model.layers.17.self_attn.o_proj 27\n",
      "remove model.layers.19.self_attn.o_proj 30\n",
      "remove model.layers.31.self_attn.o_proj 26\n",
      "remove model.layers.31.self_attn.o_proj 25\n",
      "remove model.layers.23.self_attn.o_proj 30\n",
      "remove model.layers.23.self_attn.o_proj 17\n",
      "remove model.layers.23.self_attn.o_proj 19\n",
      "remove model.layers.14.self_attn.o_proj 11\n",
      "remove model.layers.21.self_attn.o_proj 26\n",
      "remove model.layers.31.self_attn.o_proj 29\n",
      "remove model.layers.15.self_attn.o_proj 9\n",
      "remove model.layers.18.self_attn.o_proj 6\n",
      "remove model.layers.19.self_attn.o_proj 25\n",
      "remove model.layers.19.self_attn.o_proj 11\n",
      "remove model.layers.25.self_attn.o_proj 19\n",
      "remove model.layers.15.self_attn.o_proj 1\n",
      "remove model.layers.24.self_attn.o_proj 8\n",
      "remove model.layers.18.self_attn.o_proj 20\n",
      "remove model.layers.21.self_attn.o_proj 23\n",
      "remove model.layers.30.self_attn.o_proj 4\n"
     ]
    },
    {
     "name": "stderr",
     "output_type": "stream",
     "text": [
      "\n",
      "  0%|          | 0/6 [00:00<?, ?it/s]\u001b[A\n",
      " 17%|█▋        | 1/6 [00:06<00:31,  6.27s/it]\u001b[A\n",
      " 33%|███▎      | 2/6 [00:12<00:25,  6.27s/it]\u001b[A\n",
      " 50%|█████     | 3/6 [00:18<00:18,  6.28s/it]\u001b[A\n",
      " 67%|██████▋   | 4/6 [00:25<00:12,  6.29s/it]\u001b[A\n",
      " 83%|████████▎ | 5/6 [00:31<00:06,  6.29s/it]\u001b[A\n",
      "100%|██████████| 6/6 [00:37<00:00,  6.29s/it]\u001b[A\n"
     ]
    },
    {
     "name": "stdout",
     "output_type": "stream",
     "text": [
      "Task accuracy: 0.46\n"
     ]
    },
    {
     "name": "stderr",
     "output_type": "stream",
     "text": [
      "\n",
      "  0%|          | 0/6 [00:00<?, ?it/s]\u001b[A\n",
      " 17%|█▋        | 1/6 [00:06<00:31,  6.32s/it]\u001b[A\n",
      " 33%|███▎      | 2/6 [00:12<00:25,  6.31s/it]\u001b[A\n",
      " 50%|█████     | 3/6 [00:18<00:18,  6.31s/it]\u001b[A\n",
      " 67%|██████▋   | 4/6 [00:25<00:12,  6.31s/it]\u001b[A\n",
      " 83%|████████▎ | 5/6 [00:31<00:06,  6.31s/it]\u001b[A\n",
      "100%|██████████| 6/6 [00:37<00:00,  6.32s/it]\u001b[A\n",
      "  6%|▌         | 3/50 [03:46<59:06, 75.45s/it]  "
     ]
    },
    {
     "name": "stdout",
     "output_type": "stream",
     "text": [
      "Task accuracy: 0.43\n",
      "model.layers.30.self_attn.o_proj 4\n",
      "remove model.layers.15.self_attn.o_proj 13\n",
      "remove model.layers.21.self_attn.o_proj 3\n",
      "remove model.layers.23.self_attn.o_proj 5\n",
      "remove model.layers.19.self_attn.o_proj 2\n",
      "remove model.layers.31.self_attn.o_proj 26\n",
      "remove model.layers.21.self_attn.o_proj 25\n",
      "remove model.layers.31.self_attn.o_proj 29\n",
      "remove model.layers.19.self_attn.o_proj 8\n",
      "remove model.layers.18.self_attn.o_proj 25\n",
      "remove model.layers.25.self_attn.o_proj 19\n",
      "remove model.layers.15.self_attn.o_proj 1\n",
      "remove model.layers.21.self_attn.o_proj 23\n"
     ]
    },
    {
     "name": "stderr",
     "output_type": "stream",
     "text": [
      "\n",
      "  0%|          | 0/6 [00:00<?, ?it/s]\u001b[A\n",
      " 17%|█▋        | 1/6 [00:06<00:31,  6.31s/it]\u001b[A\n",
      " 33%|███▎      | 2/6 [00:12<00:25,  6.32s/it]\u001b[A\n",
      " 50%|█████     | 3/6 [00:18<00:18,  6.31s/it]\u001b[A\n",
      " 67%|██████▋   | 4/6 [00:25<00:12,  6.31s/it]\u001b[A\n",
      " 83%|████████▎ | 5/6 [00:31<00:06,  6.30s/it]\u001b[A\n",
      "100%|██████████| 6/6 [00:37<00:00,  6.31s/it]\u001b[A\n"
     ]
    },
    {
     "name": "stdout",
     "output_type": "stream",
     "text": [
      "Task accuracy: 0.48\n"
     ]
    },
    {
     "name": "stderr",
     "output_type": "stream",
     "text": [
      "\n",
      "  0%|          | 0/6 [00:00<?, ?it/s]\u001b[A\n",
      " 17%|█▋        | 1/6 [00:06<00:31,  6.29s/it]\u001b[A\n",
      " 33%|███▎      | 2/6 [00:12<00:25,  6.29s/it]\u001b[A\n",
      " 50%|█████     | 3/6 [00:18<00:18,  6.30s/it]\u001b[A\n",
      " 67%|██████▋   | 4/6 [00:25<00:12,  6.30s/it]\u001b[A\n",
      " 83%|████████▎ | 5/6 [00:31<00:06,  6.30s/it]\u001b[A\n",
      "100%|██████████| 6/6 [00:37<00:00,  6.30s/it]\u001b[A\n",
      "  8%|▊         | 4/50 [05:01<57:54, 75.52s/it]"
     ]
    },
    {
     "name": "stdout",
     "output_type": "stream",
     "text": [
      "Task accuracy: 0.48\n",
      "model.layers.18.self_attn.o_proj 8\n",
      "remove model.layers.15.self_attn.o_proj 13\n",
      "remove model.layers.21.self_attn.o_proj 3\n",
      "remove model.layers.24.self_attn.o_proj 5\n",
      "remove model.layers.23.self_attn.o_proj 5\n",
      "remove model.layers.17.self_attn.o_proj 27\n",
      "remove model.layers.23.self_attn.o_proj 20\n",
      "remove model.layers.23.self_attn.o_proj 17\n",
      "remove model.layers.24.self_attn.o_proj 8\n"
     ]
    },
    {
     "name": "stderr",
     "output_type": "stream",
     "text": [
      "\n",
      "  0%|          | 0/6 [00:00<?, ?it/s]\u001b[A\n",
      " 17%|█▋        | 1/6 [00:06<00:31,  6.29s/it]\u001b[A\n",
      " 33%|███▎      | 2/6 [00:12<00:25,  6.29s/it]\u001b[A\n",
      " 50%|█████     | 3/6 [00:18<00:18,  6.29s/it]\u001b[A\n",
      " 67%|██████▋   | 4/6 [00:25<00:12,  6.30s/it]\u001b[A\n",
      " 83%|████████▎ | 5/6 [00:31<00:06,  6.29s/it]\u001b[A\n",
      "100%|██████████| 6/6 [00:37<00:00,  6.29s/it]\u001b[A\n"
     ]
    },
    {
     "name": "stdout",
     "output_type": "stream",
     "text": [
      "Task accuracy: 0.5\n"
     ]
    },
    {
     "name": "stderr",
     "output_type": "stream",
     "text": [
      "\n",
      "  0%|          | 0/6 [00:00<?, ?it/s]\u001b[A\n",
      " 17%|█▋        | 1/6 [00:06<00:31,  6.28s/it]\u001b[A\n",
      " 33%|███▎      | 2/6 [00:12<00:25,  6.27s/it]\u001b[A\n",
      " 50%|█████     | 3/6 [00:18<00:18,  6.28s/it]\u001b[A\n",
      " 67%|██████▋   | 4/6 [00:25<00:12,  6.28s/it]\u001b[A\n",
      " 83%|████████▎ | 5/6 [00:31<00:06,  6.28s/it]\u001b[A\n",
      "100%|██████████| 6/6 [00:37<00:00,  6.28s/it]\u001b[A\n",
      " 10%|█         | 5/50 [06:17<56:37, 75.49s/it]"
     ]
    },
    {
     "name": "stdout",
     "output_type": "stream",
     "text": [
      "Task accuracy: 0.48\n",
      "model.layers.24.self_attn.o_proj 5\n",
      "remove model.layers.15.self_attn.o_proj 13\n",
      "remove model.layers.18.self_attn.o_proj 8\n",
      "remove model.layers.19.self_attn.o_proj 8\n",
      "remove model.layers.21.self_attn.o_proj 4\n",
      "remove model.layers.23.self_attn.o_proj 5\n",
      "remove model.layers.19.self_attn.o_proj 2\n",
      "remove model.layers.31.self_attn.o_proj 26\n",
      "remove model.layers.23.self_attn.o_proj 30\n",
      "remove model.layers.23.self_attn.o_proj 17\n",
      "remove model.layers.31.self_attn.o_proj 29\n",
      "remove model.layers.18.self_attn.o_proj 6\n",
      "remove model.layers.25.self_attn.o_proj 19\n",
      "remove model.layers.15.self_attn.o_proj 1\n",
      "remove model.layers.18.self_attn.o_proj 20\n",
      "remove model.layers.21.self_attn.o_proj 23\n",
      "remove model.layers.21.self_attn.o_proj 3\n",
      "remove model.layers.15.self_attn.o_proj 18\n",
      "remove model.layers.30.self_attn.o_proj 4\n",
      "remove model.layers.29.self_attn.o_proj 7\n",
      "remove model.layers.18.self_attn.o_proj 3\n",
      "remove model.layers.17.self_attn.o_proj 28\n",
      "remove model.layers.15.self_attn.o_proj 5\n",
      "remove model.layers.17.self_attn.o_proj 27\n",
      "remove model.layers.19.self_attn.o_proj 30\n",
      "remove model.layers.15.self_attn.o_proj 2\n"
     ]
    },
    {
     "name": "stderr",
     "output_type": "stream",
     "text": [
      "\n",
      "  0%|          | 0/6 [00:00<?, ?it/s]\u001b[A\n",
      " 17%|█▋        | 1/6 [00:06<00:31,  6.30s/it]\u001b[A\n",
      " 33%|███▎      | 2/6 [00:12<00:25,  6.30s/it]\u001b[A\n",
      " 50%|█████     | 3/6 [00:18<00:18,  6.31s/it]\u001b[A\n",
      " 67%|██████▋   | 4/6 [00:25<00:12,  6.31s/it]\u001b[A\n",
      " 83%|████████▎ | 5/6 [00:31<00:06,  6.36s/it]\u001b[A\n",
      "100%|██████████| 6/6 [00:37<00:00,  6.33s/it]\u001b[A\n"
     ]
    },
    {
     "name": "stdout",
     "output_type": "stream",
     "text": [
      "Task accuracy: 0.32\n"
     ]
    },
    {
     "name": "stderr",
     "output_type": "stream",
     "text": [
      "\n",
      "  0%|          | 0/6 [00:00<?, ?it/s]\u001b[A\n",
      " 17%|█▋        | 1/6 [00:06<00:31,  6.31s/it]\u001b[A\n",
      " 33%|███▎      | 2/6 [00:12<00:25,  6.30s/it]\u001b[A\n",
      " 50%|█████     | 3/6 [00:18<00:18,  6.31s/it]\u001b[A\n",
      " 67%|██████▋   | 4/6 [00:25<00:12,  6.32s/it]\u001b[A\n",
      " 83%|████████▎ | 5/6 [00:31<00:06,  6.32s/it]\u001b[A\n",
      "100%|██████████| 6/6 [00:37<00:00,  6.31s/it]\u001b[A\n",
      " 12%|█▏        | 6/50 [07:33<55:27, 75.62s/it]"
     ]
    },
    {
     "name": "stdout",
     "output_type": "stream",
     "text": [
      "Task accuracy: 0.29\n",
      "model.layers.29.self_attn.o_proj 7\n",
      "remove model.layers.15.self_attn.o_proj 13\n",
      "remove model.layers.23.self_attn.o_proj 5\n",
      "remove model.layers.23.self_attn.o_proj 30\n"
     ]
    },
    {
     "name": "stderr",
     "output_type": "stream",
     "text": [
      "\n",
      "  0%|          | 0/6 [00:00<?, ?it/s]\u001b[A\n",
      " 17%|█▋        | 1/6 [00:06<00:31,  6.28s/it]\u001b[A\n",
      " 33%|███▎      | 2/6 [00:12<00:25,  6.30s/it]\u001b[A\n",
      " 50%|█████     | 3/6 [00:18<00:18,  6.30s/it]\u001b[A\n",
      " 67%|██████▋   | 4/6 [00:25<00:12,  6.30s/it]\u001b[A\n",
      " 83%|████████▎ | 5/6 [00:31<00:06,  6.30s/it]\u001b[A\n",
      "100%|██████████| 6/6 [00:37<00:00,  6.29s/it]\u001b[A\n"
     ]
    },
    {
     "name": "stdout",
     "output_type": "stream",
     "text": [
      "Task accuracy: 0.51\n"
     ]
    },
    {
     "name": "stderr",
     "output_type": "stream",
     "text": [
      "\n",
      "  0%|          | 0/6 [00:00<?, ?it/s]\u001b[A\n",
      " 17%|█▋        | 1/6 [00:06<00:31,  6.31s/it]\u001b[A\n",
      " 33%|███▎      | 2/6 [00:12<00:25,  6.30s/it]\u001b[A\n",
      " 50%|█████     | 3/6 [00:18<00:18,  6.30s/it]\u001b[A\n",
      " 67%|██████▋   | 4/6 [00:25<00:12,  6.30s/it]\u001b[A\n",
      " 83%|████████▎ | 5/6 [00:31<00:06,  6.31s/it]\u001b[A\n",
      "100%|██████████| 6/6 [00:37<00:00,  6.31s/it]\u001b[A\n",
      " 14%|█▍        | 7/50 [08:48<54:11, 75.61s/it]"
     ]
    },
    {
     "name": "stdout",
     "output_type": "stream",
     "text": [
      "Task accuracy: 0.5\n",
      "model.layers.18.self_attn.o_proj 3\n",
      "remove model.layers.23.self_attn.o_proj 5\n",
      "remove model.layers.21.self_attn.o_proj 23\n",
      "remove model.layers.15.self_attn.o_proj 13\n",
      "remove model.layers.29.self_attn.o_proj 7\n",
      "remove model.layers.15.self_attn.o_proj 5\n",
      "remove model.layers.23.self_attn.o_proj 20\n",
      "remove model.layers.19.self_attn.o_proj 2\n",
      "remove model.layers.31.self_attn.o_proj 26\n",
      "remove model.layers.31.self_attn.o_proj 25\n",
      "remove model.layers.23.self_attn.o_proj 30\n",
      "remove model.layers.14.self_attn.o_proj 11\n",
      "remove model.layers.21.self_attn.o_proj 26\n",
      "remove model.layers.31.self_attn.o_proj 29\n",
      "remove model.layers.16.self_attn.o_proj 27\n",
      "remove model.layers.15.self_attn.o_proj 9\n",
      "remove model.layers.18.self_attn.o_proj 6\n",
      "remove model.layers.15.self_attn.o_proj 12\n",
      "remove model.layers.18.self_attn.o_proj 25\n",
      "remove model.layers.19.self_attn.o_proj 11\n",
      "remove model.layers.25.self_attn.o_proj 19\n",
      "remove model.layers.15.self_attn.o_proj 1\n",
      "remove model.layers.15.self_attn.o_proj 18\n",
      "remove model.layers.30.self_attn.o_proj 4\n",
      "remove model.layers.18.self_attn.o_proj 8\n",
      "remove model.layers.24.self_attn.o_proj 5\n"
     ]
    },
    {
     "name": "stderr",
     "output_type": "stream",
     "text": [
      "\n",
      "  0%|          | 0/6 [00:00<?, ?it/s]\u001b[A\n",
      " 17%|█▋        | 1/6 [00:06<00:31,  6.29s/it]\u001b[A\n",
      " 33%|███▎      | 2/6 [00:12<00:25,  6.31s/it]\u001b[A\n",
      " 50%|█████     | 3/6 [00:18<00:18,  6.31s/it]\u001b[A\n",
      " 67%|██████▋   | 4/6 [00:25<00:12,  6.32s/it]\u001b[A\n",
      " 83%|████████▎ | 5/6 [00:31<00:06,  6.32s/it]\u001b[A\n",
      "100%|██████████| 6/6 [00:37<00:00,  6.32s/it]\u001b[A\n"
     ]
    },
    {
     "name": "stdout",
     "output_type": "stream",
     "text": [
      "Task accuracy: 0.41\n"
     ]
    },
    {
     "name": "stderr",
     "output_type": "stream",
     "text": [
      "\n",
      "  0%|          | 0/6 [00:00<?, ?it/s]\u001b[A\n",
      " 17%|█▋        | 1/6 [00:06<00:31,  6.30s/it]\u001b[A\n",
      " 33%|███▎      | 2/6 [00:12<00:25,  6.31s/it]\u001b[A\n",
      " 50%|█████     | 3/6 [00:18<00:18,  6.31s/it]\u001b[A\n",
      " 67%|██████▋   | 4/6 [00:25<00:12,  6.31s/it]\u001b[A\n",
      " 83%|████████▎ | 5/6 [00:31<00:06,  6.31s/it]\u001b[A\n",
      "100%|██████████| 6/6 [00:37<00:00,  6.31s/it]\u001b[A\n",
      " 16%|█▌        | 8/50 [10:04<52:57, 75.66s/it]"
     ]
    },
    {
     "name": "stdout",
     "output_type": "stream",
     "text": [
      "Task accuracy: 0.41\n",
      "model.layers.23.self_attn.o_proj 15\n",
      "remove model.layers.18.self_attn.o_proj 20\n",
      "remove model.layers.23.self_attn.o_proj 19\n",
      "remove model.layers.19.self_attn.o_proj 8\n",
      "remove model.layers.21.self_attn.o_proj 23\n"
     ]
    },
    {
     "name": "stderr",
     "output_type": "stream",
     "text": [
      "\n",
      "  0%|          | 0/6 [00:00<?, ?it/s]\u001b[A\n",
      " 17%|█▋        | 1/6 [00:06<00:31,  6.27s/it]\u001b[A\n",
      " 33%|███▎      | 2/6 [00:12<00:25,  6.28s/it]\u001b[A\n",
      " 50%|█████     | 3/6 [00:18<00:18,  6.29s/it]\u001b[A\n",
      " 67%|██████▋   | 4/6 [00:25<00:12,  6.29s/it]\u001b[A\n",
      " 83%|████████▎ | 5/6 [00:31<00:06,  6.29s/it]\u001b[A\n",
      "100%|██████████| 6/6 [00:37<00:00,  6.29s/it]\u001b[A\n"
     ]
    },
    {
     "name": "stdout",
     "output_type": "stream",
     "text": [
      "Task accuracy: 0.53\n"
     ]
    },
    {
     "name": "stderr",
     "output_type": "stream",
     "text": [
      "\n",
      "  0%|          | 0/6 [00:00<?, ?it/s]\u001b[A\n",
      " 17%|█▋        | 1/6 [00:06<00:31,  6.30s/it]\u001b[A\n",
      " 33%|███▎      | 2/6 [00:12<00:25,  6.31s/it]\u001b[A\n",
      " 50%|█████     | 3/6 [00:18<00:18,  6.31s/it]\u001b[A\n",
      " 67%|██████▋   | 4/6 [00:25<00:12,  6.31s/it]\u001b[A\n",
      " 83%|████████▎ | 5/6 [00:31<00:06,  6.30s/it]\u001b[A\n",
      "100%|██████████| 6/6 [00:37<00:00,  6.31s/it]\u001b[A\n",
      " 18%|█▊        | 9/50 [11:20<51:41, 75.64s/it]"
     ]
    },
    {
     "name": "stdout",
     "output_type": "stream",
     "text": [
      "Task accuracy: 0.53\n",
      "model.layers.20.self_attn.o_proj 14\n",
      "remove model.layers.24.self_attn.o_proj 8\n",
      "remove model.layers.23.self_attn.o_proj 15\n",
      "remove model.layers.17.self_attn.o_proj 27\n",
      "remove model.layers.31.self_attn.o_proj 26\n",
      "remove model.layers.19.self_attn.o_proj 25\n",
      "remove model.layers.25.self_attn.o_proj 19\n",
      "remove model.layers.15.self_attn.o_proj 1\n",
      "remove model.layers.18.self_attn.o_proj 20\n",
      "remove model.layers.21.self_attn.o_proj 23\n",
      "remove model.layers.15.self_attn.o_proj 13\n",
      "remove model.layers.21.self_attn.o_proj 3\n",
      "remove model.layers.15.self_attn.o_proj 18\n",
      "remove model.layers.18.self_attn.o_proj 8\n",
      "remove model.layers.18.self_attn.o_proj 3\n",
      "remove model.layers.17.self_attn.o_proj 28\n",
      "remove model.layers.21.self_attn.o_proj 4\n",
      "remove model.layers.15.self_attn.o_proj 5\n",
      "remove model.layers.23.self_attn.o_proj 5\n",
      "remove model.layers.23.self_attn.o_proj 20\n",
      "remove model.layers.19.self_attn.o_proj 2\n",
      "remove model.layers.21.self_attn.o_proj 25\n",
      "remove model.layers.15.self_attn.o_proj 2\n",
      "remove model.layers.17.self_attn.o_proj 3\n",
      "remove model.layers.31.self_attn.o_proj 25\n",
      "remove model.layers.23.self_attn.o_proj 19\n"
     ]
    },
    {
     "name": "stderr",
     "output_type": "stream",
     "text": [
      "\n",
      "  0%|          | 0/6 [00:00<?, ?it/s]\u001b[A\n",
      " 17%|█▋        | 1/6 [00:06<00:31,  6.33s/it]\u001b[A\n",
      " 33%|███▎      | 2/6 [00:12<00:25,  6.32s/it]\u001b[A\n",
      " 50%|█████     | 3/6 [00:18<00:18,  6.31s/it]\u001b[A\n",
      " 67%|██████▋   | 4/6 [00:25<00:12,  6.31s/it]\u001b[A\n",
      " 83%|████████▎ | 5/6 [00:31<00:06,  6.30s/it]\u001b[A\n",
      "100%|██████████| 6/6 [00:37<00:00,  6.31s/it]\u001b[A\n"
     ]
    },
    {
     "name": "stdout",
     "output_type": "stream",
     "text": [
      "Task accuracy: 0.32\n"
     ]
    },
    {
     "name": "stderr",
     "output_type": "stream",
     "text": [
      "\n",
      "  0%|          | 0/6 [00:00<?, ?it/s]\u001b[A\n",
      " 17%|█▋        | 1/6 [00:06<00:31,  6.31s/it]\u001b[A\n",
      " 33%|███▎      | 2/6 [00:12<00:25,  6.31s/it]\u001b[A\n",
      " 50%|█████     | 3/6 [00:18<00:18,  6.32s/it]\u001b[A\n",
      " 67%|██████▋   | 4/6 [00:25<00:12,  6.31s/it]\u001b[A\n",
      " 83%|████████▎ | 5/6 [00:31<00:06,  6.32s/it]\u001b[A\n",
      "100%|██████████| 6/6 [00:37<00:00,  6.31s/it]\u001b[A\n",
      " 20%|██        | 10/50 [12:35<50:26, 75.67s/it]"
     ]
    },
    {
     "name": "stdout",
     "output_type": "stream",
     "text": [
      "Task accuracy: 0.29\n",
      "model.layers.17.self_attn.o_proj 28\n",
      "remove model.layers.23.self_attn.o_proj 5\n",
      "remove model.layers.17.self_attn.o_proj 27\n",
      "remove model.layers.31.self_attn.o_proj 26\n",
      "remove model.layers.31.self_attn.o_proj 25\n",
      "remove model.layers.23.self_attn.o_proj 17\n",
      "remove model.layers.21.self_attn.o_proj 26\n",
      "remove model.layers.31.self_attn.o_proj 29\n",
      "remove model.layers.16.self_attn.o_proj 27\n",
      "remove model.layers.21.self_attn.o_proj 19\n",
      "remove model.layers.18.self_attn.o_proj 6\n",
      "remove model.layers.25.self_attn.o_proj 19\n",
      "remove model.layers.15.self_attn.o_proj 1\n",
      "remove model.layers.18.self_attn.o_proj 20\n",
      "remove model.layers.21.self_attn.o_proj 23\n",
      "remove model.layers.21.self_attn.o_proj 3\n",
      "remove model.layers.15.self_attn.o_proj 18\n",
      "remove model.layers.18.self_attn.o_proj 8\n",
      "remove model.layers.24.self_attn.o_proj 5\n",
      "remove model.layers.18.self_attn.o_proj 3\n",
      "remove model.layers.23.self_attn.o_proj 15\n",
      "remove model.layers.20.self_attn.o_proj 14\n",
      "remove model.layers.21.self_attn.o_proj 4\n",
      "remove model.layers.19.self_attn.o_proj 30\n",
      "remove model.layers.19.self_attn.o_proj 2\n",
      "remove model.layers.17.self_attn.o_proj 3\n"
     ]
    },
    {
     "name": "stderr",
     "output_type": "stream",
     "text": [
      "\n",
      "  0%|          | 0/6 [00:00<?, ?it/s]\u001b[A\n",
      " 17%|█▋        | 1/6 [00:06<00:31,  6.30s/it]\u001b[A\n",
      " 33%|███▎      | 2/6 [00:12<00:25,  6.31s/it]\u001b[A\n",
      " 50%|█████     | 3/6 [00:18<00:18,  6.32s/it]\u001b[A\n",
      " 67%|██████▋   | 4/6 [00:25<00:12,  6.32s/it]\u001b[A\n",
      " 83%|████████▎ | 5/6 [00:31<00:06,  6.32s/it]\u001b[A\n",
      "100%|██████████| 6/6 [00:37<00:00,  6.32s/it]\u001b[A\n"
     ]
    },
    {
     "name": "stdout",
     "output_type": "stream",
     "text": [
      "Task accuracy: 0.4\n"
     ]
    },
    {
     "name": "stderr",
     "output_type": "stream",
     "text": [
      "\n",
      "  0%|          | 0/6 [00:00<?, ?it/s]\u001b[A\n",
      " 17%|█▋        | 1/6 [00:06<00:31,  6.32s/it]\u001b[A\n",
      " 33%|███▎      | 2/6 [00:12<00:25,  6.31s/it]\u001b[A\n",
      " 50%|█████     | 3/6 [00:18<00:18,  6.32s/it]\u001b[A\n",
      " 67%|██████▋   | 4/6 [00:25<00:12,  6.32s/it]\u001b[A\n",
      " 83%|████████▎ | 5/6 [00:31<00:06,  6.32s/it]\u001b[A\n",
      "100%|██████████| 6/6 [00:37<00:00,  6.32s/it]\u001b[A\n",
      " 22%|██▏       | 11/50 [13:51<49:12, 75.71s/it]"
     ]
    },
    {
     "name": "stdout",
     "output_type": "stream",
     "text": [
      "Task accuracy: 0.35\n",
      "model.layers.21.self_attn.o_proj 4\n",
      "remove model.layers.23.self_attn.o_proj 20\n",
      "remove model.layers.21.self_attn.o_proj 25\n",
      "remove model.layers.19.self_attn.o_proj 8\n",
      "remove model.layers.18.self_attn.o_proj 25\n",
      "remove model.layers.25.self_attn.o_proj 19\n",
      "remove model.layers.15.self_attn.o_proj 1\n",
      "remove model.layers.24.self_attn.o_proj 8\n",
      "remove model.layers.18.self_attn.o_proj 20\n",
      "remove model.layers.21.self_attn.o_proj 23\n",
      "remove model.layers.21.self_attn.o_proj 3\n",
      "remove model.layers.18.self_attn.o_proj 8\n",
      "remove model.layers.24.self_attn.o_proj 5\n",
      "remove model.layers.23.self_attn.o_proj 15\n",
      "remove model.layers.23.self_attn.o_proj 5\n",
      "remove model.layers.17.self_attn.o_proj 27\n",
      "remove model.layers.19.self_attn.o_proj 2\n",
      "remove model.layers.31.self_attn.o_proj 26\n",
      "remove model.layers.31.self_attn.o_proj 25\n",
      "remove model.layers.23.self_attn.o_proj 30\n",
      "remove model.layers.23.self_attn.o_proj 17\n",
      "remove model.layers.28.self_attn.o_proj 16\n",
      "remove model.layers.23.self_attn.o_proj 19\n",
      "remove model.layers.21.self_attn.o_proj 26\n",
      "remove model.layers.31.self_attn.o_proj 29\n",
      "remove model.layers.16.self_attn.o_proj 27\n"
     ]
    },
    {
     "name": "stderr",
     "output_type": "stream",
     "text": [
      "\n",
      "  0%|          | 0/6 [00:00<?, ?it/s]\u001b[A\n",
      " 17%|█▋        | 1/6 [00:06<00:31,  6.31s/it]\u001b[A\n",
      " 33%|███▎      | 2/6 [00:12<00:25,  6.41s/it]\u001b[A\n",
      " 50%|█████     | 3/6 [00:19<00:19,  6.36s/it]\u001b[A\n",
      " 67%|██████▋   | 4/6 [00:25<00:12,  6.35s/it]\u001b[A\n",
      " 83%|████████▎ | 5/6 [00:31<00:06,  6.34s/it]\u001b[A\n",
      "100%|██████████| 6/6 [00:38<00:00,  6.34s/it]\u001b[A\n"
     ]
    },
    {
     "name": "stdout",
     "output_type": "stream",
     "text": [
      "Task accuracy: 0.35\n"
     ]
    },
    {
     "name": "stderr",
     "output_type": "stream",
     "text": [
      "\n",
      "  0%|          | 0/6 [00:00<?, ?it/s]\u001b[A\n",
      " 17%|█▋        | 1/6 [00:06<00:31,  6.31s/it]\u001b[A\n",
      " 33%|███▎      | 2/6 [00:12<00:25,  6.31s/it]\u001b[A\n",
      " 50%|█████     | 3/6 [00:18<00:18,  6.32s/it]\u001b[A\n",
      " 67%|██████▋   | 4/6 [00:25<00:12,  6.32s/it]\u001b[A\n",
      " 83%|████████▎ | 5/6 [00:31<00:06,  6.32s/it]\u001b[A\n",
      "100%|██████████| 6/6 [00:37<00:00,  6.31s/it]\u001b[A\n",
      " 24%|██▍       | 12/50 [15:07<47:59, 75.78s/it]"
     ]
    },
    {
     "name": "stdout",
     "output_type": "stream",
     "text": [
      "Task accuracy: 0.29\n",
      "model.layers.15.self_attn.o_proj 5\n",
      "remove model.layers.15.self_attn.o_proj 13\n",
      "remove model.layers.18.self_attn.o_proj 3\n",
      "remove model.layers.23.self_attn.o_proj 5\n",
      "remove model.layers.17.self_attn.o_proj 27\n",
      "remove model.layers.31.self_attn.o_proj 26\n",
      "remove model.layers.21.self_attn.o_proj 25\n",
      "remove model.layers.31.self_attn.o_proj 25\n",
      "remove model.layers.21.self_attn.o_proj 26\n",
      "remove model.layers.31.self_attn.o_proj 29\n",
      "remove model.layers.16.self_attn.o_proj 27\n",
      "remove model.layers.18.self_attn.o_proj 6\n",
      "remove model.layers.18.self_attn.o_proj 25\n",
      "remove model.layers.25.self_attn.o_proj 19\n",
      "remove model.layers.15.self_attn.o_proj 1\n",
      "remove model.layers.24.self_attn.o_proj 8\n"
     ]
    },
    {
     "name": "stderr",
     "output_type": "stream",
     "text": [
      "\n",
      "  0%|          | 0/6 [00:00<?, ?it/s]\u001b[A\n",
      " 17%|█▋        | 1/6 [00:06<00:31,  6.31s/it]\u001b[A\n",
      " 33%|███▎      | 2/6 [00:12<00:25,  6.31s/it]\u001b[A\n",
      " 50%|█████     | 3/6 [00:18<00:18,  6.32s/it]\u001b[A\n",
      " 67%|██████▋   | 4/6 [00:25<00:12,  6.32s/it]\u001b[A\n",
      " 83%|████████▎ | 5/6 [00:31<00:06,  6.31s/it]\u001b[A\n",
      "100%|██████████| 6/6 [00:37<00:00,  6.31s/it]\u001b[A\n"
     ]
    },
    {
     "name": "stdout",
     "output_type": "stream",
     "text": [
      "Task accuracy: 0.48\n"
     ]
    },
    {
     "name": "stderr",
     "output_type": "stream",
     "text": [
      "\n",
      "  0%|          | 0/6 [00:00<?, ?it/s]\u001b[A\n",
      " 17%|█▋        | 1/6 [00:06<00:31,  6.30s/it]\u001b[A\n",
      " 33%|███▎      | 2/6 [00:12<00:25,  6.32s/it]\u001b[A\n",
      " 50%|█████     | 3/6 [00:18<00:18,  6.32s/it]\u001b[A\n",
      " 67%|██████▋   | 4/6 [00:25<00:12,  6.33s/it]\u001b[A\n",
      " 83%|████████▎ | 5/6 [00:31<00:06,  6.33s/it]\u001b[A\n",
      "100%|██████████| 6/6 [00:37<00:00,  6.32s/it]\u001b[A\n",
      " 26%|██▌       | 13/50 [16:23<46:44, 75.79s/it]"
     ]
    },
    {
     "name": "stdout",
     "output_type": "stream",
     "text": [
      "Task accuracy: 0.49\n",
      "model.layers.23.self_attn.o_proj 5\n",
      "remove model.layers.15.self_attn.o_proj 13\n",
      "remove model.layers.16.self_attn.o_proj 27\n",
      "remove model.layers.21.self_attn.o_proj 3\n",
      "remove model.layers.18.self_attn.o_proj 8\n",
      "remove model.layers.29.self_attn.o_proj 7\n",
      "remove model.layers.18.self_attn.o_proj 3\n",
      "remove model.layers.31.self_attn.o_proj 25\n",
      "remove model.layers.14.self_attn.o_proj 11\n",
      "remove model.layers.15.self_attn.o_proj 12\n",
      "remove model.layers.19.self_attn.o_proj 11\n"
     ]
    },
    {
     "name": "stderr",
     "output_type": "stream",
     "text": [
      "\n",
      "  0%|          | 0/6 [00:00<?, ?it/s]\u001b[A\n",
      " 17%|█▋        | 1/6 [00:06<00:31,  6.33s/it]\u001b[A\n",
      " 33%|███▎      | 2/6 [00:12<00:25,  6.31s/it]\u001b[A\n",
      " 50%|█████     | 3/6 [00:18<00:18,  6.31s/it]\u001b[A\n",
      " 67%|██████▋   | 4/6 [00:25<00:12,  6.31s/it]\u001b[A\n",
      " 83%|████████▎ | 5/6 [00:31<00:06,  6.31s/it]\u001b[A\n",
      "100%|██████████| 6/6 [00:37<00:00,  6.31s/it]\u001b[A\n"
     ]
    },
    {
     "name": "stdout",
     "output_type": "stream",
     "text": [
      "Task accuracy: 0.47\n"
     ]
    },
    {
     "name": "stderr",
     "output_type": "stream",
     "text": [
      "\n",
      "  0%|          | 0/6 [00:00<?, ?it/s]\u001b[A\n",
      " 17%|█▋        | 1/6 [00:06<00:31,  6.31s/it]\u001b[A\n",
      " 33%|███▎      | 2/6 [00:12<00:25,  6.32s/it]\u001b[A\n",
      " 50%|█████     | 3/6 [00:18<00:18,  6.32s/it]\u001b[A\n",
      " 67%|██████▋   | 4/6 [00:25<00:12,  6.32s/it]\u001b[A\n",
      " 83%|████████▎ | 5/6 [00:31<00:06,  6.32s/it]\u001b[A\n",
      "100%|██████████| 6/6 [00:37<00:00,  6.32s/it]\u001b[A\n",
      " 28%|██▊       | 14/50 [17:39<45:28, 75.78s/it]"
     ]
    },
    {
     "name": "stdout",
     "output_type": "stream",
     "text": [
      "Task accuracy: 0.46\n",
      "model.layers.17.self_attn.o_proj 27\n",
      "remove model.layers.21.self_attn.o_proj 23\n",
      "remove model.layers.15.self_attn.o_proj 13\n",
      "remove model.layers.18.self_attn.o_proj 8\n",
      "remove model.layers.19.self_attn.o_proj 2\n",
      "remove model.layers.23.self_attn.o_proj 19\n",
      "remove model.layers.21.self_attn.o_proj 26\n",
      "remove model.layers.18.self_attn.o_proj 20\n",
      "remove model.layers.21.self_attn.o_proj 3\n",
      "remove model.layers.15.self_attn.o_proj 18\n",
      "remove model.layers.23.self_attn.o_proj 15\n",
      "remove model.layers.20.self_attn.o_proj 14\n",
      "remove model.layers.17.self_attn.o_proj 28\n",
      "remove model.layers.21.self_attn.o_proj 4\n",
      "remove model.layers.15.self_attn.o_proj 5\n",
      "remove model.layers.23.self_attn.o_proj 5\n",
      "remove model.layers.15.self_attn.o_proj 2\n",
      "remove model.layers.17.self_attn.o_proj 3\n",
      "remove model.layers.31.self_attn.o_proj 25\n",
      "remove model.layers.23.self_attn.o_proj 17\n",
      "remove model.layers.19.self_attn.o_proj 8\n",
      "remove model.layers.16.self_attn.o_proj 27\n",
      "remove model.layers.21.self_attn.o_proj 19\n",
      "remove model.layers.19.self_attn.o_proj 25\n",
      "remove model.layers.19.self_attn.o_proj 26\n",
      "remove model.layers.25.self_attn.o_proj 19\n"
     ]
    },
    {
     "name": "stderr",
     "output_type": "stream",
     "text": [
      "\n",
      "  0%|          | 0/6 [00:00<?, ?it/s]\u001b[A\n",
      " 17%|█▋        | 1/6 [00:06<00:31,  6.30s/it]\u001b[A\n",
      " 33%|███▎      | 2/6 [00:12<00:25,  6.28s/it]\u001b[A\n",
      " 50%|█████     | 3/6 [00:18<00:18,  6.29s/it]\u001b[A\n",
      " 67%|██████▋   | 4/6 [00:25<00:12,  6.29s/it]\u001b[A\n",
      " 83%|████████▎ | 5/6 [00:31<00:06,  6.30s/it]\u001b[A\n",
      "100%|██████████| 6/6 [00:37<00:00,  6.30s/it]\u001b[A\n"
     ]
    },
    {
     "name": "stdout",
     "output_type": "stream",
     "text": [
      "Task accuracy: 0.34\n"
     ]
    },
    {
     "name": "stderr",
     "output_type": "stream",
     "text": [
      "\n",
      "  0%|          | 0/6 [00:00<?, ?it/s]\u001b[A\n",
      " 17%|█▋        | 1/6 [00:06<00:31,  6.30s/it]\u001b[A\n",
      " 33%|███▎      | 2/6 [00:12<00:25,  6.31s/it]\u001b[A\n",
      " 50%|█████     | 3/6 [00:18<00:18,  6.31s/it]\u001b[A\n",
      " 67%|██████▋   | 4/6 [00:25<00:12,  6.31s/it]\u001b[A\n",
      " 83%|████████▎ | 5/6 [00:31<00:06,  6.31s/it]\u001b[A\n",
      "100%|██████████| 6/6 [00:37<00:00,  6.31s/it]\u001b[A\n",
      " 30%|███       | 15/50 [18:54<44:11, 75.74s/it]"
     ]
    },
    {
     "name": "stdout",
     "output_type": "stream",
     "text": [
      "Task accuracy: 0.31\n",
      "model.layers.28.self_attn.o_proj 17\n",
      "remove model.layers.23.self_attn.o_proj 5\n",
      "remove model.layers.31.self_attn.o_proj 26\n",
      "remove model.layers.31.self_attn.o_proj 25\n",
      "remove model.layers.23.self_attn.o_proj 30\n",
      "remove model.layers.23.self_attn.o_proj 17\n",
      "remove model.layers.31.self_attn.o_proj 29\n",
      "remove model.layers.16.self_attn.o_proj 27\n",
      "remove model.layers.15.self_attn.o_proj 9\n",
      "remove model.layers.18.self_attn.o_proj 6\n",
      "remove model.layers.25.self_attn.o_proj 19\n",
      "remove model.layers.15.self_attn.o_proj 1\n",
      "remove model.layers.24.self_attn.o_proj 8\n",
      "remove model.layers.21.self_attn.o_proj 23\n"
     ]
    },
    {
     "name": "stderr",
     "output_type": "stream",
     "text": [
      "\n",
      "  0%|          | 0/6 [00:00<?, ?it/s]\u001b[A\n",
      " 17%|█▋        | 1/6 [00:06<00:31,  6.32s/it]\u001b[A\n",
      " 33%|███▎      | 2/6 [00:12<00:25,  6.30s/it]\u001b[A\n",
      " 50%|█████     | 3/6 [00:18<00:18,  6.30s/it]\u001b[A\n",
      " 67%|██████▋   | 4/6 [00:25<00:12,  6.30s/it]\u001b[A\n",
      " 83%|████████▎ | 5/6 [00:31<00:06,  6.31s/it]\u001b[A\n",
      "100%|██████████| 6/6 [00:37<00:00,  6.31s/it]\u001b[A\n"
     ]
    },
    {
     "name": "stdout",
     "output_type": "stream",
     "text": [
      "Task accuracy: 0.56\n"
     ]
    },
    {
     "name": "stderr",
     "output_type": "stream",
     "text": [
      "\n",
      "  0%|          | 0/6 [00:00<?, ?it/s]\u001b[A\n",
      " 17%|█▋        | 1/6 [00:06<00:31,  6.30s/it]\u001b[A\n",
      " 33%|███▎      | 2/6 [00:12<00:25,  6.31s/it]\u001b[A\n",
      " 50%|█████     | 3/6 [00:18<00:18,  6.30s/it]\u001b[A\n",
      " 67%|██████▋   | 4/6 [00:25<00:12,  6.31s/it]\u001b[A\n",
      " 83%|████████▎ | 5/6 [00:31<00:06,  6.31s/it]\u001b[A\n",
      "100%|██████████| 6/6 [00:37<00:00,  6.31s/it]\u001b[A\n",
      " 32%|███▏      | 16/50 [20:10<42:54, 75.72s/it]"
     ]
    },
    {
     "name": "stdout",
     "output_type": "stream",
     "text": [
      "Task accuracy: 0.54\n",
      "model.layers.19.self_attn.o_proj 30\n",
      "remove model.layers.16.self_attn.o_proj 27\n",
      "remove model.layers.18.self_attn.o_proj 20\n",
      "remove model.layers.21.self_attn.o_proj 23\n",
      "remove model.layers.15.self_attn.o_proj 18\n",
      "remove model.layers.23.self_attn.o_proj 5\n",
      "remove model.layers.23.self_attn.o_proj 20\n",
      "remove model.layers.31.self_attn.o_proj 26\n",
      "remove model.layers.31.self_attn.o_proj 25\n",
      "remove model.layers.23.self_attn.o_proj 30\n",
      "remove model.layers.28.self_attn.o_proj 16\n",
      "remove model.layers.31.self_attn.o_proj 29\n",
      "remove model.layers.21.self_attn.o_proj 19\n",
      "remove model.layers.18.self_attn.o_proj 25\n",
      "remove model.layers.25.self_attn.o_proj 19\n",
      "remove model.layers.15.self_attn.o_proj 1\n",
      "remove model.layers.24.self_attn.o_proj 8\n",
      "remove model.layers.15.self_attn.o_proj 13\n",
      "remove model.layers.21.self_attn.o_proj 3\n",
      "remove model.layers.30.self_attn.o_proj 4\n",
      "remove model.layers.18.self_attn.o_proj 8\n",
      "remove model.layers.24.self_attn.o_proj 5\n",
      "remove model.layers.29.self_attn.o_proj 7\n",
      "remove model.layers.18.self_attn.o_proj 3\n",
      "remove model.layers.23.self_attn.o_proj 15\n",
      "remove model.layers.17.self_attn.o_proj 28\n"
     ]
    },
    {
     "name": "stderr",
     "output_type": "stream",
     "text": [
      "\n",
      "  0%|          | 0/6 [00:00<?, ?it/s]\u001b[A\n",
      " 17%|█▋        | 1/6 [00:06<00:31,  6.32s/it]\u001b[A\n",
      " 33%|███▎      | 2/6 [00:12<00:25,  6.30s/it]\u001b[A\n",
      " 50%|█████     | 3/6 [00:18<00:18,  6.30s/it]\u001b[A\n",
      " 67%|██████▋   | 4/6 [00:25<00:12,  6.29s/it]\u001b[A\n",
      " 83%|████████▎ | 5/6 [00:31<00:06,  6.31s/it]\u001b[A\n",
      "100%|██████████| 6/6 [00:37<00:00,  6.31s/it]\u001b[A\n"
     ]
    },
    {
     "name": "stdout",
     "output_type": "stream",
     "text": [
      "Task accuracy: 0.37\n"
     ]
    },
    {
     "name": "stderr",
     "output_type": "stream",
     "text": [
      "\n",
      "  0%|          | 0/6 [00:00<?, ?it/s]\u001b[A\n",
      " 17%|█▋        | 1/6 [00:06<00:31,  6.30s/it]\u001b[A\n",
      " 33%|███▎      | 2/6 [00:12<00:25,  6.32s/it]\u001b[A\n",
      " 50%|█████     | 3/6 [00:18<00:18,  6.31s/it]\u001b[A\n",
      " 67%|██████▋   | 4/6 [00:25<00:12,  6.31s/it]\u001b[A\n",
      " 83%|████████▎ | 5/6 [00:31<00:06,  6.36s/it]\u001b[A\n",
      "100%|██████████| 6/6 [00:38<00:00,  6.33s/it]\u001b[A\n",
      " 34%|███▍      | 17/50 [21:26<41:40, 75.76s/it]"
     ]
    },
    {
     "name": "stdout",
     "output_type": "stream",
     "text": [
      "Task accuracy: 0.34\n",
      "model.layers.24.self_attn.o_proj 8\n"
     ]
    },
    {
     "name": "stderr",
     "output_type": "stream",
     "text": [
      "\n",
      "  0%|          | 0/6 [00:00<?, ?it/s]\u001b[A\n",
      " 17%|█▋        | 1/6 [00:06<00:31,  6.29s/it]\u001b[A\n",
      " 33%|███▎      | 2/6 [00:12<00:25,  6.30s/it]\u001b[A\n",
      " 50%|█████     | 3/6 [00:18<00:18,  6.31s/it]\u001b[A\n",
      " 67%|██████▋   | 4/6 [00:25<00:12,  6.31s/it]\u001b[A\n",
      " 83%|████████▎ | 5/6 [00:31<00:06,  6.31s/it]\u001b[A\n",
      "100%|██████████| 6/6 [00:37<00:00,  6.31s/it]\u001b[A\n"
     ]
    },
    {
     "name": "stdout",
     "output_type": "stream",
     "text": [
      "Task accuracy: 0.56\n"
     ]
    },
    {
     "name": "stderr",
     "output_type": "stream",
     "text": [
      "\n",
      "  0%|          | 0/6 [00:00<?, ?it/s]\u001b[A\n",
      " 17%|█▋        | 1/6 [00:06<00:31,  6.27s/it]\u001b[A\n",
      " 33%|███▎      | 2/6 [00:12<00:25,  6.30s/it]\u001b[A\n",
      " 50%|█████     | 3/6 [00:18<00:18,  6.28s/it]\u001b[A\n",
      " 67%|██████▋   | 4/6 [00:25<00:12,  6.29s/it]\u001b[A\n",
      " 83%|████████▎ | 5/6 [00:31<00:06,  6.30s/it]\u001b[A\n",
      "100%|██████████| 6/6 [00:37<00:00,  6.29s/it]\u001b[A\n",
      " 36%|███▌      | 18/50 [22:41<40:22, 75.71s/it]"
     ]
    },
    {
     "name": "stdout",
     "output_type": "stream",
     "text": [
      "Task accuracy: 0.57\n",
      "model.layers.18.self_attn.o_proj 28\n",
      "remove model.layers.21.self_attn.o_proj 23\n",
      "remove model.layers.23.self_attn.o_proj 5\n",
      "remove model.layers.19.self_attn.o_proj 2\n",
      "remove model.layers.31.self_attn.o_proj 26\n",
      "remove model.layers.31.self_attn.o_proj 25\n",
      "remove model.layers.21.self_attn.o_proj 26\n",
      "remove model.layers.31.self_attn.o_proj 29\n",
      "remove model.layers.16.self_attn.o_proj 27\n",
      "remove model.layers.25.self_attn.o_proj 19\n",
      "remove model.layers.15.self_attn.o_proj 1\n",
      "remove model.layers.24.self_attn.o_proj 8\n",
      "remove model.layers.21.self_attn.o_proj 3\n",
      "remove model.layers.18.self_attn.o_proj 3\n",
      "remove model.layers.21.self_attn.o_proj 4\n",
      "remove model.layers.23.self_attn.o_proj 20\n",
      "remove model.layers.15.self_attn.o_proj 2\n",
      "remove model.layers.23.self_attn.o_proj 30\n",
      "remove model.layers.23.self_attn.o_proj 19\n",
      "remove model.layers.19.self_attn.o_proj 8\n",
      "remove model.layers.21.self_attn.o_proj 19\n",
      "remove model.layers.18.self_attn.o_proj 6\n",
      "remove model.layers.19.self_attn.o_proj 25\n",
      "remove model.layers.19.self_attn.o_proj 26\n",
      "remove model.layers.18.self_attn.o_proj 25\n",
      "remove model.layers.18.self_attn.o_proj 20\n"
     ]
    },
    {
     "name": "stderr",
     "output_type": "stream",
     "text": [
      "\n",
      "  0%|          | 0/6 [00:00<?, ?it/s]\u001b[A\n",
      " 17%|█▋        | 1/6 [00:06<00:31,  6.30s/it]\u001b[A\n",
      " 33%|███▎      | 2/6 [00:12<00:25,  6.31s/it]\u001b[A\n",
      " 50%|█████     | 3/6 [00:18<00:18,  6.32s/it]\u001b[A\n",
      " 67%|██████▋   | 4/6 [00:25<00:12,  6.32s/it]\u001b[A\n",
      " 83%|████████▎ | 5/6 [00:31<00:06,  6.32s/it]\u001b[A\n",
      "100%|██████████| 6/6 [00:37<00:00,  6.31s/it]\u001b[A\n"
     ]
    },
    {
     "name": "stdout",
     "output_type": "stream",
     "text": [
      "Task accuracy: 0.43\n"
     ]
    },
    {
     "name": "stderr",
     "output_type": "stream",
     "text": [
      "\n",
      "  0%|          | 0/6 [00:00<?, ?it/s]\u001b[A\n",
      " 17%|█▋        | 1/6 [00:06<00:31,  6.31s/it]\u001b[A\n",
      " 33%|███▎      | 2/6 [00:12<00:25,  6.31s/it]\u001b[A\n",
      " 50%|█████     | 3/6 [00:18<00:18,  6.31s/it]\u001b[A\n",
      " 67%|██████▋   | 4/6 [00:25<00:12,  6.31s/it]\u001b[A\n",
      " 83%|████████▎ | 5/6 [00:31<00:06,  6.31s/it]\u001b[A\n",
      "100%|██████████| 6/6 [00:37<00:00,  6.31s/it]\u001b[A\n",
      " 38%|███▊      | 19/50 [23:57<39:07, 75.72s/it]"
     ]
    },
    {
     "name": "stdout",
     "output_type": "stream",
     "text": [
      "Task accuracy: 0.41\n",
      "model.layers.23.self_attn.o_proj 20\n",
      "remove model.layers.18.self_attn.o_proj 20\n",
      "remove model.layers.21.self_attn.o_proj 23\n",
      "remove model.layers.18.self_attn.o_proj 8\n",
      "remove model.layers.21.self_attn.o_proj 4\n",
      "remove model.layers.23.self_attn.o_proj 30\n",
      "remove model.layers.23.self_attn.o_proj 19\n",
      "remove model.layers.24.self_attn.o_proj 8\n"
     ]
    },
    {
     "name": "stderr",
     "output_type": "stream",
     "text": [
      "\n",
      "  0%|          | 0/6 [00:00<?, ?it/s]\u001b[A\n",
      " 17%|█▋        | 1/6 [00:06<00:31,  6.31s/it]\u001b[A\n",
      " 33%|███▎      | 2/6 [00:12<00:25,  6.31s/it]\u001b[A\n",
      " 50%|█████     | 3/6 [00:18<00:18,  6.30s/it]\u001b[A\n",
      " 67%|██████▋   | 4/6 [00:25<00:12,  6.30s/it]\u001b[A\n",
      " 83%|████████▎ | 5/6 [00:31<00:06,  6.30s/it]\u001b[A\n",
      "100%|██████████| 6/6 [00:37<00:00,  6.30s/it]\u001b[A\n"
     ]
    },
    {
     "name": "stdout",
     "output_type": "stream",
     "text": [
      "Task accuracy: 0.55\n"
     ]
    },
    {
     "name": "stderr",
     "output_type": "stream",
     "text": [
      "\n",
      "  0%|          | 0/6 [00:00<?, ?it/s]\u001b[A\n",
      " 17%|█▋        | 1/6 [00:06<00:31,  6.29s/it]\u001b[A\n",
      " 33%|███▎      | 2/6 [00:12<00:25,  6.29s/it]\u001b[A\n",
      " 50%|█████     | 3/6 [00:18<00:18,  6.29s/it]\u001b[A\n",
      " 67%|██████▋   | 4/6 [00:25<00:12,  6.30s/it]\u001b[A\n",
      " 83%|████████▎ | 5/6 [00:31<00:06,  6.30s/it]\u001b[A\n",
      "100%|██████████| 6/6 [00:37<00:00,  6.30s/it]\u001b[A\n",
      " 40%|████      | 20/50 [25:13<37:50, 75.69s/it]"
     ]
    },
    {
     "name": "stdout",
     "output_type": "stream",
     "text": [
      "Task accuracy: 0.5\n",
      "model.layers.19.self_attn.o_proj 2\n",
      "remove model.layers.15.self_attn.o_proj 13\n",
      "remove model.layers.17.self_attn.o_proj 27\n",
      "remove model.layers.21.self_attn.o_proj 3\n",
      "remove model.layers.30.self_attn.o_proj 4\n",
      "remove model.layers.18.self_attn.o_proj 8\n",
      "remove model.layers.24.self_attn.o_proj 5\n",
      "remove model.layers.29.self_attn.o_proj 7\n",
      "remove model.layers.18.self_attn.o_proj 3\n",
      "remove model.layers.23.self_attn.o_proj 15\n",
      "remove model.layers.21.self_attn.o_proj 4\n",
      "remove model.layers.23.self_attn.o_proj 5\n",
      "remove model.layers.18.self_attn.o_proj 28\n",
      "remove model.layers.15.self_attn.o_proj 6\n",
      "remove model.layers.31.self_attn.o_proj 26\n",
      "remove model.layers.21.self_attn.o_proj 25\n",
      "remove model.layers.17.self_attn.o_proj 3\n",
      "remove model.layers.23.self_attn.o_proj 30\n",
      "remove model.layers.23.self_attn.o_proj 17\n",
      "remove model.layers.14.self_attn.o_proj 11\n",
      "remove model.layers.21.self_attn.o_proj 26\n",
      "remove model.layers.31.self_attn.o_proj 29\n",
      "remove model.layers.16.self_attn.o_proj 27\n",
      "remove model.layers.18.self_attn.o_proj 6\n",
      "remove model.layers.15.self_attn.o_proj 12\n",
      "remove model.layers.19.self_attn.o_proj 26\n"
     ]
    },
    {
     "name": "stderr",
     "output_type": "stream",
     "text": [
      "\n",
      "  0%|          | 0/6 [00:00<?, ?it/s]\u001b[A\n",
      " 17%|█▋        | 1/6 [00:06<00:31,  6.31s/it]\u001b[A\n",
      " 33%|███▎      | 2/6 [00:12<00:25,  6.33s/it]\u001b[A\n",
      " 50%|█████     | 3/6 [00:18<00:19,  6.33s/it]\u001b[A\n",
      " 67%|██████▋   | 4/6 [00:25<00:12,  6.33s/it]\u001b[A\n",
      " 83%|████████▎ | 5/6 [00:31<00:06,  6.32s/it]\u001b[A\n",
      "100%|██████████| 6/6 [00:37<00:00,  6.32s/it]\u001b[A\n"
     ]
    },
    {
     "name": "stdout",
     "output_type": "stream",
     "text": [
      "Task accuracy: 0.27\n"
     ]
    },
    {
     "name": "stderr",
     "output_type": "stream",
     "text": [
      "\n",
      "  0%|          | 0/6 [00:00<?, ?it/s]\u001b[A\n",
      " 17%|█▋        | 1/6 [00:06<00:31,  6.32s/it]\u001b[A\n",
      " 33%|███▎      | 2/6 [00:12<00:25,  6.29s/it]\u001b[A\n",
      " 50%|█████     | 3/6 [00:18<00:18,  6.29s/it]\u001b[A\n",
      " 67%|██████▋   | 4/6 [00:25<00:12,  6.30s/it]\u001b[A\n",
      " 83%|████████▎ | 5/6 [00:31<00:06,  6.30s/it]\u001b[A\n",
      "100%|██████████| 6/6 [00:37<00:00,  6.31s/it]\u001b[A\n",
      " 42%|████▏     | 21/50 [26:29<36:35, 75.72s/it]"
     ]
    },
    {
     "name": "stdout",
     "output_type": "stream",
     "text": [
      "Task accuracy: 0.26\n",
      "model.layers.15.self_attn.o_proj 6\n",
      "remove model.layers.23.self_attn.o_proj 5\n",
      "remove model.layers.19.self_attn.o_proj 2\n",
      "remove model.layers.31.self_attn.o_proj 25\n",
      "remove model.layers.31.self_attn.o_proj 29\n",
      "remove model.layers.25.self_attn.o_proj 19\n",
      "remove model.layers.24.self_attn.o_proj 8\n",
      "remove model.layers.21.self_attn.o_proj 23\n",
      "remove model.layers.18.self_attn.o_proj 3\n",
      "remove model.layers.17.self_attn.o_proj 27\n",
      "remove model.layers.28.self_attn.o_proj 17\n",
      "remove model.layers.31.self_attn.o_proj 26\n",
      "remove model.layers.18.self_attn.o_proj 20\n",
      "remove model.layers.23.self_attn.o_proj 30\n",
      "remove model.layers.23.self_attn.o_proj 19\n",
      "remove model.layers.21.self_attn.o_proj 26\n",
      "remove model.layers.19.self_attn.o_proj 8\n",
      "remove model.layers.16.self_attn.o_proj 27\n",
      "remove model.layers.18.self_attn.o_proj 6\n",
      "remove model.layers.15.self_attn.o_proj 12\n",
      "remove model.layers.19.self_attn.o_proj 26\n",
      "remove model.layers.22.self_attn.o_proj 5\n",
      "remove model.layers.15.self_attn.o_proj 1\n"
     ]
    },
    {
     "name": "stderr",
     "output_type": "stream",
     "text": [
      "\n",
      "  0%|          | 0/6 [00:00<?, ?it/s]\u001b[A\n",
      " 17%|█▋        | 1/6 [00:06<00:31,  6.29s/it]\u001b[A\n",
      " 33%|███▎      | 2/6 [00:12<00:25,  6.30s/it]\u001b[A\n",
      " 50%|█████     | 3/6 [00:18<00:18,  6.30s/it]\u001b[A\n",
      " 67%|██████▋   | 4/6 [00:25<00:12,  6.29s/it]\u001b[A\n",
      " 83%|████████▎ | 5/6 [00:31<00:06,  6.30s/it]\u001b[A\n",
      "100%|██████████| 6/6 [00:37<00:00,  6.30s/it]\u001b[A\n"
     ]
    },
    {
     "name": "stdout",
     "output_type": "stream",
     "text": [
      "Task accuracy: 0.49\n"
     ]
    },
    {
     "name": "stderr",
     "output_type": "stream",
     "text": [
      "\n",
      "  0%|          | 0/6 [00:00<?, ?it/s]\u001b[A\n",
      " 17%|█▋        | 1/6 [00:06<00:31,  6.31s/it]\u001b[A\n",
      " 33%|███▎      | 2/6 [00:12<00:25,  6.30s/it]\u001b[A\n",
      " 50%|█████     | 3/6 [00:18<00:18,  6.29s/it]\u001b[A\n",
      " 67%|██████▋   | 4/6 [00:25<00:12,  6.30s/it]\u001b[A\n",
      " 83%|████████▎ | 5/6 [00:31<00:06,  6.30s/it]\u001b[A\n",
      "100%|██████████| 6/6 [00:37<00:00,  6.30s/it]\u001b[A\n",
      " 44%|████▍     | 22/50 [27:44<35:19, 75.68s/it]"
     ]
    },
    {
     "name": "stdout",
     "output_type": "stream",
     "text": [
      "Task accuracy: 0.45\n",
      "model.layers.31.self_attn.o_proj 26\n",
      "remove model.layers.18.self_attn.o_proj 20\n",
      "remove model.layers.21.self_attn.o_proj 23\n"
     ]
    },
    {
     "name": "stderr",
     "output_type": "stream",
     "text": [
      "\n",
      "  0%|          | 0/6 [00:00<?, ?it/s]\u001b[A\n",
      " 17%|█▋        | 1/6 [00:06<00:31,  6.29s/it]\u001b[A\n",
      " 33%|███▎      | 2/6 [00:12<00:25,  6.28s/it]\u001b[A\n",
      " 50%|█████     | 3/6 [00:18<00:18,  6.28s/it]\u001b[A\n",
      " 67%|██████▋   | 4/6 [00:25<00:12,  6.28s/it]\u001b[A\n",
      " 83%|████████▎ | 5/6 [00:31<00:06,  6.28s/it]\u001b[A\n",
      "100%|██████████| 6/6 [00:37<00:00,  6.28s/it]\u001b[A\n"
     ]
    },
    {
     "name": "stdout",
     "output_type": "stream",
     "text": [
      "Task accuracy: 0.57\n"
     ]
    },
    {
     "name": "stderr",
     "output_type": "stream",
     "text": [
      "\n",
      "  0%|          | 0/6 [00:00<?, ?it/s]\u001b[A\n",
      " 17%|█▋        | 1/6 [00:06<00:31,  6.30s/it]\u001b[A\n",
      " 33%|███▎      | 2/6 [00:12<00:25,  6.37s/it]\u001b[A\n",
      " 50%|█████     | 3/6 [00:19<00:19,  6.34s/it]\u001b[A\n",
      " 67%|██████▋   | 4/6 [00:25<00:12,  6.32s/it]\u001b[A\n",
      " 83%|████████▎ | 5/6 [00:31<00:06,  6.30s/it]\u001b[A\n",
      "100%|██████████| 6/6 [00:37<00:00,  6.30s/it]\u001b[A\n",
      " 46%|████▌     | 23/50 [29:00<34:02, 75.64s/it]"
     ]
    },
    {
     "name": "stdout",
     "output_type": "stream",
     "text": [
      "Task accuracy: 0.57\n",
      "model.layers.21.self_attn.o_proj 25\n",
      "remove model.layers.21.self_attn.o_proj 4\n",
      "remove model.layers.23.self_attn.o_proj 30\n",
      "remove model.layers.16.self_attn.o_proj 27\n",
      "remove model.layers.24.self_attn.o_proj 8\n",
      "remove model.layers.18.self_attn.o_proj 20\n",
      "remove model.layers.21.self_attn.o_proj 23\n",
      "remove model.layers.15.self_attn.o_proj 13\n",
      "remove model.layers.21.self_attn.o_proj 3\n",
      "remove model.layers.30.self_attn.o_proj 4\n",
      "remove model.layers.18.self_attn.o_proj 8\n",
      "remove model.layers.23.self_attn.o_proj 15\n",
      "remove model.layers.15.self_attn.o_proj 5\n",
      "remove model.layers.23.self_attn.o_proj 5\n",
      "remove model.layers.19.self_attn.o_proj 2\n",
      "remove model.layers.31.self_attn.o_proj 26\n",
      "remove model.layers.31.self_attn.o_proj 25\n",
      "remove model.layers.28.self_attn.o_proj 16\n",
      "remove model.layers.23.self_attn.o_proj 19\n",
      "remove model.layers.21.self_attn.o_proj 26\n",
      "remove model.layers.31.self_attn.o_proj 29\n",
      "remove model.layers.18.self_attn.o_proj 6\n",
      "remove model.layers.19.self_attn.o_proj 11\n",
      "remove model.layers.25.self_attn.o_proj 19\n",
      "remove model.layers.15.self_attn.o_proj 1\n"
     ]
    },
    {
     "name": "stderr",
     "output_type": "stream",
     "text": [
      "\n",
      "  0%|          | 0/6 [00:00<?, ?it/s]\u001b[A\n",
      " 17%|█▋        | 1/6 [00:06<00:31,  6.27s/it]\u001b[A\n",
      " 33%|███▎      | 2/6 [00:12<00:25,  6.30s/it]\u001b[A\n",
      " 50%|█████     | 3/6 [00:18<00:18,  6.30s/it]\u001b[A\n",
      " 67%|██████▋   | 4/6 [00:25<00:12,  6.30s/it]\u001b[A\n",
      " 83%|████████▎ | 5/6 [00:31<00:06,  6.29s/it]\u001b[A\n",
      "100%|██████████| 6/6 [00:37<00:00,  6.29s/it]\u001b[A\n"
     ]
    },
    {
     "name": "stdout",
     "output_type": "stream",
     "text": [
      "Task accuracy: 0.46\n"
     ]
    },
    {
     "name": "stderr",
     "output_type": "stream",
     "text": [
      "\n",
      "  0%|          | 0/6 [00:00<?, ?it/s]\u001b[A\n",
      " 17%|█▋        | 1/6 [00:06<00:31,  6.31s/it]\u001b[A\n",
      " 33%|███▎      | 2/6 [00:12<00:25,  6.31s/it]\u001b[A\n",
      " 50%|█████     | 3/6 [00:18<00:18,  6.31s/it]\u001b[A\n",
      " 67%|██████▋   | 4/6 [00:25<00:12,  6.31s/it]\u001b[A\n",
      " 83%|████████▎ | 5/6 [00:31<00:06,  6.31s/it]\u001b[A\n",
      "100%|██████████| 6/6 [00:37<00:00,  6.31s/it]\u001b[A\n",
      " 48%|████▊     | 24/50 [30:15<32:46, 75.64s/it]"
     ]
    },
    {
     "name": "stdout",
     "output_type": "stream",
     "text": [
      "Task accuracy: 0.42\n",
      "model.layers.15.self_attn.o_proj 2\n",
      "remove model.layers.16.self_attn.o_proj 27\n",
      "remove model.layers.18.self_attn.o_proj 20\n",
      "remove model.layers.23.self_attn.o_proj 15\n",
      "remove model.layers.23.self_attn.o_proj 5\n",
      "remove model.layers.17.self_attn.o_proj 27\n",
      "remove model.layers.31.self_attn.o_proj 26\n",
      "remove model.layers.21.self_attn.o_proj 26\n",
      "remove model.layers.31.self_attn.o_proj 29\n",
      "remove model.layers.19.self_attn.o_proj 8\n",
      "remove model.layers.25.self_attn.o_proj 19\n",
      "remove model.layers.15.self_attn.o_proj 1\n",
      "remove model.layers.24.self_attn.o_proj 8\n",
      "remove model.layers.21.self_attn.o_proj 23\n",
      "remove model.layers.15.self_attn.o_proj 13\n",
      "remove model.layers.21.self_attn.o_proj 3\n",
      "remove model.layers.30.self_attn.o_proj 4\n",
      "remove model.layers.24.self_attn.o_proj 5\n",
      "remove model.layers.29.self_attn.o_proj 7\n",
      "remove model.layers.18.self_attn.o_proj 3\n",
      "remove model.layers.20.self_attn.o_proj 14\n",
      "remove model.layers.21.self_attn.o_proj 4\n",
      "remove model.layers.15.self_attn.o_proj 5\n",
      "remove model.layers.28.self_attn.o_proj 17\n",
      "remove model.layers.18.self_attn.o_proj 28\n",
      "remove model.layers.23.self_attn.o_proj 20\n"
     ]
    },
    {
     "name": "stderr",
     "output_type": "stream",
     "text": [
      "\n",
      "  0%|          | 0/6 [00:00<?, ?it/s]\u001b[A\n",
      " 17%|█▋        | 1/6 [00:06<00:31,  6.31s/it]\u001b[A\n",
      " 33%|███▎      | 2/6 [00:12<00:25,  6.30s/it]\u001b[A\n",
      " 50%|█████     | 3/6 [00:18<00:18,  6.30s/it]\u001b[A\n",
      " 67%|██████▋   | 4/6 [00:25<00:12,  6.30s/it]\u001b[A\n",
      " 83%|████████▎ | 5/6 [00:31<00:06,  6.32s/it]\u001b[A\n",
      "100%|██████████| 6/6 [00:37<00:00,  6.31s/it]\u001b[A\n"
     ]
    },
    {
     "name": "stdout",
     "output_type": "stream",
     "text": [
      "Task accuracy: 0.32\n"
     ]
    },
    {
     "name": "stderr",
     "output_type": "stream",
     "text": [
      "\n",
      "  0%|          | 0/6 [00:00<?, ?it/s]\u001b[A\n",
      " 17%|█▋        | 1/6 [00:06<00:31,  6.33s/it]\u001b[A\n",
      " 33%|███▎      | 2/6 [00:12<00:25,  6.31s/it]\u001b[A\n",
      " 50%|█████     | 3/6 [00:18<00:18,  6.30s/it]\u001b[A\n",
      " 67%|██████▋   | 4/6 [00:25<00:12,  6.29s/it]\u001b[A\n",
      " 83%|████████▎ | 5/6 [00:31<00:06,  6.29s/it]\u001b[A\n",
      "100%|██████████| 6/6 [00:37<00:00,  6.30s/it]\u001b[A\n",
      " 50%|█████     | 25/50 [31:31<31:30, 75.64s/it]"
     ]
    },
    {
     "name": "stdout",
     "output_type": "stream",
     "text": [
      "Task accuracy: 0.31\n",
      "model.layers.17.self_attn.o_proj 3\n",
      "remove model.layers.15.self_attn.o_proj 13\n",
      "remove model.layers.23.self_attn.o_proj 15\n",
      "remove model.layers.17.self_attn.o_proj 27\n",
      "remove model.layers.23.self_attn.o_proj 20\n",
      "remove model.layers.19.self_attn.o_proj 2\n",
      "remove model.layers.31.self_attn.o_proj 26\n",
      "remove model.layers.31.self_attn.o_proj 25\n",
      "remove model.layers.23.self_attn.o_proj 19\n",
      "remove model.layers.21.self_attn.o_proj 26\n",
      "remove model.layers.31.self_attn.o_proj 29\n",
      "remove model.layers.18.self_attn.o_proj 6\n",
      "remove model.layers.25.self_attn.o_proj 19\n",
      "remove model.layers.15.self_attn.o_proj 1\n",
      "remove model.layers.24.self_attn.o_proj 8\n",
      "remove model.layers.21.self_attn.o_proj 23\n"
     ]
    },
    {
     "name": "stderr",
     "output_type": "stream",
     "text": [
      "\n",
      "  0%|          | 0/6 [00:00<?, ?it/s]\u001b[A\n",
      " 17%|█▋        | 1/6 [00:06<00:31,  6.30s/it]\u001b[A\n",
      " 33%|███▎      | 2/6 [00:12<00:25,  6.30s/it]\u001b[A\n",
      " 50%|█████     | 3/6 [00:18<00:18,  6.31s/it]\u001b[A\n",
      " 67%|██████▋   | 4/6 [00:25<00:12,  6.31s/it]\u001b[A\n",
      " 83%|████████▎ | 5/6 [00:31<00:06,  6.30s/it]\u001b[A\n",
      "100%|██████████| 6/6 [00:37<00:00,  6.30s/it]\u001b[A\n"
     ]
    },
    {
     "name": "stdout",
     "output_type": "stream",
     "text": [
      "Task accuracy: 0.46\n"
     ]
    },
    {
     "name": "stderr",
     "output_type": "stream",
     "text": [
      "\n",
      "  0%|          | 0/6 [00:00<?, ?it/s]\u001b[A\n",
      " 17%|█▋        | 1/6 [00:06<00:31,  6.31s/it]\u001b[A\n",
      " 33%|███▎      | 2/6 [00:12<00:25,  6.30s/it]\u001b[A\n",
      " 50%|█████     | 3/6 [00:18<00:18,  6.29s/it]\u001b[A\n",
      " 67%|██████▋   | 4/6 [00:25<00:12,  6.29s/it]\u001b[A\n",
      " 83%|████████▎ | 5/6 [00:31<00:06,  6.29s/it]\u001b[A\n",
      "100%|██████████| 6/6 [00:37<00:00,  6.29s/it]\u001b[A\n",
      " 52%|█████▏    | 26/50 [32:47<30:14, 75.61s/it]"
     ]
    },
    {
     "name": "stdout",
     "output_type": "stream",
     "text": [
      "Task accuracy: 0.46\n",
      "model.layers.31.self_attn.o_proj 25\n",
      "remove model.layers.15.self_attn.o_proj 13\n",
      "remove model.layers.23.self_attn.o_proj 5\n",
      "remove model.layers.18.self_attn.o_proj 20\n",
      "remove model.layers.21.self_attn.o_proj 23\n"
     ]
    },
    {
     "name": "stderr",
     "output_type": "stream",
     "text": [
      "\n",
      "  0%|          | 0/6 [00:00<?, ?it/s]\u001b[A\n",
      " 17%|█▋        | 1/6 [00:06<00:31,  6.29s/it]\u001b[A\n",
      " 33%|███▎      | 2/6 [00:12<00:25,  6.30s/it]\u001b[A\n",
      " 50%|█████     | 3/6 [00:18<00:18,  6.29s/it]\u001b[A\n",
      " 67%|██████▋   | 4/6 [00:25<00:12,  6.29s/it]\u001b[A\n",
      " 83%|████████▎ | 5/6 [00:31<00:06,  6.29s/it]\u001b[A\n",
      "100%|██████████| 6/6 [00:37<00:00,  6.29s/it]\u001b[A\n"
     ]
    },
    {
     "name": "stdout",
     "output_type": "stream",
     "text": [
      "Task accuracy: 0.52\n"
     ]
    },
    {
     "name": "stderr",
     "output_type": "stream",
     "text": [
      "\n",
      "  0%|          | 0/6 [00:00<?, ?it/s]\u001b[A\n",
      " 17%|█▋        | 1/6 [00:06<00:31,  6.28s/it]\u001b[A\n",
      " 33%|███▎      | 2/6 [00:12<00:25,  6.27s/it]\u001b[A\n",
      " 50%|█████     | 3/6 [00:18<00:18,  6.28s/it]\u001b[A\n",
      " 67%|██████▋   | 4/6 [00:25<00:12,  6.29s/it]\u001b[A\n",
      " 83%|████████▎ | 5/6 [00:31<00:06,  6.28s/it]\u001b[A\n",
      "100%|██████████| 6/6 [00:37<00:00,  6.28s/it]\u001b[A\n",
      " 54%|█████▍    | 27/50 [34:02<28:57, 75.56s/it]"
     ]
    },
    {
     "name": "stdout",
     "output_type": "stream",
     "text": [
      "Task accuracy: 0.53\n",
      "model.layers.18.self_attn.o_proj 20\n"
     ]
    },
    {
     "name": "stderr",
     "output_type": "stream",
     "text": [
      "\n",
      "  0%|          | 0/6 [00:00<?, ?it/s]\u001b[A\n",
      " 17%|█▋        | 1/6 [00:06<00:31,  6.28s/it]\u001b[A\n",
      " 33%|███▎      | 2/6 [00:12<00:25,  6.27s/it]\u001b[A\n",
      " 50%|█████     | 3/6 [00:18<00:18,  6.28s/it]\u001b[A\n",
      " 67%|██████▋   | 4/6 [00:25<00:12,  6.29s/it]\u001b[A\n",
      " 83%|████████▎ | 5/6 [00:31<00:06,  6.29s/it]\u001b[A\n",
      "100%|██████████| 6/6 [00:37<00:00,  6.29s/it]\u001b[A\n"
     ]
    },
    {
     "name": "stdout",
     "output_type": "stream",
     "text": [
      "Task accuracy: 0.56\n"
     ]
    },
    {
     "name": "stderr",
     "output_type": "stream",
     "text": [
      "\n",
      "  0%|          | 0/6 [00:00<?, ?it/s]\u001b[A\n",
      " 17%|█▋        | 1/6 [00:06<00:31,  6.30s/it]\u001b[A\n",
      " 33%|███▎      | 2/6 [00:12<00:25,  6.29s/it]\u001b[A\n",
      " 50%|█████     | 3/6 [00:18<00:18,  6.29s/it]\u001b[A\n",
      " 67%|██████▋   | 4/6 [00:25<00:12,  6.29s/it]\u001b[A\n",
      " 83%|████████▎ | 5/6 [00:31<00:06,  6.29s/it]\u001b[A\n",
      "100%|██████████| 6/6 [00:37<00:00,  6.29s/it]\u001b[A\n",
      " 56%|█████▌    | 28/50 [35:17<27:41, 75.53s/it]"
     ]
    },
    {
     "name": "stdout",
     "output_type": "stream",
     "text": [
      "Task accuracy: 0.58\n",
      "model.layers.23.self_attn.o_proj 30\n",
      "remove model.layers.29.self_attn.o_proj 7\n",
      "remove model.layers.23.self_attn.o_proj 20\n",
      "remove model.layers.21.self_attn.o_proj 25\n"
     ]
    },
    {
     "name": "stderr",
     "output_type": "stream",
     "text": [
      "\n",
      "  0%|          | 0/6 [00:00<?, ?it/s]\u001b[A\n",
      " 17%|█▋        | 1/6 [00:06<00:31,  6.29s/it]\u001b[A\n",
      " 33%|███▎      | 2/6 [00:12<00:25,  6.28s/it]\u001b[A\n",
      " 50%|█████     | 3/6 [00:18<00:18,  6.28s/it]\u001b[A\n",
      " 67%|██████▋   | 4/6 [00:25<00:12,  6.29s/it]\u001b[A\n",
      " 83%|████████▎ | 5/6 [00:31<00:06,  6.34s/it]\u001b[A\n",
      "100%|██████████| 6/6 [00:37<00:00,  6.31s/it]\u001b[A\n"
     ]
    },
    {
     "name": "stdout",
     "output_type": "stream",
     "text": [
      "Task accuracy: 0.55\n"
     ]
    },
    {
     "name": "stderr",
     "output_type": "stream",
     "text": [
      "\n",
      "  0%|          | 0/6 [00:00<?, ?it/s]\u001b[A\n",
      " 17%|█▋        | 1/6 [00:06<00:31,  6.31s/it]\u001b[A\n",
      " 33%|███▎      | 2/6 [00:12<00:25,  6.30s/it]\u001b[A\n",
      " 50%|█████     | 3/6 [00:18<00:18,  6.29s/it]\u001b[A\n",
      " 67%|██████▋   | 4/6 [00:25<00:12,  6.29s/it]\u001b[A\n",
      " 83%|████████▎ | 5/6 [00:31<00:06,  6.29s/it]\u001b[A\n",
      "100%|██████████| 6/6 [00:37<00:00,  6.29s/it]\u001b[A\n",
      " 58%|█████▊    | 29/50 [36:33<26:26, 75.55s/it]"
     ]
    },
    {
     "name": "stdout",
     "output_type": "stream",
     "text": [
      "Task accuracy: 0.54\n",
      "model.layers.23.self_attn.o_proj 17\n",
      "remove model.layers.18.self_attn.o_proj 20\n",
      "remove model.layers.18.self_attn.o_proj 8\n",
      "remove model.layers.23.self_attn.o_proj 19\n",
      "remove model.layers.24.self_attn.o_proj 8\n"
     ]
    },
    {
     "name": "stderr",
     "output_type": "stream",
     "text": [
      "\n",
      "  0%|          | 0/6 [00:00<?, ?it/s]\u001b[A\n",
      " 17%|█▋        | 1/6 [00:06<00:31,  6.26s/it]\u001b[A\n",
      " 33%|███▎      | 2/6 [00:12<00:25,  6.27s/it]\u001b[A\n",
      " 50%|█████     | 3/6 [00:18<00:18,  6.27s/it]\u001b[A\n",
      " 67%|██████▋   | 4/6 [00:25<00:12,  6.27s/it]\u001b[A\n",
      " 83%|████████▎ | 5/6 [00:31<00:06,  6.27s/it]\u001b[A\n",
      "100%|██████████| 6/6 [00:37<00:00,  6.27s/it]\u001b[A\n"
     ]
    },
    {
     "name": "stdout",
     "output_type": "stream",
     "text": [
      "Task accuracy: 0.56\n"
     ]
    },
    {
     "name": "stderr",
     "output_type": "stream",
     "text": [
      "\n",
      "  0%|          | 0/6 [00:00<?, ?it/s]\u001b[A\n",
      " 17%|█▋        | 1/6 [00:06<00:31,  6.24s/it]\u001b[A\n",
      " 33%|███▎      | 2/6 [00:12<00:25,  6.26s/it]\u001b[A\n",
      " 50%|█████     | 3/6 [00:18<00:18,  6.26s/it]\u001b[A\n",
      " 67%|██████▋   | 4/6 [00:25<00:12,  6.27s/it]\u001b[A\n",
      " 83%|████████▎ | 5/6 [00:31<00:06,  6.27s/it]\u001b[A\n",
      "100%|██████████| 6/6 [00:37<00:00,  6.27s/it]\u001b[A\n",
      " 60%|██████    | 30/50 [37:48<25:09, 75.46s/it]"
     ]
    },
    {
     "name": "stdout",
     "output_type": "stream",
     "text": [
      "Task accuracy: 0.54\n",
      "model.layers.21.self_attn.o_proj 0\n",
      "remove model.layers.19.self_attn.o_proj 8\n",
      "remove model.layers.15.self_attn.o_proj 13\n",
      "remove model.layers.21.self_attn.o_proj 3\n",
      "remove model.layers.29.self_attn.o_proj 7\n",
      "remove model.layers.23.self_attn.o_proj 5\n",
      "remove model.layers.23.self_attn.o_proj 20\n",
      "remove model.layers.31.self_attn.o_proj 26\n",
      "remove model.layers.31.self_attn.o_proj 25\n",
      "remove model.layers.23.self_attn.o_proj 30\n",
      "remove model.layers.31.self_attn.o_proj 29\n",
      "remove model.layers.16.self_attn.o_proj 27\n",
      "remove model.layers.18.self_attn.o_proj 6\n",
      "remove model.layers.19.self_attn.o_proj 11\n",
      "remove model.layers.25.self_attn.o_proj 19\n",
      "remove model.layers.15.self_attn.o_proj 1\n",
      "remove model.layers.24.self_attn.o_proj 8\n",
      "remove model.layers.21.self_attn.o_proj 23\n"
     ]
    },
    {
     "name": "stderr",
     "output_type": "stream",
     "text": [
      "\n",
      "  0%|          | 0/6 [00:00<?, ?it/s]\u001b[A\n",
      " 17%|█▋        | 1/6 [00:06<00:31,  6.28s/it]\u001b[A\n",
      " 33%|███▎      | 2/6 [00:12<00:25,  6.28s/it]\u001b[A\n",
      " 50%|█████     | 3/6 [00:18<00:18,  6.28s/it]\u001b[A\n",
      " 67%|██████▋   | 4/6 [00:25<00:12,  6.28s/it]\u001b[A\n",
      " 83%|████████▎ | 5/6 [00:31<00:06,  6.28s/it]\u001b[A\n",
      "100%|██████████| 6/6 [00:37<00:00,  6.28s/it]\u001b[A\n"
     ]
    },
    {
     "name": "stdout",
     "output_type": "stream",
     "text": [
      "Task accuracy: 0.49\n"
     ]
    },
    {
     "name": "stderr",
     "output_type": "stream",
     "text": [
      "\n",
      "  0%|          | 0/6 [00:00<?, ?it/s]\u001b[A\n",
      " 17%|█▋        | 1/6 [00:06<00:31,  6.29s/it]\u001b[A\n",
      " 33%|███▎      | 2/6 [00:12<00:25,  6.28s/it]\u001b[A\n",
      " 50%|█████     | 3/6 [00:18<00:18,  6.27s/it]\u001b[A\n",
      " 67%|██████▋   | 4/6 [00:25<00:12,  6.27s/it]\u001b[A\n",
      " 83%|████████▎ | 5/6 [00:31<00:06,  6.28s/it]\u001b[A\n",
      "100%|██████████| 6/6 [00:37<00:00,  6.28s/it]\u001b[A\n",
      " 62%|██████▏   | 31/50 [39:04<23:53, 75.43s/it]"
     ]
    },
    {
     "name": "stdout",
     "output_type": "stream",
     "text": [
      "Task accuracy: 0.47\n",
      "model.layers.28.self_attn.o_proj 16\n",
      "remove model.layers.15.self_attn.o_proj 13\n",
      "remove model.layers.21.self_attn.o_proj 3\n",
      "remove model.layers.21.self_attn.o_proj 4\n",
      "remove model.layers.23.self_attn.o_proj 5\n",
      "remove model.layers.19.self_attn.o_proj 30\n",
      "remove model.layers.23.self_attn.o_proj 20\n",
      "remove model.layers.31.self_attn.o_proj 26\n",
      "remove model.layers.21.self_attn.o_proj 25\n",
      "remove model.layers.31.self_attn.o_proj 25\n",
      "remove model.layers.18.self_attn.o_proj 20\n",
      "remove model.layers.21.self_attn.o_proj 26\n",
      "remove model.layers.31.self_attn.o_proj 29\n",
      "remove model.layers.16.self_attn.o_proj 27\n",
      "remove model.layers.25.self_attn.o_proj 19\n",
      "remove model.layers.15.self_attn.o_proj 1\n",
      "remove model.layers.24.self_attn.o_proj 8\n"
     ]
    },
    {
     "name": "stderr",
     "output_type": "stream",
     "text": [
      "\n",
      "  0%|          | 0/6 [00:00<?, ?it/s]\u001b[A\n",
      " 17%|█▋        | 1/6 [00:06<00:31,  6.29s/it]\u001b[A\n",
      " 33%|███▎      | 2/6 [00:12<00:25,  6.29s/it]\u001b[A\n",
      " 50%|█████     | 3/6 [00:18<00:18,  6.28s/it]\u001b[A\n",
      " 67%|██████▋   | 4/6 [00:25<00:12,  6.28s/it]\u001b[A\n",
      " 83%|████████▎ | 5/6 [00:31<00:06,  6.28s/it]\u001b[A\n",
      "100%|██████████| 6/6 [00:37<00:00,  6.28s/it]\u001b[A\n"
     ]
    },
    {
     "name": "stdout",
     "output_type": "stream",
     "text": [
      "Task accuracy: 0.48\n"
     ]
    },
    {
     "name": "stderr",
     "output_type": "stream",
     "text": [
      "\n",
      "  0%|          | 0/6 [00:00<?, ?it/s]\u001b[A\n",
      " 17%|█▋        | 1/6 [00:06<00:31,  6.29s/it]\u001b[A\n",
      " 33%|███▎      | 2/6 [00:12<00:25,  6.28s/it]\u001b[A\n",
      " 50%|█████     | 3/6 [00:18<00:18,  6.28s/it]\u001b[A\n",
      " 67%|██████▋   | 4/6 [00:25<00:12,  6.28s/it]\u001b[A\n",
      " 83%|████████▎ | 5/6 [00:31<00:06,  6.28s/it]\u001b[A\n",
      "100%|██████████| 6/6 [00:37<00:00,  6.28s/it]\u001b[A\n",
      " 64%|██████▍   | 32/50 [40:19<22:37, 75.41s/it]"
     ]
    },
    {
     "name": "stdout",
     "output_type": "stream",
     "text": [
      "Task accuracy: 0.48\n",
      "model.layers.23.self_attn.o_proj 19\n",
      "remove model.layers.18.self_attn.o_proj 20\n",
      "remove model.layers.21.self_attn.o_proj 23\n",
      "remove model.layers.23.self_attn.o_proj 15\n",
      "remove model.layers.17.self_attn.o_proj 27\n",
      "remove model.layers.23.self_attn.o_proj 20\n",
      "remove model.layers.23.self_attn.o_proj 17\n",
      "remove model.layers.21.self_attn.o_proj 3\n",
      "remove model.layers.15.self_attn.o_proj 18\n",
      "remove model.layers.18.self_attn.o_proj 8\n",
      "remove model.layers.21.self_attn.o_proj 4\n",
      "remove model.layers.31.self_attn.o_proj 26\n",
      "remove model.layers.21.self_attn.o_proj 25\n",
      "remove model.layers.17.self_attn.o_proj 3\n",
      "remove model.layers.31.self_attn.o_proj 25\n",
      "remove model.layers.14.self_attn.o_proj 11\n",
      "remove model.layers.21.self_attn.o_proj 26\n",
      "remove model.layers.31.self_attn.o_proj 29\n",
      "remove model.layers.19.self_attn.o_proj 8\n",
      "remove model.layers.16.self_attn.o_proj 27\n",
      "remove model.layers.21.self_attn.o_proj 19\n",
      "remove model.layers.25.self_attn.o_proj 19\n",
      "remove model.layers.24.self_attn.o_proj 8\n"
     ]
    },
    {
     "name": "stderr",
     "output_type": "stream",
     "text": [
      "\n",
      "  0%|          | 0/6 [00:00<?, ?it/s]\u001b[A\n",
      " 17%|█▋        | 1/6 [00:06<00:31,  6.28s/it]\u001b[A\n",
      " 33%|███▎      | 2/6 [00:12<00:25,  6.28s/it]\u001b[A\n",
      " 50%|█████     | 3/6 [00:18<00:18,  6.28s/it]\u001b[A\n",
      " 67%|██████▋   | 4/6 [00:25<00:12,  6.28s/it]\u001b[A\n",
      " 83%|████████▎ | 5/6 [00:31<00:06,  6.28s/it]\u001b[A\n",
      "100%|██████████| 6/6 [00:37<00:00,  6.28s/it]\u001b[A\n"
     ]
    },
    {
     "name": "stdout",
     "output_type": "stream",
     "text": [
      "Task accuracy: 0.41\n"
     ]
    },
    {
     "name": "stderr",
     "output_type": "stream",
     "text": [
      "\n",
      "  0%|          | 0/6 [00:00<?, ?it/s]\u001b[A\n",
      " 17%|█▋        | 1/6 [00:06<00:31,  6.30s/it]\u001b[A\n",
      " 33%|███▎      | 2/6 [00:12<00:25,  6.31s/it]\u001b[A\n",
      " 50%|█████     | 3/6 [00:18<00:18,  6.30s/it]\u001b[A\n",
      " 67%|██████▋   | 4/6 [00:25<00:12,  6.29s/it]\u001b[A\n",
      " 83%|████████▎ | 5/6 [00:31<00:06,  6.28s/it]\u001b[A\n",
      "100%|██████████| 6/6 [00:37<00:00,  6.29s/it]\u001b[A\n",
      " 66%|██████▌   | 33/50 [41:34<21:21, 75.40s/it]"
     ]
    },
    {
     "name": "stdout",
     "output_type": "stream",
     "text": [
      "Task accuracy: 0.35\n",
      "model.layers.14.self_attn.o_proj 11\n",
      "remove model.layers.23.self_attn.o_proj 5\n",
      "remove model.layers.15.self_attn.o_proj 18\n",
      "remove model.layers.18.self_attn.o_proj 3\n",
      "remove model.layers.19.self_attn.o_proj 2\n",
      "remove model.layers.31.self_attn.o_proj 26\n",
      "remove model.layers.31.self_attn.o_proj 25\n",
      "remove model.layers.18.self_attn.o_proj 20\n",
      "remove model.layers.23.self_attn.o_proj 30\n",
      "remove model.layers.23.self_attn.o_proj 19\n",
      "remove model.layers.21.self_attn.o_proj 26\n",
      "remove model.layers.31.self_attn.o_proj 29\n",
      "remove model.layers.16.self_attn.o_proj 27\n",
      "remove model.layers.18.self_attn.o_proj 6\n",
      "remove model.layers.15.self_attn.o_proj 12\n",
      "remove model.layers.25.self_attn.o_proj 19\n",
      "remove model.layers.15.self_attn.o_proj 1\n",
      "remove model.layers.24.self_attn.o_proj 8\n",
      "remove model.layers.21.self_attn.o_proj 23\n"
     ]
    },
    {
     "name": "stderr",
     "output_type": "stream",
     "text": [
      "\n",
      "  0%|          | 0/6 [00:00<?, ?it/s]\u001b[A\n",
      " 17%|█▋        | 1/6 [00:06<00:31,  6.32s/it]\u001b[A\n",
      " 33%|███▎      | 2/6 [00:12<00:25,  6.30s/it]\u001b[A\n",
      " 50%|█████     | 3/6 [00:18<00:18,  6.29s/it]\u001b[A\n",
      " 67%|██████▋   | 4/6 [00:25<00:12,  6.29s/it]\u001b[A\n",
      " 83%|████████▎ | 5/6 [00:31<00:06,  6.29s/it]\u001b[A\n",
      "100%|██████████| 6/6 [00:37<00:00,  6.29s/it]\u001b[A\n"
     ]
    },
    {
     "name": "stdout",
     "output_type": "stream",
     "text": [
      "Task accuracy: 0.5\n"
     ]
    },
    {
     "name": "stderr",
     "output_type": "stream",
     "text": [
      "\n",
      "  0%|          | 0/6 [00:00<?, ?it/s]\u001b[A\n",
      " 17%|█▋        | 1/6 [00:06<00:31,  6.28s/it]\u001b[A\n",
      " 33%|███▎      | 2/6 [00:12<00:25,  6.27s/it]\u001b[A\n",
      " 50%|█████     | 3/6 [00:18<00:18,  6.29s/it]\u001b[A\n",
      " 67%|██████▋   | 4/6 [00:25<00:12,  6.29s/it]\u001b[A\n",
      " 83%|████████▎ | 5/6 [00:31<00:06,  6.29s/it]\u001b[A\n",
      "100%|██████████| 6/6 [00:37<00:00,  6.29s/it]\u001b[A\n",
      " 68%|██████▊   | 34/50 [42:50<20:06, 75.42s/it]"
     ]
    },
    {
     "name": "stdout",
     "output_type": "stream",
     "text": [
      "Task accuracy: 0.49\n",
      "model.layers.21.self_attn.o_proj 26\n",
      "remove model.layers.15.self_attn.o_proj 13\n",
      "remove model.layers.17.self_attn.o_proj 27\n",
      "remove model.layers.16.self_attn.o_proj 27\n",
      "remove model.layers.24.self_attn.o_proj 8\n",
      "remove model.layers.21.self_attn.o_proj 3\n",
      "remove model.layers.15.self_attn.o_proj 18\n",
      "remove model.layers.18.self_attn.o_proj 8\n",
      "remove model.layers.18.self_attn.o_proj 3\n",
      "remove model.layers.17.self_attn.o_proj 28\n",
      "remove model.layers.21.self_attn.o_proj 4\n",
      "remove model.layers.15.self_attn.o_proj 5\n",
      "remove model.layers.23.self_attn.o_proj 5\n",
      "remove model.layers.18.self_attn.o_proj 28\n",
      "remove model.layers.23.self_attn.o_proj 20\n",
      "remove model.layers.19.self_attn.o_proj 2\n",
      "remove model.layers.21.self_attn.o_proj 25\n",
      "remove model.layers.15.self_attn.o_proj 2\n",
      "remove model.layers.17.self_attn.o_proj 3\n",
      "remove model.layers.31.self_attn.o_proj 25\n",
      "remove model.layers.23.self_attn.o_proj 30\n",
      "remove model.layers.28.self_attn.o_proj 16\n",
      "remove model.layers.23.self_attn.o_proj 19\n",
      "remove model.layers.14.self_attn.o_proj 11\n",
      "remove model.layers.31.self_attn.o_proj 29\n",
      "remove model.layers.19.self_attn.o_proj 8\n"
     ]
    },
    {
     "name": "stderr",
     "output_type": "stream",
     "text": [
      "\n",
      "  0%|          | 0/6 [00:00<?, ?it/s]\u001b[A\n",
      " 17%|█▋        | 1/6 [00:06<00:31,  6.31s/it]\u001b[A\n",
      " 33%|███▎      | 2/6 [00:12<00:25,  6.39s/it]\u001b[A\n",
      " 50%|█████     | 3/6 [00:19<00:19,  6.34s/it]\u001b[A\n",
      " 67%|██████▋   | 4/6 [00:25<00:12,  6.32s/it]\u001b[A\n",
      " 83%|████████▎ | 5/6 [00:31<00:06,  6.31s/it]\u001b[A\n",
      "100%|██████████| 6/6 [00:37<00:00,  6.32s/it]\u001b[A\n"
     ]
    },
    {
     "name": "stdout",
     "output_type": "stream",
     "text": [
      "Task accuracy: 0.26\n"
     ]
    },
    {
     "name": "stderr",
     "output_type": "stream",
     "text": [
      "\n",
      "  0%|          | 0/6 [00:00<?, ?it/s]\u001b[A\n",
      " 17%|█▋        | 1/6 [00:06<00:31,  6.29s/it]\u001b[A\n",
      " 33%|███▎      | 2/6 [00:12<00:25,  6.30s/it]\u001b[A\n",
      " 50%|█████     | 3/6 [00:18<00:18,  6.31s/it]\u001b[A\n",
      " 67%|██████▋   | 4/6 [00:25<00:12,  6.30s/it]\u001b[A\n",
      " 83%|████████▎ | 5/6 [00:31<00:06,  6.30s/it]\u001b[A\n",
      "100%|██████████| 6/6 [00:37<00:00,  6.30s/it]\u001b[A\n",
      " 70%|███████   | 35/50 [44:06<18:52, 75.51s/it]"
     ]
    },
    {
     "name": "stdout",
     "output_type": "stream",
     "text": [
      "Task accuracy: 0.25\n",
      "model.layers.31.self_attn.o_proj 29\n"
     ]
    },
    {
     "name": "stderr",
     "output_type": "stream",
     "text": [
      "\n",
      "  0%|          | 0/6 [00:00<?, ?it/s]\u001b[A\n",
      " 17%|█▋        | 1/6 [00:06<00:31,  6.29s/it]\u001b[A\n",
      " 33%|███▎      | 2/6 [00:12<00:25,  6.31s/it]\u001b[A\n",
      " 50%|█████     | 3/6 [00:18<00:18,  6.31s/it]\u001b[A\n",
      " 67%|██████▋   | 4/6 [00:25<00:12,  6.31s/it]\u001b[A\n",
      " 83%|████████▎ | 5/6 [00:31<00:06,  6.31s/it]\u001b[A\n",
      "100%|██████████| 6/6 [00:37<00:00,  6.31s/it]\u001b[A\n"
     ]
    },
    {
     "name": "stdout",
     "output_type": "stream",
     "text": [
      "Task accuracy: 0.56\n"
     ]
    },
    {
     "name": "stderr",
     "output_type": "stream",
     "text": [
      "\n",
      "  0%|          | 0/6 [00:00<?, ?it/s]\u001b[A\n",
      " 17%|█▋        | 1/6 [00:06<00:31,  6.26s/it]\u001b[A\n",
      " 33%|███▎      | 2/6 [00:12<00:25,  6.26s/it]\u001b[A\n",
      " 50%|█████     | 3/6 [00:18<00:18,  6.27s/it]\u001b[A\n",
      " 67%|██████▋   | 4/6 [00:25<00:12,  6.27s/it]\u001b[A\n",
      " 83%|████████▎ | 5/6 [00:31<00:06,  6.27s/it]\u001b[A\n",
      "100%|██████████| 6/6 [00:37<00:00,  6.27s/it]\u001b[A\n",
      " 72%|███████▏  | 36/50 [45:21<17:37, 75.50s/it]"
     ]
    },
    {
     "name": "stdout",
     "output_type": "stream",
     "text": [
      "Task accuracy: 0.56\n",
      "model.layers.19.self_attn.o_proj 8\n",
      "remove model.layers.15.self_attn.o_proj 13\n",
      "remove model.layers.24.self_attn.o_proj 5\n",
      "remove model.layers.23.self_attn.o_proj 15\n",
      "remove model.layers.21.self_attn.o_proj 4\n",
      "remove model.layers.21.self_attn.o_proj 0\n",
      "remove model.layers.16.self_attn.o_proj 27\n",
      "remove model.layers.15.self_attn.o_proj 12\n",
      "remove model.layers.18.self_attn.o_proj 20\n",
      "remove model.layers.21.self_attn.o_proj 3\n",
      "remove model.layers.30.self_attn.o_proj 4\n",
      "remove model.layers.23.self_attn.o_proj 5\n",
      "remove model.layers.17.self_attn.o_proj 27\n",
      "remove model.layers.23.self_attn.o_proj 20\n",
      "remove model.layers.31.self_attn.o_proj 26\n",
      "remove model.layers.15.self_attn.o_proj 2\n",
      "remove model.layers.31.self_attn.o_proj 25\n",
      "remove model.layers.23.self_attn.o_proj 30\n",
      "remove model.layers.23.self_attn.o_proj 17\n",
      "remove model.layers.23.self_attn.o_proj 19\n",
      "remove model.layers.21.self_attn.o_proj 26\n",
      "remove model.layers.31.self_attn.o_proj 29\n",
      "remove model.layers.15.self_attn.o_proj 9\n",
      "remove model.layers.18.self_attn.o_proj 6\n",
      "remove model.layers.19.self_attn.o_proj 26\n",
      "remove model.layers.18.self_attn.o_proj 25\n"
     ]
    },
    {
     "name": "stderr",
     "output_type": "stream",
     "text": [
      "\n",
      "  0%|          | 0/6 [00:00<?, ?it/s]\u001b[A\n",
      " 17%|█▋        | 1/6 [00:06<00:31,  6.31s/it]\u001b[A\n",
      " 33%|███▎      | 2/6 [00:12<00:25,  6.30s/it]\u001b[A\n",
      " 50%|█████     | 3/6 [00:18<00:18,  6.29s/it]\u001b[A\n",
      " 67%|██████▋   | 4/6 [00:25<00:12,  6.30s/it]\u001b[A\n",
      " 83%|████████▎ | 5/6 [00:31<00:06,  6.30s/it]\u001b[A\n",
      "100%|██████████| 6/6 [00:37<00:00,  6.30s/it]\u001b[A\n"
     ]
    },
    {
     "name": "stdout",
     "output_type": "stream",
     "text": [
      "Task accuracy: 0.29\n"
     ]
    },
    {
     "name": "stderr",
     "output_type": "stream",
     "text": [
      "\n",
      "  0%|          | 0/6 [00:00<?, ?it/s]\u001b[A\n",
      " 17%|█▋        | 1/6 [00:06<00:31,  6.29s/it]\u001b[A\n",
      " 33%|███▎      | 2/6 [00:12<00:25,  6.29s/it]\u001b[A\n",
      " 50%|█████     | 3/6 [00:18<00:18,  6.29s/it]\u001b[A\n",
      " 67%|██████▋   | 4/6 [00:25<00:12,  6.29s/it]\u001b[A\n",
      " 83%|████████▎ | 5/6 [00:31<00:06,  6.28s/it]\u001b[A\n",
      "100%|██████████| 6/6 [00:37<00:00,  6.28s/it]\u001b[A\n",
      " 74%|███████▍  | 37/50 [46:37<16:21, 75.51s/it]"
     ]
    },
    {
     "name": "stdout",
     "output_type": "stream",
     "text": [
      "Task accuracy: 0.27\n",
      "model.layers.16.self_attn.o_proj 27\n",
      "remove model.layers.15.self_attn.o_proj 13\n",
      "remove model.layers.15.self_attn.o_proj 18\n",
      "remove model.layers.23.self_attn.o_proj 5\n",
      "remove model.layers.19.self_attn.o_proj 30\n",
      "remove model.layers.21.self_attn.o_proj 25\n",
      "remove model.layers.15.self_attn.o_proj 2\n",
      "remove model.layers.21.self_attn.o_proj 26\n",
      "remove model.layers.19.self_attn.o_proj 8\n",
      "remove model.layers.24.self_attn.o_proj 8\n"
     ]
    },
    {
     "name": "stderr",
     "output_type": "stream",
     "text": [
      "\n",
      "  0%|          | 0/6 [00:00<?, ?it/s]\u001b[A\n",
      " 17%|█▋        | 1/6 [00:06<00:31,  6.27s/it]\u001b[A\n",
      " 33%|███▎      | 2/6 [00:12<00:25,  6.27s/it]\u001b[A\n",
      " 50%|█████     | 3/6 [00:18<00:18,  6.26s/it]\u001b[A\n",
      " 67%|██████▋   | 4/6 [00:25<00:12,  6.26s/it]\u001b[A\n",
      " 83%|████████▎ | 5/6 [00:31<00:06,  6.26s/it]\u001b[A\n",
      "100%|██████████| 6/6 [00:37<00:00,  6.26s/it]\u001b[A\n"
     ]
    },
    {
     "name": "stdout",
     "output_type": "stream",
     "text": [
      "Task accuracy: 0.47\n"
     ]
    },
    {
     "name": "stderr",
     "output_type": "stream",
     "text": [
      "\n",
      "  0%|          | 0/6 [00:00<?, ?it/s]\u001b[A\n",
      " 17%|█▋        | 1/6 [00:06<00:31,  6.26s/it]\u001b[A\n",
      " 33%|███▎      | 2/6 [00:12<00:25,  6.26s/it]\u001b[A\n",
      " 50%|█████     | 3/6 [00:18<00:18,  6.26s/it]\u001b[A\n",
      " 67%|██████▋   | 4/6 [00:25<00:12,  6.26s/it]\u001b[A\n",
      " 83%|████████▎ | 5/6 [00:31<00:06,  6.26s/it]\u001b[A\n",
      "100%|██████████| 6/6 [00:37<00:00,  6.26s/it]\u001b[A\n",
      " 76%|███████▌  | 38/50 [47:52<15:04, 75.40s/it]"
     ]
    },
    {
     "name": "stdout",
     "output_type": "stream",
     "text": [
      "Task accuracy: 0.46\n",
      "model.layers.15.self_attn.o_proj 9\n",
      "remove model.layers.15.self_attn.o_proj 18\n",
      "remove model.layers.18.self_attn.o_proj 3\n",
      "remove model.layers.23.self_attn.o_proj 15\n",
      "remove model.layers.23.self_attn.o_proj 5\n",
      "remove model.layers.28.self_attn.o_proj 17\n",
      "remove model.layers.23.self_attn.o_proj 20\n",
      "remove model.layers.31.self_attn.o_proj 26\n",
      "remove model.layers.31.self_attn.o_proj 25\n",
      "remove model.layers.18.self_attn.o_proj 20\n",
      "remove model.layers.23.self_attn.o_proj 17\n",
      "remove model.layers.31.self_attn.o_proj 29\n",
      "remove model.layers.19.self_attn.o_proj 8\n",
      "remove model.layers.25.self_attn.o_proj 19\n",
      "remove model.layers.15.self_attn.o_proj 1\n",
      "remove model.layers.24.self_attn.o_proj 8\n",
      "remove model.layers.21.self_attn.o_proj 23\n"
     ]
    },
    {
     "name": "stderr",
     "output_type": "stream",
     "text": [
      "\n",
      "  0%|          | 0/6 [00:00<?, ?it/s]\u001b[A\n",
      " 17%|█▋        | 1/6 [00:06<00:31,  6.25s/it]\u001b[A\n",
      " 33%|███▎      | 2/6 [00:12<00:25,  6.26s/it]\u001b[A\n",
      " 50%|█████     | 3/6 [00:18<00:18,  6.27s/it]\u001b[A\n",
      " 67%|██████▋   | 4/6 [00:25<00:12,  6.27s/it]\u001b[A\n",
      " 83%|████████▎ | 5/6 [00:31<00:06,  6.27s/it]\u001b[A\n",
      "100%|██████████| 6/6 [00:37<00:00,  6.27s/it]\u001b[A\n"
     ]
    },
    {
     "name": "stdout",
     "output_type": "stream",
     "text": [
      "Task accuracy: 0.51\n"
     ]
    },
    {
     "name": "stderr",
     "output_type": "stream",
     "text": [
      "\n",
      "  0%|          | 0/6 [00:00<?, ?it/s]\u001b[A\n",
      " 17%|█▋        | 1/6 [00:06<00:31,  6.28s/it]\u001b[A\n",
      " 33%|███▎      | 2/6 [00:12<00:25,  6.29s/it]\u001b[A\n",
      " 50%|█████     | 3/6 [00:18<00:18,  6.30s/it]\u001b[A\n",
      " 67%|██████▋   | 4/6 [00:25<00:12,  6.30s/it]\u001b[A\n",
      " 83%|████████▎ | 5/6 [00:31<00:06,  6.30s/it]\u001b[A\n",
      "100%|██████████| 6/6 [00:37<00:00,  6.30s/it]\u001b[A\n",
      " 78%|███████▊  | 39/50 [49:07<13:49, 75.41s/it]"
     ]
    },
    {
     "name": "stdout",
     "output_type": "stream",
     "text": [
      "Task accuracy: 0.51\n",
      "model.layers.21.self_attn.o_proj 23\n",
      "remove model.layers.15.self_attn.o_proj 13\n",
      "remove model.layers.17.self_attn.o_proj 27\n",
      "remove model.layers.23.self_attn.o_proj 20\n",
      "remove model.layers.18.self_attn.o_proj 20\n",
      "remove model.layers.23.self_attn.o_proj 19\n"
     ]
    },
    {
     "name": "stderr",
     "output_type": "stream",
     "text": [
      "\n",
      "  0%|          | 0/6 [00:00<?, ?it/s]\u001b[A\n",
      " 17%|█▋        | 1/6 [00:06<00:31,  6.30s/it]\u001b[A\n",
      " 33%|███▎      | 2/6 [00:12<00:25,  6.29s/it]\u001b[A\n",
      " 50%|█████     | 3/6 [00:18<00:18,  6.29s/it]\u001b[A\n",
      " 67%|██████▋   | 4/6 [00:25<00:12,  6.28s/it]\u001b[A\n",
      " 83%|████████▎ | 5/6 [00:31<00:06,  6.28s/it]\u001b[A\n",
      "100%|██████████| 6/6 [00:37<00:00,  6.28s/it]\u001b[A\n"
     ]
    },
    {
     "name": "stdout",
     "output_type": "stream",
     "text": [
      "Task accuracy: 0.51\n"
     ]
    },
    {
     "name": "stderr",
     "output_type": "stream",
     "text": [
      "\n",
      "  0%|          | 0/6 [00:00<?, ?it/s]\u001b[A\n",
      " 17%|█▋        | 1/6 [00:06<00:31,  6.28s/it]\u001b[A\n",
      " 33%|███▎      | 2/6 [00:12<00:25,  6.28s/it]\u001b[A\n",
      " 50%|█████     | 3/6 [00:18<00:18,  6.28s/it]\u001b[A\n",
      " 67%|██████▋   | 4/6 [00:25<00:12,  6.28s/it]\u001b[A\n",
      " 83%|████████▎ | 5/6 [00:31<00:06,  6.34s/it]\u001b[A\n",
      "100%|██████████| 6/6 [00:37<00:00,  6.31s/it]\u001b[A\n",
      " 80%|████████  | 40/50 [50:23<12:34, 75.46s/it]"
     ]
    },
    {
     "name": "stdout",
     "output_type": "stream",
     "text": [
      "Task accuracy: 0.49\n",
      "model.layers.21.self_attn.o_proj 19\n",
      "remove model.layers.15.self_attn.o_proj 18\n"
     ]
    },
    {
     "name": "stderr",
     "output_type": "stream",
     "text": [
      "\n",
      "  0%|          | 0/6 [00:00<?, ?it/s]\u001b[A\n",
      " 17%|█▋        | 1/6 [00:06<00:31,  6.32s/it]\u001b[A\n",
      " 33%|███▎      | 2/6 [00:12<00:25,  6.29s/it]\u001b[A\n",
      " 50%|█████     | 3/6 [00:18<00:18,  6.28s/it]\u001b[A\n",
      " 67%|██████▋   | 4/6 [00:25<00:12,  6.28s/it]\u001b[A\n",
      " 83%|████████▎ | 5/6 [00:31<00:06,  6.28s/it]\u001b[A\n",
      "100%|██████████| 6/6 [00:37<00:00,  6.28s/it]\u001b[A\n"
     ]
    },
    {
     "name": "stdout",
     "output_type": "stream",
     "text": [
      "Task accuracy: 0.53\n"
     ]
    },
    {
     "name": "stderr",
     "output_type": "stream",
     "text": [
      "\n",
      "  0%|          | 0/6 [00:00<?, ?it/s]\u001b[A\n",
      " 17%|█▋        | 1/6 [00:06<00:31,  6.26s/it]\u001b[A\n",
      " 33%|███▎      | 2/6 [00:12<00:25,  6.27s/it]\u001b[A\n",
      " 50%|█████     | 3/6 [00:18<00:18,  6.26s/it]\u001b[A\n",
      " 67%|██████▋   | 4/6 [00:25<00:12,  6.26s/it]\u001b[A\n",
      " 83%|████████▎ | 5/6 [00:31<00:06,  6.27s/it]\u001b[A\n",
      "100%|██████████| 6/6 [00:37<00:00,  6.27s/it]\u001b[A\n",
      " 82%|████████▏ | 41/50 [51:38<11:18, 75.43s/it]"
     ]
    },
    {
     "name": "stdout",
     "output_type": "stream",
     "text": [
      "Task accuracy: 0.52\n",
      "model.layers.18.self_attn.o_proj 6\n",
      "remove model.layers.15.self_attn.o_proj 13\n",
      "remove model.layers.21.self_attn.o_proj 3\n",
      "remove model.layers.15.self_attn.o_proj 18\n",
      "remove model.layers.24.self_attn.o_proj 5\n",
      "remove model.layers.29.self_attn.o_proj 7\n",
      "remove model.layers.18.self_attn.o_proj 3\n",
      "remove model.layers.23.self_attn.o_proj 15\n",
      "remove model.layers.17.self_attn.o_proj 28\n",
      "remove model.layers.21.self_attn.o_proj 4\n",
      "remove model.layers.15.self_attn.o_proj 5\n",
      "remove model.layers.23.self_attn.o_proj 5\n",
      "remove model.layers.28.self_attn.o_proj 17\n",
      "remove model.layers.23.self_attn.o_proj 20\n",
      "remove model.layers.19.self_attn.o_proj 2\n",
      "remove model.layers.31.self_attn.o_proj 26\n",
      "remove model.layers.21.self_attn.o_proj 25\n",
      "remove model.layers.17.self_attn.o_proj 3\n",
      "remove model.layers.31.self_attn.o_proj 25\n",
      "remove model.layers.18.self_attn.o_proj 20\n",
      "remove model.layers.23.self_attn.o_proj 30\n",
      "remove model.layers.21.self_attn.o_proj 0\n",
      "remove model.layers.14.self_attn.o_proj 11\n",
      "remove model.layers.21.self_attn.o_proj 26\n",
      "remove model.layers.31.self_attn.o_proj 29\n",
      "remove model.layers.19.self_attn.o_proj 8\n"
     ]
    },
    {
     "name": "stderr",
     "output_type": "stream",
     "text": [
      "\n",
      "  0%|          | 0/6 [00:00<?, ?it/s]\u001b[A\n",
      " 17%|█▋        | 1/6 [00:06<00:31,  6.30s/it]\u001b[A\n",
      " 33%|███▎      | 2/6 [00:12<00:25,  6.30s/it]\u001b[A\n",
      " 50%|█████     | 3/6 [00:18<00:18,  6.31s/it]\u001b[A\n",
      " 67%|██████▋   | 4/6 [00:25<00:12,  6.32s/it]\u001b[A\n",
      " 83%|████████▎ | 5/6 [00:31<00:06,  6.31s/it]\u001b[A\n",
      "100%|██████████| 6/6 [00:37<00:00,  6.31s/it]\u001b[A\n"
     ]
    },
    {
     "name": "stdout",
     "output_type": "stream",
     "text": [
      "Task accuracy: 0.29\n"
     ]
    },
    {
     "name": "stderr",
     "output_type": "stream",
     "text": [
      "\n",
      "  0%|          | 0/6 [00:00<?, ?it/s]\u001b[A\n",
      " 17%|█▋        | 1/6 [00:06<00:31,  6.28s/it]\u001b[A\n",
      " 33%|███▎      | 2/6 [00:12<00:25,  6.28s/it]\u001b[A\n",
      " 50%|█████     | 3/6 [00:18<00:18,  6.28s/it]\u001b[A\n",
      " 67%|██████▋   | 4/6 [00:25<00:12,  6.28s/it]\u001b[A\n",
      " 83%|████████▎ | 5/6 [00:31<00:06,  6.28s/it]\u001b[A\n",
      "100%|██████████| 6/6 [00:37<00:00,  6.28s/it]\u001b[A\n",
      " 84%|████████▍ | 42/50 [52:54<10:03, 75.47s/it]"
     ]
    },
    {
     "name": "stdout",
     "output_type": "stream",
     "text": [
      "Task accuracy: 0.27\n",
      "model.layers.19.self_attn.o_proj 25\n",
      "remove model.layers.15.self_attn.o_proj 13\n",
      "remove model.layers.15.self_attn.o_proj 18\n",
      "remove model.layers.20.self_attn.o_proj 14\n",
      "remove model.layers.21.self_attn.o_proj 4\n",
      "remove model.layers.17.self_attn.o_proj 27\n",
      "remove model.layers.31.self_attn.o_proj 26\n",
      "remove model.layers.18.self_attn.o_proj 20\n",
      "remove model.layers.21.self_attn.o_proj 26\n",
      "remove model.layers.15.self_attn.o_proj 1\n"
     ]
    },
    {
     "name": "stderr",
     "output_type": "stream",
     "text": [
      "\n",
      "  0%|          | 0/6 [00:00<?, ?it/s]\u001b[A\n",
      " 17%|█▋        | 1/6 [00:06<00:31,  6.29s/it]\u001b[A\n",
      " 33%|███▎      | 2/6 [00:12<00:25,  6.28s/it]\u001b[A\n",
      " 50%|█████     | 3/6 [00:18<00:18,  6.29s/it]\u001b[A\n",
      " 67%|██████▋   | 4/6 [00:25<00:12,  6.28s/it]\u001b[A\n",
      " 83%|████████▎ | 5/6 [00:31<00:06,  6.29s/it]\u001b[A\n",
      "100%|██████████| 6/6 [00:37<00:00,  6.29s/it]\u001b[A\n"
     ]
    },
    {
     "name": "stdout",
     "output_type": "stream",
     "text": [
      "Task accuracy: 0.42\n"
     ]
    },
    {
     "name": "stderr",
     "output_type": "stream",
     "text": [
      "\n",
      "  0%|          | 0/6 [00:00<?, ?it/s]\u001b[A\n",
      " 17%|█▋        | 1/6 [00:06<00:31,  6.28s/it]\u001b[A\n",
      " 33%|███▎      | 2/6 [00:12<00:25,  6.30s/it]\u001b[A\n",
      " 50%|█████     | 3/6 [00:18<00:18,  6.29s/it]\u001b[A\n",
      " 67%|██████▋   | 4/6 [00:25<00:12,  6.29s/it]\u001b[A\n",
      " 83%|████████▎ | 5/6 [00:31<00:06,  6.29s/it]\u001b[A\n",
      "100%|██████████| 6/6 [00:37<00:00,  6.29s/it]\u001b[A\n",
      " 86%|████████▌ | 43/50 [54:09<08:48, 75.48s/it]"
     ]
    },
    {
     "name": "stdout",
     "output_type": "stream",
     "text": [
      "Task accuracy: 0.42\n",
      "model.layers.15.self_attn.o_proj 12\n",
      "remove model.layers.23.self_attn.o_proj 5\n",
      "remove model.layers.19.self_attn.o_proj 8\n",
      "remove model.layers.21.self_attn.o_proj 23\n",
      "remove model.layers.21.self_attn.o_proj 3\n",
      "remove model.layers.18.self_attn.o_proj 8\n",
      "remove model.layers.18.self_attn.o_proj 3\n",
      "remove model.layers.21.self_attn.o_proj 4\n",
      "remove model.layers.23.self_attn.o_proj 20\n",
      "remove model.layers.19.self_attn.o_proj 2\n",
      "remove model.layers.31.self_attn.o_proj 26\n",
      "remove model.layers.31.self_attn.o_proj 25\n",
      "remove model.layers.18.self_attn.o_proj 20\n",
      "remove model.layers.23.self_attn.o_proj 30\n",
      "remove model.layers.14.self_attn.o_proj 11\n",
      "remove model.layers.21.self_attn.o_proj 26\n",
      "remove model.layers.31.self_attn.o_proj 29\n",
      "remove model.layers.18.self_attn.o_proj 6\n",
      "remove model.layers.19.self_attn.o_proj 26\n",
      "remove model.layers.22.self_attn.o_proj 5\n",
      "remove model.layers.25.self_attn.o_proj 19\n",
      "remove model.layers.15.self_attn.o_proj 1\n",
      "remove model.layers.24.self_attn.o_proj 8\n"
     ]
    },
    {
     "name": "stderr",
     "output_type": "stream",
     "text": [
      "\n",
      "  0%|          | 0/6 [00:00<?, ?it/s]\u001b[A\n",
      " 17%|█▋        | 1/6 [00:06<00:31,  6.31s/it]\u001b[A\n",
      " 33%|███▎      | 2/6 [00:12<00:25,  6.30s/it]\u001b[A\n",
      " 50%|█████     | 3/6 [00:18<00:18,  6.30s/it]\u001b[A\n",
      " 67%|██████▋   | 4/6 [00:25<00:12,  6.30s/it]\u001b[A\n",
      " 83%|████████▎ | 5/6 [00:31<00:06,  6.30s/it]\u001b[A\n",
      "100%|██████████| 6/6 [00:37<00:00,  6.30s/it]\u001b[A\n"
     ]
    },
    {
     "name": "stdout",
     "output_type": "stream",
     "text": [
      "Task accuracy: 0.48\n"
     ]
    },
    {
     "name": "stderr",
     "output_type": "stream",
     "text": [
      "\n",
      "  0%|          | 0/6 [00:00<?, ?it/s]\u001b[A\n",
      " 17%|█▋        | 1/6 [00:06<00:31,  6.29s/it]\u001b[A\n",
      " 33%|███▎      | 2/6 [00:12<00:25,  6.30s/it]\u001b[A\n",
      " 50%|█████     | 3/6 [00:18<00:18,  6.29s/it]\u001b[A\n",
      " 67%|██████▋   | 4/6 [00:25<00:12,  6.29s/it]\u001b[A\n",
      " 83%|████████▎ | 5/6 [00:31<00:06,  6.29s/it]\u001b[A\n",
      "100%|██████████| 6/6 [00:37<00:00,  6.30s/it]\u001b[A\n",
      " 88%|████████▊ | 44/50 [55:25<07:33, 75.51s/it]"
     ]
    },
    {
     "name": "stdout",
     "output_type": "stream",
     "text": [
      "Task accuracy: 0.48\n",
      "model.layers.19.self_attn.o_proj 26\n",
      "remove model.layers.18.self_attn.o_proj 20\n",
      "remove model.layers.15.self_attn.o_proj 13\n",
      "remove model.layers.23.self_attn.o_proj 15\n",
      "remove model.layers.21.self_attn.o_proj 4\n",
      "remove model.layers.23.self_attn.o_proj 5\n",
      "remove model.layers.17.self_attn.o_proj 27\n",
      "remove model.layers.19.self_attn.o_proj 2\n",
      "remove model.layers.31.self_attn.o_proj 25\n",
      "remove model.layers.23.self_attn.o_proj 30\n",
      "remove model.layers.31.self_attn.o_proj 29\n",
      "remove model.layers.19.self_attn.o_proj 8\n",
      "remove model.layers.16.self_attn.o_proj 27\n",
      "remove model.layers.15.self_attn.o_proj 12\n",
      "remove model.layers.19.self_attn.o_proj 11\n",
      "remove model.layers.25.self_attn.o_proj 19\n",
      "remove model.layers.15.self_attn.o_proj 1\n",
      "remove model.layers.24.self_attn.o_proj 8\n",
      "remove model.layers.21.self_attn.o_proj 23\n"
     ]
    },
    {
     "name": "stderr",
     "output_type": "stream",
     "text": [
      "\n",
      "  0%|          | 0/6 [00:00<?, ?it/s]\u001b[A\n",
      " 17%|█▋        | 1/6 [00:06<00:31,  6.31s/it]\u001b[A\n",
      " 33%|███▎      | 2/6 [00:12<00:25,  6.31s/it]\u001b[A\n",
      " 50%|█████     | 3/6 [00:18<00:18,  6.30s/it]\u001b[A\n",
      " 67%|██████▋   | 4/6 [00:25<00:12,  6.30s/it]\u001b[A\n",
      " 83%|████████▎ | 5/6 [00:31<00:06,  6.30s/it]\u001b[A\n",
      "100%|██████████| 6/6 [00:37<00:00,  6.30s/it]\u001b[A\n"
     ]
    },
    {
     "name": "stdout",
     "output_type": "stream",
     "text": [
      "Task accuracy: 0.47\n"
     ]
    },
    {
     "name": "stderr",
     "output_type": "stream",
     "text": [
      "\n",
      "  0%|          | 0/6 [00:00<?, ?it/s]\u001b[A\n",
      " 17%|█▋        | 1/6 [00:06<00:31,  6.32s/it]\u001b[A\n",
      " 33%|███▎      | 2/6 [00:12<00:25,  6.31s/it]\u001b[A\n",
      " 50%|█████     | 3/6 [00:18<00:18,  6.30s/it]\u001b[A\n",
      " 67%|██████▋   | 4/6 [00:25<00:12,  6.30s/it]\u001b[A\n",
      " 83%|████████▎ | 5/6 [00:31<00:06,  6.30s/it]\u001b[A\n",
      "100%|██████████| 6/6 [00:37<00:00,  6.31s/it]\u001b[A\n",
      " 90%|█████████ | 45/50 [56:40<06:17, 75.55s/it]"
     ]
    },
    {
     "name": "stdout",
     "output_type": "stream",
     "text": [
      "Task accuracy: 0.46\n",
      "model.layers.18.self_attn.o_proj 25\n",
      "remove model.layers.21.self_attn.o_proj 4\n",
      "remove model.layers.15.self_attn.o_proj 13\n",
      "remove model.layers.21.self_attn.o_proj 3\n",
      "remove model.layers.30.self_attn.o_proj 4\n",
      "remove model.layers.18.self_attn.o_proj 8\n",
      "remove model.layers.18.self_attn.o_proj 3\n",
      "remove model.layers.15.self_attn.o_proj 5\n",
      "remove model.layers.23.self_attn.o_proj 5\n",
      "remove model.layers.19.self_attn.o_proj 30\n",
      "remove model.layers.23.self_attn.o_proj 20\n",
      "remove model.layers.19.self_attn.o_proj 2\n",
      "remove model.layers.31.self_attn.o_proj 26\n",
      "remove model.layers.23.self_attn.o_proj 30\n",
      "remove model.layers.21.self_attn.o_proj 26\n",
      "remove model.layers.31.self_attn.o_proj 29\n",
      "remove model.layers.19.self_attn.o_proj 8\n",
      "remove model.layers.18.self_attn.o_proj 6\n",
      "remove model.layers.22.self_attn.o_proj 5\n",
      "remove model.layers.25.self_attn.o_proj 19\n",
      "remove model.layers.15.self_attn.o_proj 1\n",
      "remove model.layers.24.self_attn.o_proj 8\n",
      "remove model.layers.21.self_attn.o_proj 23\n"
     ]
    },
    {
     "name": "stderr",
     "output_type": "stream",
     "text": [
      "\n",
      "  0%|          | 0/6 [00:00<?, ?it/s]\u001b[A\n",
      " 17%|█▋        | 1/6 [00:06<00:31,  6.33s/it]\u001b[A\n",
      " 33%|███▎      | 2/6 [00:12<00:25,  6.33s/it]\u001b[A\n",
      " 50%|█████     | 3/6 [00:18<00:18,  6.32s/it]\u001b[A\n",
      " 67%|██████▋   | 4/6 [00:25<00:12,  6.32s/it]\u001b[A\n",
      " 83%|████████▎ | 5/6 [00:31<00:06,  6.32s/it]\u001b[A\n",
      "100%|██████████| 6/6 [00:37<00:00,  6.32s/it]\u001b[A\n"
     ]
    },
    {
     "name": "stdout",
     "output_type": "stream",
     "text": [
      "Task accuracy: 0.46\n"
     ]
    },
    {
     "name": "stderr",
     "output_type": "stream",
     "text": [
      "\n",
      "  0%|          | 0/6 [00:00<?, ?it/s]\u001b[A\n",
      " 17%|█▋        | 1/6 [00:06<00:31,  6.33s/it]\u001b[A\n",
      " 33%|███▎      | 2/6 [00:12<00:25,  6.47s/it]\u001b[A\n",
      " 50%|█████     | 3/6 [00:19<00:19,  6.40s/it]\u001b[A\n",
      " 67%|██████▋   | 4/6 [00:25<00:12,  6.36s/it]\u001b[A\n",
      " 83%|████████▎ | 5/6 [00:31<00:06,  6.34s/it]\u001b[A\n",
      "100%|██████████| 6/6 [00:38<00:00,  6.36s/it]\u001b[A\n",
      " 92%|█████████▏| 46/50 [57:57<05:02, 75.72s/it]"
     ]
    },
    {
     "name": "stdout",
     "output_type": "stream",
     "text": [
      "Task accuracy: 0.46\n",
      "model.layers.19.self_attn.o_proj 11\n",
      "remove model.layers.23.self_attn.o_proj 5\n",
      "remove model.layers.21.self_attn.o_proj 3\n",
      "remove model.layers.15.self_attn.o_proj 18\n",
      "remove model.layers.29.self_attn.o_proj 7\n",
      "remove model.layers.18.self_attn.o_proj 3\n",
      "remove model.layers.21.self_attn.o_proj 4\n",
      "remove model.layers.31.self_attn.o_proj 26\n",
      "remove model.layers.21.self_attn.o_proj 25\n",
      "remove model.layers.18.self_attn.o_proj 20\n",
      "remove model.layers.23.self_attn.o_proj 30\n",
      "remove model.layers.21.self_attn.o_proj 0\n",
      "remove model.layers.31.self_attn.o_proj 29\n",
      "remove model.layers.16.self_attn.o_proj 27\n",
      "remove model.layers.19.self_attn.o_proj 26\n",
      "remove model.layers.25.self_attn.o_proj 19\n",
      "remove model.layers.15.self_attn.o_proj 1\n",
      "remove model.layers.24.self_attn.o_proj 8\n",
      "remove model.layers.21.self_attn.o_proj 23\n"
     ]
    },
    {
     "name": "stderr",
     "output_type": "stream",
     "text": [
      "\n",
      "  0%|          | 0/6 [00:00<?, ?it/s]\u001b[A\n",
      " 17%|█▋        | 1/6 [00:06<00:31,  6.32s/it]\u001b[A\n",
      " 33%|███▎      | 2/6 [00:12<00:25,  6.32s/it]\u001b[A\n",
      " 50%|█████     | 3/6 [00:18<00:18,  6.32s/it]\u001b[A\n",
      " 67%|██████▋   | 4/6 [00:25<00:12,  6.32s/it]\u001b[A\n",
      " 83%|████████▎ | 5/6 [00:31<00:06,  6.33s/it]\u001b[A\n",
      "100%|██████████| 6/6 [00:37<00:00,  6.32s/it]\u001b[A\n"
     ]
    },
    {
     "name": "stdout",
     "output_type": "stream",
     "text": [
      "Task accuracy: 0.5\n"
     ]
    },
    {
     "name": "stderr",
     "output_type": "stream",
     "text": [
      "\n",
      "  0%|          | 0/6 [00:00<?, ?it/s]\u001b[A\n",
      " 17%|█▋        | 1/6 [00:06<00:31,  6.33s/it]\u001b[A\n",
      " 33%|███▎      | 2/6 [00:12<00:25,  6.35s/it]\u001b[A\n",
      " 50%|█████     | 3/6 [00:19<00:18,  6.33s/it]\u001b[A\n",
      " 67%|██████▋   | 4/6 [00:25<00:12,  6.33s/it]\u001b[A\n",
      " 83%|████████▎ | 5/6 [00:31<00:06,  6.33s/it]\u001b[A\n",
      "100%|██████████| 6/6 [00:37<00:00,  6.33s/it]\u001b[A\n",
      " 94%|█████████▍| 47/50 [59:12<03:47, 75.79s/it]"
     ]
    },
    {
     "name": "stdout",
     "output_type": "stream",
     "text": [
      "Task accuracy: 0.47\n",
      "model.layers.22.self_attn.o_proj 5\n",
      "remove model.layers.31.self_attn.o_proj 26\n",
      "remove model.layers.31.self_attn.o_proj 29\n",
      "remove model.layers.15.self_attn.o_proj 12\n",
      "remove model.layers.18.self_attn.o_proj 25\n"
     ]
    },
    {
     "name": "stderr",
     "output_type": "stream",
     "text": [
      "\n",
      "  0%|          | 0/6 [00:00<?, ?it/s]\u001b[A\n",
      " 17%|█▋        | 1/6 [00:06<00:31,  6.31s/it]\u001b[A\n",
      " 33%|███▎      | 2/6 [00:12<00:25,  6.31s/it]\u001b[A\n",
      " 50%|█████     | 3/6 [00:18<00:18,  6.32s/it]\u001b[A\n",
      " 67%|██████▋   | 4/6 [00:25<00:12,  6.32s/it]\u001b[A\n",
      " 83%|████████▎ | 5/6 [00:31<00:06,  6.32s/it]\u001b[A\n",
      "100%|██████████| 6/6 [00:37<00:00,  6.32s/it]\u001b[A\n"
     ]
    },
    {
     "name": "stdout",
     "output_type": "stream",
     "text": [
      "Task accuracy: 0.55\n"
     ]
    },
    {
     "name": "stderr",
     "output_type": "stream",
     "text": [
      "\n",
      "  0%|          | 0/6 [00:00<?, ?it/s]\u001b[A\n",
      " 17%|█▋        | 1/6 [00:06<00:31,  6.34s/it]\u001b[A\n",
      " 33%|███▎      | 2/6 [00:12<00:25,  6.32s/it]\u001b[A\n",
      " 50%|█████     | 3/6 [00:18<00:18,  6.33s/it]\u001b[A\n",
      " 67%|██████▋   | 4/6 [00:25<00:12,  6.34s/it]\u001b[A\n",
      " 83%|████████▎ | 5/6 [00:31<00:06,  6.34s/it]\u001b[A\n",
      "100%|██████████| 6/6 [00:37<00:00,  6.33s/it]\u001b[A\n",
      " 96%|█████████▌| 48/50 [1:00:28<02:31, 75.82s/it]"
     ]
    },
    {
     "name": "stdout",
     "output_type": "stream",
     "text": [
      "Task accuracy: 0.54\n",
      "model.layers.25.self_attn.o_proj 19\n",
      "remove model.layers.15.self_attn.o_proj 13\n",
      "remove model.layers.21.self_attn.o_proj 4\n",
      "remove model.layers.18.self_attn.o_proj 20\n",
      "remove model.layers.21.self_attn.o_proj 23\n"
     ]
    },
    {
     "name": "stderr",
     "output_type": "stream",
     "text": [
      "\n",
      "  0%|          | 0/6 [00:00<?, ?it/s]\u001b[A\n",
      " 17%|█▋        | 1/6 [00:06<00:31,  6.29s/it]\u001b[A\n",
      " 33%|███▎      | 2/6 [00:12<00:25,  6.30s/it]\u001b[A\n",
      " 50%|█████     | 3/6 [00:18<00:18,  6.31s/it]\u001b[A\n",
      " 67%|██████▋   | 4/6 [00:25<00:12,  6.31s/it]\u001b[A\n",
      " 83%|████████▎ | 5/6 [00:31<00:06,  6.31s/it]\u001b[A\n",
      "100%|██████████| 6/6 [00:37<00:00,  6.30s/it]\u001b[A\n"
     ]
    },
    {
     "name": "stdout",
     "output_type": "stream",
     "text": [
      "Task accuracy: 0.51\n"
     ]
    },
    {
     "name": "stderr",
     "output_type": "stream",
     "text": [
      "\n",
      "  0%|          | 0/6 [00:00<?, ?it/s]\u001b[A\n",
      " 17%|█▋        | 1/6 [00:06<00:31,  6.29s/it]\u001b[A\n",
      " 33%|███▎      | 2/6 [00:12<00:25,  6.30s/it]\u001b[A\n",
      " 50%|█████     | 3/6 [00:18<00:18,  6.32s/it]\u001b[A\n",
      " 67%|██████▋   | 4/6 [00:25<00:12,  6.33s/it]\u001b[A\n",
      " 83%|████████▎ | 5/6 [00:31<00:06,  6.32s/it]\u001b[A\n",
      "100%|██████████| 6/6 [00:37<00:00,  6.32s/it]\u001b[A\n",
      " 98%|█████████▊| 49/50 [1:01:44<01:15, 75.80s/it]"
     ]
    },
    {
     "name": "stdout",
     "output_type": "stream",
     "text": [
      "Task accuracy: 0.51\n",
      "model.layers.15.self_attn.o_proj 1\n",
      "remove model.layers.21.self_attn.o_proj 3\n",
      "remove model.layers.21.self_attn.o_proj 4\n"
     ]
    },
    {
     "name": "stderr",
     "output_type": "stream",
     "text": [
      "\n",
      "  0%|          | 0/6 [00:00<?, ?it/s]\u001b[A\n",
      " 17%|█▋        | 1/6 [00:06<00:31,  6.28s/it]\u001b[A\n",
      " 33%|███▎      | 2/6 [00:12<00:25,  6.29s/it]\u001b[A\n",
      " 50%|█████     | 3/6 [00:18<00:18,  6.29s/it]\u001b[A\n",
      " 67%|██████▋   | 4/6 [00:25<00:12,  6.30s/it]\u001b[A\n",
      " 83%|████████▎ | 5/6 [00:31<00:06,  6.30s/it]\u001b[A\n",
      "100%|██████████| 6/6 [00:37<00:00,  6.30s/it]\u001b[A\n"
     ]
    },
    {
     "name": "stdout",
     "output_type": "stream",
     "text": [
      "Task accuracy: 0.54\n"
     ]
    },
    {
     "name": "stderr",
     "output_type": "stream",
     "text": [
      "\n",
      "  0%|          | 0/6 [00:00<?, ?it/s]\u001b[A\n",
      " 17%|█▋        | 1/6 [00:06<00:31,  6.30s/it]\u001b[A\n",
      " 33%|███▎      | 2/6 [00:12<00:25,  6.30s/it]\u001b[A\n",
      " 50%|█████     | 3/6 [00:18<00:18,  6.30s/it]\u001b[A\n",
      " 67%|██████▋   | 4/6 [00:25<00:12,  6.30s/it]\u001b[A\n",
      " 83%|████████▎ | 5/6 [00:31<00:06,  6.30s/it]\u001b[A\n",
      "100%|██████████| 6/6 [00:37<00:00,  6.30s/it]\u001b[A\n",
      "100%|██████████| 50/50 [1:03:00<00:00, 75.61s/it]"
     ]
    },
    {
     "name": "stdout",
     "output_type": "stream",
     "text": [
      "Task accuracy: 0.53\n"
     ]
    },
    {
     "name": "stderr",
     "output_type": "stream",
     "text": [
      "\n"
     ]
    }
   ],
   "source": [
    "circuit_components = {}\n",
    "circuit_components[0] = defaultdict(list)\n",
    "circuit_components[2] = defaultdict(list)\n",
    "circuit_components[-1] = defaultdict(list)\n",
    "circuit_components[-2] = defaultdict(list)\n",
    "\n",
    "percentage = 0.5\n",
    "res = {}\n",
    "\n",
    "root_path = \"../new_pp_exps/post_submission/llama-7b\"\n",
    "path = root_path + \"/direct_logit_heads.pt\"\n",
    "logit_values = torch.load(path)\n",
    "direct_logit_heads = analysis_utils.compute_topk_components(\n",
    "    torch.load(path), k=n_value_fetcher, largest=False\n",
    ")\n",
    "\n",
    "path = root_path + \"/heads_affect_direct_logit.pt\"\n",
    "logit_values = torch.load(path)\n",
    "heads_affecting_direct_logit_heads = analysis_utils.compute_topk_components(\n",
    "    torch.load(path), k=n_pos_trans, largest=False\n",
    ")\n",
    "\n",
    "path = root_path + \"/heads_at_query_box_pos.pt\"\n",
    "logit_values = torch.load(path)\n",
    "head_at_query_box_token = analysis_utils.compute_topk_components(\n",
    "    torch.load(path), k=n_pos_detect, largest=False\n",
    ")\n",
    "\n",
    "path = root_path + \"/heads_at_prev_query_box_pos.pt\"\n",
    "logit_values = torch.load(path)\n",
    "heads_at_prev_box_pos = analysis_utils.compute_topk_components(\n",
    "    torch.load(path), k=n_struct_read, largest=False\n",
    ")\n",
    "\n",
    "intersection = []\n",
    "for head in direct_logit_heads:\n",
    "    if head in heads_affecting_direct_logit_heads:\n",
    "        intersection.append(head)\n",
    "\n",
    "for head in intersection:\n",
    "    direct_logit_heads.remove(head)\n",
    "\n",
    "print(\n",
    "    len(direct_logit_heads),\n",
    "    len(heads_affecting_direct_logit_heads),\n",
    "    len(head_at_query_box_token),\n",
    "    len(heads_at_prev_box_pos),\n",
    ")\n",
    "\n",
    "\n",
    "for layer_idx, head in direct_logit_heads:\n",
    "    if model.config.architectures[0] == \"LlamaForCausalLM\":\n",
    "        layer = f\"model.layers.{layer_idx}.self_attn.o_proj\"\n",
    "    else:\n",
    "        layer = f\"base_model.model.model.layers.{layer_idx}.self_attn.o_proj\"\n",
    "    circuit_components[0][layer].append(head)\n",
    "\n",
    "for layer_idx, head in heads_affecting_direct_logit_heads:\n",
    "    if model.config.architectures[0] == \"LlamaForCausalLM\":\n",
    "        layer = f\"model.layers.{layer_idx}.self_attn.o_proj\"\n",
    "    else:\n",
    "        layer = f\"base_model.model.model.layers.{layer_idx}.self_attn.o_proj\"\n",
    "    circuit_components[0][layer].append(head)\n",
    "\n",
    "\n",
    "for layer_idx, head in head_at_query_box_token:\n",
    "    if model.config.architectures[0] == \"LlamaForCausalLM\":\n",
    "        layer = f\"model.layers.{layer_idx}.self_attn.o_proj\"\n",
    "    else:\n",
    "        layer = f\"base_model.model.model.layers.{layer_idx}.self_attn.o_proj\"\n",
    "    circuit_components[2][layer].append(head)\n",
    "\n",
    "for layer_idx, head in heads_at_prev_box_pos:\n",
    "    if model.config.architectures[0] == \"LlamaForCausalLM\":\n",
    "        layer = f\"model.layers.{layer_idx}.self_attn.o_proj\"\n",
    "    else:\n",
    "        layer = f\"base_model.model.model.layers.{layer_idx}.self_attn.o_proj\"\n",
    "    circuit_components[-1][layer].append(head)\n",
    "\n",
    "\n",
    "for layer_idx, head in tqdm(direct_logit_heads):\n",
    "    if model.config.architectures[0] == \"LlamaForCausalLM\":\n",
    "        layer = f\"model.layers.{layer_idx}.self_attn.o_proj\"\n",
    "    else:\n",
    "        layer = f\"base_model.model.model.layers.{layer_idx}.self_attn.o_proj\"\n",
    "\n",
    "    print(layer, head)\n",
    "    for r in ranked[str((layer, head))][: math.ceil(percentage * len(ranked.values()))]:\n",
    "        top_layer = r[0].split(\",\")[0][2:-1]\n",
    "        top_head = int(r[0].split(\",\")[1][:-1])\n",
    "        if r[1] <= 0:\n",
    "            break\n",
    "        print(\"remove\", top_layer, top_head)\n",
    "        circuit_components[0][top_layer].remove(top_head)\n",
    "\n",
    "    befor = eval(model, dataloader, modules, circuit_components, mean_activations)\n",
    "    circuit_components[0][layer].remove(head)\n",
    "    after = eval(model, dataloader, modules, circuit_components, mean_activations)\n",
    "    res[(layer, head)] = (befor, after)\n",
    "\n",
    "    for r in ranked[str((layer, head))][: math.ceil(percentage * len(ranked.values()))]:\n",
    "        top_layer = r[0].split(\",\")[0][2:-1]\n",
    "        top_head = int(r[0].split(\",\")[1][:-1])\n",
    "        if r[1] <= 0:\n",
    "            break\n",
    "        circuit_components[0][top_layer].append(top_head)\n",
    "    circuit_components[0][layer].append(head)"
   ]
  },
  {
   "cell_type": "code",
   "execution_count": 30,
   "metadata": {},
   "outputs": [],
   "source": [
    "new = {}\n",
    "for k in res:\n",
    "    new[str(k)] = res[k]\n",
    "\n",
    "with open(\n",
    "    \"./post-submission/llama-7b/llama_direct_logit_heads_res_k_25@300.json\", \"w\"\n",
    ") as outfile:\n",
    "    json.dump(new, outfile)"
   ]
  },
  {
   "cell_type": "code",
   "execution_count": 32,
   "metadata": {},
   "outputs": [
    {
     "data": {
      "image/png": "[encoded data removed]",
      "text/plain": [
       "<Figure size 2200x500 with 1 Axes>"
      ]
     },
     "metadata": {},
     "output_type": "display_data"
    }
   ],
   "source": [
    "from matplotlib import pyplot as plt\n",
    "import matplotlib.ticker as mtick\n",
    "\n",
    "# with open('llama_direct_logit_heads_res_k_15.json', 'r') as f:\n",
    "#   res = json.load(f)\n",
    "\n",
    "names = []\n",
    "scores = []\n",
    "\n",
    "for k in res:\n",
    "    new_k = str(k)\n",
    "    names.append(str((int(new_k.split(\".\")[2]), int(new_k.split(\",\")[1][1:-1]))))\n",
    "    scores.append((res[k][0] / res[k][1] - 1))\n",
    "\n",
    "f, ax = plt.subplots(figsize=(22, 5))\n",
    "plt.bar(names, scores)\n",
    "plt.title(\"direct logit heads, k=25\")\n",
    "plt.xlabel(\"heads\")\n",
    "plt.ylabel(\"change in accuracy\")\n",
    "plt.xticks(rotation=90)\n",
    "plt.gca().yaxis.set_major_formatter(mtick.PercentFormatter(1))\n",
    "plt.show()"
   ]
  },
  {
   "cell_type": "code",
   "execution_count": 123,
   "metadata": {},
   "outputs": [
    {
     "data": {
      "image/png": "[encoded data removed]",
      "text/plain": [
       "<Figure size 2200x500 with 1 Axes>"
      ]
     },
     "metadata": {},
     "output_type": "display_data"
    }
   ],
   "source": [
    "from matplotlib import pyplot as plt\n",
    "import matplotlib.ticker as mtick\n",
    "\n",
    "# with open('llama_direct_logit_heads_res_k_15.json', 'r') as f:\n",
    "#   res = json.load(f)\n",
    "\n",
    "names = []\n",
    "scores = []\n",
    "\n",
    "for k in res:\n",
    "    new_k = str(k)\n",
    "    names.append(str((int(new_k.split(\".\")[2]), int(new_k.split(\",\")[1][1:-1]))))\n",
    "    scores.append((res[k][0] / res[k][1] - 1))\n",
    "\n",
    "f, ax = plt.subplots(figsize=(22, 5))\n",
    "plt.bar(names, scores)\n",
    "plt.title(\"direct logit heads, k=20\")\n",
    "plt.xlabel(\"heads\")\n",
    "plt.ylabel(\"change in accuracy\")\n",
    "plt.xticks(rotation=90)\n",
    "plt.gca().yaxis.set_major_formatter(mtick.PercentFormatter(1))\n",
    "plt.show()"
   ]
  },
  {
   "cell_type": "code",
   "execution_count": 22,
   "metadata": {},
   "outputs": [
    {
     "data": {
      "image/png": "[encoded data removed]",
      "text/plain": [
       "<Figure size 2200x500 with 1 Axes>"
      ]
     },
     "metadata": {},
     "output_type": "display_data"
    }
   ],
   "source": [
    "from matplotlib import pyplot as plt\n",
    "import matplotlib.ticker as mtick\n",
    "\n",
    "# with open('llama_direct_logit_heads_res_k_15.json', 'r') as f:\n",
    "#   res = json.load(f)\n",
    "\n",
    "names = []\n",
    "scores = []\n",
    "\n",
    "for k in res:\n",
    "    new_k = str(k)\n",
    "    names.append(str((int(new_k.split(\".\")[2]), int(new_k.split(\",\")[1][1:-1]))))\n",
    "    scores.append((res[k][0] / res[k][1] - 1))\n",
    "\n",
    "f, ax = plt.subplots(figsize=(22, 5))\n",
    "plt.bar(names, scores)\n",
    "plt.title(\"direct logit heads, k=5\")\n",
    "plt.xlabel(\"heads\")\n",
    "plt.ylabel(\"change in accuracy\")\n",
    "plt.xticks(rotation=90)\n",
    "plt.gca().yaxis.set_major_formatter(mtick.PercentFormatter(1))\n",
    "plt.show()"
   ]
  },
  {
   "cell_type": "code",
   "execution_count": 54,
   "metadata": {},
   "outputs": [
    {
     "data": {
      "image/png": "[encoded data removed]",
      "text/plain": [
       "<Figure size 2200x500 with 1 Axes>"
      ]
     },
     "metadata": {},
     "output_type": "display_data"
    }
   ],
   "source": [
    "from matplotlib import pyplot as plt\n",
    "import matplotlib.ticker as mtick\n",
    "\n",
    "# with open('llama_direct_logit_heads_res_k_15.json', 'r') as f:\n",
    "#   res = json.load(f)\n",
    "\n",
    "names = []\n",
    "scores = []\n",
    "\n",
    "for k in res:\n",
    "    new_k = str(k)\n",
    "    names.append(str((int(new_k.split(\".\")[2]), int(new_k.split(\",\")[1][1:-1]))))\n",
    "    scores.append((res[k][0] / res[k][1] - 1))\n",
    "\n",
    "f, ax = plt.subplots(figsize=(22, 5))\n",
    "plt.bar(names, scores)\n",
    "plt.title(\"direct logit heads, k=15\")\n",
    "plt.xlabel(\"heads\")\n",
    "plt.ylabel(\"change in accuracy\")\n",
    "plt.xticks(rotation=90)\n",
    "plt.gca().yaxis.set_major_formatter(mtick.PercentFormatter(1))\n",
    "plt.show()"
   ]
  },
  {
   "cell_type": "code",
   "execution_count": 56,
   "metadata": {},
   "outputs": [
    {
     "data": {
      "image/png": "[encoded data removed]",
      "text/plain": [
       "<Figure size 2200x500 with 1 Axes>"
      ]
     },
     "metadata": {},
     "output_type": "display_data"
    }
   ],
   "source": [
    "from matplotlib import pyplot as plt\n",
    "import matplotlib.ticker as mtick\n",
    "\n",
    "# with open('llama_direct_logit_heads_res_k_15.json', 'r') as f:\n",
    "#   res = json.load(f)\n",
    "\n",
    "names = []\n",
    "scores = []\n",
    "\n",
    "for k in res:\n",
    "    names.append(str((int(k.split(\".\")[2]), int(k.split(\",\")[1][1:-1]))))\n",
    "    scores.append((res[k][0] / res[k][1] - 1))\n",
    "\n",
    "f, ax = plt.subplots(figsize=(22, 5))\n",
    "plt.bar(names, scores)\n",
    "plt.title(\"direct logit heads, k=15\")\n",
    "plt.xlabel(\"heads\")\n",
    "plt.ylabel(\"change in accuracy\")\n",
    "plt.gca().yaxis.set_major_formatter(mtick.PercentFormatter(1))\n",
    "plt.show()"
   ]
  },
  {
   "cell_type": "markdown",
   "metadata": {},
   "source": [
    "## Remove nodes with low score \n"
   ]
  },
  {
   "cell_type": "code",
   "execution_count": 28,
   "metadata": {},
   "outputs": [],
   "source": [
    "n_value_fetcher = 58\n",
    "n_pos_trans = 10\n",
    "n_pos_detect = 25\n",
    "n_struct_read = 5"
   ]
  },
  {
   "cell_type": "code",
   "execution_count": 29,
   "metadata": {},
   "outputs": [],
   "source": [
    "with open(\n",
    "    \"../path_patching/minimality_results/direct_logit_heads_15_significance.json\", \"r\"\n",
    ") as f:\n",
    "    llama_direct_logit_heads_res_k_15 = json.load(f)\n",
    "\n",
    "with open(\n",
    "    \"../path_patching/minimality_results/head_at_query_box_token_new_8_significance.json\", \"r\"\n",
    ") as f:\n",
    "    llama_head_at_query_box_token_res_k_10 = json.load(f)\n",
    "\n",
    "with open(\n",
    "    \"../path_patching/minimality_results/heads_affecting_direct_logit_heads_3_significance.json\",\n",
    "    \"r\",\n",
    ") as f:\n",
    "    llama_heads_affecting_direct_logit_heads_res_k_5 = json.load(f)\n",
    "\n",
    "with open(\n",
    "    \"../path_patching/minimality_results/llama_heads_at_prev_box_pos_2_significance.json\", \"r\"\n",
    ") as f:\n",
    "    llama_heads_at_prev_box_pos_k_3 = json.load(f)"
   ]
  },
  {
   "cell_type": "code",
   "execution_count": 33,
   "metadata": {},
   "outputs": [
    {
     "name": "stdout",
     "output_type": "stream",
     "text": [
      "Direct Logit Heads: 40\n",
      "Heads Affecting Direct Logit Heads: 7\n",
      "Heads at Query Box Token: 20\n",
      "Heads at Prev Box Pos: 5\n",
      "Total #heads: 72\n"
     ]
    }
   ],
   "source": [
    "circuit_components = {}\n",
    "circuit_components[0] = defaultdict(list)\n",
    "circuit_components[2] = defaultdict(list)\n",
    "circuit_components[-1] = defaultdict(list)\n",
    "circuit_components[-2] = defaultdict(list)\n",
    "\n",
    "root_path = \"../path_patching/Sat_Dec__9_15:16:21_2023/path_patching_results/20\"\n",
    "path = root_path + \"/direct_logit_heads.pt\"\n",
    "logit_values = torch.load(path)\n",
    "direct_logit_heads, _ = analysis_utils.compute_topk_components(\n",
    "    torch.load(path), k=n_value_fetcher, largest=False\n",
    ")\n",
    "\n",
    "path = root_path + \"/heads_affect_direct_logit.pt\"\n",
    "logit_values = torch.load(path)\n",
    "heads_affecting_direct_logit_heads, _ = analysis_utils.compute_topk_components(\n",
    "    torch.load(path), k=n_pos_trans, largest=False\n",
    ")\n",
    "\n",
    "path = root_path + \"/heads_at_query_box_pos.pt\"\n",
    "logit_values = torch.load(path)\n",
    "head_at_query_box_token, _ = analysis_utils.compute_topk_components(\n",
    "    torch.load(path), k=n_pos_detect, largest=False\n",
    ")\n",
    "\n",
    "path = root_path + \"/heads_at_prev_query_box_pos.pt\"\n",
    "logit_values = torch.load(path)\n",
    "heads_at_prev_box_pos, _ = analysis_utils.compute_topk_components(\n",
    "    torch.load(path), k=n_struct_read, largest=False\n",
    ")\n",
    "\n",
    "intersection = []\n",
    "for head in direct_logit_heads:\n",
    "    if head in heads_affecting_direct_logit_heads:\n",
    "        intersection.append(head)\n",
    "\n",
    "for head in intersection:\n",
    "    direct_logit_heads.remove(head)\n",
    "\n",
    "minimality_threshold = 1 / 100\n",
    "\n",
    "for k in llama_direct_logit_heads_res_k_15:\n",
    "    if (\n",
    "        llama_direct_logit_heads_res_k_15[k][0]\n",
    "        / llama_direct_logit_heads_res_k_15[k][1]\n",
    "    ) - 1 < minimality_threshold:\n",
    "        head = [int(k.split(\".\")[2]), int(k.split(\",\")[1][1:-1])]\n",
    "        direct_logit_heads.remove(head)\n",
    "\n",
    "for k in llama_head_at_query_box_token_res_k_10:\n",
    "    if (\n",
    "        llama_head_at_query_box_token_res_k_10[k][0]\n",
    "        / llama_head_at_query_box_token_res_k_10[k][1]\n",
    "    ) - 1 < minimality_threshold:\n",
    "        head = [int(k.split(\".\")[2]), int(k.split(\",\")[1][1:-1])]\n",
    "        head_at_query_box_token.remove(head)\n",
    "\n",
    "for k in llama_heads_affecting_direct_logit_heads_res_k_5:\n",
    "    if (\n",
    "        llama_heads_affecting_direct_logit_heads_res_k_5[k][0]\n",
    "        / llama_heads_affecting_direct_logit_heads_res_k_5[k][1]\n",
    "    ) - 1 < minimality_threshold:\n",
    "        head = [int(k.split(\".\")[2]), int(k.split(\",\")[1][1:-1])]\n",
    "        heads_affecting_direct_logit_heads.remove(head)\n",
    "\n",
    "for k in llama_heads_at_prev_box_pos_k_3:\n",
    "    if (\n",
    "        llama_heads_at_prev_box_pos_k_3[k][0] / llama_heads_at_prev_box_pos_k_3[k][1]\n",
    "    ) - 1 < minimality_threshold:\n",
    "        head = [int(k.split(\".\")[2]), int(k.split(\",\")[1][1:-1])]\n",
    "        heads_at_prev_box_pos.remove(head)\n",
    "\n",
    "print(f\"Direct Logit Heads: {len(direct_logit_heads)}\")\n",
    "print(f\"Heads Affecting Direct Logit Heads: {len(heads_affecting_direct_logit_heads)}\")\n",
    "print(f\"Heads at Query Box Token: {len(head_at_query_box_token)}\")\n",
    "print(f\"Heads at Prev Box Pos: {len(heads_at_prev_box_pos)}\")\n",
    "print(\n",
    "    f\"Total #heads: {len(direct_logit_heads) + len(heads_affecting_direct_logit_heads) + len(head_at_query_box_token) + len(heads_at_prev_box_pos)}\"\n",
    ")"
   ]
  },
  {
   "cell_type": "code",
   "execution_count": 34,
   "metadata": {},
   "outputs": [],
   "source": [
    "for layer_idx, head in direct_logit_heads:\n",
    "    if model.config.architectures[0] == \"LlamaForCausalLM\":\n",
    "        layer = f\"model.layers.{layer_idx}.self_attn.o_proj\"\n",
    "    else:\n",
    "        layer = f\"base_model.model.model.layers.{layer_idx}.self_attn.o_proj\"\n",
    "    circuit_components[0][layer].append(head)\n",
    "\n",
    "for layer_idx, head in heads_affecting_direct_logit_heads:\n",
    "    if model.config.architectures[0] == \"LlamaForCausalLM\":\n",
    "        layer = f\"model.layers.{layer_idx}.self_attn.o_proj\"\n",
    "    else:\n",
    "        layer = f\"base_model.model.model.layers.{layer_idx}.self_attn.o_proj\"\n",
    "    circuit_components[0][layer].append(head)\n",
    "\n",
    "\n",
    "for layer_idx, head in head_at_query_box_token:\n",
    "    if model.config.architectures[0] == \"LlamaForCausalLM\":\n",
    "        layer = f\"model.layers.{layer_idx}.self_attn.o_proj\"\n",
    "    else:\n",
    "        layer = f\"base_model.model.model.layers.{layer_idx}.self_attn.o_proj\"\n",
    "    circuit_components[2][layer].append(head)\n",
    "\n",
    "\n",
    "for layer_idx, head in heads_at_prev_box_pos:\n",
    "    if model.config.architectures[0] == \"LlamaForCausalLM\":\n",
    "        layer = f\"model.layers.{layer_idx}.self_attn.o_proj\"\n",
    "    else:\n",
    "        layer = f\"base_model.model.model.layers.{layer_idx}.self_attn.o_proj\"\n",
    "    circuit_components[-1][layer].append(head)"
   ]
  },
  {
   "cell_type": "code",
   "execution_count": 35,
   "metadata": {},
   "outputs": [
    {
     "name": "stderr",
     "output_type": "stream",
     "text": [
      " 20%|██        | 2/10 [00:08<00:32,  4.07s/it]"
     ]
    },
    {
     "name": "stderr",
     "output_type": "stream",
     "text": [
      "100%|██████████| 10/10 [00:40<00:00,  4.08s/it]"
     ]
    },
    {
     "name": "stdout",
     "output_type": "stream",
     "text": [
      "Task accuracy: 0.66\n"
     ]
    },
    {
     "name": "stderr",
     "output_type": "stream",
     "text": [
      "\n"
     ]
    },
    {
     "data": {
      "text/plain": [
       "0.66"
      ]
     },
     "execution_count": 35,
     "metadata": {},
     "output_type": "execute_result"
    }
   ],
   "source": [
    "eval(model, dataloader, modules, circuit_components, mean_activations)"
   ]
  },
  {
   "cell_type": "code",
   "execution_count": 41,
   "metadata": {},
   "outputs": [],
   "source": [
    "circuit_heads = {\n",
    "    \"direct_logit_heads\": direct_logit_heads,\n",
    "    \"heads_affecting_direct_logit_heads\": heads_affecting_direct_logit_heads,\n",
    "    \"head_at_query_box_token\": head_at_query_box_token,\n",
    "    \"heads_at_prev_box_pos\": heads_at_prev_box_pos,\n",
    "}"
   ]
  },
  {
   "cell_type": "code",
   "execution_count": 42,
   "metadata": {},
   "outputs": [],
   "source": [
    "# Save circuit heads to json file\n",
    "with open(\"../new_circuit_heads.json\", \"w\") as outfile:\n",
    "    json.dump(circuit_heads, outfile)"
   ]
  },
  {
   "cell_type": "markdown",
   "metadata": {},
   "source": [
    "## Circuit Performance"
   ]
  },
  {
   "cell_type": "code",
   "execution_count": 15,
   "metadata": {},
   "outputs": [],
   "source": [
    "with open(\"../new_circuit_heads.json\", \"r\") as file:\n",
    "    circuit_heads = json.load(file)"
   ]
  },
  {
   "cell_type": "code",
   "execution_count": 16,
   "metadata": {},
   "outputs": [
    {
     "name": "stdout",
     "output_type": "stream",
     "text": [
      "Direct Logit Heads: 40\n",
      "Heads Affecting Direct Logit Heads: 7\n",
      "Heads at Query Box Token: 20\n",
      "Heads at Prev Box Pos: 5\n",
      "Total #heads: 72\n"
     ]
    }
   ],
   "source": [
    "direct_logit_heads = circuit_heads[\"direct_logit_heads\"]\n",
    "heads_affecting_direct_logit_heads = circuit_heads[\"heads_affecting_direct_logit_heads\"]\n",
    "head_at_query_box_token = circuit_heads[\"head_at_query_box_token\"]\n",
    "heads_at_prev_box_pos = circuit_heads[\"heads_at_prev_box_pos\"]\n",
    "\n",
    "print(f\"Direct Logit Heads: {len(direct_logit_heads)}\")\n",
    "print(f\"Heads Affecting Direct Logit Heads: {len(heads_affecting_direct_logit_heads)}\")\n",
    "print(f\"Heads at Query Box Token: {len(head_at_query_box_token)}\")\n",
    "print(f\"Heads at Prev Box Pos: {len(heads_at_prev_box_pos)}\")\n",
    "print(\n",
    "    f\"Total #heads: {len(direct_logit_heads) + len(heads_affecting_direct_logit_heads) + len(head_at_query_box_token) + len(heads_at_prev_box_pos)}\"\n",
    ")"
   ]
  },
  {
   "cell_type": "code",
   "execution_count": 17,
   "metadata": {},
   "outputs": [],
   "source": [
    "circuit_components = {}\n",
    "circuit_components[0] = defaultdict(list)\n",
    "circuit_components[2] = defaultdict(list)\n",
    "circuit_components[-1] = defaultdict(list)\n",
    "circuit_components[-2] = defaultdict(list)\n",
    "\n",
    "for layer_idx, head in direct_logit_heads:\n",
    "    if model.config.architectures[0] == \"LlamaForCausalLM\":\n",
    "        layer = f\"model.layers.{layer_idx}.self_attn.o_proj\"\n",
    "    else:\n",
    "        layer = f\"base_model.model.model.layers.{layer_idx}.self_attn.o_proj\"\n",
    "    circuit_components[0][layer].append(head)\n",
    "\n",
    "for layer_idx, head in heads_affecting_direct_logit_heads:\n",
    "    if model.config.architectures[0] == \"LlamaForCausalLM\":\n",
    "        layer = f\"model.layers.{layer_idx}.self_attn.o_proj\"\n",
    "    else:\n",
    "        layer = f\"base_model.model.model.layers.{layer_idx}.self_attn.o_proj\"\n",
    "    circuit_components[0][layer].append(head)\n",
    "\n",
    "\n",
    "for layer_idx, head in head_at_query_box_token:\n",
    "    if model.config.architectures[0] == \"LlamaForCausalLM\":\n",
    "        layer = f\"model.layers.{layer_idx}.self_attn.o_proj\"\n",
    "    else:\n",
    "        layer = f\"base_model.model.model.layers.{layer_idx}.self_attn.o_proj\"\n",
    "    circuit_components[2][layer].append(head)\n",
    "\n",
    "\n",
    "for layer_idx, head in heads_at_prev_box_pos:\n",
    "    if model.config.architectures[0] == \"LlamaForCausalLM\":\n",
    "        layer = f\"model.layers.{layer_idx}.self_attn.o_proj\"\n",
    "    else:\n",
    "        layer = f\"base_model.model.model.layers.{layer_idx}.self_attn.o_proj\"\n",
    "    circuit_components[-1][layer].append(head)"
   ]
  },
  {
   "cell_type": "code",
   "execution_count": 18,
   "metadata": {},
   "outputs": [
    {
     "name": "stderr",
     "output_type": "stream",
     "text": [
      "  0%|          | 0/10 [00:00<?, ?it/s]"
     ]
    },
    {
     "name": "stderr",
     "output_type": "stream",
     "text": [
      "100%|██████████| 10/10 [00:41<00:00,  4.18s/it]"
     ]
    },
    {
     "name": "stdout",
     "output_type": "stream",
     "text": [
      "Task accuracy: 0.66\n"
     ]
    },
    {
     "name": "stderr",
     "output_type": "stream",
     "text": [
      "\n"
     ]
    },
    {
     "data": {
      "text/plain": [
       "0.66"
      ]
     },
     "execution_count": 18,
     "metadata": {},
     "output_type": "execute_result"
    }
   ],
   "source": [
    "eval(model, dataloader, modules, circuit_components, mean_activations)"
   ]
  },
  {
   "cell_type": "markdown",
   "metadata": {},
   "source": [
    "## Computing performance of initial circuits"
   ]
  },
  {
   "cell_type": "code",
   "execution_count": 18,
   "metadata": {},
   "outputs": [],
   "source": [
    "# Find all directories in the root directory\n",
    "root_dir = \"/home/local_nikhil/Projects/Anima-2.0/path_patching/Sat_Dec_23_14:13:13_2023/goat_pp_results\"\n",
    "# root_dir = \"/home/local_nikhil/Projects/Anima-2.0/path_patching/Mon_Dec__4_04:16:04_2023/path_patching_results\"\n",
    "dirs = [f for f in os.listdir(root_dir) if os.path.isdir(os.path.join(root_dir, f))]\n",
    "dirs = [os.path.join(root_dir, d) for d in dirs]"
   ]
  },
  {
   "cell_type": "code",
   "execution_count": 44,
   "metadata": {},
   "outputs": [],
   "source": [
    "n_value_fetcher = 101\n",
    "n_pos_trans = 30\n",
    "n_pos_detect = 50\n",
    "n_struct_read = 40"
   ]
  },
  {
   "cell_type": "code",
   "execution_count": 45,
   "metadata": {},
   "outputs": [
    {
     "name": "stdout",
     "output_type": "stream",
     "text": [
      "/home/local_nikhil/Projects/Anima-2.0/path_patching/Sat_Dec_23_14:13:13_2023/goat_pp_results/82\n",
      "80 30 50 40\n"
     ]
    },
    {
     "name": "stderr",
     "output_type": "stream",
     "text": [
      "  0%|          | 0/10 [00:00<?, ?it/s]"
     ]
    },
    {
     "name": "stderr",
     "output_type": "stream",
     "text": [
      "100%|██████████| 10/10 [00:42<00:00,  4.27s/it]"
     ]
    },
    {
     "name": "stdout",
     "output_type": "stream",
     "text": [
      "Task accuracy: 0.81\n"
     ]
    },
    {
     "name": "stderr",
     "output_type": "stream",
     "text": [
      "\n"
     ]
    }
   ],
   "source": [
    "for subdir in dirs:\n",
    "    if \"/82\" not in subdir:\n",
    "        continue\n",
    "    print(subdir)\n",
    "    circuit_components = {}\n",
    "    circuit_components[0] = defaultdict(list)\n",
    "    circuit_components[2] = defaultdict(list)\n",
    "    circuit_components[-1] = defaultdict(list)\n",
    "\n",
    "    root_path = subdir\n",
    "    path = root_path + \"/value_fetcher.pt\"\n",
    "    logit_values = torch.load(path)\n",
    "    direct_logit_heads, _ = analysis_utils.compute_topk_components(\n",
    "        torch.load(path), k=n_value_fetcher, largest=False\n",
    "    )\n",
    "\n",
    "    path = root_path + \"/pos_transmitter.pt\"\n",
    "    logit_values = torch.load(path)\n",
    "    heads_affecting_direct_logit_heads, _ = analysis_utils.compute_topk_components(\n",
    "        torch.load(path), k=n_pos_trans, largest=False\n",
    "    )\n",
    "\n",
    "    path = root_path + \"/pos_detector.pt\"\n",
    "    logit_values = torch.load(path)\n",
    "    head_at_query_box_token, _ = analysis_utils.compute_topk_components(\n",
    "        torch.load(path), k=n_pos_detect, largest=False\n",
    "    )\n",
    "\n",
    "    path = root_path + \"/struct_reader.pt\"\n",
    "    logit_values = torch.load(path)\n",
    "    heads_at_prev_box_pos, _ = analysis_utils.compute_topk_components(\n",
    "        torch.load(path), k=n_struct_read, largest=False\n",
    "    )\n",
    "\n",
    "    intersection = []\n",
    "    for head in direct_logit_heads:\n",
    "        if head in heads_affecting_direct_logit_heads:\n",
    "            intersection.append(head)\n",
    "\n",
    "    for head in intersection:\n",
    "        direct_logit_heads.remove(head)\n",
    "\n",
    "    print(\n",
    "        len(direct_logit_heads),\n",
    "        len(heads_affecting_direct_logit_heads),\n",
    "        len(head_at_query_box_token),\n",
    "        len(heads_at_prev_box_pos),\n",
    "    )\n",
    "\n",
    "    for layer_idx, head in direct_logit_heads:\n",
    "        if model.config.architectures[0] == \"LlamaForCausalLM\":\n",
    "            layer = f\"model.layers.{layer_idx}.self_attn.o_proj\"\n",
    "        else:\n",
    "            layer = f\"base_model.model.model.layers.{layer_idx}.self_attn.o_proj\"\n",
    "        circuit_components[0][layer].append(head)\n",
    "\n",
    "    for layer_idx, head in heads_affecting_direct_logit_heads:\n",
    "        if model.config.architectures[0] == \"LlamaForCausalLM\":\n",
    "            layer = f\"model.layers.{layer_idx}.self_attn.o_proj\"\n",
    "        else:\n",
    "            layer = f\"base_model.model.model.layers.{layer_idx}.self_attn.o_proj\"\n",
    "        circuit_components[0][layer].append(head)\n",
    "\n",
    "    for layer_idx, head in head_at_query_box_token:\n",
    "        if model.config.architectures[0] == \"LlamaForCausalLM\":\n",
    "            layer = f\"model.layers.{layer_idx}.self_attn.o_proj\"\n",
    "        else:\n",
    "            layer = f\"base_model.model.model.layers.{layer_idx}.self_attn.o_proj\"\n",
    "        circuit_components[2][layer].append(head)\n",
    "\n",
    "    for layer_idx, head in heads_at_prev_box_pos:\n",
    "        if model.config.architectures[0] == \"LlamaForCausalLM\":\n",
    "            layer = f\"model.layers.{layer_idx}.self_attn.o_proj\"\n",
    "        else:\n",
    "            layer = f\"base_model.model.model.layers.{layer_idx}.self_attn.o_proj\"\n",
    "        circuit_components[-1][layer].append(head)\n",
    "\n",
    "    for pos in circuit_components.keys():\n",
    "        for layer_idx in circuit_components[pos].keys():\n",
    "            circuit_components[pos][layer_idx] = list(\n",
    "                set(circuit_components[pos][layer_idx])\n",
    "            )\n",
    "\n",
    "    eval(model, dataloader, modules, circuit_components, mean_activations)"
   ]
  },
  {
   "cell_type": "code",
   "execution_count": null,
   "metadata": {},
   "outputs": [],
   "source": []
  }
 ],
 "metadata": {
  "kernelspec": {
   "display_name": "Python 3 (ipykernel)",
   "language": "python",
   "name": "python3"
  },
  "language_info": {
   "codemirror_mode": {
    "name": "ipython",
    "version": 3
   },
   "file_extension": ".py",
   "mimetype": "text/x-python",
   "name": "python",
   "nbconvert_exporter": "python",
   "pygments_lexer": "ipython3",
   "version": "3.10.4"
  }
 },
 "nbformat": 4,
 "nbformat_minor": 4
}
