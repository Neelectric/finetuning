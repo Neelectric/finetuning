{
 "cells": [
  {
   "cell_type": "code",
   "execution_count": 1,
   "metadata": {},
   "outputs": [
    {
     "name": "stderr",
     "output_type": "stream",
     "text": [
      "/home/local_nikhil/.conda/envs/anima/lib/python3.10/site-packages/tqdm/auto.py:21: TqdmWarning: IProgress not found. Please update jupyter and ipywidgets. See https://ipywidgets.readthedocs.io/en/stable/user_install.html\n",
      "  from .autonotebook import tqdm as notebook_tqdm\n"
     ]
    }
   ],
   "source": [
    "import json\n",
    "from collections import defaultdict\n",
    "import torch\n",
    "from datasets import Dataset\n",
    "from torch.utils.data import DataLoader\n",
    "from transformers import LlamaTokenizer, LlamaForCausalLM\n",
    "from tqdm import tqdm\n",
    "from peft import PeftModel\n",
    "\n",
    "from pp_utils import get_model_and_tokenizer\n",
    "\n",
    "seed = 0\n",
    "torch.manual_seed(seed)\n",
    "\n",
    "device = torch.device(\"cuda\" if torch.cuda.is_available() else \"cpu\")"
   ]
  },
  {
   "cell_type": "code",
   "execution_count": 2,
   "metadata": {},
   "outputs": [
    {
     "name": "stderr",
     "output_type": "stream",
     "text": [
      "You are using the default legacy behaviour of the <class 'transformers.models.llama.tokenization_llama.LlamaTokenizer'>. This is expected, and simply means that the `legacy` (previous) behavior will be used so nothing changes for you. If you want to use the new behaviour, set `legacy=False`. This should only be set if you understand what it means, and thouroughly read the reason why this was added as explained in https://github.com/huggingface/transformers/pull/24565\n",
      "Loading checkpoint shards:   0%|          | 0/33 [00:00<?, ?it/s]"
     ]
    },
    {
     "name": "stderr",
     "output_type": "stream",
     "text": [
      "Loading checkpoint shards: 100%|██████████| 33/33 [00:12<00:00,  2.71it/s]\n"
     ]
    }
   ],
   "source": [
    "model, tokenizer = get_model_and_tokenizer(\"goat\")"
   ]
  },
  {
   "cell_type": "markdown",
   "metadata": {},
   "source": [
    "## Creating Counterfactual Data"
   ]
  },
  {
   "cell_type": "code",
   "execution_count": 3,
   "metadata": {},
   "outputs": [],
   "source": [
    "with open(\"../data/arithmetic_data_clean.json\", \"r\") as f:\n",
    "    clean_data = json.load(f)"
   ]
  },
  {
   "cell_type": "code",
   "execution_count": 16,
   "metadata": {},
   "outputs": [],
   "source": [
    "raw_data = defaultdict(list)\n",
    "n_digits = 5\n",
    "for idx, label in enumerate(clean_data[\"label\"]):\n",
    "    while True:\n",
    "        x = torch.randint(0, pow(10, n_digits), (1,)).item()\n",
    "        y = torch.randint(0, pow(10, n_digits), (1,)).item()\n",
    "        out = x + y\n",
    "\n",
    "        x_ = str(x).zfill(n_digits)\n",
    "        y_ = str(y).zfill(n_digits)\n",
    "        out = str(out).zfill(n_digits)\n",
    "        answer = out[0]\n",
    "\n",
    "        alphabets = [chr(i) for i in range(97, 123) if chr(i) != \"x\"]\n",
    "        first_var = alphabets[torch.randint(0, len(alphabets), (1,)).item()]\n",
    "\n",
    "        alphabets = [\n",
    "            chr(i) for i in range(97, 123) if chr(i) != \"y\" and chr(i) != first_var\n",
    "        ]\n",
    "        second_var = alphabets[torch.randint(0, len(alphabets), (1,)).item()]\n",
    "\n",
    "        if answer != label:\n",
    "            expression = (\n",
    "                f\"{first_var}={x_}; {second_var}={y_}; {first_var}+{second_var}=\"\n",
    "            )\n",
    "            raw_data[\"expression\"].append(expression)\n",
    "            raw_data[\"label\"].append(answer)\n",
    "            break\n",
    "\n",
    "with open(\"../data/arithmetic_data_corrupt.json\", \"w\") as f:\n",
    "    json.dump(raw_data, f)"
   ]
  },
  {
   "cell_type": "markdown",
   "metadata": {},
   "source": [
    "## Creating Clean Data"
   ]
  },
  {
   "cell_type": "code",
   "execution_count": null,
   "metadata": {},
   "outputs": [],
   "source": [
    "raw_data = defaultdict(list)\n",
    "answer_dist = defaultdict(int)\n",
    "n_digits = 5\n",
    "for x in torch.randint(0, pow(10, n_digits), (10000,)).tolist():\n",
    "    for y in torch.randint(0, pow(10, n_digits), (10000,)).tolist():\n",
    "        out = x + y\n",
    "\n",
    "        x_ = str(x).zfill(n_digits)\n",
    "        y_ = str(y).zfill(n_digits)\n",
    "        out = str(out).zfill(n_digits)\n",
    "        answer = out[0]\n",
    "\n",
    "        if answer in answer_dist:\n",
    "            if answer_dist[answer] > 1000:\n",
    "                continue\n",
    "            else:\n",
    "                answer_dist[answer] += 1\n",
    "        else:\n",
    "            answer_dist[answer] = 1\n",
    "\n",
    "        expression = f\"x={x_}; y={y_}; x+y=\"\n",
    "        raw_data[\"expression\"].append(expression)\n",
    "        raw_data[\"label\"].append(answer)\n",
    "\n",
    "# Save raw_data as a json file\n",
    "with open(\"../data/arithmetic_data_clean.json\", \"w\") as f:\n",
    "    json.dump(raw_data, f)"
   ]
  },
  {
   "cell_type": "markdown",
   "metadata": {},
   "source": [
    "## Evaluating Model"
   ]
  },
  {
   "cell_type": "code",
   "execution_count": null,
   "metadata": {},
   "outputs": [],
   "source": [
    "with open(\"../data/arithmetic_data_clean.json\", \"r\") as f:\n",
    "    raw_data = json.load(f)"
   ]
  },
  {
   "cell_type": "code",
   "execution_count": 6,
   "metadata": {},
   "outputs": [],
   "source": [
    "# Tokenize dataset['expression'] and store it in input_ids\n",
    "input_ids = tokenizer(\n",
    "    raw_data[\"expression\"],\n",
    "    return_tensors=\"pt\",\n",
    ")\n",
    "labels = tokenizer(\n",
    "    raw_data[\"label\"],\n",
    "    return_tensors=\"pt\",\n",
    ")\n",
    "labels = labels[\"input_ids\"][:, -1]\n",
    "\n",
    "dataset = Dataset.from_dict(\n",
    "    {\"input_ids\": input_ids[\"input_ids\"], \"labels\": labels}\n",
    ").with_format(\"torch\")\n",
    "\n",
    "dataloader = DataLoader(dataset, batch_size=64)"
   ]
  },
  {
   "cell_type": "code",
   "execution_count": 7,
   "metadata": {},
   "outputs": [
    {
     "name": "stderr",
     "output_type": "stream",
     "text": [
      "100%|██████████| 157/157 [03:02<00:00,  1.16s/it]"
     ]
    },
    {
     "name": "stdout",
     "output_type": "stream",
     "text": [
      "Accuracy: 0.88\n"
     ]
    },
    {
     "name": "stderr",
     "output_type": "stream",
     "text": [
      "\n"
     ]
    }
   ],
   "source": [
    "correct, total = 0, 0\n",
    "for data in tqdm(dataloader, total=len(dataloader)):\n",
    "    input_ids = data[\"input_ids\"].to(device)\n",
    "    labels = data[\"labels\"].to(device)\n",
    "\n",
    "    outputs = model(input_ids=input_ids)\n",
    "    logits = outputs.logits[:, -1]\n",
    "    predicted_index = torch.argmax(logits, dim=-1)\n",
    "\n",
    "    correct += (predicted_index == labels).sum().item()\n",
    "    total += labels.size(0)\n",
    "\n",
    "    del input_ids, labels, outputs, logits, predicted_index\n",
    "    torch.cuda.empty_cache()\n",
    "\n",
    "print(f\"Accuracy: {round(correct/total, 2)}\")"
   ]
  },
  {
   "cell_type": "code",
   "execution_count": null,
   "metadata": {},
   "outputs": [],
   "source": []
  }
 ],
 "metadata": {
  "kernelspec": {
   "display_name": "anima",
   "language": "python",
   "name": "python3"
  },
  "language_info": {
   "codemirror_mode": {
    "name": "ipython",
    "version": 3
   },
   "file_extension": ".py",
   "mimetype": "text/x-python",
   "name": "python",
   "nbconvert_exporter": "python",
   "pygments_lexer": "ipython3",
   "version": "3.10.4"
  }
 },
 "nbformat": 4,
 "nbformat_minor": 2
}
