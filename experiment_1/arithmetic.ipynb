{
 "cells": [
  {
   "cell_type": "code",
   "execution_count": 1,
   "metadata": {},
   "outputs": [
    {
     "name": "stderr",
     "output_type": "stream",
     "text": [
      "/home/local_nikhil/.conda/envs/anima/lib/python3.10/site-packages/tqdm/auto.py:21: TqdmWarning: IProgress not found. Please update jupyter and ipywidgets. See https://ipywidgets.readthedocs.io/en/stable/user_install.html\n",
      "  from .autonotebook import tqdm as notebook_tqdm\n"
     ]
    }
   ],
   "source": [
    "from collections import defaultdict\n",
    "import torch\n",
    "from datasets import Dataset\n",
    "from torch.utils.data import DataLoader\n",
    "from transformers import LlamaTokenizer, LlamaForCausalLM\n",
    "from tqdm import tqdm\n",
    "from peft import PeftModel\n",
    "\n",
    "seed = 0\n",
    "torch.manual_seed(seed)\n",
    "\n",
    "device = torch.device(\"cuda\" if torch.cuda.is_available() else \"cpu\")"
   ]
  },
  {
   "cell_type": "code",
   "execution_count": 2,
   "metadata": {},
   "outputs": [
    {
     "name": "stderr",
     "output_type": "stream",
     "text": [
      "You are using the default legacy behaviour of the <class 'transformers.models.llama.tokenization_llama.LlamaTokenizer'>. This is expected, and simply means that the `legacy` (previous) behavior will be used so nothing changes for you. If you want to use the new behaviour, set `legacy=False`. This should only be set if you understand what it means, and thouroughly read the reason why this was added as explained in https://github.com/huggingface/transformers/pull/24565\n"
     ]
    }
   ],
   "source": [
    "path = \"/home/local_nikhil/Projects/llama_weights/7B\"\n",
    "model = LlamaForCausalLM.from_pretrained(path).to(device)\n",
    "\n",
    "tokenizer = LlamaTokenizer.from_pretrained(\n",
    "    \"hf-internal-testing/llama-tokenizer\", padding_side=\"right\"\n",
    ")\n",
    "tokenizer.pad_token_id = tokenizer.eos_token_id"
   ]
  },
  {
   "cell_type": "code",
   "execution_count": 3,
   "metadata": {},
   "outputs": [],
   "source": [
    "raw_data = defaultdict(list)\n",
    "n_digits = 5\n",
    "for x in torch.randint(0, pow(10, n_digits), (100,)).tolist():\n",
    "    for y in torch.randint(0, pow(10, n_digits), (100,)).tolist():\n",
    "        out = x + y\n",
    "\n",
    "        x_ = str(x).zfill(n_digits)\n",
    "        y_ = str(y).zfill(n_digits)\n",
    "        out = str(out).zfill(n_digits)\n",
    "        answer = out[0]\n",
    "\n",
    "        expression = f\"x={x_}; y={y_}; x+y=\"\n",
    "        raw_data[\"expression\"].append(expression)\n",
    "        raw_data[\"label\"].append(answer)"
   ]
  },
  {
   "cell_type": "code",
   "execution_count": 4,
   "metadata": {},
   "outputs": [],
   "source": [
    "# Tokenize dataset['expression'] and store it in input_ids\n",
    "input_ids = tokenizer(\n",
    "    raw_data[\"expression\"],\n",
    "    return_tensors=\"pt\",\n",
    ")\n",
    "labels = tokenizer(\n",
    "    raw_data[\"label\"],\n",
    "    return_tensors=\"pt\",\n",
    ")\n",
    "labels = labels[\"input_ids\"][:, -1]\n",
    "\n",
    "dataset = Dataset.from_dict(\n",
    "    {\"input_ids\": input_ids[\"input_ids\"], \"labels\": labels}\n",
    ").with_format(\"torch\")\n",
    "\n",
    "dataloader = DataLoader(dataset, batch_size=64)"
   ]
  },
  {
   "cell_type": "code",
   "execution_count": 5,
   "metadata": {},
   "outputs": [
    {
     "name": "stderr",
     "output_type": "stream",
     "text": [
      "100%|██████████| 157/157 [03:55<00:00,  1.50s/it]"
     ]
    },
    {
     "name": "stdout",
     "output_type": "stream",
     "text": [
      "Accuracy: 0.67\n"
     ]
    },
    {
     "name": "stderr",
     "output_type": "stream",
     "text": [
      "\n"
     ]
    }
   ],
   "source": [
    "correct, total = 0, 0\n",
    "for data in tqdm(dataloader, total=len(dataloader)):\n",
    "    input_ids = data[\"input_ids\"].to(device)\n",
    "    labels = data[\"labels\"].to(device)\n",
    "\n",
    "    outputs = model(input_ids=input_ids)\n",
    "    logits = outputs.logits[:, -1]\n",
    "\n",
    "    # Get the predicted next token\n",
    "    predicted_index = torch.argmax(logits, dim=-1)\n",
    "\n",
    "    # If the prediction is correct, we add 1 to the correct counter\n",
    "    correct += (predicted_index == labels).sum().item()\n",
    "    total += labels.size(0)\n",
    "\n",
    "    del input_ids, labels, outputs, logits, predicted_index\n",
    "    torch.cuda.empty_cache()\n",
    "\n",
    "print(f\"Accuracy: {round(correct/total, 2)}\")"
   ]
  },
  {
   "cell_type": "code",
   "execution_count": null,
   "metadata": {},
   "outputs": [],
   "source": []
  }
 ],
 "metadata": {
  "kernelspec": {
   "display_name": "anima",
   "language": "python",
   "name": "python3"
  },
  "language_info": {
   "codemirror_mode": {
    "name": "ipython",
    "version": 3
   },
   "file_extension": ".py",
   "mimetype": "text/x-python",
   "name": "python",
   "nbconvert_exporter": "python",
   "pygments_lexer": "ipython3",
   "version": "3.10.4"
  }
 },
 "nbformat": 4,
 "nbformat_minor": 2
}
