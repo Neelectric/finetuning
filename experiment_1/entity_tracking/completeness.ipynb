{
 "cells": [
  {
   "cell_type": "code",
   "execution_count": 1,
   "metadata": {},
   "outputs": [
    {
     "name": "stderr",
     "output_type": "stream",
     "text": [
      "/home/local_nikhil/.conda/envs/anima/lib/python3.10/site-packages/tqdm/auto.py:21: TqdmWarning: IProgress not found. Please update jupyter and ipywidgets. See https://ipywidgets.readthedocs.io/en/stable/user_install.html\n",
      "  from .autonotebook import tqdm as notebook_tqdm\n"
     ]
    },
    {
     "data": {
      "text/plain": [
       "<torch._C.Generator at 0x7f56a92602b0>"
      ]
     },
     "execution_count": 1,
     "metadata": {},
     "output_type": "execute_result"
    }
   ],
   "source": [
    "import sys\n",
    "import json\n",
    "import copy\n",
    "import numpy as np\n",
    "import matplotlib.pyplot as plt\n",
    "import torch\n",
    "from collections import defaultdict\n",
    "from functools import partial\n",
    "from datasets import Dataset\n",
    "from torch.utils.data import DataLoader\n",
    "from transformers import LlamaTokenizer, LlamaForCausalLM\n",
    "from peft import PeftModel\n",
    "\n",
    "sys.path.append(\"../\")\n",
    "from data.data_utils import *\n",
    "\n",
    "from pp_utils import eval_circuit_performance, get_mean_activations, get_final_circuit\n",
    "\n",
    "device = torch.device(\"cuda\" if torch.cuda.is_available() else \"cpu\")\n",
    "\n",
    "seed = 5\n",
    "random.seed(seed)\n",
    "np.random.seed(seed)\n",
    "torch.manual_seed(seed)"
   ]
  },
  {
   "cell_type": "markdown",
   "metadata": {},
   "source": [
    "## Loading Model and Tokenizer"
   ]
  },
  {
   "cell_type": "code",
   "execution_count": 8,
   "metadata": {},
   "outputs": [
    {
     "name": "stderr",
     "output_type": "stream",
     "text": [
      "Loading checkpoint shards: 100%|██████████| 2/2 [00:05<00:00,  2.78s/it]\n",
      "You are using the default legacy behaviour of the <class 'transformers.models.llama.tokenization_llama.LlamaTokenizer'>. This is expected, and simply means that the `legacy` (previous) behavior will be used so nothing changes for you. If you want to use the new behaviour, set `legacy=False`. This should only be set if you understand what it means, and thouroughly read the reason why this was added as explained in https://github.com/huggingface/transformers/pull/24565\n"
     ]
    }
   ],
   "source": [
    "path = \"/home/local_nikhil/Projects/llama_weights/7B\"\n",
    "\n",
    "model = LlamaForCausalLM.from_pretrained(path).to(device)\n",
    "tokenizer = LlamaTokenizer.from_pretrained(\n",
    "    \"hf-internal-testing/llama-tokenizer\", padding_side=\"right\"\n",
    ")\n",
    "tokenizer.pad_token_id = tokenizer.eos_token_id"
   ]
  },
  {
   "cell_type": "markdown",
   "metadata": {},
   "source": [
    "## Loading Evaluation Data"
   ]
  },
  {
   "cell_type": "code",
   "execution_count": 3,
   "metadata": {},
   "outputs": [
    {
     "name": "stdout",
     "output_type": "stream",
     "text": [
      "Length of dataset: 500\n"
     ]
    }
   ],
   "source": [
    "data_file = \"../data/dataset.jsonl\"\n",
    "batch_size = 50\n",
    "\n",
    "raw_data = sample_box_data(\n",
    "    tokenizer=tokenizer,\n",
    "    num_samples=500,\n",
    "    data_file=data_file,\n",
    "    architecture=\"LlamaForCausalLM\",\n",
    ")\n",
    "\n",
    "dataset = Dataset.from_dict(\n",
    "    {\n",
    "        \"input_ids\": raw_data[0],\n",
    "        \"last_token_indices\": raw_data[1],\n",
    "        \"labels\": raw_data[2],\n",
    "    }\n",
    ").with_format(\"torch\")\n",
    "\n",
    "print(f\"Length of dataset: {len(dataset)}\")\n",
    "\n",
    "dataloader = DataLoader(dataset, batch_size=batch_size)"
   ]
  },
  {
   "cell_type": "markdown",
   "metadata": {},
   "source": [
    "## Loading Circuits"
   ]
  },
  {
   "cell_type": "code",
   "execution_count": 2,
   "metadata": {},
   "outputs": [],
   "source": [
    "with open(\"./results/circuits/llama_circuit.json\", \"r\") as f:\n",
    "    llama_circuit = json.load(f)\n",
    "\n",
    "with open(\"./results/circuits/goat_circuit.json\", \"r\") as f:\n",
    "    goat_circuit = json.load(f)"
   ]
  },
  {
   "cell_type": "code",
   "execution_count": 3,
   "metadata": {},
   "outputs": [
    {
     "name": "stdout",
     "output_type": "stream",
     "text": [
      "Llama Circuit\n",
      "Value Fetcher Heads: 40\n",
      "Position Transmitter Heads: 7\n",
      "Position Detector Heads: 20\n",
      "Structure Reader Heads: 5\n",
      "Total Heads: 72\n"
     ]
    }
   ],
   "source": [
    "print(\"Llama Circuit\")\n",
    "print(f\"Value Fetcher Heads: {len(llama_circuit['value_fetcher'])}\")\n",
    "print(f\"Position Transmitter Heads: {len(llama_circuit['pos_transmitter'])}\")\n",
    "print(f\"Position Detector Heads: {len(llama_circuit['pos_detector'])}\")\n",
    "print(f\"Structure Reader Heads: {len(llama_circuit['struct_reader'])}\")\n",
    "print(f\"Total Heads: {len(llama_circuit['value_fetcher']) + len(llama_circuit['pos_transmitter']) + len(llama_circuit['pos_detector']) + len(llama_circuit['struct_reader'])}\")"
   ]
  },
  {
   "cell_type": "code",
   "execution_count": 5,
   "metadata": {},
   "outputs": [
    {
     "name": "stdout",
     "output_type": "stream",
     "text": [
      "GOAT CIRCUIT\n",
      "Value Fetcher Heads: 68\n",
      "Position Transmitter Heads: 28\n",
      "Position Detector Heads: 40\n",
      "Structure Reader Heads: 39\n",
      "Total Heads: 175\n"
     ]
    }
   ],
   "source": [
    "print(\"GOAT CIRCUIT\")\n",
    "print(f\"Value Fetcher Heads: {len(goat_circuit['value_fetcher'])}\")\n",
    "print(f\"Position Transmitter Heads: {len(goat_circuit['pos_transmitter'])}\")\n",
    "print(f\"Position Detector Heads: {len(goat_circuit['pos_detector'])}\")\n",
    "print(f\"Structure Reader Heads: {len(goat_circuit['struct_reader'])}\")\n",
    "print(f\"Total Heads: {len(goat_circuit['value_fetcher']) + len(goat_circuit['pos_transmitter']) + len(goat_circuit['pos_detector']) + len(goat_circuit['struct_reader'])}\")"
   ]
  },
  {
   "cell_type": "code",
   "execution_count": 9,
   "metadata": {},
   "outputs": [],
   "source": [
    "value_fetcher = llama_circuit['value_fetcher']\n",
    "pos_transmitter = llama_circuit['pos_transmitter']\n",
    "pos_detector = llama_circuit['pos_detector']\n",
    "struct_reader = llama_circuit['struct_reader']\n",
    "\n",
    "circuit_components = get_final_circuit(model, llama_circuit)"
   ]
  },
  {
   "cell_type": "code",
   "execution_count": 10,
   "metadata": {},
   "outputs": [],
   "source": [
    "if model.config.architectures[0] == \"LlamaForCausalLM\":\n",
    "    modules = [f\"model.layers.{layer}.self_attn.o_proj\" for layer in range(32)]\n",
    "else:\n",
    "    modules = [f\"base_model.model.model.layers.{layer}.self_attn.o_proj\" for layer in range(32)]"
   ]
  },
  {
   "cell_type": "code",
   "execution_count": 9,
   "metadata": {},
   "outputs": [
    {
     "name": "stdout",
     "output_type": "stream",
     "text": [
      "Computing mean activations...\n"
     ]
    },
    {
     "name": "stderr",
     "output_type": "stream",
     "text": [
      "  0%|          | 0/10 [00:00<?, ?it/s]"
     ]
    },
    {
     "name": "stderr",
     "output_type": "stream",
     "text": [
      "100%|██████████| 10/10 [00:21<00:00,  2.14s/it]\n"
     ]
    }
   ],
   "source": [
    "mean_activations, modules = get_mean_activations(\n",
    "    model, tokenizer, data_file, num_samples=500, batch_size=50\n",
    ")"
   ]
  },
  {
   "cell_type": "markdown",
   "metadata": {},
   "source": [
    "## Random Sampling Method"
   ]
  },
  {
   "cell_type": "code",
   "execution_count": 10,
   "metadata": {},
   "outputs": [],
   "source": [
    "# dictionary for the full model\n",
    "full_model = {0:{}, 2:{}, -1:{}, -2:{}}\n",
    "for pos in full_model:\n",
    "    for layer in range(model.config.num_attention_heads):\n",
    "        if model.config.architectures[0] == \"LlamaForCausalLM\":\n",
    "            full_layer = f\"model.layers.{layer}.self_attn.o_proj\"\n",
    "        else:\n",
    "            full_layer = f\"base_model.model.model.layers.{layer}.self_attn.o_proj\"\n",
    "        full_model[pos][full_layer] = list(range(model.config.num_attention_heads))"
   ]
  },
  {
   "cell_type": "code",
   "execution_count": 11,
   "metadata": {},
   "outputs": [],
   "source": [
    "all_heads = []\n",
    "all_heads += [ copy.deepcopy(x) + [0] for x in value_fetcher]\n",
    "all_heads += [ copy.deepcopy(x) + [0] for x in pos_transmitter]\n",
    "all_heads += [ copy.deepcopy(x) + [2] for x in pos_detector]\n",
    "all_heads += [ copy.deepcopy(x) + [-1] for x in struct_reader]"
   ]
  },
  {
   "cell_type": "code",
   "execution_count": 12,
   "metadata": {},
   "outputs": [
    {
     "name": "stderr",
     "output_type": "stream",
     "text": [
      "  0%|          | 0/10 [00:00<?, ?it/s]"
     ]
    },
    {
     "name": "stderr",
     "output_type": "stream",
     "text": [
      "100%|██████████| 10/10 [00:42<00:00,  4.29s/it]\n",
      "100%|██████████| 10/10 [00:24<00:00,  2.46s/it]\n"
     ]
    },
    {
     "name": "stdout",
     "output_type": "stream",
     "text": [
      "Iteration 0: Circuit Acc: 0.0, Model Acc: 0.07\n",
      "\n"
     ]
    },
    {
     "name": "stderr",
     "output_type": "stream",
     "text": [
      "100%|██████████| 10/10 [00:43<00:00,  4.35s/it]\n",
      "100%|██████████| 10/10 [00:24<00:00,  2.49s/it]\n"
     ]
    },
    {
     "name": "stdout",
     "output_type": "stream",
     "text": [
      "Iteration 1: Circuit Acc: 0.01, Model Acc: 0.07\n",
      "\n"
     ]
    },
    {
     "name": "stderr",
     "output_type": "stream",
     "text": [
      "100%|██████████| 10/10 [00:43<00:00,  4.37s/it]\n",
      "100%|██████████| 10/10 [00:24<00:00,  2.49s/it]\n"
     ]
    },
    {
     "name": "stdout",
     "output_type": "stream",
     "text": [
      "Iteration 2: Circuit Acc: 0.0, Model Acc: 0.05\n",
      "\n"
     ]
    },
    {
     "name": "stderr",
     "output_type": "stream",
     "text": [
      "100%|██████████| 10/10 [00:43<00:00,  4.37s/it]\n",
      "100%|██████████| 10/10 [00:24<00:00,  2.50s/it]\n"
     ]
    },
    {
     "name": "stdout",
     "output_type": "stream",
     "text": [
      "Iteration 3: Circuit Acc: 0.0, Model Acc: 0.12\n",
      "\n"
     ]
    },
    {
     "name": "stderr",
     "output_type": "stream",
     "text": [
      "100%|██████████| 10/10 [00:43<00:00,  4.38s/it]\n",
      "100%|██████████| 10/10 [00:24<00:00,  2.50s/it]\n"
     ]
    },
    {
     "name": "stdout",
     "output_type": "stream",
     "text": [
      "Iteration 4: Circuit Acc: 0.01, Model Acc: 0.22\n",
      "\n"
     ]
    },
    {
     "name": "stderr",
     "output_type": "stream",
     "text": [
      "100%|██████████| 10/10 [00:43<00:00,  4.38s/it]\n",
      "100%|██████████| 10/10 [00:25<00:00,  2.50s/it]\n"
     ]
    },
    {
     "name": "stdout",
     "output_type": "stream",
     "text": [
      "Iteration 5: Circuit Acc: 0.0, Model Acc: 0.06\n",
      "\n"
     ]
    },
    {
     "name": "stderr",
     "output_type": "stream",
     "text": [
      "100%|██████████| 10/10 [00:43<00:00,  4.37s/it]\n",
      "100%|██████████| 10/10 [00:25<00:00,  2.50s/it]\n"
     ]
    },
    {
     "name": "stdout",
     "output_type": "stream",
     "text": [
      "Iteration 6: Circuit Acc: 0.01, Model Acc: 0.15\n",
      "\n"
     ]
    },
    {
     "name": "stderr",
     "output_type": "stream",
     "text": [
      "100%|██████████| 10/10 [00:43<00:00,  4.38s/it]\n",
      "100%|██████████| 10/10 [00:24<00:00,  2.50s/it]\n"
     ]
    },
    {
     "name": "stdout",
     "output_type": "stream",
     "text": [
      "Iteration 7: Circuit Acc: 0.02, Model Acc: 0.21\n",
      "\n"
     ]
    },
    {
     "name": "stderr",
     "output_type": "stream",
     "text": [
      "100%|██████████| 10/10 [00:43<00:00,  4.38s/it]\n",
      "100%|██████████| 10/10 [00:24<00:00,  2.50s/it]\n"
     ]
    },
    {
     "name": "stdout",
     "output_type": "stream",
     "text": [
      "Iteration 8: Circuit Acc: 0.0, Model Acc: 0.07\n",
      "\n"
     ]
    },
    {
     "name": "stderr",
     "output_type": "stream",
     "text": [
      "100%|██████████| 10/10 [00:43<00:00,  4.38s/it]\n",
      "100%|██████████| 10/10 [00:25<00:00,  2.50s/it]"
     ]
    },
    {
     "name": "stdout",
     "output_type": "stream",
     "text": [
      "Iteration 9: Circuit Acc: 0.0, Model Acc: 0.06\n",
      "\n"
     ]
    },
    {
     "name": "stderr",
     "output_type": "stream",
     "text": [
      "\n"
     ]
    }
   ],
   "source": [
    "num_iter = 10\n",
    "\n",
    "M_acc_random = []\n",
    "C_acc_random = []\n",
    "\n",
    "for idx in range(num_iter):\n",
    "    #Make a copy of both dictionaries\n",
    "    circuit_components_copy = copy.deepcopy(circuit_components)\n",
    "    full_model_copy = copy.deepcopy(full_model)\n",
    "\n",
    "    #Uniformly sample heads \n",
    "    rand_k = np.random.randint(2, size=len(all_heads))\n",
    "\n",
    "    #remove heads\n",
    "    for inx, j in enumerate(rand_k):\n",
    "        if j == 0:\n",
    "            head_index = all_heads[inx][1]\n",
    "            layer = all_heads[inx][0]\n",
    "            pos = all_heads[inx][2]\n",
    "            full_layer =  f\"model.layers.{layer}.self_attn.o_proj\"\n",
    "\n",
    "            #remove head from the circiut\n",
    "            circuit_components_copy[pos][full_layer].remove(head_index)\n",
    "            #remove head from the model\n",
    "            full_model_copy[pos][full_layer].remove(head_index)\n",
    "\n",
    "    #eval circuit/model\n",
    "    circuit_acc = eval_circuit_performance(model, dataloader, modules, circuit_components_copy, mean_activations)\n",
    "    model_acc = eval_circuit_performance(model, dataloader, modules, full_model_copy, mean_activations, ablate_non_vital_pos=False)\n",
    "\n",
    "    C_acc_random.append(circuit_acc)\n",
    "    M_acc_random.append(model_acc)\n",
    "    print(f\"Iteration {idx}: Circuit Acc: {circuit_acc}, Model Acc: {model_acc}\\n\")"
   ]
  },
  {
   "cell_type": "code",
   "execution_count": 13,
   "metadata": {},
   "outputs": [
    {
     "name": "stdout",
     "output_type": "stream",
     "text": [
      "Model: 0.11, 0.06\n",
      "Circuit: 0.0, 0.01\n",
      "Compeleteness scores: 0.1, 0.06\n"
     ]
    }
   ],
   "source": [
    "C_acc_random = np.array(C_acc_random)\n",
    "M_acc_random = np.array(M_acc_random)\n",
    "print(f\"Model: {round(np.mean(M_acc_random), 2)}, {round(np.std(M_acc_random), 2)}\")\n",
    "print(f\"Circuit: {round(np.mean(C_acc_random), 2)}, {round(np.std(C_acc_random), 2)}\")\n",
    "print(f\"Compeleteness scores: {round(np.mean(np.abs(M_acc_random - C_acc_random)), 2)}, {round(np.std(np.abs(M_acc_random - C_acc_random)), 2)}\")"
   ]
  },
  {
   "cell_type": "markdown",
   "metadata": {},
   "source": [
    "## Entire Class Method"
   ]
  },
  {
   "cell_type": "code",
   "execution_count": 14,
   "metadata": {},
   "outputs": [
    {
     "name": "stdout",
     "output_type": "stream",
     "text": [
      "value_fetcher:\n"
     ]
    },
    {
     "name": "stderr",
     "output_type": "stream",
     "text": [
      " 10%|█         | 1/10 [00:04<00:39,  4.40s/it]"
     ]
    },
    {
     "name": "stderr",
     "output_type": "stream",
     "text": [
      "100%|██████████| 10/10 [00:43<00:00,  4.39s/it]\n",
      "100%|██████████| 10/10 [00:25<00:00,  2.50s/it]\n"
     ]
    },
    {
     "name": "stdout",
     "output_type": "stream",
     "text": [
      "0.0 0.19 incompleteness score 0.19\n",
      "pos_transmitter:\n"
     ]
    },
    {
     "name": "stderr",
     "output_type": "stream",
     "text": [
      "100%|██████████| 10/10 [00:43<00:00,  4.36s/it]\n",
      "100%|██████████| 10/10 [00:24<00:00,  2.49s/it]\n"
     ]
    },
    {
     "name": "stdout",
     "output_type": "stream",
     "text": [
      "0.02 0.23 incompleteness score 0.21000000000000002\n",
      "pos_detector:\n"
     ]
    },
    {
     "name": "stderr",
     "output_type": "stream",
     "text": [
      "100%|██████████| 10/10 [00:43<00:00,  4.38s/it]\n",
      "100%|██████████| 10/10 [00:25<00:00,  2.51s/it]\n"
     ]
    },
    {
     "name": "stdout",
     "output_type": "stream",
     "text": [
      "0.02 0.04 incompleteness score 0.02\n",
      "struct_reader:\n"
     ]
    },
    {
     "name": "stderr",
     "output_type": "stream",
     "text": [
      "100%|██████████| 10/10 [00:43<00:00,  4.38s/it]\n",
      "100%|██████████| 10/10 [00:24<00:00,  2.49s/it]"
     ]
    },
    {
     "name": "stdout",
     "output_type": "stream",
     "text": [
      "0.46 0.58 incompleteness score 0.11999999999999994\n"
     ]
    },
    {
     "name": "stderr",
     "output_type": "stream",
     "text": [
      "\n"
     ]
    }
   ],
   "source": [
    "mean_score = 0\n",
    "M_acc_groups = []\n",
    "C_acc_groups = []\n",
    "\n",
    "def incompleteness_score(heads, pos):\n",
    "    circuit_components_copy = copy.deepcopy(circuit_components)\n",
    "    full_model_copy = copy.deepcopy(full_model)\n",
    "    \n",
    "        \n",
    "    for head in heads:\n",
    "        head_index = head[1]\n",
    "        layer = head[0]\n",
    "        full_layer =  f\"model.layers.{layer}.self_attn.o_proj\"\n",
    "    \n",
    "        #remove head from the circiut\n",
    "        circuit_components_copy[pos][full_layer].remove(head_index)\n",
    "        #remove head from the model\n",
    "        full_model_copy[pos][full_layer].remove(head_index)\n",
    "            \n",
    "    res_circuit = eval_circuit_performance(model, dataloader, modules, circuit_components_copy, mean_activations)\n",
    "    res_model = eval_circuit_performance(model, dataloader, modules, full_model_copy, mean_activations, ablate_non_vital_pos=False)\n",
    "    \n",
    "    print(res_circuit, res_model,\"incompleteness score\", abs(res_circuit - res_model))\n",
    "    return abs(res_circuit - res_model), res_circuit ,res_model\n",
    "\n",
    "\n",
    "print(\"Value Fetcher:\")\n",
    "score, res_circuit, res_model = incompleteness_score(value_fetcher, 0)\n",
    "M_acc_groups.append(res_model)\n",
    "C_acc_groups.append(res_circuit)\n",
    "mean_score += score/4\n",
    "\n",
    "print(\"Position Transmitter:\")\n",
    "score, res_circuit, res_model = incompleteness_score(pos_transmitter, 0)\n",
    "M_acc_groups.append(res_model)\n",
    "C_acc_groups.append(res_circuit)\n",
    "mean_score += score/4\n",
    "\n",
    "print(\"Position Detector:\")\n",
    "score, res_circuit, res_model = incompleteness_score(pos_detector, 2)\n",
    "M_acc_groups.append(res_model)\n",
    "C_acc_groups.append(res_circuit)\n",
    "mean_score += score/4\n",
    "\n",
    "print(\"Structure Reader:\")\n",
    "score, res_circuit, res_model = incompleteness_score(struct_reader, -1)\n",
    "M_acc_groups.append(res_model)\n",
    "C_acc_groups.append(res_circuit)\n",
    "mean_score += score/4"
   ]
  },
  {
   "cell_type": "markdown",
   "metadata": {},
   "source": [
    "## Visualization"
   ]
  },
  {
   "cell_type": "code",
   "execution_count": 16,
   "metadata": {},
   "outputs": [
    {
     "data": {
      "text/plain": [
       "<matplotlib.legend.Legend at 0x7f2cb98e7af0>"
      ]
     },
     "execution_count": 16,
     "metadata": {},
     "output_type": "execute_result"
    },
    {
     "data": {
      "image/png": "[encoded data removed]",
      "text/plain": [
       "<Figure size 640x480 with 1 Axes>"
      ]
     },
     "metadata": {},
     "output_type": "display_data"
    }
   ],
   "source": [
    "import matplotlib.pyplot as plt\n",
    "\n",
    "Random_C = C_acc_random\n",
    "Random_M = M_acc_random\n",
    "groups_C = C_acc_groups\n",
    "group_M = M_acc_groups\n",
    "\n",
    "fig, ax = plt.subplots()\n",
    "lables = ['random set', 'group A', 'group B', 'group C', 'group D']\n",
    "\n",
    "ax.scatter(Random_C , Random_M ,c=10 * ['r'], label='random set')\n",
    "ax.scatter(groups_C[0] ,group_M[0],c=['g'], label='group A', marker='D')\n",
    "ax.scatter(groups_C[1] ,group_M[1],c=['y'], label='group B', marker='D')\n",
    "ax.scatter(groups_C[2] ,group_M[2],c=['m'], label='group C', marker='D')\n",
    "ax.scatter(groups_C[3] ,group_M[3],c=['b'], label='group D', marker='D')\n",
    "\n",
    "\n",
    "ax.set_ylim(0,1)\n",
    "ax.set_xlim(0,1)\n",
    "ax.axline((0,0), slope=1,color='gainsboro',ls='--')\n",
    "\n",
    "ax.set_ylabel('F(M\\K)')\n",
    "ax.set_xlabel('F(C\\K)')\n",
    "ax.set_title('completeness tests')\n",
    "plt.grid()\n",
    "plt.legend(loc='lower right')\n"
   ]
  }
 ],
 "metadata": {
  "kernelspec": {
   "display_name": "anima",
   "language": "python",
   "name": "python3"
  },
  "language_info": {
   "codemirror_mode": {
    "name": "ipython",
    "version": 3
   },
   "file_extension": ".py",
   "mimetype": "text/x-python",
   "name": "python",
   "nbconvert_exporter": "python",
   "pygments_lexer": "ipython3",
   "version": "3.10.4"
  }
 },
 "nbformat": 4,
 "nbformat_minor": 2
}
