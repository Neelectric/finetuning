{
 "cells": [
  {
   "cell_type": "code",
   "execution_count": 1,
   "metadata": {},
   "outputs": [
    {
     "name": "stderr",
     "output_type": "stream",
     "text": [
      "/home/local_nikhil/.conda/envs/anima/lib/python3.10/site-packages/tqdm/auto.py:21: TqdmWarning: IProgress not found. Please update jupyter and ipywidgets. See https://ipywidgets.readthedocs.io/en/stable/user_install.html\n",
      "  from .autonotebook import tqdm as notebook_tqdm\n"
     ]
    },
    {
     "data": {
      "text/plain": [
       "<torch._C.Generator at 0x7f57d4934cf0>"
      ]
     },
     "execution_count": 1,
     "metadata": {},
     "output_type": "execute_result"
    }
   ],
   "source": [
    "import sys\n",
    "import json\n",
    "import numpy as np\n",
    "import torch\n",
    "import matplotlib.pyplot as plt\n",
    "import matplotlib.patches as mpatches\n",
    "from collections import defaultdict\n",
    "from functools import partial\n",
    "from datasets import Dataset\n",
    "from torch.utils.data import DataLoader\n",
    "from transformers import LlamaTokenizer, LlamaForCausalLM\n",
    "from tqdm import tqdm\n",
    "from peft import PeftModel\n",
    "\n",
    "sys.path.append(\"../\")\n",
    "from data.data_utils import *\n",
    "\n",
    "from pp_utils import (\n",
    "    compute_topk_components,\n",
    "    eval_circuit_performance,\n",
    "    get_mean_activations,\n",
    "    get_random_circuit,\n",
    ")\n",
    "\n",
    "device = torch.device(\"cuda\" if torch.cuda.is_available() else \"cpu\")\n",
    "\n",
    "seed = 5\n",
    "random.seed(seed)\n",
    "np.random.seed(seed)\n",
    "torch.manual_seed(seed)"
   ]
  },
  {
   "cell_type": "markdown",
   "metadata": {},
   "source": [
    "## Loading Evaluation Data"
   ]
  },
  {
   "cell_type": "code",
   "execution_count": 2,
   "metadata": {},
   "outputs": [
    {
     "name": "stderr",
     "output_type": "stream",
     "text": [
      "You are using the default legacy behaviour of the <class 'transformers.models.llama.tokenization_llama.LlamaTokenizer'>. This is expected, and simply means that the `legacy` (previous) behavior will be used so nothing changes for you. If you want to use the new behaviour, set `legacy=False`. This should only be set if you understand what it means, and thouroughly read the reason why this was added as explained in https://github.com/huggingface/transformers/pull/24565\n"
     ]
    }
   ],
   "source": [
    "tokenizer = LlamaTokenizer.from_pretrained(\n",
    "    \"hf-internal-testing/llama-tokenizer\", padding_side=\"right\"\n",
    ")\n",
    "tokenizer.pad_token_id = tokenizer.eos_token_id"
   ]
  },
  {
   "cell_type": "code",
   "execution_count": 3,
   "metadata": {},
   "outputs": [
    {
     "name": "stdout",
     "output_type": "stream",
     "text": [
      "Length of dataset: 500\n"
     ]
    }
   ],
   "source": [
    "data_file = \"../data/dataset.jsonl\"\n",
    "batch_size = 50\n",
    "\n",
    "raw_data = sample_box_data(\n",
    "    tokenizer=tokenizer,\n",
    "    num_samples=500,\n",
    "    data_file=data_file,\n",
    "    architecture=\"LlamaForCausalLM\",\n",
    ")\n",
    "\n",
    "dataset = Dataset.from_dict(\n",
    "    {\n",
    "        \"input_ids\": raw_data[0],\n",
    "        \"last_token_indices\": raw_data[1],\n",
    "        \"labels\": raw_data[2],\n",
    "    }\n",
    ").with_format(\"torch\")\n",
    "\n",
    "print(f\"Length of dataset: {len(dataset)}\")\n",
    "\n",
    "dataloader = DataLoader(dataset, batch_size=batch_size)"
   ]
  },
  {
   "cell_type": "markdown",
   "metadata": {},
   "source": [
    "## Loading Circuits"
   ]
  },
  {
   "cell_type": "code",
   "execution_count": 28,
   "metadata": {},
   "outputs": [],
   "source": [
    "with open(\"./results/circuits/llama_circuit.json\", \"r\") as f:\n",
    "    llama_circuit = json.load(f)\n",
    "\n",
    "with open(\"./results/circuits/goat_circuit.json\", \"r\") as f:\n",
    "    goat_circuit = json.load(f)"
   ]
  },
  {
   "cell_type": "code",
   "execution_count": 5,
   "metadata": {},
   "outputs": [
    {
     "name": "stdout",
     "output_type": "stream",
     "text": [
      "Llama Circuit\n",
      "Value Fetcher Heads: 40\n",
      "Position Transmitter Heads: 7\n",
      "Position Detector Heads: 20\n",
      "Structure Reader Heads: 5\n",
      "Total Heads: 72\n"
     ]
    }
   ],
   "source": [
    "print(\"Llama Circuit\")\n",
    "print(f\"Value Fetcher Heads: {len(llama_circuit['value_fetcher'])}\")\n",
    "print(f\"Position Transmitter Heads: {len(llama_circuit['pos_transmitter'])}\")\n",
    "print(f\"Position Detector Heads: {len(llama_circuit['pos_detector'])}\")\n",
    "print(f\"Structure Reader Heads: {len(llama_circuit['struct_reader'])}\")\n",
    "print(\n",
    "    f\"Total Heads: {len(llama_circuit['value_fetcher']) + len(llama_circuit['pos_transmitter']) + len(llama_circuit['pos_detector']) + len(llama_circuit['struct_reader'])}\"\n",
    ")"
   ]
  },
  {
   "cell_type": "code",
   "execution_count": 29,
   "metadata": {},
   "outputs": [
    {
     "name": "stdout",
     "output_type": "stream",
     "text": [
      "GOAT CIRCUIT\n",
      "Value Fetcher Heads: 68\n",
      "Position Transmitter Heads: 28\n",
      "Position Detector Heads: 40\n",
      "Structure Reader Heads: 39\n",
      "Total Heads: 175\n"
     ]
    }
   ],
   "source": [
    "print(\"GOAT CIRCUIT\")\n",
    "print(f\"Value Fetcher Heads: {len(goat_circuit['value_fetcher'])}\")\n",
    "print(f\"Position Transmitter Heads: {len(goat_circuit['pos_transmitter'])}\")\n",
    "print(f\"Position Detector Heads: {len(goat_circuit['pos_detector'])}\")\n",
    "print(f\"Structure Reader Heads: {len(goat_circuit['struct_reader'])}\")\n",
    "print(\n",
    "    f\"Total Heads: {len(goat_circuit['value_fetcher']) + len(goat_circuit['pos_transmitter']) + len(goat_circuit['pos_detector']) + len(goat_circuit['struct_reader'])}\"\n",
    ")"
   ]
  },
  {
   "cell_type": "markdown",
   "metadata": {},
   "source": [
    "## Helper Methods"
   ]
  },
  {
   "cell_type": "code",
   "execution_count": 6,
   "metadata": {},
   "outputs": [],
   "source": [
    "def get_circuit(model, circuit_heads):\n",
    "    circuit_components = {}\n",
    "    circuit_components[0] = defaultdict(list)\n",
    "    circuit_components[2] = defaultdict(list)\n",
    "    circuit_components[-1] = defaultdict(list)\n",
    "\n",
    "    for layer_idx, head in circuit_heads[\"value_fetcher\"]:\n",
    "        if model.config.architectures[0] == \"LlamaForCausalLM\":\n",
    "            layer = f\"model.layers.{layer_idx}.self_attn.o_proj\"\n",
    "        else:\n",
    "            layer = f\"base_model.model.model.layers.{layer_idx}.self_attn.o_proj\"\n",
    "        circuit_components[0][layer].append(head)\n",
    "\n",
    "    for layer_idx, head in circuit_heads[\"pos_transmitter\"]:\n",
    "        if model.config.architectures[0] == \"LlamaForCausalLM\":\n",
    "            layer = f\"model.layers.{layer_idx}.self_attn.o_proj\"\n",
    "        else:\n",
    "            layer = f\"base_model.model.model.layers.{layer_idx}.self_attn.o_proj\"\n",
    "        circuit_components[0][layer].append(head)\n",
    "\n",
    "    for layer_idx, head in circuit_heads[\"pos_detector\"]:\n",
    "        if model.config.architectures[0] == \"LlamaForCausalLM\":\n",
    "            layer = f\"model.layers.{layer_idx}.self_attn.o_proj\"\n",
    "        else:\n",
    "            layer = f\"base_model.model.model.layers.{layer_idx}.self_attn.o_proj\"\n",
    "        circuit_components[2][layer].append(head)\n",
    "\n",
    "    for layer_idx, head in circuit_heads[\"struct_reader\"]:\n",
    "        if model.config.architectures[0] == \"LlamaForCausalLM\":\n",
    "            layer = f\"model.layers.{layer_idx}.self_attn.o_proj\"\n",
    "        else:\n",
    "            layer = f\"base_model.model.model.layers.{layer_idx}.self_attn.o_proj\"\n",
    "        circuit_components[-1][layer].append(head)\n",
    "\n",
    "    return circuit_components"
   ]
  },
  {
   "cell_type": "code",
   "execution_count": 7,
   "metadata": {},
   "outputs": [],
   "source": [
    "def eval_model_performance(model, dataloader):\n",
    "    total_count = 0\n",
    "    correct_count = 0\n",
    "    model.eval()\n",
    "    with torch.no_grad():\n",
    "        for _, output in tqdm(enumerate(tqdm(dataloader))):\n",
    "            for k, v in output.items():\n",
    "                if v is not None and isinstance(v, torch.Tensor):\n",
    "                    output[k] = v.to(model.device)\n",
    "\n",
    "            outputs = model(input_ids=output[\"input_ids\"])\n",
    "\n",
    "            for bi in range(output[\"labels\"].size(0)):\n",
    "                label = output[\"labels\"][bi]\n",
    "                pred = torch.argmax(\n",
    "                    outputs.logits[bi][output[\"last_token_indices\"][bi]]\n",
    "                )\n",
    "\n",
    "                if label == pred:\n",
    "                    correct_count += 1\n",
    "                total_count += 1\n",
    "\n",
    "    del outputs\n",
    "    torch.cuda.empty_cache()\n",
    "\n",
    "    current_acc = round(correct_count / total_count, 2)\n",
    "    return current_acc"
   ]
  },
  {
   "cell_type": "markdown",
   "metadata": {},
   "source": [
    "## Enlarged Llama Circuit"
   ]
  },
  {
   "cell_type": "code",
   "execution_count": 6,
   "metadata": {},
   "outputs": [],
   "source": [
    "patching_scores = torch.load(\"./results/path_patching/llama_circuit/value_fetcher.pt\")\n",
    "value_fetcher_heads = compute_topk_components(patching_scores, k=82, largest=False)\n",
    "\n",
    "patching_scores = torch.load(\"./results/path_patching/llama_circuit/pos_transmitter.pt\")\n",
    "pos_transmitter_heads = compute_topk_components(patching_scores, k=28, largest=False)\n",
    "\n",
    "patching_scores = torch.load(\"./results/path_patching/llama_circuit/pos_detector.pt\")\n",
    "pos_detector_heads = compute_topk_components(patching_scores, k=40, largest=False)\n",
    "\n",
    "patching_scores = torch.load(\"./results/path_patching/llama_circuit/struct_reader.pt\")\n",
    "struct_reader_heads = compute_topk_components(patching_scores, k=39, largest=False)\n",
    "\n",
    "# Remove heads from value_fetcher_heads that are present in pos_transmitter_heads\n",
    "intersection = []\n",
    "for head in value_fetcher_heads:\n",
    "    if head in pos_transmitter_heads:\n",
    "        intersection.append(head)\n",
    "\n",
    "for head in intersection:\n",
    "    value_fetcher_heads.remove(head)"
   ]
  },
  {
   "cell_type": "code",
   "execution_count": 7,
   "metadata": {},
   "outputs": [
    {
     "name": "stdout",
     "output_type": "stream",
     "text": [
      "68\n",
      "28\n",
      "40\n",
      "39\n",
      "175\n"
     ]
    }
   ],
   "source": [
    "print(len(value_fetcher_heads))\n",
    "print(len(pos_transmitter_heads))\n",
    "print(len(pos_detector_heads))\n",
    "print(len(struct_reader_heads))\n",
    "print(\n",
    "    len(value_fetcher_heads)\n",
    "    + len(pos_transmitter_heads)\n",
    "    + len(pos_detector_heads)\n",
    "    + len(struct_reader_heads)\n",
    ")"
   ]
  },
  {
   "cell_type": "code",
   "execution_count": 8,
   "metadata": {},
   "outputs": [],
   "source": [
    "llama_circuit = {}\n",
    "llama_circuit[\"value_fetcher\"] = value_fetcher_heads\n",
    "llama_circuit[\"pos_transmitter\"] = pos_transmitter_heads\n",
    "llama_circuit[\"pos_detector\"] = pos_detector_heads\n",
    "llama_circuit[\"struct_reader\"] = struct_reader_heads"
   ]
  },
  {
   "cell_type": "markdown",
   "metadata": {},
   "source": [
    "## Model and Circuit Performance: Llama-7B"
   ]
  },
  {
   "cell_type": "code",
   "execution_count": 9,
   "metadata": {},
   "outputs": [
    {
     "name": "stderr",
     "output_type": "stream",
     "text": [
      "Loading checkpoint shards: 100%|██████████| 2/2 [00:05<00:00,  2.75s/it]\n"
     ]
    }
   ],
   "source": [
    "path = \"/home/local_nikhil/Projects/llama_weights/7B\"\n",
    "\n",
    "# Delete model if present in memory\n",
    "if \"model\" in locals():\n",
    "    del model\n",
    "    torch.cuda.empty_cache()\n",
    "\n",
    "model = LlamaForCausalLM.from_pretrained(path).to(device)"
   ]
  },
  {
   "cell_type": "code",
   "execution_count": 10,
   "metadata": {},
   "outputs": [
    {
     "name": "stdout",
     "output_type": "stream",
     "text": [
      "Computing mean activations...\n"
     ]
    },
    {
     "name": "stderr",
     "output_type": "stream",
     "text": [
      "  0%|          | 0/10 [00:00<?, ?it/s]"
     ]
    },
    {
     "name": "stderr",
     "output_type": "stream",
     "text": [
      "100%|██████████| 10/10 [00:21<00:00,  2.18s/it]\n"
     ]
    }
   ],
   "source": [
    "circuit_components = get_circuit(model, llama_circuit)\n",
    "random_circuit_components = get_random_circuit(model, llama_circuit)\n",
    "\n",
    "mean_activations, modules = get_mean_activations(\n",
    "    model, tokenizer, data_file, num_samples=500, batch_size=50\n",
    ")"
   ]
  },
  {
   "cell_type": "code",
   "execution_count": 11,
   "metadata": {},
   "outputs": [
    {
     "name": "stderr",
     "output_type": "stream",
     "text": [
      "100%|██████████| 10/10 [00:43<00:00,  4.38s/it]"
     ]
    },
    {
     "name": "stdout",
     "output_type": "stream",
     "text": [
      "Circuit Performance 0.77\n",
      "\n"
     ]
    },
    {
     "name": "stderr",
     "output_type": "stream",
     "text": [
      "\n"
     ]
    }
   ],
   "source": [
    "# model_acc = eval_model_performance(model, dataloader)\n",
    "# print(f\"Model Performance {model_acc}\\n\")\n",
    "\n",
    "circuit_acc = eval_circuit_performance(\n",
    "    model, dataloader, modules, circuit_components, mean_activations\n",
    ")\n",
    "print(f\"Circuit Performance {circuit_acc}\\n\")\n",
    "\n",
    "# random_circuit_acc = 0\n",
    "# n_iters = 10\n",
    "# for _ in range(n_iters):\n",
    "#     random_circuit_acc += eval_circuit_performance(model, dataloader, modules, random_circuit_components, mean_activations)\n",
    "# random_circuit_acc = round(random_circuit_acc / n_iters, 2)\n",
    "# print(f\"Random Circuit Performance {random_circuit_acc}\")\n",
    "\n",
    "# print(f\"Faithfulness: {round(circuit_acc/model_acc, 2)}\")"
   ]
  },
  {
   "cell_type": "markdown",
   "metadata": {},
   "source": [
    "## Model and Circuit Performance: Vicuna-7B"
   ]
  },
  {
   "cell_type": "code",
   "execution_count": 12,
   "metadata": {},
   "outputs": [
    {
     "name": "stderr",
     "output_type": "stream",
     "text": [
      "Loading checkpoint shards: 100%|██████████| 14/14 [00:06<00:00,  2.08it/s]\n"
     ]
    }
   ],
   "source": [
    "path = \"AlekseyKorshuk/vicuna-7b\"\n",
    "\n",
    "# Delete model if present in memory\n",
    "if \"model\" in locals():\n",
    "    del model\n",
    "    torch.cuda.empty_cache()\n",
    "\n",
    "model = LlamaForCausalLM.from_pretrained(path).to(device)"
   ]
  },
  {
   "cell_type": "code",
   "execution_count": 13,
   "metadata": {},
   "outputs": [
    {
     "name": "stdout",
     "output_type": "stream",
     "text": [
      "Computing mean activations...\n"
     ]
    },
    {
     "name": "stderr",
     "output_type": "stream",
     "text": [
      "  0%|          | 0/10 [00:00<?, ?it/s]"
     ]
    },
    {
     "name": "stderr",
     "output_type": "stream",
     "text": [
      "100%|██████████| 10/10 [00:21<00:00,  2.17s/it]\n"
     ]
    }
   ],
   "source": [
    "circuit_components = get_circuit(model, goat_circuit)\n",
    "random_circuit_components = get_random_circuit(model, goat_circuit)\n",
    "\n",
    "mean_activations, modules = get_mean_activations(\n",
    "    model, tokenizer, data_file, num_samples=500, batch_size=50\n",
    ")"
   ]
  },
  {
   "cell_type": "code",
   "execution_count": 14,
   "metadata": {},
   "outputs": [
    {
     "name": "stderr",
     "output_type": "stream",
     "text": [
      "100%|██████████| 10/10 [00:21<00:00,  2.19s/it]\n",
      "10it [00:21,  2.19s/it]\n"
     ]
    },
    {
     "name": "stdout",
     "output_type": "stream",
     "text": [
      "Model Performance 0.67\n",
      "\n"
     ]
    },
    {
     "name": "stderr",
     "output_type": "stream",
     "text": [
      "100%|██████████| 10/10 [00:43<00:00,  4.39s/it]\n"
     ]
    },
    {
     "name": "stdout",
     "output_type": "stream",
     "text": [
      "Circuit Performance 0.76\n",
      "\n"
     ]
    },
    {
     "name": "stderr",
     "output_type": "stream",
     "text": [
      "100%|██████████| 10/10 [00:43<00:00,  4.39s/it]\n",
      "100%|██████████| 10/10 [00:43<00:00,  4.38s/it]\n",
      "100%|██████████| 10/10 [00:43<00:00,  4.38s/it]\n",
      "100%|██████████| 10/10 [00:43<00:00,  4.39s/it]\n",
      "100%|██████████| 10/10 [00:43<00:00,  4.38s/it]\n",
      "100%|██████████| 10/10 [00:43<00:00,  4.39s/it]\n",
      "100%|██████████| 10/10 [00:43<00:00,  4.38s/it]\n",
      "100%|██████████| 10/10 [00:43<00:00,  4.39s/it]\n",
      "100%|██████████| 10/10 [00:43<00:00,  4.38s/it]\n",
      "100%|██████████| 10/10 [00:43<00:00,  4.39s/it]"
     ]
    },
    {
     "name": "stdout",
     "output_type": "stream",
     "text": [
      "Random Circuit Performance 0.0\n",
      "\n",
      "Faithfulness: 1.13\n"
     ]
    },
    {
     "name": "stderr",
     "output_type": "stream",
     "text": [
      "\n"
     ]
    }
   ],
   "source": [
    "model_acc = eval_model_performance(model, dataloader)\n",
    "print(f\"Model Performance {model_acc}\\n\")\n",
    "\n",
    "circuit_acc = eval_circuit_performance(\n",
    "    model, dataloader, modules, circuit_components, mean_activations\n",
    ")\n",
    "print(f\"Circuit Performance {circuit_acc}\\n\")\n",
    "\n",
    "random_circuit_acc = 0\n",
    "n_iters = 10\n",
    "for _ in range(n_iters):\n",
    "    random_circuit_acc += eval_circuit_performance(\n",
    "        model, dataloader, modules, random_circuit_components, mean_activations\n",
    "    )\n",
    "random_circuit_acc = round(random_circuit_acc / n_iters, 2)\n",
    "print(f\"Random Circuit Performance {random_circuit_acc}\\n\")\n",
    "\n",
    "print(f\"Faithfulness: {round(circuit_acc/model_acc, 2)}\")"
   ]
  },
  {
   "cell_type": "markdown",
   "metadata": {},
   "source": [
    "## Model and Circuit Performance: Goat-7B"
   ]
  },
  {
   "cell_type": "code",
   "execution_count": 8,
   "metadata": {},
   "outputs": [
    {
     "name": "stderr",
     "output_type": "stream",
     "text": [
      "Loading checkpoint shards: 100%|██████████| 33/33 [00:12<00:00,  2.58it/s]\n"
     ]
    }
   ],
   "source": [
    "base_model = \"decapoda-research/llama-7b-hf\"\n",
    "lora_weights = \"tiedong/goat-lora-7b\"\n",
    "\n",
    "# Delete model if present in memory\n",
    "if \"model\" in locals():\n",
    "    del model\n",
    "    torch.cuda.empty_cache()\n",
    "\n",
    "model = LlamaForCausalLM.from_pretrained(\n",
    "    base_model,\n",
    "    load_in_8bit=False,\n",
    "    torch_dtype=torch.float32,\n",
    "    device_map=\"auto\",\n",
    ")\n",
    "model = PeftModel.from_pretrained(\n",
    "    model,\n",
    "    lora_weights,\n",
    "    torch_dtype=torch.float32,\n",
    "    device_map={\"\": 0},\n",
    ")"
   ]
  },
  {
   "cell_type": "code",
   "execution_count": 30,
   "metadata": {},
   "outputs": [],
   "source": [
    "goat_circuit[\"struct_reader\"] = goat_circuit[\"struct_reader\"][:20]"
   ]
  },
  {
   "cell_type": "code",
   "execution_count": 31,
   "metadata": {},
   "outputs": [
    {
     "name": "stdout",
     "output_type": "stream",
     "text": [
      "Computing mean activations...\n"
     ]
    },
    {
     "name": "stderr",
     "output_type": "stream",
     "text": [
      " 50%|█████     | 5/10 [00:11<00:11,  2.24s/it]"
     ]
    },
    {
     "name": "stderr",
     "output_type": "stream",
     "text": [
      "100%|██████████| 10/10 [00:22<00:00,  2.25s/it]\n"
     ]
    }
   ],
   "source": [
    "circuit_components = get_circuit(model, goat_circuit)\n",
    "random_circuit_components = get_random_circuit(model, goat_circuit)\n",
    "\n",
    "mean_activations, modules = get_mean_activations(\n",
    "    model, tokenizer, data_file, num_samples=500, batch_size=50\n",
    ")"
   ]
  },
  {
   "cell_type": "code",
   "execution_count": 32,
   "metadata": {},
   "outputs": [
    {
     "name": "stderr",
     "output_type": "stream",
     "text": [
      "100%|██████████| 10/10 [00:45<00:00,  4.57s/it]"
     ]
    },
    {
     "name": "stdout",
     "output_type": "stream",
     "text": [
      "Circuit Performance: 0.8\n",
      "\n"
     ]
    },
    {
     "name": "stderr",
     "output_type": "stream",
     "text": [
      "\n"
     ]
    }
   ],
   "source": [
    "# model_acc = eval_model_performance(model, dataloader)\n",
    "# print(f\"Model Performance: {model_acc}\\n\")\n",
    "\n",
    "circuit_acc = eval_circuit_performance(\n",
    "    model, dataloader, modules, circuit_components, mean_activations\n",
    ")\n",
    "print(f\"Circuit Performance: {circuit_acc}\\n\")\n",
    "\n",
    "# random_circuit_acc = 0\n",
    "# n_iters = 10\n",
    "# for _ in range(n_iters):\n",
    "#     random_circuit_acc += eval_circuit_performance(\n",
    "#         model, dataloader, modules, random_circuit_components, mean_activations\n",
    "#     )\n",
    "# random_circuit_acc = round(random_circuit_acc / n_iters, 2)\n",
    "# print(f\"Random Circuit Performance {random_circuit_acc}\\n\")\n",
    "\n",
    "# print(f\"Faithfulness: {round(circuit_acc/model_acc, 2)}\")"
   ]
  },
  {
   "cell_type": "markdown",
   "metadata": {},
   "source": [
    "## Model and Circuit Performance: Naive finetuned model"
   ]
  },
  {
   "cell_type": "code",
   "execution_count": 18,
   "metadata": {},
   "outputs": [
    {
     "name": "stderr",
     "output_type": "stream",
     "text": [
      "Loading checkpoint shards: 100%|██████████| 2/2 [00:34<00:00, 17.20s/it]\n"
     ]
    }
   ],
   "source": [
    "path = \"/media/local_nikhil/disk/weights_naive/possessed-candle-14\"\n",
    "\n",
    "# Delete model if present in memory\n",
    "if \"model\" in locals():\n",
    "    del model\n",
    "    torch.cuda.empty_cache()\n",
    "\n",
    "model = LlamaForCausalLM.from_pretrained(path).to(device)"
   ]
  },
  {
   "cell_type": "code",
   "execution_count": 19,
   "metadata": {},
   "outputs": [
    {
     "name": "stdout",
     "output_type": "stream",
     "text": [
      "Computing mean activations...\n"
     ]
    },
    {
     "name": "stderr",
     "output_type": "stream",
     "text": [
      "  0%|          | 0/10 [00:00<?, ?it/s]"
     ]
    },
    {
     "name": "stderr",
     "output_type": "stream",
     "text": [
      "100%|██████████| 10/10 [00:21<00:00,  2.17s/it]\n"
     ]
    }
   ],
   "source": [
    "circuit_components = get_circuit(model, goat_circuit)\n",
    "random_circuit_components = get_random_circuit(model, goat_circuit)\n",
    "\n",
    "mean_activations, modules = get_mean_activations(\n",
    "    model, tokenizer, data_file, num_samples=500, batch_size=50\n",
    ")"
   ]
  },
  {
   "cell_type": "code",
   "execution_count": 20,
   "metadata": {},
   "outputs": [
    {
     "name": "stderr",
     "output_type": "stream",
     "text": [
      "100%|██████████| 10/10 [00:21<00:00,  2.17s/it]\n",
      "10it [00:21,  2.17s/it]\n"
     ]
    },
    {
     "name": "stdout",
     "output_type": "stream",
     "text": [
      "Model Performance 0.82\n"
     ]
    },
    {
     "name": "stderr",
     "output_type": "stream",
     "text": [
      "100%|██████████| 10/10 [00:43<00:00,  4.34s/it]\n"
     ]
    },
    {
     "name": "stdout",
     "output_type": "stream",
     "text": [
      "Circuit Performance 0.79\n"
     ]
    },
    {
     "name": "stderr",
     "output_type": "stream",
     "text": [
      "100%|██████████| 10/10 [00:42<00:00,  4.29s/it]\n",
      "100%|██████████| 10/10 [00:42<00:00,  4.29s/it]\n",
      "100%|██████████| 10/10 [00:42<00:00,  4.28s/it]\n",
      "100%|██████████| 10/10 [00:42<00:00,  4.29s/it]\n",
      "100%|██████████| 10/10 [00:43<00:00,  4.36s/it]\n",
      "100%|██████████| 10/10 [00:43<00:00,  4.35s/it]\n",
      "100%|██████████| 10/10 [00:43<00:00,  4.35s/it]\n",
      "100%|██████████| 10/10 [00:43<00:00,  4.36s/it]\n",
      "100%|██████████| 10/10 [00:43<00:00,  4.36s/it]\n",
      "100%|██████████| 10/10 [00:43<00:00,  4.36s/it]"
     ]
    },
    {
     "name": "stdout",
     "output_type": "stream",
     "text": [
      "Random Circuit Performance 0.01\n",
      "\n",
      "Faithfulness: 0.96\n"
     ]
    },
    {
     "name": "stderr",
     "output_type": "stream",
     "text": [
      "\n"
     ]
    }
   ],
   "source": [
    "model_acc = eval_model_performance(model, dataloader)\n",
    "print(f\"Model Performance {model_acc}\")\n",
    "\n",
    "circuit_acc = eval_circuit_performance(\n",
    "    model, dataloader, modules, circuit_components, mean_activations\n",
    ")\n",
    "print(f\"Circuit Performance {circuit_acc}\")\n",
    "\n",
    "random_circuit_acc = 0\n",
    "n_iters = 10\n",
    "for _ in range(n_iters):\n",
    "    random_circuit_acc += eval_circuit_performance(\n",
    "        model, dataloader, modules, random_circuit_components, mean_activations\n",
    "    )\n",
    "random_circuit_acc = round(random_circuit_acc / n_iters, 2)\n",
    "print(f\"Random Circuit Performance {random_circuit_acc}\\n\")\n",
    "\n",
    "print(f\"Faithfulness: {round(circuit_acc/model_acc, 2)}\")"
   ]
  },
  {
   "cell_type": "markdown",
   "metadata": {},
   "source": [
    "## Circuit Comparison"
   ]
  },
  {
   "cell_type": "code",
   "execution_count": 5,
   "metadata": {},
   "outputs": [
    {
     "name": "stdout",
     "output_type": "stream",
     "text": [
      "value_fetcher: 40 | 68 | 27 | 0.68 | 0.4\n",
      "pos_transmitter: 7 | 28 | 6 | 0.86 | 0.21\n",
      "pos_detector: 20 | 40 | 16 | 0.8 | 0.4\n",
      "struct_reader: 5 | 39 | 5 | 1.0 | 0.13\n"
     ]
    }
   ],
   "source": [
    "head_groups = [\"value_fetcher\", \"pos_transmitter\", \"pos_detector\", \"struct_reader\"]\n",
    "\n",
    "for head_group in head_groups:\n",
    "    intersection = 0\n",
    "    for l, h in llama_circuit[head_group]:\n",
    "        if [l, h] in goat_circuit[head_group]:\n",
    "            intersection += 1\n",
    "\n",
    "    precision = round(intersection / len(llama_circuit[head_group]), 2)\n",
    "    recall = round(intersection / len(goat_circuit[head_group]), 2)\n",
    "\n",
    "    print(\n",
    "        f\"{head_group}: {len(llama_circuit[head_group])} | {len(goat_circuit[head_group])} | {intersection} | {precision} | {recall}\"\n",
    "    )"
   ]
  },
  {
   "cell_type": "code",
   "execution_count": 5,
   "metadata": {},
   "outputs": [
    {
     "name": "stdout",
     "output_type": "stream",
     "text": [
      "Value Fetcher: 50\n",
      "Position Transmitter: 10\n",
      "Position Detector: 25\n",
      "Structure Reader: 5\n"
     ]
    }
   ],
   "source": [
    "n_value_fetcher = 58\n",
    "n_pos_trans = 10\n",
    "n_pos_detect = 25\n",
    "n_struct_read = 5\n",
    "pp_llama_root = \"./results/path_patching/llama_circuit\"\n",
    "\n",
    "path = f\"{pp_llama_root}/value_fetcher.pt\"\n",
    "patching_scores = torch.load(path)\n",
    "top_value_fetcher_llama_heads, top_value_fetcher_llama_score = compute_topk_components(\n",
    "    patching_scores, k=n_value_fetcher, largest=False, return_values=True\n",
    ")\n",
    "\n",
    "path = f\"{pp_llama_root}/pos_transmitter.pt\"\n",
    "patching_scores = torch.load(path)\n",
    "(\n",
    "    top_pos_transmitter_llama_heads,\n",
    "    top_pos_transmitter_llama_score,\n",
    ") = compute_topk_components(\n",
    "    patching_scores, k=n_pos_trans, largest=False, return_values=True\n",
    ")\n",
    "\n",
    "path = f\"{pp_llama_root}/pos_detector.pt\"\n",
    "patching_scores = torch.load(path)\n",
    "top_pos_detector_llama_heads, top_pos_detector_llama_score = compute_topk_components(\n",
    "    patching_scores, k=n_pos_detect, largest=False, return_values=True\n",
    ")\n",
    "\n",
    "path = f\"{pp_llama_root}/struct_reader.pt\"\n",
    "patching_scores = torch.load(path)\n",
    "top_struct_reader_llama_heads, top_struct_reader_llama_score = compute_topk_components(\n",
    "    patching_scores, k=n_struct_read, largest=False, return_values=True\n",
    ")\n",
    "\n",
    "# A head is present among both top value_fetcher and position_transmitter, then\n",
    "# remove it from the top value_fetcher heads.\n",
    "intersection = []\n",
    "for head in top_value_fetcher_llama_heads:\n",
    "    if head in top_pos_transmitter_llama_heads:\n",
    "        intersection.append(head)\n",
    "\n",
    "for head in intersection:\n",
    "    idx = top_value_fetcher_llama_heads.index(head)\n",
    "    top_value_fetcher_llama_heads.pop(idx)\n",
    "    top_value_fetcher_llama_score.pop(idx)\n",
    "\n",
    "print(f\"Value Fetcher: {len(top_value_fetcher_llama_heads)}\")\n",
    "print(f\"Position Transmitter: {len(top_pos_transmitter_llama_heads)}\")\n",
    "print(f\"Position Detector: {len(top_pos_detector_llama_heads)}\")\n",
    "print(f\"Structure Reader: {len(top_struct_reader_llama_heads)}\")"
   ]
  },
  {
   "cell_type": "code",
   "execution_count": 6,
   "metadata": {},
   "outputs": [
    {
     "name": "stdout",
     "output_type": "stream",
     "text": [
      "40 7 20 5\n"
     ]
    }
   ],
   "source": [
    "llama_value_fetcher = llama_circuit[\"value_fetcher\"]\n",
    "llama_pos_transmitter = llama_circuit[\"pos_transmitter\"]\n",
    "llama_pos_detector = llama_circuit[\"pos_detector\"]\n",
    "llama_struct_reader = llama_circuit[\"struct_reader\"]\n",
    "\n",
    "print(\n",
    "    len(llama_value_fetcher),\n",
    "    len(llama_pos_transmitter),\n",
    "    len(llama_pos_detector),\n",
    "    len(llama_struct_reader),\n",
    ")"
   ]
  },
  {
   "cell_type": "code",
   "execution_count": 7,
   "metadata": {},
   "outputs": [],
   "source": [
    "# Create list of tuple of (head, patching_score, position) for each group in llama circuit\n",
    "llama_value_fetcher_tuple = []\n",
    "for head, score in zip(top_value_fetcher_llama_heads, top_value_fetcher_llama_score):\n",
    "    llama_value_fetcher_tuple.append((head, abs(score), 0))\n",
    "\n",
    "llama_pos_transmitter_tuple = []\n",
    "for head, score in zip(\n",
    "    top_pos_transmitter_llama_heads, top_pos_transmitter_llama_score\n",
    "):\n",
    "    llama_pos_transmitter_tuple.append((head, abs(score), 0))\n",
    "\n",
    "llama_pos_detector_tuple = []\n",
    "for head, score in zip(top_pos_detector_llama_heads, top_pos_detector_llama_score):\n",
    "    llama_pos_detector_tuple.append((head, abs(score), 2))\n",
    "\n",
    "llama_struct_reader_tuple = []\n",
    "for head, score in zip(top_struct_reader_llama_heads, top_struct_reader_llama_score):\n",
    "    llama_struct_reader_tuple.append((head, abs(score), -1))\n",
    "\n",
    "llama_circuit_tuple = (\n",
    "    llama_value_fetcher_tuple\n",
    "    + llama_pos_transmitter_tuple\n",
    "    + llama_pos_detector_tuple\n",
    "    + llama_struct_reader_tuple\n",
    ")\n",
    "llama_circuit_tuple = sorted(llama_circuit_tuple, key=lambda x: x[1], reverse=True)"
   ]
  },
  {
   "cell_type": "code",
   "execution_count": 29,
   "metadata": {},
   "outputs": [
    {
     "name": "stdout",
     "output_type": "stream",
     "text": [
      "Value Fetcher: 80\n",
      "Position Transmitter: 30\n",
      "Position Detector: 50\n",
      "Structure Reader: 40\n"
     ]
    }
   ],
   "source": [
    "n_value_fetcher = 101\n",
    "n_pos_trans = 30\n",
    "n_pos_detect = 50\n",
    "n_struct_read = 40\n",
    "pp_goat_root = \"./results/path_patching/goat_circuit\"\n",
    "\n",
    "path = f\"{pp_goat_root}/value_fetcher.pt\"\n",
    "patching_scores = torch.load(path)\n",
    "top_value_fetcher_goat_heads, top_value_fetcher_goat_score = compute_topk_components(\n",
    "    patching_scores, k=n_value_fetcher, largest=False, return_values=True\n",
    ")\n",
    "\n",
    "path = f\"{pp_goat_root}/pos_transmitter.pt\"\n",
    "patching_scores = torch.load(path)\n",
    "(\n",
    "    top_pos_transmitter_goat_heads,\n",
    "    top_pos_transmitter_goat_score,\n",
    ") = compute_topk_components(\n",
    "    patching_scores, k=n_pos_trans, largest=False, return_values=True\n",
    ")\n",
    "\n",
    "path = f\"{pp_goat_root}/pos_detector.pt\"\n",
    "patching_scores = torch.load(path)\n",
    "top_pos_detector_goat_heads, top_pos_detector_goat_score = compute_topk_components(\n",
    "    patching_scores, k=n_pos_detect, largest=False, return_values=True\n",
    ")\n",
    "\n",
    "path = f\"{pp_goat_root}/struct_reader.pt\"\n",
    "patching_scores = torch.load(path)\n",
    "top_struct_reader_goat_heads, top_struct_reader_goat_score = compute_topk_components(\n",
    "    patching_scores, k=n_struct_read, largest=False, return_values=True\n",
    ")\n",
    "\n",
    "# A head is present among both top value_fetcher and position_transmitter, then\n",
    "# remove it from the top value_fetcher heads.\n",
    "intersection = []\n",
    "for head in top_value_fetcher_goat_heads:\n",
    "    if head in top_pos_transmitter_goat_heads:\n",
    "        intersection.append(head)\n",
    "\n",
    "for head in intersection:\n",
    "    idx = top_value_fetcher_goat_heads.index(head)\n",
    "    top_value_fetcher_goat_heads.pop(idx)\n",
    "    top_value_fetcher_goat_score.pop(idx)\n",
    "\n",
    "print(f\"Value Fetcher: {len(top_value_fetcher_goat_heads)}\")\n",
    "print(f\"Position Transmitter: {len(top_pos_transmitter_goat_heads)}\")\n",
    "print(f\"Position Detector: {len(top_pos_detector_goat_heads)}\")\n",
    "print(f\"Structure Reader: {len(top_struct_reader_goat_heads)}\")"
   ]
  },
  {
   "cell_type": "code",
   "execution_count": 30,
   "metadata": {},
   "outputs": [
    {
     "name": "stdout",
     "output_type": "stream",
     "text": [
      "68 28 40 39\n"
     ]
    }
   ],
   "source": [
    "goat_value_fetcher = goat_circuit[\"value_fetcher\"]\n",
    "goat_pos_transmitter = goat_circuit[\"pos_transmitter\"]\n",
    "goat_pos_detector = goat_circuit[\"pos_detector\"]\n",
    "goat_struct_reader = goat_circuit[\"struct_reader\"]\n",
    "\n",
    "print(\n",
    "    len(goat_value_fetcher),\n",
    "    len(goat_pos_transmitter),\n",
    "    len(goat_pos_detector),\n",
    "    len(goat_struct_reader),\n",
    ")"
   ]
  },
  {
   "cell_type": "code",
   "execution_count": 31,
   "metadata": {},
   "outputs": [],
   "source": [
    "# Create list of tuple of (head, patching_score, position) for each group in Goat circuit\n",
    "goat_value_fetcher_tuple = []\n",
    "for head, score in zip(top_value_fetcher_goat_heads, top_value_fetcher_goat_score):\n",
    "    goat_value_fetcher_tuple.append((head, abs(score), 0))\n",
    "\n",
    "goat_pos_transmitter_tuple = []\n",
    "for head, score in zip(top_pos_transmitter_goat_heads, top_pos_transmitter_goat_score):\n",
    "    goat_pos_transmitter_tuple.append((head, abs(score), 0))\n",
    "\n",
    "goat_pos_detector_tuple = []\n",
    "for head, score in zip(top_pos_detector_goat_heads, top_pos_detector_goat_score):\n",
    "    goat_pos_detector_tuple.append((head, abs(score), 2))\n",
    "\n",
    "goat_struct_reader_tuple = []\n",
    "for head, score in zip(top_struct_reader_goat_heads, top_struct_reader_goat_score):\n",
    "    goat_struct_reader_tuple.append((head, abs(score), -1))\n",
    "\n",
    "goat_circuit_tuple = (\n",
    "    goat_value_fetcher_tuple\n",
    "    + goat_pos_transmitter_tuple\n",
    "    + goat_pos_detector_tuple\n",
    "    + goat_struct_reader_tuple\n",
    ")\n",
    "goat_circuit_tuple = sorted(goat_circuit_tuple, key=lambda x: x[1], reverse=True)"
   ]
  },
  {
   "cell_type": "code",
   "execution_count": 32,
   "metadata": {},
   "outputs": [],
   "source": [
    "# For each head in goat_circuit_tuple, find the corresponding head in llama_circuit_tuple\n",
    "# and append it to a new list. If the head is not present in llama_circuit_tuple, then\n",
    "# append it the same list with a patching score of 0.\n",
    "ordered_llama_circuit_tuple = []\n",
    "for g_head, g_score, g_pos in goat_circuit_tuple:\n",
    "    found = False\n",
    "    for l_head, l_score, l_pos in llama_circuit_tuple:\n",
    "        if g_head == l_head and g_pos == l_pos:\n",
    "            ordered_llama_circuit_tuple.append((l_head, l_score, l_pos))\n",
    "            found = True\n",
    "            break\n",
    "\n",
    "    if not found:\n",
    "        ordered_llama_circuit_tuple.append((g_head, 0, g_pos))"
   ]
  },
  {
   "cell_type": "code",
   "execution_count": 34,
   "metadata": {},
   "outputs": [
    {
     "data": {
      "image/png": "[encoded data removed]",
      "text/plain": [
       "<Figure size 1500x500 with 2 Axes>"
      ]
     },
     "metadata": {},
     "output_type": "display_data"
    }
   ],
   "source": [
    "fig, (ax1, ax2) = plt.subplots(2, 1, figsize=(15, 5), sharex=True)\n",
    "\n",
    "# Use times new roman font\n",
    "plt.rcParams[\"font.family\"] = \"Times New Roman\"\n",
    "plt.rcParams[\"font.size\"] = 18\n",
    "\n",
    "ax1.bar(\n",
    "    [i for i in range(len(goat_circuit_tuple))],\n",
    "    [score for _, score, _ in goat_circuit_tuple],\n",
    "    color=\"red\",\n",
    ")\n",
    "for i in range(len(goat_circuit_tuple)):\n",
    "    if (\n",
    "        goat_circuit_tuple[i][0] not in goat_value_fetcher\n",
    "        and goat_circuit_tuple[i][0] not in goat_pos_transmitter\n",
    "        and goat_circuit_tuple[i][0] not in goat_pos_detector\n",
    "        and goat_circuit_tuple[i][0] not in goat_struct_reader\n",
    "    ):\n",
    "        ax1.bar(\n",
    "            i,\n",
    "            goat_circuit_tuple[i][1],\n",
    "            color=\"silver\",\n",
    "        )\n",
    "\n",
    "red_patch = mpatches.Patch(color=\"red\", label=\"Heads in Goat Circuit\")\n",
    "silver_patch = mpatches.Patch(color=\"silver\", label=\"Heads NOT in Goat Circuit\")\n",
    "ax1.legend(handles=[red_patch, silver_patch], loc=\"upper right\")\n",
    "\n",
    "ax2.bar(\n",
    "    [i for i in range(len(ordered_llama_circuit_tuple))],\n",
    "    [score for _, score, _ in ordered_llama_circuit_tuple],\n",
    "    color=\"green\",\n",
    ")\n",
    "for i in range(len(ordered_llama_circuit_tuple)):\n",
    "    if (\n",
    "        ordered_llama_circuit_tuple[i][0] not in llama_value_fetcher\n",
    "        and ordered_llama_circuit_tuple[i][0] not in llama_pos_transmitter\n",
    "        and ordered_llama_circuit_tuple[i][0] not in llama_pos_detector\n",
    "        and ordered_llama_circuit_tuple[i][0] not in llama_struct_reader\n",
    "    ):\n",
    "        ax2.bar(\n",
    "            i,\n",
    "            ordered_llama_circuit_tuple[i][1],\n",
    "            color=\"silver\",\n",
    "        )\n",
    "\n",
    "green_patch = mpatches.Patch(color=\"green\", label=\"Heads in Llama Circuit\")\n",
    "silver_patch = mpatches.Patch(color=\"silver\", label=\"Heads NOT in Llama Circuit\")\n",
    "ax2.legend(handles=[green_patch, silver_patch], loc=\"lower right\")\n",
    "\n",
    "# Remove the blank space before and after the bar chart\n",
    "plt.xlim(-1, 200 - 0.5)\n",
    "\n",
    "# Reduce the gap between the two subplots\n",
    "plt.subplots_adjust(hspace=0.01)\n",
    "# Flip the y-axis of the second subplot\n",
    "ax2.invert_yaxis()\n",
    "# Remove 0.0 from the y-axis of the second subplot\n",
    "ax1.set_yticks([0.1, 0.2, 0.3])\n",
    "ax2.set_yticks([0.1, 0.2, 0.3])\n",
    "\n",
    "# Set a single y-axis label for both subplots\n",
    "fig.text(0.07, 0.5, \"Absolute Patching Score\", va=\"center\", rotation=\"vertical\")\n",
    "\n",
    "ax2.set_xlabel(\"Heads\")\n",
    "ax1.set_title(\"Causal Impact of Heads in Llama and Goat Circuit\")\n",
    "\n",
    "# Remove plox plot frame\n",
    "ax1.spines[\"top\"].set_visible(False)\n",
    "ax1.spines[\"right\"].set_visible(False)\n",
    "ax1.spines[\"bottom\"].set_visible(False)\n",
    "ax1.spines[\"left\"].set_visible(False)\n",
    "\n",
    "ax2.spines[\"top\"].set_visible(False)\n",
    "ax2.spines[\"right\"].set_visible(False)\n",
    "ax2.spines[\"bottom\"].set_visible(False)\n",
    "ax2.spines[\"left\"].set_visible(False)\n",
    "\n",
    "# Save the plot\n",
    "plt.savefig(\"./results/figures/causal_impact.pdf\", bbox_inches=\"tight\", dpi=300)"
   ]
  },
  {
   "cell_type": "code",
   "execution_count": null,
   "metadata": {},
   "outputs": [],
   "source": []
  }
 ],
 "metadata": {
  "kernelspec": {
   "display_name": "anima",
   "language": "python",
   "name": "python3"
  },
  "language_info": {
   "codemirror_mode": {
    "name": "ipython",
    "version": 3
   },
   "file_extension": ".py",
   "mimetype": "text/x-python",
   "name": "python",
   "nbconvert_exporter": "python",
   "pygments_lexer": "ipython3",
   "version": "3.10.4"
  }
 },
 "nbformat": 4,
 "nbformat_minor": 2
}
