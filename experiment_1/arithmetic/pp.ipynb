{
 "cells": [
  {
   "cell_type": "code",
   "execution_count": 1,
   "metadata": {},
   "outputs": [
    {
     "name": "stderr",
     "output_type": "stream",
     "text": [
      "/home/local_nikhil/.conda/envs/anima/lib/python3.10/site-packages/tqdm/auto.py:21: TqdmWarning: IProgress not found. Please update jupyter and ipywidgets. See https://ipywidgets.readthedocs.io/en/stable/user_install.html\n",
      "  from .autonotebook import tqdm as notebook_tqdm\n"
     ]
    }
   ],
   "source": [
    "import sys\n",
    "import random\n",
    "import numpy as np\n",
    "import torch\n",
    "import transformers\n",
    "from transformers import (\n",
    "    LlamaForCausalLM,\n",
    "    LlamaTokenizer,\n",
    ")\n",
    "from torch.utils.data import DataLoader\n",
    "\n",
    "sys.path.append(\"../\")\n",
    "from pp_utils import (\n",
    "    get_model_and_tokenizer,\n",
    "    load_arithmetic_dataloader,\n",
    "    get_caches,\n",
    "    compute_topk_components,\n",
    "    patching_receiver_heads,\n",
    "    patching_sender_heads,\n",
    "    get_receiver_layers,\n",
    ")\n",
    "\n",
    "device = torch.device(\"cuda\" if torch.cuda.is_available() else \"cpu\")\n",
    "\n",
    "seed = 0\n",
    "random.seed(seed)\n",
    "np.random.seed(seed)\n",
    "torch.manual_seed(seed)\n",
    "transformers.set_seed(seed)"
   ]
  },
  {
   "cell_type": "code",
   "execution_count": 2,
   "metadata": {},
   "outputs": [
    {
     "name": "stderr",
     "output_type": "stream",
     "text": [
      "You are using the default legacy behaviour of the <class 'transformers.models.llama.tokenization_llama.LlamaTokenizer'>. This is expected, and simply means that the `legacy` (previous) behavior will be used so nothing changes for you. If you want to use the new behaviour, set `legacy=False`. This should only be set if you understand what it means, and thouroughly read the reason why this was added as explained in https://github.com/huggingface/transformers/pull/24565\n"
     ]
    },
    {
     "name": "stderr",
     "output_type": "stream",
     "text": [
      "Loading checkpoint shards: 100%|██████████| 2/2 [00:05<00:00,  2.80s/it]\n"
     ]
    }
   ],
   "source": [
    "model, tokenizer = get_model_and_tokenizer(model_name=\"llama\")"
   ]
  },
  {
   "cell_type": "code",
   "execution_count": 8,
   "metadata": {},
   "outputs": [],
   "source": [
    "dataloader = load_arithmetic_dataloader(\n",
    "    tokenizer=tokenizer,\n",
    "    clean_data_file=\"../../data/arithmetic_data_clean.json\",\n",
    "    corrupt_data_file=\"../../data/arithmetic_data_corrupt.json\",\n",
    "    num_samples=10000,\n",
    "    batch_size=32,\n",
    ")"
   ]
  },
  {
   "cell_type": "code",
   "execution_count": 9,
   "metadata": {},
   "outputs": [
    {
     "name": "stdout",
     "output_type": "stream",
     "text": [
      "Accuracy: 0.5\n"
     ]
    }
   ],
   "source": [
    "correct, total = 0, 0\n",
    "for data in dataloader:\n",
    "    input_ids = data[\"base_tokens\"].to(device)\n",
    "    labels = data[\"labels\"].to(device)\n",
    "\n",
    "    outputs = model(input_ids=input_ids)\n",
    "    logits = outputs.logits[:, -1]\n",
    "    predicted_index = torch.argmax(logits, dim=-1)\n",
    "\n",
    "    correct += (predicted_index == labels).sum().item()\n",
    "    total += labels.size(0)\n",
    "\n",
    "    del input_ids, labels, outputs, logits, predicted_index\n",
    "    torch.cuda.empty_cache()\n",
    "\n",
    "print(f\"Accuracy: {round(correct/total, 2)}\")"
   ]
  },
  {
   "cell_type": "code",
   "execution_count": null,
   "metadata": {},
   "outputs": [],
   "source": []
  }
 ],
 "metadata": {
  "kernelspec": {
   "display_name": "anima",
   "language": "python",
   "name": "python3"
  },
  "language_info": {
   "codemirror_mode": {
    "name": "ipython",
    "version": 3
   },
   "file_extension": ".py",
   "mimetype": "text/x-python",
   "name": "python",
   "nbconvert_exporter": "python",
   "pygments_lexer": "ipython3",
   "version": "3.10.4"
  }
 },
 "nbformat": 4,
 "nbformat_minor": 2
}
